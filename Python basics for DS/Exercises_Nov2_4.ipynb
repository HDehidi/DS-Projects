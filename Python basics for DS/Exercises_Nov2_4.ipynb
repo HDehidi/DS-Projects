{
 "cells": [
  {
   "cell_type": "markdown",
   "metadata": {},
   "source": [
    "## Exercises for November 2"
   ]
  },
  {
   "cell_type": "markdown",
   "metadata": {},
   "source": [
    "**Recursion Exercises at the End of Control Sturcutres Notebook**"
   ]
  },
  {
   "cell_type": "code",
   "execution_count": 1,
   "metadata": {},
   "outputs": [],
   "source": [
    "# Write a function to calculate the kth Fibonacci Number\n",
    "# fib(k) = fib(k-1) + fib(k-2) for k >2\n",
    "# fib(1) = 1, fib(2) = 2\n",
    "def fibonacciNumberBad(k):\n",
    "    if k < 1:\n",
    "        raise ValueError(\"Only positive integers are allowed in the Fibonacci sequence\")\n",
    "    elif k == 1 or k == 2:\n",
    "        return k\n",
    "    else:\n",
    "        return fibonacciNumberBad(k-1)+fibonacciNumberBad(k-2)"
   ]
  },
  {
   "cell_type": "code",
   "execution_count": 2,
   "metadata": {},
   "outputs": [
    {
     "data": {
      "text/plain": [
       "14930352"
      ]
     },
     "execution_count": 2,
     "metadata": {},
     "output_type": "execute_result"
    }
   ],
   "source": [
    "fibonacciNumberBad(35)"
   ]
  },
  {
   "cell_type": "code",
   "execution_count": 3,
   "metadata": {},
   "outputs": [],
   "source": [
    "# Write a function to calculate the kth Fibonacci Number\n",
    "# fib(k) = fib(k-1) + fib(k-2) for k >2\n",
    "# fib(1) = 1, fib(2) = 2\n",
    "def fibonacciNumberGood(k):\n",
    "    \n",
    "    def helper(k):\n",
    "        if k == 3:\n",
    "            return 1, 2\n",
    "        else:\n",
    "            tmp = helper(k-1)\n",
    "            a = tmp[1]\n",
    "            b = tmp[0] + tmp[1]\n",
    "            return a, b\n",
    "    \n",
    "    if k < 1:\n",
    "        raise ValueError(\"Only positive integers are allowed in the Fibonacci sequence\")\n",
    "    elif k == 1 or k == 2:\n",
    "        return k\n",
    "    else:\n",
    "        return sum(helper(k))"
   ]
  },
  {
   "cell_type": "code",
   "execution_count": 4,
   "metadata": {},
   "outputs": [
    {
     "data": {
      "text/plain": [
       "14930352"
      ]
     },
     "execution_count": 4,
     "metadata": {},
     "output_type": "execute_result"
    }
   ],
   "source": [
    "fibonacciNumberGood(35)"
   ]
  },
  {
   "cell_type": "code",
   "execution_count": 5,
   "metadata": {},
   "outputs": [
    {
     "data": {
      "text/plain": [
       "573147844013817084101"
      ]
     },
     "execution_count": 5,
     "metadata": {},
     "output_type": "execute_result"
    }
   ],
   "source": [
    "fibonacciNumberGood(100)"
   ]
  },
  {
   "cell_type": "code",
   "execution_count": 6,
   "metadata": {},
   "outputs": [],
   "source": [
    "def linearSearch(unoredered_lst, target):\n",
    "    for elem in unoredered_lst:\n",
    "        if elem == target:\n",
    "            return True\n",
    "    return False"
   ]
  },
  {
   "cell_type": "code",
   "execution_count": 7,
   "metadata": {},
   "outputs": [],
   "source": [
    "# Write binary search in an ordered list\n",
    "def binarySearch(ordered_lst, target):\n",
    "    mid = len(ordered_lst)//2\n",
    "    if len(ordered_lst) == 0:\n",
    "        return False\n",
    "    if(ordered_lst[mid] == target):\n",
    "        return True\n",
    "    elif ordered_lst[mid] < target:\n",
    "        return binarySearch(ordered_lst[mid+1:],target)\n",
    "    else:\n",
    "        return binarySearch(ordered_lst[:mid],target)"
   ]
  },
  {
   "cell_type": "code",
   "execution_count": 8,
   "metadata": {},
   "outputs": [
    {
     "name": "stdout",
     "output_type": "stream",
     "text": [
      "False\n",
      "True\n"
     ]
    }
   ],
   "source": [
    "import random\n",
    "\n",
    "unoredered_lst = [random.randint(-1000,1000) for i in range(100)]\n",
    "\n",
    "print(linearSearch(unoredered_lst, 1200))\n",
    "print(linearSearch(unoredered_lst, unoredered_lst[18]))\n"
   ]
  },
  {
   "cell_type": "code",
   "execution_count": 9,
   "metadata": {},
   "outputs": [
    {
     "name": "stdout",
     "output_type": "stream",
     "text": [
      "\n",
      "False\n",
      "True\n"
     ]
    }
   ],
   "source": [
    "ordered_lst = [random.randint(-1000,1000) for i in range(100)]\n",
    "ordered_lst.sort()\n",
    "\n",
    "print(binarySearch(ordered_lst, 1200))\n",
    "print(binarySearch(ordered_lst, ordered_lst[18]))"
   ]
  },
  {
   "cell_type": "markdown",
   "metadata": {},
   "source": [
    "**New Exercises For Today's and Potentially Next Thursday's Lecture**"
   ]
  },
  {
   "cell_type": "markdown",
   "metadata": {},
   "source": [
    "**Word Count**\n",
    "* Remove the punctuations and digits from the given text.\n",
    "* Convert all whitespace characters to spaces.\n",
    "* Split the text at each space character to get a word list\n",
    "* Count the number of words\n",
    "* Print out the most common "
   ]
  },
  {
   "cell_type": "code",
   "execution_count": 10,
   "metadata": {
    "scrolled": true
   },
   "outputs": [
    {
     "name": "stdout",
     "output_type": "stream",
     "text": [
      "Pfizer's COVID's vaccine over \"90% effective\"\n",
      "\n",
      "By: Michael Erman and Julie Steenhuysen | 9 November 2020\n",
      "\n",
      "Reuters – Pfizer Inc said on Monday its experimental COVID-19 vaccine was more than 90% effective, a major victory in the fight against a pandemic that has killed more than a million people, battered the world's economy and upended daily life.\n",
      "\n",
      "Pfizer and German partner BioNTech SE are the first drugmakers to release successful data from a large-scale clinical trial of a coronavirus vaccine. The companies said they have so far found no serious safety concerns and expect to seek U.S. authorization this month for emergency use of the vaccine.\n",
      "\n",
      "Health experts said Pfizer's results were positive for all COVID-19 vaccines currently in development since they show the shots are going after the right target and are a proof of concept that the disease can be halted with vaccination.\n",
      "\n",
      "\"Today is a great day for science and humanity,\" Albert Bourla, Pfizer's chairman and chief executive, said.\n",
      "\n",
      "\"We are reaching this critical milestone in our vaccine development program at a time when the world needs it most with infection rates setting new records, hospitals nearing over-capacity and economies struggling to reopen.\"\n",
      "\n",
      "If Pfizer's vaccine is authorized, the number of doses will initially be limited and many questions remain, including how long the vaccine will provide protection.\n",
      "\n",
      "BioNTech Chief Executive Ugur Sahin told Reuters he was optimistic the immunisation effect of the vaccine would last for a year although that was not certain yet.\n",
      "\n",
      "\"This news made me smile from ear to ear. It is a relief to see such positive results on this vaccine and bodes well for COVID-19 vaccines in general,\" said Peter Horby, professor of emerging infectious diseases at the University of Oxford.\n",
      "\n",
      " \n",
      "\n",
      "MARKETS SURGE\n",
      "\n",
      "The prospect of a vaccine electrified world markets with S&P 500 futures hitting a record high and tourism and travel shares surging. Pfizer shares were indicated 14.2% higher in pre-market trading in New York, while BioNTech's stock was up nearly 23% in Frankfurt.\n",
      "\n",
      "\"Light at the end of the tunnel. Let's just hope the vaccine deniers won't get in the way, but 2021 just got a lot brighter,\" said Neil Wilson, chief market analyst at Markets.com\n",
      "\n",
      "Shares of other vaccine developers in the final stage of testing also rose with Johnson & Johnson up 4% in pre-market trading and Moderna 7.4% stronger. Britain's AstraZeneca was down 0.5%.\n",
      "\n",
      "\"The efficacy data are really impressive. This is better than most of us anticipated,\" said William Schaffner, infectious diseases expert at Vanderbilt University School of Medicine, Nashville, Tennessee. \"The study isn't completed yet, but nonetheless the data look very solid.\"\n",
      "\n",
      "U.S. President Donald Trump welcomed the test results, and the market boost: \"STOCK MARKET UP BIG, VACCINE COMING SOON. REPORT 90% EFFECTIVE. SUCH GREAT NEWS!\" he said on Twitter.\n",
      "\n",
      "President-elect Joe Biden said the news was excellent but did not change the fact that face masks, social distancing and other health measures would be needed well into next year.\n",
      "\n",
      "1.3 BILLION DOSES\n",
      "\n",
      "Pfizer expects to seek broad U.S. authorization for emergency use of the vaccine for people aged 16 to 85. To do so, it will need two months of safety data from about half the study's 44,000 participants, which is expected late this month.\n",
      "\n",
      "\"I'm near ecstatic,\" Bill Gruber, one of Pfizer's top vaccine scientists, said in an interview. \"This is a great day for public health and for the potential to get us all out of the circumstances we're now in.\"\n",
      "\n",
      "Pfizer and BioNTech have a $1.95 billion contract with the U.S. government to deliver 100 million vaccine doses beginning this year. They have also reached supply agreements with the European Union, the United Kingdom, Canada and Japan.\n",
      "\n",
      "To save time, the companies began manufacturing the vaccine before they knew whether it would be effective. They now expect to produce up to 50 million doses, or enough to protect 25 million people this year.\n",
      "\n",
      "Pfizer said it expects to produce up to 1.3 billion doses of the vaccine in 2021.\n",
      "\n",
      "The U.S. pharmaceutical giant said the interim analysis was conducted after 94 participants in the trial developed COVID-19, examining how many of them had received the vaccine versus a placebo.\n",
      "\n",
      "The company did not break down exactly how many of those who fell ill received the vaccine. Still, over 90% effectiveness implies that no more than 8 of the 94 people who caught COVID-19 had been given the vaccine, which was administered in two shots about three weeks apart.\n",
      "\n",
      "The efficacy rate is well above the 50% effectiveness required by the U.S. Food and Drug Administration for a coronavirus vaccine.\n",
      "\n",
      "MORE DATA NEEDED\n",
      "\n",
      "To confirm the efficacy rate, Pfizer said it would continue the trial until there are 164 COVID-19 cases among participants. Bourla told CNBC on Monday that based on rising infection rates, the trial could be completed before the end of November.\n",
      "\n",
      "The data have yet to be peer-reviewed or published in a medical journal. Pfizer said it would do so once it has results from the entire trial.\n",
      "\n",
      "\"These are interesting first signals, but again they are only communicated in press releases,\" said Marylyn Addo, head of tropical medicine at the University Medical Center Hamburg-Eppendorf in Germany.\n",
      "\n",
      "\"Primary data are not yet available and a peer-reviewed publication is still pending. We still have to wait for the exact data before we can make a final assessment.\"\n",
      "\n",
      "The global race for a vaccine has seen wealthier countries forge multibillion-dollar supply deals with drugmakers like Pfizer, AstraZeneca Plc and Johnson & Johnson, raising questions over when middle income and poorer nations will get access to inoculations.\n",
      "\n",
      "The U.S. quest for a vaccine has been the Trump administration's central response to the pandemic. The United States has the world's highest known number of COVID-19 cases and deaths with more than 10 million infections and over 237,000 fatalities.\n",
      "\n",
      "Trump repeatedly assured the public that his administration would likely identify a successful vaccine in time for the presidential election, held last Tuesday. On Saturday, Democratic rival Biden was declared the winner.\n",
      "\n",
      "ESSENTIAL TOOLS\n",
      "\n",
      "Vaccines are seen as essential tools to help end the health crisis that has shuttered businesses and left millions out of work. Millions of children whose schools were closed in March remain in remote learning programs.\n",
      "\n",
      "Dozens of drugmakers and research groups around the globe have been racing to develop vaccines against COVID-19, which on Sunday exceeded 50 million infections since the new coronavirus first emerged late last year in China.\n",
      "\n",
      "The Pfizer and BioNTech vaccine uses messenger RNA (mRNA) technology, which relies on synthetic genes that can be generated and manufactured in weeks, and produced at scale more rapidly than conventional vaccines.\n",
      "\n",
      "Moderna Inc, whose vaccine candidate employs similar technology, is expected to report results from its large-scale trial later this month.\n",
      "\n",
      "The mRNA technology is designed to trigger an immune response without using pathogens, such as actual virus particles.\n",
      "\n",
      "Pfizer alone will not have the capacity to immediately provide enough vaccines for the United States. The Trump administration has said it will have enough supply for all of the 330 million U.S. residents who wish to be vaccinated by the middle of 2021.\n",
      "\n",
      "The U.S. government has said the vaccines will be provided free to Americans, including the insured, uninsured and those in government health programs such as Medicare.\n"
     ]
    }
   ],
   "source": [
    "text = \"\"\"Pfizer's COVID's vaccine over \"90% effective\"\n",
    "\n",
    "By: Michael Erman and Julie Steenhuysen | 9 November 2020\n",
    "\n",
    "Reuters – Pfizer Inc said on Monday its experimental COVID-19 vaccine was more than 90% effective, a major victory in the fight against a pandemic that has killed more than a million people, battered the world's economy and upended daily life.\n",
    "\n",
    "Pfizer and German partner BioNTech SE are the first drugmakers to release successful data from a large-scale clinical trial of a coronavirus vaccine. The companies said they have so far found no serious safety concerns and expect to seek U.S. authorization this month for emergency use of the vaccine.\n",
    "\n",
    "Health experts said Pfizer's results were positive for all COVID-19 vaccines currently in development since they show the shots are going after the right target and are a proof of concept that the disease can be halted with vaccination.\n",
    "\n",
    "\"Today is a great day for science and humanity,\" Albert Bourla, Pfizer's chairman and chief executive, said.\n",
    "\n",
    "\"We are reaching this critical milestone in our vaccine development program at a time when the world needs it most with infection rates setting new records, hospitals nearing over-capacity and economies struggling to reopen.\"\n",
    "\n",
    "If Pfizer's vaccine is authorized, the number of doses will initially be limited and many questions remain, including how long the vaccine will provide protection.\n",
    "\n",
    "BioNTech Chief Executive Ugur Sahin told Reuters he was optimistic the immunisation effect of the vaccine would last for a year although that was not certain yet.\n",
    "\n",
    "\"This news made me smile from ear to ear. It is a relief to see such positive results on this vaccine and bodes well for COVID-19 vaccines in general,\" said Peter Horby, professor of emerging infectious diseases at the University of Oxford.\n",
    "\n",
    " \n",
    "\n",
    "MARKETS SURGE\n",
    "\n",
    "The prospect of a vaccine electrified world markets with S&P 500 futures hitting a record high and tourism and travel shares surging. Pfizer shares were indicated 14.2% higher in pre-market trading in New York, while BioNTech's stock was up nearly 23% in Frankfurt.\n",
    "\n",
    "\"Light at the end of the tunnel. Let's just hope the vaccine deniers won't get in the way, but 2021 just got a lot brighter,\" said Neil Wilson, chief market analyst at Markets.com\n",
    "\n",
    "Shares of other vaccine developers in the final stage of testing also rose with Johnson & Johnson up 4% in pre-market trading and Moderna 7.4% stronger. Britain's AstraZeneca was down 0.5%.\n",
    "\n",
    "\"The efficacy data are really impressive. This is better than most of us anticipated,\" said William Schaffner, infectious diseases expert at Vanderbilt University School of Medicine, Nashville, Tennessee. \"The study isn't completed yet, but nonetheless the data look very solid.\"\n",
    "\n",
    "U.S. President Donald Trump welcomed the test results, and the market boost: \"STOCK MARKET UP BIG, VACCINE COMING SOON. REPORT 90% EFFECTIVE. SUCH GREAT NEWS!\" he said on Twitter.\n",
    "\n",
    "President-elect Joe Biden said the news was excellent but did not change the fact that face masks, social distancing and other health measures would be needed well into next year.\n",
    "\n",
    "1.3 BILLION DOSES\n",
    "\n",
    "Pfizer expects to seek broad U.S. authorization for emergency use of the vaccine for people aged 16 to 85. To do so, it will need two months of safety data from about half the study's 44,000 participants, which is expected late this month.\n",
    "\n",
    "\"I'm near ecstatic,\" Bill Gruber, one of Pfizer's top vaccine scientists, said in an interview. \"This is a great day for public health and for the potential to get us all out of the circumstances we're now in.\"\n",
    "\n",
    "Pfizer and BioNTech have a $1.95 billion contract with the U.S. government to deliver 100 million vaccine doses beginning this year. They have also reached supply agreements with the European Union, the United Kingdom, Canada and Japan.\n",
    "\n",
    "To save time, the companies began manufacturing the vaccine before they knew whether it would be effective. They now expect to produce up to 50 million doses, or enough to protect 25 million people this year.\n",
    "\n",
    "Pfizer said it expects to produce up to 1.3 billion doses of the vaccine in 2021.\n",
    "\n",
    "The U.S. pharmaceutical giant said the interim analysis was conducted after 94 participants in the trial developed COVID-19, examining how many of them had received the vaccine versus a placebo.\n",
    "\n",
    "The company did not break down exactly how many of those who fell ill received the vaccine. Still, over 90% effectiveness implies that no more than 8 of the 94 people who caught COVID-19 had been given the vaccine, which was administered in two shots about three weeks apart.\n",
    "\n",
    "The efficacy rate is well above the 50% effectiveness required by the U.S. Food and Drug Administration for a coronavirus vaccine.\n",
    "\n",
    "MORE DATA NEEDED\n",
    "\n",
    "To confirm the efficacy rate, Pfizer said it would continue the trial until there are 164 COVID-19 cases among participants. Bourla told CNBC on Monday that based on rising infection rates, the trial could be completed before the end of November.\n",
    "\n",
    "The data have yet to be peer-reviewed or published in a medical journal. Pfizer said it would do so once it has results from the entire trial.\n",
    "\n",
    "\"These are interesting first signals, but again they are only communicated in press releases,\" said Marylyn Addo, head of tropical medicine at the University Medical Center Hamburg-Eppendorf in Germany.\n",
    "\n",
    "\"Primary data are not yet available and a peer-reviewed publication is still pending. We still have to wait for the exact data before we can make a final assessment.\"\n",
    "\n",
    "The global race for a vaccine has seen wealthier countries forge multibillion-dollar supply deals with drugmakers like Pfizer, AstraZeneca Plc and Johnson & Johnson, raising questions over when middle income and poorer nations will get access to inoculations.\n",
    "\n",
    "The U.S. quest for a vaccine has been the Trump administration's central response to the pandemic. The United States has the world's highest known number of COVID-19 cases and deaths with more than 10 million infections and over 237,000 fatalities.\n",
    "\n",
    "Trump repeatedly assured the public that his administration would likely identify a successful vaccine in time for the presidential election, held last Tuesday. On Saturday, Democratic rival Biden was declared the winner.\n",
    "\n",
    "ESSENTIAL TOOLS\n",
    "\n",
    "Vaccines are seen as essential tools to help end the health crisis that has shuttered businesses and left millions out of work. Millions of children whose schools were closed in March remain in remote learning programs.\n",
    "\n",
    "Dozens of drugmakers and research groups around the globe have been racing to develop vaccines against COVID-19, which on Sunday exceeded 50 million infections since the new coronavirus first emerged late last year in China.\n",
    "\n",
    "The Pfizer and BioNTech vaccine uses messenger RNA (mRNA) technology, which relies on synthetic genes that can be generated and manufactured in weeks, and produced at scale more rapidly than conventional vaccines.\n",
    "\n",
    "Moderna Inc, whose vaccine candidate employs similar technology, is expected to report results from its large-scale trial later this month.\n",
    "\n",
    "The mRNA technology is designed to trigger an immune response without using pathogens, such as actual virus particles.\n",
    "\n",
    "Pfizer alone will not have the capacity to immediately provide enough vaccines for the United States. The Trump administration has said it will have enough supply for all of the 330 million U.S. residents who wish to be vaccinated by the middle of 2021.\n",
    "\n",
    "The U.S. government has said the vaccines will be provided free to Americans, including the insured, uninsured and those in government health programs such as Medicare.\"\"\"\n",
    "print(text)"
   ]
  },
  {
   "cell_type": "markdown",
   "metadata": {},
   "source": [
    "* Remove the punctuations and digits from the given text.\n",
    "* Make all the characters lowercase\n",
    "* Convert all whitespace characters to spaces.\n",
    "* Split the text at each space character to get a word list.\n",
    "* Count the number each unique word\n",
    "* Print out the most common "
   ]
  },
  {
   "cell_type": "code",
   "execution_count": 11,
   "metadata": {},
   "outputs": [],
   "source": [
    "# Your Solution\n",
    "import string\n",
    "preProcessed = text.translate(str.maketrans('','', string.punctuation + string.digits + '–')).lower()\n",
    "indivWords = preProcessed.split()"
   ]
  },
  {
   "cell_type": "code",
   "execution_count": 12,
   "metadata": {},
   "outputs": [
    {
     "name": "stdout",
     "output_type": "stream",
     "text": [
      "[5, 1, 27, 4, 4, 3, 1, 1, 30, 1, 1, 2, 2, 11, 2, 17, 8, 2, 2, 1, 8, 9, 6, 6, 23, 1, 1, 24, 78, 1, 2, 2, 9, 8, 1, 7, 4, 1, 2, 1, 1, 1, 1, 1, 1, 4, 1, 10, 3, 3, 28, 1, 2, 8, 5, 2, 1, 6, 29, 3, 2, 6, 8, 3, 1, 1, 2, 1, 2, 1, 2, 2, 11, 2, 10, 3, 16, 2, 2, 5, 1, 5, 4, 2, 3, 7, 1, 2, 2, 1, 2, 1, 2, 1, 1, 1, 1, 1, 3, 9, 1, 8, 1, 1, 10, 3, 2, 1, 1, 1, 2, 1, 3, 2, 3, 1, 1, 1, 1, 1, 7, 3, 2, 2, 1, 9, 2, 2, 2, 1, 3, 1, 1, 1, 1, 1, 1, 1, 1, 1, 2, 5, 7, 1, 1, 3, 2, 2, 2, 3, 1, 2, 1, 1, 1, 2, 2, 1, 1, 1, 6, 3, 5, 1, 5, 1, 4, 3, 1, 1, 1, 2, 1, 1, 4, 1, 3, 1, 1, 1, 1, 1, 2, 2, 3, 1, 2, 1, 1, 1, 1, 1, 1, 1, 1, 1, 1, 3, 1, 1, 1, 2, 2, 1, 1, 1, 2, 5, 1, 1, 1, 3, 1, 1, 2, 1, 1, 1, 3, 1, 4, 1, 1, 1, 1, 1, 3, 1, 1, 2, 1, 2, 1, 1, 2, 1, 4, 2, 1, 1, 2, 2, 3, 1, 1, 1, 1, 1, 1, 1, 1, 1, 2, 1, 1, 1, 1, 2, 1, 1, 1, 1, 1, 1, 4, 1, 1, 1, 1, 1, 1, 2, 1, 1, 1, 2, 1, 2, 1, 1, 1, 1, 1, 1, 1, 2, 1, 1, 3, 2, 1, 1, 2, 1, 2, 1, 2, 1, 1, 3, 4, 2, 2, 1, 1, 1, 1, 1, 1, 1, 1, 2, 1, 2, 1, 2, 1, 2, 1, 3, 1, 1, 1, 3, 1, 1, 1, 3, 1, 1, 1, 1, 1, 1, 3, 1, 1, 2, 2, 3, 1, 1, 1, 1, 1, 1, 1, 1, 1, 2, 2, 1, 1, 1, 1, 1, 2, 3, 1, 1, 3, 2, 1, 1, 3, 1, 1, 1, 2, 1, 2, 1, 1, 1, 1, 3, 1, 1, 1, 1, 2, 1, 1, 1, 1, 1, 2, 1, 2, 1, 1, 1, 1, 1, 1, 1, 1, 1, 1, 1, 1, 1, 1, 1, 1, 1, 1, 1, 1, 1, 1, 1, 1, 1, 1, 1, 1, 2, 1, 1, 1, 1, 1, 1, 1, 1, 2, 1, 1, 1, 1, 1, 1, 1, 1, 2, 2, 1, 1, 1, 2, 1, 1, 1, 1, 1, 1, 1, 1, 1, 1, 1, 1, 1, 1, 1, 2, 2, 3, 1, 1, 1, 1, 1, 2, 1, 1, 2, 1, 1, 1, 1, 1, 2, 1, 1, 1, 1, 1, 1, 1, 1, 1, 1, 1, 1, 1, 1, 2, 3, 1, 1, 1, 1, 1, 1, 1, 1, 1, 1, 1, 1, 1, 1, 1, 1, 1, 1, 1, 1, 1, 1, 1, 1, 1, 1, 1, 1, 1, 1, 1, 1, 1, 1]\n",
      "['pfizers', 'covids', 'vaccine', 'over', 'effective', 'by', 'michael', 'erman', 'and', 'julie', 'steenhuysen', 'november', 'reuters', 'pfizer', 'inc', 'said', 'on', 'monday', 'its', 'experimental', 'covid', 'was', 'more', 'than', 'a', 'major', 'victory', 'in', 'the', 'fight', 'against', 'pandemic', 'that', 'has', 'killed', 'million', 'people', 'battered', 'worlds', 'economy', 'upended', 'daily', 'life', 'german', 'partner', 'biontech', 'se', 'are', 'first', 'drugmakers', 'to', 'release', 'successful', 'data', 'from', 'largescale', 'clinical', 'trial', 'of', 'coronavirus', 'companies', 'they', 'have', 'so', 'far', 'found', 'no', 'serious', 'safety', 'concerns', 'expect', 'seek', 'us', 'authorization', 'this', 'month', 'for', 'emergency', 'use', 'health', 'experts', 'results', 'were', 'positive', 'all', 'vaccines', 'currently', 'development', 'since', 'show', 'shots', 'going', 'after', 'right', 'target', 'proof', 'concept', 'disease', 'can', 'be', 'halted', 'with', 'vaccination', 'today', 'is', 'great', 'day', 'science', 'humanity', 'albert', 'bourla', 'chairman', 'chief', 'executive', 'we', 'reaching', 'critical', 'milestone', 'our', 'program', 'at', 'time', 'when', 'world', 'needs', 'it', 'most', 'infection', 'rates', 'setting', 'new', 'records', 'hospitals', 'nearing', 'overcapacity', 'economies', 'struggling', 'reopen', 'if', 'authorized', 'number', 'doses', 'will', 'initially', 'limited', 'many', 'questions', 'remain', 'including', 'how', 'long', 'provide', 'protection', 'ugur', 'sahin', 'told', 'he', 'optimistic', 'immunisation', 'effect', 'would', 'last', 'year', 'although', 'not', 'certain', 'yet', 'news', 'made', 'me', 'smile', 'ear', 'relief', 'see', 'such', 'bodes', 'well', 'general', 'peter', 'horby', 'professor', 'emerging', 'infectious', 'diseases', 'university', 'oxford', 'markets', 'surge', 'prospect', 'electrified', 'sp', 'futures', 'hitting', 'record', 'high', 'tourism', 'travel', 'shares', 'surging', 'indicated', 'higher', 'premarket', 'trading', 'york', 'while', 'biontechs', 'stock', 'up', 'nearly', 'frankfurt', 'light', 'end', 'tunnel', 'lets', 'just', 'hope', 'deniers', 'wont', 'get', 'way', 'but', 'got', 'lot', 'brighter', 'neil', 'wilson', 'market', 'analyst', 'marketscom', 'other', 'developers', 'final', 'stage', 'testing', 'also', 'rose', 'johnson', 'moderna', 'stronger', 'britains', 'astrazeneca', 'down', 'efficacy', 'really', 'impressive', 'better', 'anticipated', 'william', 'schaffner', 'expert', 'vanderbilt', 'school', 'medicine', 'nashville', 'tennessee', 'study', 'isnt', 'completed', 'nonetheless', 'look', 'very', 'solid', 'president', 'donald', 'trump', 'welcomed', 'test', 'boost', 'big', 'coming', 'soon', 'report', 'twitter', 'presidentelect', 'joe', 'biden', 'excellent', 'did', 'change', 'fact', 'face', 'masks', 'social', 'distancing', 'measures', 'needed', 'into', 'next', 'billion', 'expects', 'broad', 'aged', 'do', 'need', 'two', 'months', 'about', 'half', 'studys', 'participants', 'which', 'expected', 'late', 'im', 'near', 'ecstatic', 'bill', 'gruber', 'one', 'top', 'scientists', 'an', 'interview', 'public', 'potential', 'out', 'circumstances', 'now', 'contract', 'government', 'deliver', 'beginning', 'reached', 'supply', 'agreements', 'european', 'union', 'united', 'kingdom', 'canada', 'japan', 'save', 'began', 'manufacturing', 'before', 'knew', 'whether', 'produce', 'or', 'enough', 'protect', 'pharmaceutical', 'giant', 'interim', 'analysis', 'conducted', 'developed', 'examining', 'them', 'had', 'received', 'versus', 'placebo', 'company', 'break', 'exactly', 'those', 'who', 'fell', 'ill', 'still', 'effectiveness', 'implies', 'caught', 'been', 'given', 'administered', 'three', 'weeks', 'apart', 'rate', 'above', 'required', 'food', 'drug', 'administration', 'confirm', 'continue', 'until', 'there', 'cases', 'among', 'cnbc', 'based', 'rising', 'could', 'peerreviewed', 'published', 'medical', 'journal', 'once', 'entire', 'these', 'interesting', 'signals', 'again', 'only', 'communicated', 'press', 'releases', 'marylyn', 'addo', 'head', 'tropical', 'center', 'hamburgeppendorf', 'germany', 'primary', 'available', 'publication', 'pending', 'wait', 'exact', 'make', 'assessment', 'global', 'race', 'seen', 'wealthier', 'countries', 'forge', 'multibilliondollar', 'deals', 'like', 'plc', 'raising', 'middle', 'income', 'poorer', 'nations', 'access', 'inoculations', 'quest', 'administrations', 'central', 'response', 'states', 'highest', 'known', 'deaths', 'infections', 'fatalities', 'repeatedly', 'assured', 'his', 'likely', 'identify', 'presidential', 'election', 'held', 'tuesday', 'saturday', 'democratic', 'rival', 'declared', 'winner', 'essential', 'tools', 'as', 'help', 'crisis', 'shuttered', 'businesses', 'left', 'millions', 'work', 'children', 'whose', 'schools', 'closed', 'march', 'remote', 'learning', 'programs', 'dozens', 'research', 'groups', 'around', 'globe', 'racing', 'develop', 'sunday', 'exceeded', 'emerged', 'china', 'uses', 'messenger', 'rna', 'mrna', 'technology', 'relies', 'synthetic', 'genes', 'generated', 'manufactured', 'produced', 'scale', 'rapidly', 'conventional', 'candidate', 'employs', 'similar', 'later', 'designed', 'trigger', 'immune', 'without', 'using', 'pathogens', 'actual', 'virus', 'particles', 'alone', 'capacity', 'immediately', 'residents', 'wish', 'vaccinated', 'provided', 'free', 'americans', 'insured', 'uninsured', 'medicare']\n"
     ]
    }
   ],
   "source": [
    "# Soln 1\n",
    "words = []\n",
    "wordCounts = []\n",
    "\n",
    "for word in indivWords:\n",
    "    if word in words:\n",
    "        wordCounts[words.index(word)] += 1\n",
    "    else:\n",
    "        words.append(word)\n",
    "        wordCounts.append(1)\n",
    "print(wordCounts)\n",
    "print(words)"
   ]
  },
  {
   "cell_type": "code",
   "execution_count": 13,
   "metadata": {},
   "outputs": [
    {
     "name": "stdout",
     "output_type": "stream",
     "text": [
      "{'pfizers': 5, 'covids': 1, 'vaccine': 27, 'over': 4, 'effective': 4, 'by': 3, 'michael': 1, 'erman': 1, 'and': 30, 'julie': 1, 'steenhuysen': 1, 'november': 2, 'reuters': 2, 'pfizer': 11, 'inc': 2, 'said': 17, 'on': 8, 'monday': 2, 'its': 2, 'experimental': 1, 'covid': 8, 'was': 9, 'more': 6, 'than': 6, 'a': 23, 'major': 1, 'victory': 1, 'in': 24, 'the': 78, 'fight': 1, 'against': 2, 'pandemic': 2, 'that': 9, 'has': 8, 'killed': 1, 'million': 7, 'people': 4, 'battered': 1, 'worlds': 2, 'economy': 1, 'upended': 1, 'daily': 1, 'life': 1, 'german': 1, 'partner': 1, 'biontech': 4, 'se': 1, 'are': 10, 'first': 3, 'drugmakers': 3, 'to': 28, 'release': 1, 'successful': 2, 'data': 8, 'from': 5, 'largescale': 2, 'clinical': 1, 'trial': 6, 'of': 29, 'coronavirus': 3, 'companies': 2, 'they': 6, 'have': 8, 'so': 3, 'far': 1, 'found': 1, 'no': 2, 'serious': 1, 'safety': 2, 'concerns': 1, 'expect': 2, 'seek': 2, 'us': 11, 'authorization': 2, 'this': 10, 'month': 3, 'for': 16, 'emergency': 2, 'use': 2, 'health': 5, 'experts': 1, 'results': 5, 'were': 4, 'positive': 2, 'all': 3, 'vaccines': 7, 'currently': 1, 'development': 2, 'since': 2, 'show': 1, 'shots': 2, 'going': 1, 'after': 2, 'right': 1, 'target': 1, 'proof': 1, 'concept': 1, 'disease': 1, 'can': 3, 'be': 9, 'halted': 1, 'with': 8, 'vaccination': 1, 'today': 1, 'is': 10, 'great': 3, 'day': 2, 'science': 1, 'humanity': 1, 'albert': 1, 'bourla': 2, 'chairman': 1, 'chief': 3, 'executive': 2, 'we': 3, 'reaching': 1, 'critical': 1, 'milestone': 1, 'our': 1, 'program': 1, 'at': 7, 'time': 3, 'when': 2, 'world': 2, 'needs': 1, 'it': 9, 'most': 2, 'infection': 2, 'rates': 2, 'setting': 1, 'new': 3, 'records': 1, 'hospitals': 1, 'nearing': 1, 'overcapacity': 1, 'economies': 1, 'struggling': 1, 'reopen': 1, 'if': 1, 'authorized': 1, 'number': 2, 'doses': 5, 'will': 7, 'initially': 1, 'limited': 1, 'many': 3, 'questions': 2, 'remain': 2, 'including': 2, 'how': 3, 'long': 1, 'provide': 2, 'protection': 1, 'ugur': 1, 'sahin': 1, 'told': 2, 'he': 2, 'optimistic': 1, 'immunisation': 1, 'effect': 1, 'would': 6, 'last': 3, 'year': 5, 'although': 1, 'not': 5, 'certain': 1, 'yet': 4, 'news': 3, 'made': 1, 'me': 1, 'smile': 1, 'ear': 2, 'relief': 1, 'see': 1, 'such': 4, 'bodes': 1, 'well': 3, 'general': 1, 'peter': 1, 'horby': 1, 'professor': 1, 'emerging': 1, 'infectious': 2, 'diseases': 2, 'university': 3, 'oxford': 1, 'markets': 2, 'surge': 1, 'prospect': 1, 'electrified': 1, 'sp': 1, 'futures': 1, 'hitting': 1, 'record': 1, 'high': 1, 'tourism': 1, 'travel': 1, 'shares': 3, 'surging': 1, 'indicated': 1, 'higher': 1, 'premarket': 2, 'trading': 2, 'york': 1, 'while': 1, 'biontechs': 1, 'stock': 2, 'up': 5, 'nearly': 1, 'frankfurt': 1, 'light': 1, 'end': 3, 'tunnel': 1, 'lets': 1, 'just': 2, 'hope': 1, 'deniers': 1, 'wont': 1, 'get': 3, 'way': 1, 'but': 4, 'got': 1, 'lot': 1, 'brighter': 1, 'neil': 1, 'wilson': 1, 'market': 3, 'analyst': 1, 'marketscom': 1, 'other': 2, 'developers': 1, 'final': 2, 'stage': 1, 'testing': 1, 'also': 2, 'rose': 1, 'johnson': 4, 'moderna': 2, 'stronger': 1, 'britains': 1, 'astrazeneca': 2, 'down': 2, 'efficacy': 3, 'really': 1, 'impressive': 1, 'better': 1, 'anticipated': 1, 'william': 1, 'schaffner': 1, 'expert': 1, 'vanderbilt': 1, 'school': 1, 'medicine': 2, 'nashville': 1, 'tennessee': 1, 'study': 1, 'isnt': 1, 'completed': 2, 'nonetheless': 1, 'look': 1, 'very': 1, 'solid': 1, 'president': 1, 'donald': 1, 'trump': 4, 'welcomed': 1, 'test': 1, 'boost': 1, 'big': 1, 'coming': 1, 'soon': 1, 'report': 2, 'twitter': 1, 'presidentelect': 1, 'joe': 1, 'biden': 2, 'excellent': 1, 'did': 2, 'change': 1, 'fact': 1, 'face': 1, 'masks': 1, 'social': 1, 'distancing': 1, 'measures': 1, 'needed': 2, 'into': 1, 'next': 1, 'billion': 3, 'expects': 2, 'broad': 1, 'aged': 1, 'do': 2, 'need': 1, 'two': 2, 'months': 1, 'about': 2, 'half': 1, 'studys': 1, 'participants': 3, 'which': 4, 'expected': 2, 'late': 2, 'im': 1, 'near': 1, 'ecstatic': 1, 'bill': 1, 'gruber': 1, 'one': 1, 'top': 1, 'scientists': 1, 'an': 2, 'interview': 1, 'public': 2, 'potential': 1, 'out': 2, 'circumstances': 1, 'now': 2, 'contract': 1, 'government': 3, 'deliver': 1, 'beginning': 1, 'reached': 1, 'supply': 3, 'agreements': 1, 'european': 1, 'union': 1, 'united': 3, 'kingdom': 1, 'canada': 1, 'japan': 1, 'save': 1, 'began': 1, 'manufacturing': 1, 'before': 3, 'knew': 1, 'whether': 1, 'produce': 2, 'or': 2, 'enough': 3, 'protect': 1, 'pharmaceutical': 1, 'giant': 1, 'interim': 1, 'analysis': 1, 'conducted': 1, 'developed': 1, 'examining': 1, 'them': 1, 'had': 2, 'received': 2, 'versus': 1, 'placebo': 1, 'company': 1, 'break': 1, 'exactly': 1, 'those': 2, 'who': 3, 'fell': 1, 'ill': 1, 'still': 3, 'effectiveness': 2, 'implies': 1, 'caught': 1, 'been': 3, 'given': 1, 'administered': 1, 'three': 1, 'weeks': 2, 'apart': 1, 'rate': 2, 'above': 1, 'required': 1, 'food': 1, 'drug': 1, 'administration': 3, 'confirm': 1, 'continue': 1, 'until': 1, 'there': 1, 'cases': 2, 'among': 1, 'cnbc': 1, 'based': 1, 'rising': 1, 'could': 1, 'peerreviewed': 2, 'published': 1, 'medical': 2, 'journal': 1, 'once': 1, 'entire': 1, 'these': 1, 'interesting': 1, 'signals': 1, 'again': 1, 'only': 1, 'communicated': 1, 'press': 1, 'releases': 1, 'marylyn': 1, 'addo': 1, 'head': 1, 'tropical': 1, 'center': 1, 'hamburgeppendorf': 1, 'germany': 1, 'primary': 1, 'available': 1, 'publication': 1, 'pending': 1, 'wait': 1, 'exact': 1, 'make': 1, 'assessment': 1, 'global': 1, 'race': 1, 'seen': 2, 'wealthier': 1, 'countries': 1, 'forge': 1, 'multibilliondollar': 1, 'deals': 1, 'like': 1, 'plc': 1, 'raising': 1, 'middle': 2, 'income': 1, 'poorer': 1, 'nations': 1, 'access': 1, 'inoculations': 1, 'quest': 1, 'administrations': 1, 'central': 1, 'response': 2, 'states': 2, 'highest': 1, 'known': 1, 'deaths': 1, 'infections': 2, 'fatalities': 1, 'repeatedly': 1, 'assured': 1, 'his': 1, 'likely': 1, 'identify': 1, 'presidential': 1, 'election': 1, 'held': 1, 'tuesday': 1, 'saturday': 1, 'democratic': 1, 'rival': 1, 'declared': 1, 'winner': 1, 'essential': 2, 'tools': 2, 'as': 3, 'help': 1, 'crisis': 1, 'shuttered': 1, 'businesses': 1, 'left': 1, 'millions': 2, 'work': 1, 'children': 1, 'whose': 2, 'schools': 1, 'closed': 1, 'march': 1, 'remote': 1, 'learning': 1, 'programs': 2, 'dozens': 1, 'research': 1, 'groups': 1, 'around': 1, 'globe': 1, 'racing': 1, 'develop': 1, 'sunday': 1, 'exceeded': 1, 'emerged': 1, 'china': 1, 'uses': 1, 'messenger': 1, 'rna': 1, 'mrna': 2, 'technology': 3, 'relies': 1, 'synthetic': 1, 'genes': 1, 'generated': 1, 'manufactured': 1, 'produced': 1, 'scale': 1, 'rapidly': 1, 'conventional': 1, 'candidate': 1, 'employs': 1, 'similar': 1, 'later': 1, 'designed': 1, 'trigger': 1, 'immune': 1, 'without': 1, 'using': 1, 'pathogens': 1, 'actual': 1, 'virus': 1, 'particles': 1, 'alone': 1, 'capacity': 1, 'immediately': 1, 'residents': 1, 'wish': 1, 'vaccinated': 1, 'provided': 1, 'free': 1, 'americans': 1, 'insured': 1, 'uninsured': 1, 'medicare': 1}\n"
     ]
    }
   ],
   "source": [
    "def countWords(indivWords):\n",
    "    wordCounts = {}\n",
    "\n",
    "    for word in indivWords:\n",
    "        wordCounts[word] = wordCounts.get(word,0) + 1\n",
    "        #if word in wordCounts:\n",
    "        #    wordCounts[word] += 1\n",
    "        #else:\n",
    "        #    wordCounts[word] = 1\n",
    "    return wordCounts\n",
    "print(countWords(indivWords))"
   ]
  },
  {
   "cell_type": "code",
   "execution_count": 15,
   "metadata": {},
   "outputs": [
    {
     "name": "stdout",
     "output_type": "stream",
     "text": [
      "('the', 78)\n"
     ]
    }
   ],
   "source": [
    "def dictMostCommonWord(wordCounts):\n",
    "    mostCommon = None\n",
    "    maxCount = -1\n",
    "\n",
    "    for word, wordCount in wordCounts.items():\n",
    "        if wordCount > maxCount:\n",
    "            mostCommon = word\n",
    "            maxCount = wordCount\n",
    "    return mostCommon, maxCount    \n",
    "print(dictMostCommonWord(countWords(indivWords)))"
   ]
  },
  {
   "cell_type": "markdown",
   "metadata": {},
   "source": [
    "Additionally:\n",
    "* Remove all single character words\n",
    "* Remove the words given in the stop word lists\n",
    "* Count the remaining words\n",
    "* Return the most common 5 words\n",
    "\n",
    "Note that the order of removing these words is upto you."
   ]
  },
  {
   "cell_type": "code",
   "execution_count": 16,
   "metadata": {},
   "outputs": [
    {
     "data": {
      "text/plain": [
       "('vaccine', 27)"
      ]
     },
     "execution_count": 16,
     "metadata": {},
     "output_type": "execute_result"
    }
   ],
   "source": [
    "stop_words_list = [\"and\",\"but\",\"the\",\"an\",\"as\",\"to\",\"he\",\"she\",\"it\",\"in\",\"for\",\"such\",\"of\",\"is\"]\n",
    "\n",
    "# Your Solution\n",
    "workingCopy = indivWords.copy()\n",
    "\n",
    "#for ind, word in enumerate(workingCopy):\n",
    "for ind in range(len(workingCopy)-1,-1,-1):\n",
    "    word = workingCopy[ind]\n",
    "    if len(word) == 1 or word in stop_words_list:\n",
    "        del workingCopy[ind]\n",
    "\n",
    "dictMostCommonWord(countWords(workingCopy))"
   ]
  },
  {
   "cell_type": "code",
   "execution_count": 18,
   "metadata": {},
   "outputs": [
    {
     "data": {
      "text/plain": [
       "('vaccine', 27)"
      ]
     },
     "execution_count": 18,
     "metadata": {},
     "output_type": "execute_result"
    }
   ],
   "source": [
    "#Another alternative is to create another list\n",
    "\n",
    "cleanedWordList = []\n",
    "\n",
    "for word in indivWords:\n",
    "    if len(word) != 1 and word not in stop_words_list:\n",
    "        cleanedWordList.append(word)\n",
    "\n",
    "dictMostCommonWord(countWords(cleanedWordList))"
   ]
  },
  {
   "cell_type": "markdown",
   "metadata": {},
   "source": [
    "**Exercises at the End of Console Input Notebook**"
   ]
  },
  {
   "cell_type": "markdown",
   "metadata": {},
   "source": [
    "**Exercise: Guess The Number**\n",
    "1. Your program will pick a random number between 1 and 100 (both inclusive)\n",
    "2. The user will try to guess this number via console input. If the user inputs 0, the game should quit.\n",
    "3. Your program will say lower or higher and will warn the user if an unexpected input is given.\n",
    "4. Your program will run until the user guesses correctly or enters the quit input.\n",
    "5. If the user guesses correctly, your program will ask the user whether they want to play another round."
   ]
  },
  {
   "cell_type": "code",
   "execution_count": null,
   "metadata": {},
   "outputs": [],
   "source": [
    "# Your Solution\n",
    "import random\n",
    "\n",
    "gameContinue = True\n",
    "\n",
    "while gameContinue:\n",
    "    print('New Game')\n",
    "    number = random.randint(1,100)\n",
    "    while True:\n",
    "        inp=input('Please enter your guess:')\n",
    "        try:\n",
    "            inp = int(inp)\n",
    "        except ValueError:\n",
    "            print('Please enter an integer')\n",
    "            continue\n",
    "        if inp == 0:\n",
    "            gameContinue = False\n",
    "            break\n",
    "        elif inp < 1 or inp > 100:\n",
    "            print('Please enter an integer between 1 and 100')\n",
    "            continue\n",
    "\n",
    "        if number > inp:\n",
    "            print('My number is higher')\n",
    "        elif number < inp:\n",
    "            print('My number is lower')\n",
    "        elif number == inp:\n",
    "            print('You guessed correctly')\n",
    "            inp=input('Do you want to play another round? (Y or y for new round, anything else to quit)')\n",
    "            if inp.lower() != 'y':\n",
    "                gameContinue = False\n",
    "            break\n",
    "            \n",
    "print('Have a nice day!')"
   ]
  },
  {
   "cell_type": "markdown",
   "metadata": {},
   "source": [
    "**Exercise: Guess The Number 2**\n",
    "1. The user will pick a random number between 1 and 100 (both inclusive)\n",
    "2. Your program will try to guess this. I recommend you use \"binary search\".\n",
    "3. The user will input correct (c), higher (h), lower (l) or exit (e) commands through the console\n",
    "4. If the program guesses correctly, your program will ask the user whether they want to play another round.\n",
    "5. Additionally, your program should detect if the user is cheatin"
   ]
  },
  {
   "cell_type": "code",
   "execution_count": null,
   "metadata": {},
   "outputs": [],
   "source": [
    "# Your Solution\n",
    "# Your Solution\n",
    "flag = True\n",
    "cheating = False\n",
    "\n",
    "while flag:\n",
    "    print('New Game')\n",
    "    lo = 1\n",
    "    hi = 100\n",
    "    done = False\n",
    "    while not done:\n",
    "        if lo+1 >= hi:\n",
    "            print('You are cheating!')\n",
    "            flag = False\n",
    "            cheating = True\n",
    "            break\n",
    "        currentGuess = (lo+hi)//2\n",
    "        print(f'My-1\n",
    "              guess {currentGuess}')\n",
    "        inp = input('Your response:')\n",
    "        try:\n",
    "            resp = int(inp)\n",
    "        except ValueError:\n",
    "            print('Please enter -1,0 or 1 to continue playing or -99 to exit')\n",
    "            continue\n",
    "        print(resp)\n",
    "        if resp == -99:\n",
    "            flag = False\n",
    "            done = True #instead of break\n",
    "        elif resp < -1 or resp > 1:\n",
    "            print('Please enter -1,0 or 1 to continue playing or -99 to exit')\n",
    "            continue\n",
    "\n",
    "        elif resp == -1:\n",
    "            hi = currentGuess\n",
    "        elif resp == 1:\n",
    "            lo = currentGuess\n",
    "        else: #cevap == 0\n",
    "            inp=input('Do you want to play another round? (Y or y for new round, anything else to quit)')\n",
    "            if(inp.lower() !='y'):\n",
    "                flag = False      \n",
    "            done = True #instead of break\n",
    "if not cheating:                \n",
    "    print('Have a nice day!')\n",
    "else:\n",
    "    print('I do not play with cheaters')"
   ]
  },
  {
   "cell_type": "markdown",
   "metadata": {},
   "source": [
    "**Exercise: Tic-Tac-Toe**\n",
    "\n",
    "Tic-Tac-Toe or the X-O-X is a simple game played on a 3x3 grid. To play the game go to: https://playtictactoe.org/ \n",
    "\n",
    "You are asked to code this 2-player game. We are going to use console input to get user actions (i.e. `input`)  and use console output (i.e. `print`) to display the current status.\n",
    "\n",
    "Let's start with the how the grid might look\n",
    "\n",
    "(solutions are at then end)"
   ]
  },
  {
   "cell_type": "code",
   "execution_count": null,
   "metadata": {},
   "outputs": [],
   "source": [
    "print(\n",
    "\"\"\"\n",
    " --- --- --- \n",
    "|   |   |   | \n",
    " --- --- ---  \n",
    "|   |   |   | \n",
    " --- --- ---  \n",
    "|   |   |   | \n",
    " --- --- --- \n",
    "\"\"\"\n",
    ")"
   ]
  },
  {
   "cell_type": "markdown",
   "metadata": {},
   "source": [
    "Write a function named `drawEmptyGrid` to display this output. However, let's make it interesting by making the number of rows and columns parametric, e.g., to draw grids of sizes 4x4, 5x5 or even 5x7."
   ]
  },
  {
   "cell_type": "code",
   "execution_count": null,
   "metadata": {},
   "outputs": [],
   "source": [
    "# Feel free to implement helper functions\n",
    "def drawEmptyGrid(rows = 3, columns = 3):\n",
    "    rowBB = ' ---'\n",
    "    columnBB = '|   '\n",
    "    for row in range(rows):\n",
    "        for col in range(columns):\n",
    "            print(rowBB,end='')\n",
    "        print()\n",
    "        for col in range(columns+1):\n",
    "            print(columnBB,end='')\n",
    "        print()\n",
    "    for col in range(columns):\n",
    "        print(rowBB,end='') \n",
    "    print()\n",
    "drawEmptyGrid(3,3)\n",
    "drawEmptyGrid(5,7)"
   ]
  },
  {
   "cell_type": "markdown",
   "metadata": {},
   "source": [
    "We have to represent the game state to play the game (i.e. where the X's and O's are). Let 'X' represent X's, 'O' represent O's and '.' represent empty cells.\n",
    "\n",
    "How can we do this? What are some alternatives?"
   ]
  },
  {
   "cell_type": "code",
   "execution_count": null,
   "metadata": {},
   "outputs": [],
   "source": [
    "# Grid representation\n",
    "\n",
    "def emptyGrid():\n",
    "    gridState = []\n",
    "\n",
    "    for i in range(3):\n",
    "        tmp = []\n",
    "        for j in range(3):\n",
    "            tmp.append('.')\n",
    "        gridState.append(tmp)\n",
    "    return gridState\n",
    "print(emptyGrid())"
   ]
  },
  {
   "cell_type": "code",
   "execution_count": null,
   "metadata": {},
   "outputs": [],
   "source": [
    "gridState = emptyGrid()\n",
    "gridState[2][1] = 'X'\n",
    "gridState[0][2] = 'O'"
   ]
  },
  {
   "cell_type": "markdown",
   "metadata": {},
   "source": [
    "Now let's draw the grid with the given game state. We can now assume the grid is 3x3"
   ]
  },
  {
   "cell_type": "code",
   "execution_count": null,
   "metadata": {},
   "outputs": [],
   "source": [
    "def drawBoard(gridState):\n",
    "    rowBB = ' ---'\n",
    "    columnBB = '| '\n",
    "    for row in range(3):\n",
    "        for col in range(3):\n",
    "            print(rowBB,end='')\n",
    "        print()\n",
    "        for col in range(3+1):\n",
    "            if col != 3:\n",
    "                print(columnBB + gridState[row][col] + ' ',end='')\n",
    "            else:\n",
    "                print('|')\n",
    "    for col in range(3):\n",
    "        print(rowBB,end='') \n",
    "    print()\n",
    "drawBoard(gridState)"
   ]
  },
  {
   "cell_type": "markdown",
   "metadata": {},
   "source": [
    "Let's get the user input now. How do you want to tackle this? There are multiple options. Do not forget to do the checks!"
   ]
  },
  {
   "cell_type": "code",
   "execution_count": null,
   "metadata": {},
   "outputs": [],
   "source": [
    "def userInput(gridState, user):\n",
    "    # user: whether X or O\n",
    "    pass"
   ]
  },
  {
   "cell_type": "markdown",
   "metadata": {},
   "source": [
    "As the last part, we need to check whether there is a winner after each move. The game is won if all the characters of a row, column or diagonal are the same. The game ends in a draw if all the cells are occupied but the aforementioned condition is not satisfied. \n",
    "\n",
    "Write the function `checkForWinner`which returns 'X' if X has won, 'O' if O has won, '!' if it is a draw and '.' if the game is still going on."
   ]
  },
  {
   "cell_type": "code",
   "execution_count": null,
   "metadata": {},
   "outputs": [],
   "source": [
    "def checkForWinner(gridState):\n",
    "    pass"
   ]
  },
  {
   "cell_type": "markdown",
   "metadata": {},
   "source": [
    "We have all the pieces, let's put them together for a complete game!"
   ]
  },
  {
   "cell_type": "code",
   "execution_count": null,
   "metadata": {},
   "outputs": [],
   "source": [
    "# Your solution"
   ]
  },
  {
   "cell_type": "markdown",
   "metadata": {},
   "source": [
    "**Tic-Tac-Toe Solution**"
   ]
  },
  {
   "cell_type": "markdown",
   "metadata": {},
   "source": [
    "Write a function named `drawEmptyGrid` to display this output. However, let's make it interesting by making the number of rows and columns parametric, e.g., to draw grids of sizes 4x4, 5x5 or even 5x7."
   ]
  },
  {
   "cell_type": "code",
   "execution_count": 20,
   "metadata": {},
   "outputs": [
    {
     "name": "stdout",
     "output_type": "stream",
     "text": [
      " --- --- ---\n",
      "|   |   |   |\n",
      " --- --- ---\n",
      "|   |   |   |\n",
      " --- --- ---\n",
      "|   |   |   |\n",
      " --- --- ---\n",
      " --- --- --- --- --- --- ---\n",
      "|   |   |   |   |   |   |   |\n",
      " --- --- --- --- --- --- ---\n",
      "|   |   |   |   |   |   |   |\n",
      " --- --- --- --- --- --- ---\n",
      "|   |   |   |   |   |   |   |\n",
      " --- --- --- --- --- --- ---\n",
      "|   |   |   |   |   |   |   |\n",
      " --- --- --- --- --- --- ---\n",
      "|   |   |   |   |   |   |   |\n",
      " --- --- --- --- --- --- ---\n"
     ]
    }
   ],
   "source": [
    "# Feel free to implement helper functions\n",
    "\n",
    "def horizontal(iteration):\n",
    "    s = ' '\n",
    "    for i in range(iteration-1):\n",
    "        s += '--- '\n",
    "    s += '---\\n'\n",
    "    return s\n",
    "\n",
    "def vertical(iteration):\n",
    "    s = ''\n",
    "    for i in range(iteration):\n",
    "        s += '|   '\n",
    "    s += '|\\n'\n",
    "    return s\n",
    "\n",
    "# Başka fonksiyonlar da tanımlayabiliriz\n",
    "def drawEmptyGrid(rows = 3, columns = 3):\n",
    "    for row in range(rows):\n",
    "        print(horizontal(columns),end='')\n",
    "        print(vertical(columns), end='')\n",
    "    print(horizontal(columns),end='')\n",
    "    \n",
    "drawEmptyGrid(3,3)\n",
    "drawEmptyGrid(5,7)"
   ]
  },
  {
   "cell_type": "markdown",
   "metadata": {},
   "source": [
    "We have to represent the game state to play the game (i.e. where the X's and O's are). Let 'X' represent X's, 'O' represent O's and '.' represent empty cells.\n",
    "\n",
    "How can we do this? What are some alternatives?"
   ]
  },
  {
   "cell_type": "code",
   "execution_count": 34,
   "metadata": {},
   "outputs": [
    {
     "name": "stdout",
     "output_type": "stream",
     "text": [
      "[['.', '.', '.'], ['.', '.', '.'], ['.', '.', '.']]\n"
     ]
    }
   ],
   "source": [
    "# Grid representation: Let's go with nested lists (simulating a 2D array)\n",
    "\n",
    "'''\n",
    " --- --- --- \n",
    "|0,0|0,1|0,2| \n",
    " --- --- ---  \n",
    "|1,0|1,1|1,2| \n",
    " --- --- ---  \n",
    "|2,0|2,1|2,2| \n",
    " --- --- --- \n",
    "'''\n",
    "\n",
    "def emptyGrid():\n",
    "    gridState = []\n",
    "    for s in range(3):\n",
    "        gridState.append(['.']*3)\n",
    "    return gridState\n",
    "\n",
    "print(emptyGrid())"
   ]
  },
  {
   "cell_type": "code",
   "execution_count": 35,
   "metadata": {},
   "outputs": [],
   "source": [
    "gridState = emptyGrid()\n",
    "gridState[2][1] = 'X'\n",
    "gridState[0][2] = 'O'"
   ]
  },
  {
   "cell_type": "code",
   "execution_count": 38,
   "metadata": {},
   "outputs": [
    {
     "name": "stdout",
     "output_type": "stream",
     "text": [
      "['.', '.', '.', '.', '.', '.', '.', '.', '.']\n",
      "['.', '.', 'O', '.', '.', '.', '.', 'X', '.']\n"
     ]
    }
   ],
   "source": [
    "# Alternative 1D version\n",
    "'''\n",
    " --- --- --- \n",
    "| 0 | 1 | 2 | \n",
    " --- --- ---  \n",
    "| 3 | 4 | 5 | \n",
    " --- --- ---  \n",
    "| 6 | 7 | 8 | \n",
    " --- --- --- \n",
    "'''\n",
    "\n",
    "def emptyGrid1D():\n",
    "    return ['.']*9\n",
    "\n",
    "gridState1D = emptyGrid1D()\n",
    "print(gridState1D)\n",
    "\n",
    "gridState1D[2] = 'O'\n",
    "gridState1D[7] = 'X'\n",
    "print(gridState1D)"
   ]
  },
  {
   "cell_type": "markdown",
   "metadata": {},
   "source": [
    "Now let's draw the grid with the given game state. We can now assume the grid is 3x3"
   ]
  },
  {
   "cell_type": "code",
   "execution_count": 39,
   "metadata": {},
   "outputs": [
    {
     "name": "stdout",
     "output_type": "stream",
     "text": [
      " --- --- ---\n",
      "| . | . | O |\n",
      " --- --- ---\n",
      "| . | . | . |\n",
      " --- --- ---\n",
      "| . | X | . |\n",
      " --- --- ---\n",
      " --- --- ---\n",
      "| . | . | O |\n",
      " --- --- ---\n",
      "| . | . | . |\n",
      " --- --- ---\n",
      "| . | X | . |\n",
      " --- --- ---\n"
     ]
    }
   ],
   "source": [
    "def horizontal(iteration):\n",
    "    s = ' '\n",
    "    for i in range(iteration-1):\n",
    "        s += '--- '\n",
    "    s += '---\\n'\n",
    "    return s\n",
    "\n",
    "def verticalWithInfo(iteration, currentRow):\n",
    "    s = ''\n",
    "    for i in range(iteration):\n",
    "        s += '| ' + currentRow[i] + ' '\n",
    "    s += '|\\n'\n",
    "    return s\n",
    "\n",
    "def drawBoard(gridState):\n",
    "    for row in range(3):\n",
    "        print(horizontal(3),end='')\n",
    "        print(verticalWithInfo(3,  gridState[row]), end='')\n",
    "    print(horizontal(3),end='')\n",
    "\n",
    "# Tek bir liste\n",
    "def drawBoard1D(gridState):\n",
    "    for row in range(3):\n",
    "        print(horizontal(3),end='')\n",
    "        print(verticalWithInfo(3, gridState[row*3:row*3+3]), end='')\n",
    "    print(horizontal(3),end='')"
   ]
  },
  {
   "cell_type": "code",
   "execution_count": null,
   "metadata": {},
   "outputs": [],
   "source": [
    "drawBoard(gridState)\n",
    "drawBoard1D(gridState1D)"
   ]
  },
  {
   "cell_type": "markdown",
   "metadata": {},
   "source": [
    "Let's get the user input now. How do you want to tackle this? There are multiple options. Do not forget to do the checks!"
   ]
  },
  {
   "cell_type": "code",
   "execution_count": 43,
   "metadata": {},
   "outputs": [
    {
     "name": "stdout",
     "output_type": "stream",
     "text": [
      " --- --- ---\n",
      "| . | . | O |\n",
      " --- --- ---\n",
      "| . | . | . |\n",
      " --- --- ---\n",
      "| . | X | . |\n",
      " --- --- ---\n",
      "Enter your desired coordinates (row,column) with a comma in between (E.g.: 1,2): 1,1\n",
      " --- --- ---\n",
      "| . | . | O |\n",
      " --- --- ---\n",
      "| . | X | . |\n",
      " --- --- ---\n",
      "| . | X | . |\n",
      " --- --- ---\n"
     ]
    }
   ],
   "source": [
    "def userInputCoordinates(gridState, user):\n",
    "    # user: whether X or O\n",
    "    while True:\n",
    "        inp = input('Enter your desired coordinates (row,column) with a comma in between (E.g.: 1,2): ')\n",
    "        coordinates = inp.replace('(','').replace(')','').split(',') #in case user puts parenthesis as well\n",
    "        try:\n",
    "            row = int(coordinates[0])\n",
    "            col = int(coordinates[1])\n",
    "        except ValueError:\n",
    "            print('Please enter coordinates')\n",
    "            continue\n",
    "        if(row < 0 or row >= 3):\n",
    "            print('Please enter a valid row (0, 1 or 2)')\n",
    "            continue\n",
    "        if(col < 0 or col >= 3):\n",
    "            print('Please enter a valid column (0, 1 or 2)')\n",
    "            continue  \n",
    "        if gridState[row][col] != '.':\n",
    "            print('Please pick an empty cell')\n",
    "            continue\n",
    "        \n",
    "        gridState[row][col] = user\n",
    "        return gridState\n",
    "            \n",
    "drawBoard(gridState)\n",
    "drawBoard(userInputCoordinates(gridState, 'X'))"
   ]
  },
  {
   "cell_type": "code",
   "execution_count": 45,
   "metadata": {},
   "outputs": [
    {
     "name": "stdout",
     "output_type": "stream",
     "text": [
      " --- --- ---\n",
      "| . | . | O |\n",
      " --- --- ---\n",
      "| . | X | . |\n",
      " --- --- ---\n",
      "| . | X | . |\n",
      " --- --- ---\n",
      "Empty coordinates:\n",
      "0: (0, 0)\n",
      "1: (0, 1)\n",
      "2: (1, 0)\n",
      "3: (1, 2)\n",
      "4: (2, 0)\n",
      "5: (2, 2)\n",
      "\n",
      "Enter the index of the coordinate you want to place O:1\n",
      " --- --- ---\n",
      "| . | O | O |\n",
      " --- --- ---\n",
      "| . | X | . |\n",
      " --- --- ---\n",
      "| . | X | . |\n",
      " --- --- ---\n"
     ]
    }
   ],
   "source": [
    "#Alternative more elaborate version\n",
    "\n",
    "def printAndGetEmptyCoordinates(gridState):\n",
    "    #list of lists\n",
    "    empty_coordinates = []\n",
    "    for i in range(len(gridState)):\n",
    "        for j in range(len(gridState[i])):\n",
    "            if gridState[i][j] == '.':\n",
    "                empty_coordinates.append((i,j))\n",
    "    print('Empty coordinates:')\n",
    "    for ind,item in enumerate(empty_coordinates):\n",
    "        print(f'{ind}: {item}')\n",
    "    print()\n",
    "    return empty_coordinates\n",
    "\n",
    "def userInputWithSelection(gridState, user):\n",
    "    empty_coordinates=printAndGetEmptyCoordinates(gridState)\n",
    "    numEmpty = len(empty_coordinates)\n",
    "    while True:\n",
    "        inp = input(f'Enter the index of the coordinate you want to place {user}:')\n",
    "        try:\n",
    "            ind = int(inp) \n",
    "        except ValueError:\n",
    "            print(f'Enter an integer between 0 and {numEmpty-1}')\n",
    "            continue\n",
    "        if ind < 0 or ind > numEmpty-1:\n",
    "            print(f'Enter an integer between 0 and {numEmpty-1}')\n",
    "            continue\n",
    "        break\n",
    "    \n",
    "    row, col = empty_coordinates[ind]\n",
    "    gridState[row][col] = user\n",
    "    return gridState\n",
    "\n",
    "drawBoard(gridState)\n",
    "drawBoard(userInputWithSelection(gridState, 'O'))"
   ]
  },
  {
   "cell_type": "markdown",
   "metadata": {},
   "source": [
    "**Home Exercise:** Draw the empty cell indices inside board and show them to the user before selection. E.g.:"
   ]
  },
  {
   "cell_type": "code",
   "execution_count": 48,
   "metadata": {},
   "outputs": [
    {
     "name": "stdout",
     "output_type": "stream",
     "text": [
      "\n",
      " --- --- ---\n",
      "| 0 | 1 | O |\n",
      " --- --- ---\n",
      "| 2 | X | 3 |\n",
      " --- --- ---\n",
      "| 4 | X | 5 |\n",
      " --- --- ---\n",
      " \n"
     ]
    }
   ],
   "source": [
    "tmp = \"\"\"\n",
    " --- --- ---\n",
    "| 0 | 1 | O |\n",
    " --- --- ---\n",
    "| 2 | X | 3 |\n",
    " --- --- ---\n",
    "| 4 | X | 5 |\n",
    " --- --- ---\n",
    " \"\"\"\n",
    "print(tmp)"
   ]
  },
  {
   "cell_type": "markdown",
   "metadata": {},
   "source": [
    "As the last part, we need to check whether there is a winner after each move. The game is won if all the characters of a row, column or diagonal are the same. The game ends in a draw if all the cells are occupied but the aforementioned condition is not satisfied. \n",
    "\n",
    "Write the function `checkForWinner`which returns 'X' if X has won, 'O' if O has won, '!' if it is a draw and '.' if the game is still going on."
   ]
  },
  {
   "cell_type": "code",
   "execution_count": 49,
   "metadata": {},
   "outputs": [],
   "source": [
    "def checkForWinner(gridState):\n",
    "    gameState = '!'\n",
    "    \n",
    "    for row in range(len(gridState)):\n",
    "        win = True\n",
    "        first_col = gridState[row][0]\n",
    "        if first_col == '.':\n",
    "            gameState = '.'\n",
    "            win = False\n",
    "            continue\n",
    "        for col in range(1,len(gridState[row])):\n",
    "            if first_col != gridState[row][col]:\n",
    "                win = False\n",
    "                if gridState[row][col] == '.':\n",
    "                    gameState = '.'\n",
    "                break\n",
    "        if win:\n",
    "            gameState = first_col\n",
    "            return gameState\n",
    "        \n",
    "    for col in range(len(gridState[0])): #len(gridState[0] colun sayisi\n",
    "        win = True\n",
    "        first_row = gridState[0][col]\n",
    "        if first_row == '.':\n",
    "            gameState = '.'\n",
    "            win = False\n",
    "            continue\n",
    "        for row in range(1,len(gridState)):\n",
    "            if first_row != gridState[row][col]:\n",
    "                win = False\n",
    "                if gridState[row][col] == '.':\n",
    "                    gameState = '.'\n",
    "                break\n",
    "        if win:\n",
    "            gameState = first_row\n",
    "            return gameState\n",
    "    \n",
    "    win = True\n",
    "    first_diag = gridState[0][0]   \n",
    "    if first_diag == '.':\n",
    "        gameState = '.'\n",
    "        win = False\n",
    "    for diag in range(1,len(gridState)): \n",
    "        if first_diag != gridState[diag][diag]:\n",
    "            win = False\n",
    "            if gridState[row][col] == '.':\n",
    "                gameState = '.'\n",
    "            break\n",
    "    if win:\n",
    "        gameState = first_diag\n",
    "        return gameState\n",
    "    \n",
    "    win = True\n",
    "    first_diag = gridState[0][len(gridState)-1]   \n",
    "    if first_diag == '.':\n",
    "        gameState = '.'\n",
    "        win = False\n",
    "    for diag in range(1,len(gridState)): \n",
    "        if first_diag != gridState[diag][len(gridState)-1-diag]:\n",
    "            win = False \n",
    "            if gridState[row][col] == '.':\n",
    "                gameState = '.'\n",
    "            break\n",
    "    if win:\n",
    "        gameState = first_diag\n",
    "        return gameState\n",
    "    \n",
    "    return gameState"
   ]
  },
  {
   "cell_type": "code",
   "execution_count": 51,
   "metadata": {},
   "outputs": [
    {
     "name": "stdout",
     "output_type": "stream",
     "text": [
      " --- --- ---\n",
      "| O | X | O |\n",
      " --- --- ---\n",
      "| X | X | . |\n",
      " --- --- ---\n",
      "| O | O | . |\n",
      " --- --- ---\n",
      "Game State: .\n",
      "\n",
      " --- --- ---\n",
      "| O | X | O |\n",
      " --- --- ---\n",
      "| O | X | X |\n",
      " --- --- ---\n",
      "| X | O | X |\n",
      " --- --- ---\n",
      "Game State: !\n",
      "\n",
      " --- --- ---\n",
      "| O | X | O |\n",
      " --- --- ---\n",
      "| X | X | X |\n",
      " --- --- ---\n",
      "| O | O | X |\n",
      " --- --- ---\n",
      "Game State: X\n",
      "\n",
      " --- --- ---\n",
      "| O | X | O |\n",
      " --- --- ---\n",
      "| X | X | X |\n",
      " --- --- ---\n",
      "| O | O | . |\n",
      " --- --- ---\n",
      "Game State: X\n",
      "\n",
      " --- --- ---\n",
      "| O | X | O |\n",
      " --- --- ---\n",
      "| O | X | X |\n",
      " --- --- ---\n",
      "| O | O | X |\n",
      " --- --- ---\n",
      "Game State: O\n",
      "\n",
      " --- --- ---\n",
      "| O | X | . |\n",
      " --- --- ---\n",
      "| O | X | X |\n",
      " --- --- ---\n",
      "| O | O | X |\n",
      " --- --- ---\n",
      "Game State: O\n",
      "\n",
      " --- --- ---\n",
      "| O | X | X |\n",
      " --- --- ---\n",
      "| O | O | X |\n",
      " --- --- ---\n",
      "| X | O | O |\n",
      " --- --- ---\n",
      "Game State: O\n",
      "\n",
      " --- --- ---\n",
      "| X | O | X |\n",
      " --- --- ---\n",
      "| O | X | X |\n",
      " --- --- ---\n",
      "| X | O | O |\n",
      " --- --- ---\n",
      "Game State: X\n",
      "\n",
      " --- --- ---\n",
      "| O | X | X |\n",
      " --- --- ---\n",
      "| O | O | X |\n",
      " --- --- ---\n",
      "| X | . | O |\n",
      " --- --- ---\n",
      "Game State: O\n",
      "\n",
      " --- --- ---\n",
      "| O | . | X |\n",
      " --- --- ---\n",
      "| O | X | X |\n",
      " --- --- ---\n",
      "| X | O | O |\n",
      " --- --- ---\n",
      "Game State: X\n",
      "\n",
      " --- --- ---\n",
      "| . | . | . |\n",
      " --- --- ---\n",
      "| . | . | . |\n",
      " --- --- ---\n",
      "| . | . | . |\n",
      " --- --- ---\n",
      "Game State: .\n",
      "\n",
      " --- --- ---\n",
      "| . | . | . |\n",
      " --- --- ---\n",
      "| . | X | . |\n",
      " --- --- ---\n",
      "| . | . | . |\n",
      " --- --- ---\n",
      "Game State: .\n",
      "\n"
     ]
    }
   ],
   "source": [
    "cont               = [['O', 'X', 'O'], \n",
    "                      ['X', 'X', '.'], \n",
    "                      ['O', 'O', '.']]\n",
    "\n",
    "draw               = [['O', 'X', 'O'], \n",
    "                      ['O', 'X', 'X'], \n",
    "                      ['X', 'O', 'X']]\n",
    "\n",
    "row_full           = [['O', 'X', 'O'], \n",
    "                      ['X', 'X', 'X'], \n",
    "                      ['O', 'O', 'X']]\n",
    "\n",
    "row_missing        = [['O', 'X', 'O'], \n",
    "                      ['X', 'X', 'X'], \n",
    "                      ['O', 'O', '.']]\n",
    "\n",
    "col_full           = [['O', 'X', 'O'], \n",
    "                      ['O', 'X', 'X'], \n",
    "                      ['O', 'O', 'X']]\n",
    "\n",
    "col_missing        = [['O', 'X', '.'], \n",
    "                      ['O', 'X', 'X'], \n",
    "                      ['O', 'O', 'X']]\n",
    "\n",
    "diag               = [['O', 'X', 'X'], \n",
    "                      ['O', 'O', 'X'], \n",
    "                      ['X', 'O', 'O']]\n",
    "\n",
    "diag_rev           = [['X', 'O', 'X'], \n",
    "                      ['O', 'X', 'X'], \n",
    "                      ['X', 'O', 'O']]\n",
    "\n",
    "diag_missing       = [['O', 'X', 'X'], \n",
    "                      ['O', 'O', 'X'], \n",
    "                      ['X', '.', 'O']]\n",
    "\n",
    "diag_rev_missing   = [['O', '.', 'X'], \n",
    "                      ['O', 'X', 'X'], \n",
    "                      ['X', 'O', 'O']]\n",
    "\n",
    "empty              = [['.', '.', '.'], \n",
    "                      ['.', '.', '.'], \n",
    "                      ['.', '.', '.']]\n",
    "\n",
    "single             = [['.', '.', '.'], \n",
    "                      ['.', 'X', '.'], \n",
    "                      ['.', '.', '.']]\n",
    "\n",
    "test = [cont, draw, row_full, row_missing, col_full, col_missing, \n",
    "        diag, diag_rev, diag_missing, diag_rev_missing, \n",
    "        empty, single]\n",
    "for testCase in test:\n",
    "    drawBoard(testCase)\n",
    "    print('Game State:',checkForWinner(testCase))\n",
    "    print()"
   ]
  },
  {
   "cell_type": "markdown",
   "metadata": {},
   "source": [
    "We have all the pieces, let's put them together for a complete game!"
   ]
  },
  {
   "cell_type": "code",
   "execution_count": 53,
   "metadata": {},
   "outputs": [
    {
     "name": "stdout",
     "output_type": "stream",
     "text": [
      " --- --- ---\n",
      "| . | . | . |\n",
      " --- --- ---\n",
      "| . | . | . |\n",
      " --- --- ---\n",
      "| . | . | . |\n",
      " --- --- ---\n",
      "User turn: O\n",
      "Empty coordinates:\n",
      "0: (0, 0)\n",
      "1: (0, 1)\n",
      "2: (0, 2)\n",
      "3: (1, 0)\n",
      "4: (1, 1)\n",
      "5: (1, 2)\n",
      "6: (2, 0)\n",
      "7: (2, 1)\n",
      "8: (2, 2)\n",
      "\n",
      "Enter the index of the coordinate you want to place O:0\n",
      " --- --- ---\n",
      "| O | . | . |\n",
      " --- --- ---\n",
      "| . | . | . |\n",
      " --- --- ---\n",
      "| . | . | . |\n",
      " --- --- ---\n",
      "User turn: X\n",
      "Empty coordinates:\n",
      "0: (0, 1)\n",
      "1: (0, 2)\n",
      "2: (1, 0)\n",
      "3: (1, 1)\n",
      "4: (1, 2)\n",
      "5: (2, 0)\n",
      "6: (2, 1)\n",
      "7: (2, 2)\n",
      "\n",
      "Enter the index of the coordinate you want to place X:3\n",
      " --- --- ---\n",
      "| O | . | . |\n",
      " --- --- ---\n",
      "| . | X | . |\n",
      " --- --- ---\n",
      "| . | . | . |\n",
      " --- --- ---\n",
      "User turn: O\n",
      "Empty coordinates:\n",
      "0: (0, 1)\n",
      "1: (0, 2)\n",
      "2: (1, 0)\n",
      "3: (1, 2)\n",
      "4: (2, 0)\n",
      "5: (2, 1)\n",
      "6: (2, 2)\n",
      "\n",
      "Enter the index of the coordinate you want to place O:4\n",
      " --- --- ---\n",
      "| O | . | . |\n",
      " --- --- ---\n",
      "| . | X | . |\n",
      " --- --- ---\n",
      "| O | . | . |\n",
      " --- --- ---\n",
      "User turn: X\n",
      "Empty coordinates:\n",
      "0: (0, 1)\n",
      "1: (0, 2)\n",
      "2: (1, 0)\n",
      "3: (1, 2)\n",
      "4: (2, 1)\n",
      "5: (2, 2)\n",
      "\n",
      "Enter the index of the coordinate you want to place X:2\n",
      " --- --- ---\n",
      "| O | . | . |\n",
      " --- --- ---\n",
      "| X | X | . |\n",
      " --- --- ---\n",
      "| O | . | . |\n",
      " --- --- ---\n",
      "User turn: O\n",
      "Empty coordinates:\n",
      "0: (0, 1)\n",
      "1: (0, 2)\n",
      "2: (1, 2)\n",
      "3: (2, 1)\n",
      "4: (2, 2)\n",
      "\n",
      "Enter the index of the coordinate you want to place O:2\n",
      " --- --- ---\n",
      "| O | . | . |\n",
      " --- --- ---\n",
      "| X | X | O |\n",
      " --- --- ---\n",
      "| O | . | . |\n",
      " --- --- ---\n",
      "User turn: X\n",
      "Empty coordinates:\n",
      "0: (0, 1)\n",
      "1: (0, 2)\n",
      "2: (2, 1)\n",
      "3: (2, 2)\n",
      "\n",
      "Enter the index of the coordinate you want to place X:2\n",
      " --- --- ---\n",
      "| O | . | . |\n",
      " --- --- ---\n",
      "| X | X | O |\n",
      " --- --- ---\n",
      "| O | X | . |\n",
      " --- --- ---\n",
      "User turn: O\n",
      "Empty coordinates:\n",
      "0: (0, 1)\n",
      "1: (0, 2)\n",
      "2: (2, 2)\n",
      "\n",
      "Enter the index of the coordinate you want to place O:0\n",
      " --- --- ---\n",
      "| O | O | . |\n",
      " --- --- ---\n",
      "| X | X | O |\n",
      " --- --- ---\n",
      "| O | X | . |\n",
      " --- --- ---\n",
      "User turn: X\n",
      "Empty coordinates:\n",
      "0: (0, 2)\n",
      "1: (2, 2)\n",
      "\n",
      "Enter the index of the coordinate you want to place X:0\n",
      "It is a draw!\n",
      "Press e to continue, any other key to quite\n",
      " --- --- ---\n",
      "| . | . | . |\n",
      " --- --- ---\n",
      "| . | . | . |\n",
      " --- --- ---\n",
      "| . | . | . |\n",
      " --- --- ---\n",
      "User turn: O\n",
      "Empty coordinates:\n",
      "0: (0, 0)\n",
      "1: (0, 1)\n",
      "2: (0, 2)\n",
      "3: (1, 0)\n",
      "4: (1, 1)\n",
      "5: (1, 2)\n",
      "6: (2, 0)\n",
      "7: (2, 1)\n",
      "8: (2, 2)\n",
      "\n",
      "Enter the index of the coordinate you want to place O:10\n",
      "Enter an integer between 0 and 8\n",
      "Enter the index of the coordinate you want to place O:9\n",
      "Enter an integer between 0 and 8\n",
      "Enter the index of the coordinate you want to place O:asd\n",
      "Enter an integer between 0 and 8\n",
      "Enter the index of the coordinate you want to place O:2\n",
      " --- --- ---\n",
      "| . | . | O |\n",
      " --- --- ---\n",
      "| . | . | . |\n",
      " --- --- ---\n",
      "| . | . | . |\n",
      " --- --- ---\n",
      "User turn: X\n",
      "Empty coordinates:\n",
      "0: (0, 0)\n",
      "1: (0, 1)\n",
      "2: (1, 0)\n",
      "3: (1, 1)\n",
      "4: (1, 2)\n",
      "5: (2, 0)\n",
      "6: (2, 1)\n",
      "7: (2, 2)\n",
      "\n",
      "Enter the index of the coordinate you want to place X:3\n",
      " --- --- ---\n",
      "| . | . | O |\n",
      " --- --- ---\n",
      "| . | X | . |\n",
      " --- --- ---\n",
      "| . | . | . |\n",
      " --- --- ---\n",
      "User turn: O\n",
      "Empty coordinates:\n",
      "0: (0, 0)\n",
      "1: (0, 1)\n",
      "2: (1, 0)\n",
      "3: (1, 2)\n",
      "4: (2, 0)\n",
      "5: (2, 1)\n",
      "6: (2, 2)\n",
      "\n",
      "Enter the index of the coordinate you want to place O:0\n",
      " --- --- ---\n",
      "| O | . | O |\n",
      " --- --- ---\n",
      "| . | X | . |\n",
      " --- --- ---\n",
      "| . | . | . |\n",
      " --- --- ---\n",
      "User turn: X\n",
      "Empty coordinates:\n",
      "0: (0, 1)\n",
      "1: (1, 0)\n",
      "2: (1, 2)\n",
      "3: (2, 0)\n",
      "4: (2, 1)\n",
      "5: (2, 2)\n",
      "\n",
      "Enter the index of the coordinate you want to place X:0\n",
      " --- --- ---\n",
      "| O | X | O |\n",
      " --- --- ---\n",
      "| . | X | . |\n",
      " --- --- ---\n",
      "| . | . | . |\n",
      " --- --- ---\n",
      "User turn: O\n",
      "Empty coordinates:\n",
      "0: (1, 0)\n",
      "1: (1, 2)\n",
      "2: (2, 0)\n",
      "3: (2, 1)\n",
      "4: (2, 2)\n",
      "\n",
      "Enter the index of the coordinate you want to place O:0\n",
      " --- --- ---\n",
      "| O | X | O |\n",
      " --- --- ---\n",
      "| O | X | . |\n",
      " --- --- ---\n",
      "| . | . | . |\n",
      " --- --- ---\n",
      "User turn: X\n",
      "Empty coordinates:\n",
      "0: (1, 2)\n",
      "1: (2, 0)\n",
      "2: (2, 1)\n",
      "3: (2, 2)\n",
      "\n",
      "Enter the index of the coordinate you want to place X:0\n",
      " --- --- ---\n",
      "| O | X | O |\n",
      " --- --- ---\n",
      "| O | X | X |\n",
      " --- --- ---\n",
      "| . | . | . |\n",
      " --- --- ---\n",
      "User turn: O\n",
      "Empty coordinates:\n",
      "0: (2, 0)\n",
      "1: (2, 1)\n",
      "2: (2, 2)\n",
      "\n",
      "Enter the index of the coordinate you want to place O:0\n",
      "User O has won!\n",
      "Press e to continue, any other key to quit0\n",
      "Have a nice day\n"
     ]
    }
   ],
   "source": [
    "# Your solution\n",
    "\n",
    "gameContinues = False\n",
    "\n",
    "while True:\n",
    "    if not gameContinues:\n",
    "        \n",
    "        #1. Initialize grid\n",
    "        gridState = emptyGrid()\n",
    "\n",
    "        # 2. Who starts first? Flipping a coin\n",
    "        user = random.choice(['X','O'])\n",
    "        \n",
    "        gameContinues = True\n",
    "        \n",
    "    # 3. Grid State\n",
    "    drawBoard(gridState)\n",
    "\n",
    "    # 4. User input\n",
    "    print('User turn:', user)\n",
    "    gridState=userInputWithSelection(gridState, user)\n",
    "    \n",
    "    # 5.Check for winner\n",
    "    gameState = checkForWinner(gridState)\n",
    "\n",
    "    # 6. If there is a winner or it is a draw, go to step 7, else go to step 8\n",
    "    if gameState != '.': \n",
    "    # 7. Ask if the user wants to continue and if so go to step 1, else quit\n",
    "        drawBoard(gridState)\n",
    "        if gameState == '!':\n",
    "            print('It is a draw!')\n",
    "        else:\n",
    "            print(f'User {gameState} has won!')\n",
    "        inp = input('Press e to continue, any other key to quit')\n",
    "        if inp == 'e':\n",
    "            gameContinues = False\n",
    "            continue\n",
    "        else:\n",
    "            break\n",
    "    else:\n",
    "    # 8. Change the user and go to step 3\n",
    "        if user == 'X':\n",
    "            user = 'O'\n",
    "        else:\n",
    "            user = 'X'\n",
    "            \n",
    "print('Have a nice day')\n"
   ]
  }
 ],
 "metadata": {
  "kernelspec": {
   "display_name": "Python 3",
   "language": "python",
   "name": "python3"
  },
  "language_info": {
   "codemirror_mode": {
    "name": "ipython",
    "version": 3
   },
   "file_extension": ".py",
   "mimetype": "text/x-python",
   "name": "python",
   "nbconvert_exporter": "python",
   "pygments_lexer": "ipython3",
   "version": "3.7.7"
  }
 },
 "nbformat": 4,
 "nbformat_minor": 4
}
