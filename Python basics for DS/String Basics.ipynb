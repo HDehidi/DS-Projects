{
 "cells": [
  {
   "cell_type": "markdown",
   "metadata": {},
   "source": [
    "## Strings"
   ]
  },
  {
   "cell_type": "markdown",
   "metadata": {},
   "source": [
    "See the accompanying slides for an introduction to what strings are.\n",
    "\n",
    "We use single quotation marks or double quotation marks to define strings in Python:"
   ]
  },
  {
   "cell_type": "code",
   "execution_count": 59,
   "metadata": {
    "scrolled": false
   },
   "outputs": [
    {
     "name": "stdout",
     "output_type": "stream",
     "text": [
      "Koc University\n",
      "Graduate Program\n"
     ]
    }
   ],
   "source": [
    "print('Koc University')\n",
    "print(\"Graduate Program\")"
   ]
  },
  {
   "cell_type": "markdown",
   "metadata": {},
   "source": [
    "Several String Examples:"
   ]
  },
  {
   "cell_type": "code",
   "execution_count": 60,
   "metadata": {},
   "outputs": [
    {
     "name": "stdout",
     "output_type": "stream",
     "text": [
      "word\n",
      "This is a sentence\n",
      "This is a paragraph. It is made of multiple sentence.\n",
      "It can be multiline.\n"
     ]
    }
   ],
   "source": [
    "word = 'word'\n",
    "sentence = \"This is a sentence\"\n",
    "paragraph = \"\"\"This is a paragraph. It is made of multiple sentence.\n",
    "It can be multiline.\"\"\" #''' ... ''' was also fine\n",
    "\n",
    "\"\"\" Remember the\n",
    "multiline comments.\"\"\"\n",
    "\n",
    "print(word)\n",
    "print(sentence)\n",
    "print(paragraph)"
   ]
  },
  {
   "cell_type": "markdown",
   "metadata": {},
   "source": [
    "What if we want to have the quotation marks in the string? Just use the *escape character*, \"\\\\\"\n",
    "\n",
    "Also note that ' and ’ are difference characters"
   ]
  },
  {
   "cell_type": "code",
   "execution_count": 63,
   "metadata": {},
   "outputs": [
    {
     "name": "stdout",
     "output_type": "stream",
     "text": [
      "China’s Evergrande is about to 'implode'.\n",
      "Is Evergrande really \"too big to fail\"?\n"
     ]
    }
   ],
   "source": [
    "news1 = 'China’s Evergrande is about to \\'implode\\'.'\n",
    "news2 = \"Is Evergrande really \\\"too big to fail\\\"?\"\n",
    "print(news1)\n",
    "print(news2)"
   ]
  },
  {
   "cell_type": "markdown",
   "metadata": {},
   "source": [
    "You can use single quotations within double and vice versa"
   ]
  },
  {
   "cell_type": "code",
   "execution_count": 61,
   "metadata": {},
   "outputs": [
    {
     "name": "stdout",
     "output_type": "stream",
     "text": [
      "Hello 'World'\n"
     ]
    }
   ],
   "source": [
    "print(\"Hello 'World'\")"
   ]
  },
  {
   "cell_type": "code",
   "execution_count": 62,
   "metadata": {},
   "outputs": [
    {
     "name": "stdout",
     "output_type": "stream",
     "text": [
      "Hello \"World\"\n"
     ]
    }
   ],
   "source": [
    "print('Hello \"World\"')"
   ]
  },
  {
   "cell_type": "markdown",
   "metadata": {},
   "source": [
    "The plus operator, `+`, is overloaded for strings and is used for string concetaneation."
   ]
  },
  {
   "cell_type": "code",
   "execution_count": 64,
   "metadata": {
    "scrolled": false
   },
   "outputs": [
    {
     "name": "stdout",
     "output_type": "stream",
     "text": [
      "Hello World\n"
     ]
    }
   ],
   "source": [
    "print(\"Hello\" + \" \" + \"World\")"
   ]
  },
  {
   "cell_type": "markdown",
   "metadata": {},
   "source": [
    "This is relatively easy to read and intuitive. However, it is cumbersome and slow, especially if you want to put a string in between. There are other ways to create strings.\n",
    "\n",
    "C-style formatting"
   ]
  },
  {
   "cell_type": "code",
   "execution_count": 65,
   "metadata": {},
   "outputs": [
    {
     "name": "stdout",
     "output_type": "stream",
     "text": [
      "Good Morning, today is a beautiful day\n",
      "Good Morning, today is a sunny day with a temperature of 21.65 degrees\n"
     ]
    }
   ],
   "source": [
    "weather = 'sunny'\n",
    "temperature = 21.653\n",
    "print(\"Good Morning, today is a %s day\" % 'beautiful')\n",
    "print(\"Good Morning, today is a %s day with a temperature of %.2f degrees\" % (weather, temperature))"
   ]
  },
  {
   "cell_type": "markdown",
   "metadata": {},
   "source": [
    "There are other ways, we will get back to their details later but some examples:"
   ]
  },
  {
   "cell_type": "code",
   "execution_count": 66,
   "metadata": {},
   "outputs": [
    {
     "name": "stdout",
     "output_type": "stream",
     "text": [
      "Good Morning, today is a sunny day with a temperature of 21.65 degrees\n"
     ]
    }
   ],
   "source": [
    "#.format\n",
    "print(\"Good Morning, today is a {:} day with a temperature of {:.2f} degrees\".format(weather, temperature))"
   ]
  },
  {
   "cell_type": "code",
   "execution_count": 75,
   "metadata": {},
   "outputs": [
    {
     "name": "stdout",
     "output_type": "stream",
     "text": [
      "Good Morning, today is a sunny day with a temperature of 21.65 degrees\n"
     ]
    }
   ],
   "source": [
    "# Most recent and actually preferred, f-strings:\n",
    "print(f\"Good Morning, today is a {weather} day with a temperature of {temperature:.2f} degrees\")"
   ]
  },
  {
   "cell_type": "markdown",
   "metadata": {},
   "source": [
    "All Python objects can be converted to a string using the  `str` command (not always in a meaningful way)."
   ]
  },
  {
   "cell_type": "code",
   "execution_count": null,
   "metadata": {},
   "outputs": [],
   "source": [
    "print(\"Today is October \" + str(12))\n",
    "\n",
    "#print function, automatically calls str if the input is not a string:\n",
    "print(20)"
   ]
  },
  {
   "cell_type": "code",
   "execution_count": null,
   "metadata": {},
   "outputs": [],
   "source": [
    "# But + operators checks the type first, so the below will throw an error\n",
    "print(\"Today is October \" + 12)"
   ]
  },
  {
   "cell_type": "code",
   "execution_count": null,
   "metadata": {},
   "outputs": [],
   "source": [
    "# We can use commas to give variables with different types. A space is put between when printin\n",
    "print(\"Today is\",\"October\",12,2021)"
   ]
  },
  {
   "cell_type": "markdown",
   "metadata": {},
   "source": [
    "We can use the \"\\\\n\" character to add newlines to a string. However, some legacy operating systems use different characters so the safer way it to use `os.linesep`, especially if the code is intended to be run on multiple operating systems."
   ]
  },
  {
   "cell_type": "code",
   "execution_count": null,
   "metadata": {},
   "outputs": [],
   "source": [
    "print(\"Hello\\nWorld\\n\")\n",
    "import os\n",
    "print(\"Hello\" + os.linesep + \"World\")"
   ]
  },
  {
   "cell_type": "markdown",
   "metadata": {},
   "source": [
    "`print` command automatically add the newwline character at the end. We can change this with the `end`parameter."
   ]
  },
  {
   "cell_type": "code",
   "execution_count": null,
   "metadata": {},
   "outputs": [],
   "source": [
    "print(\"Hello\")\n",
    "print(\"World\")\n",
    "print(\"Hello\", end=' ')\n",
    "print(\"World\")"
   ]
  },
  {
   "cell_type": "markdown",
   "metadata": {},
   "source": [
    "Some common string functions (with Turkish exceptions)"
   ]
  },
  {
   "cell_type": "code",
   "execution_count": null,
   "metadata": {},
   "outputs": [],
   "source": [
    "a = \"Hello,World\"\n",
    "print(len(a))\n",
    "print(a.upper()) #i -> I, i -> İ, ı -> I\n",
    "print(a.lower()) #I -> i, I->ı, İ->i"
   ]
  },
  {
   "cell_type": "code",
   "execution_count": null,
   "metadata": {},
   "outputs": [],
   "source": [
    "# Türkçe I ve İ'ye dikkat\n",
    "tmp = \"ingilizce\"\n",
    "print(tmp.upper())\n",
    "print(tmp.replace(\"i\",\"İ\").upper())\n",
    "\n",
    "tmp2 = \"ILGAZ\"\n",
    "print(tmp2.lower())\n",
    "print(tmp2.replace(\"I\",\"ı\").lower())"
   ]
  },
  {
   "cell_type": "code",
   "execution_count": null,
   "metadata": {},
   "outputs": [],
   "source": [
    "print(a.split(\",\"))"
   ]
  },
  {
   "cell_type": "code",
   "execution_count": null,
   "metadata": {
    "scrolled": true
   },
   "outputs": [],
   "source": [
    "import string\n",
    "a = \"Is this , an \\' example . for !, removing \\\" punctuation ?? yes it :; is, such an example \\\\  \"\n",
    "print(a)\n",
    "print(a.translate(str.maketrans('', '', string.punctuation)))"
   ]
  },
  {
   "cell_type": "markdown",
   "metadata": {},
   "source": [
    "How does it work? (You can skip this part)\n",
    "\n",
    "* `string.punctuation`: Punctuation "
   ]
  },
  {
   "cell_type": "code",
   "execution_count": null,
   "metadata": {},
   "outputs": [],
   "source": [
    "print(type(string.punctuation))\n",
    "print(string.punctuation)"
   ]
  },
  {
   "cell_type": "markdown",
   "metadata": {},
   "source": [
    "* `str.maketrans(x,y,z)`: Create a dictionary so that the characters in `z` will be mapped to `None` (do not worry about dictionaries for now). The characters are actually converted to Unicode ordinals"
   ]
  },
  {
   "cell_type": "code",
   "execution_count": null,
   "metadata": {},
   "outputs": [],
   "source": [
    "print(str.maketrans('', '', string.punctuation))"
   ]
  },
  {
   "cell_type": "markdown",
   "metadata": {},
   "source": [
    "* `a.translate(d)`: Replace the keys of the dictionary `d` with corresponding values in the string `a`.\n",
    "\n",
    "When we merge all of the above together,  we replace the punctuation in `a` with `None`, effectively deleting them."
   ]
  },
  {
   "cell_type": "markdown",
   "metadata": {},
   "source": [
    "Strings can be  **sliced** (slicing)\n",
    "\n",
    "Slicing types (i,j >=0): \n",
    "* string[i]: i'th character\n",
    "* string[-i]: i'th character from the end\n",
    "* string[i:j]: substring between i'th and j'th characters, excluding j\n",
    "* string[i:]: from i'th character to the last character (included)\n",
    "* string[:i]: from the starting character to the i'th character (excluded)\n",
    "* string[i:j:k]: every k'th character, starting from the first, in the substring between i'th and j'th characters, excluding j\n",
    "\n",
    "**Important Note**: Python indices start from 0!"
   ]
  },
  {
   "cell_type": "code",
   "execution_count": null,
   "metadata": {},
   "outputs": [],
   "source": [
    "word = 'Python'"
   ]
  },
  {
   "cell_type": "code",
   "execution_count": null,
   "metadata": {},
   "outputs": [],
   "source": [
    "print(word[0])\n",
    "print(word[3])\n",
    "print(word[-2])"
   ]
  },
  {
   "cell_type": "code",
   "execution_count": null,
   "metadata": {},
   "outputs": [],
   "source": [
    "print(word[0:2])\n",
    "print(word[:2] + word[3:])\n",
    "print(word[3:5])"
   ]
  },
  {
   "cell_type": "code",
   "execution_count": null,
   "metadata": {},
   "outputs": [],
   "source": [
    "print(word[:-1])\n",
    "print(word[1:5:3])\n",
    "print(word[::-1])"
   ]
  },
  {
   "cell_type": "markdown",
   "metadata": {},
   "source": [
    "We will see more string formatting and parsing examples later on in the class"
   ]
  }
 ],
 "metadata": {
  "kernelspec": {
   "display_name": "Python 3",
   "language": "python",
   "name": "python3"
  },
  "language_info": {
   "codemirror_mode": {
    "name": "ipython",
    "version": 3
   },
   "file_extension": ".py",
   "mimetype": "text/x-python",
   "name": "python",
   "nbconvert_exporter": "python",
   "pygments_lexer": "ipython3",
   "version": "3.7.7"
  }
 },
 "nbformat": 4,
 "nbformat_minor": 1
}
