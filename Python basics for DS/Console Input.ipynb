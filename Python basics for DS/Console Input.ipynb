{
 "cells": [
  {
   "cell_type": "markdown",
   "metadata": {},
   "source": [
    "## Console Input"
   ]
  },
  {
   "cell_type": "markdown",
   "metadata": {},
   "source": [
    "Programs often need to interact with users. Most modern programs use a graphical user interface (GUI) for this. However, you can also get keyboard input directly from the \"command line\" aka the console.\n",
    "\n",
    "The `input` command is used towards this end. It always returns a string of what the user has input. Since we may require something else than a string, we need to convert this (or use the `eval` command to let Python guess the type, however, this command is not safe since it can be used to execute arbitrary code)"
   ]
  },
  {
   "cell_type": "code",
   "execution_count": null,
   "metadata": {},
   "outputs": [],
   "source": [
    "inp=input('Type Something: ')\n",
    "print(inp)\n",
    "print(type(inp))\n",
    "try:\n",
    "    x = int(inp)\n",
    "except ValueError:\n",
    "    print('I could not convert this to an integer')"
   ]
  },
  {
   "cell_type": "code",
   "execution_count": null,
   "metadata": {},
   "outputs": [],
   "source": [
    "# How to ask until the user gets this right?\n",
    "\n",
    "flag = True\n",
    "while flag:\n",
    "    inp=input('Type Something: ')\n",
    "    try:\n",
    "        x = int(inp)\n",
    "        flag = False\n",
    "    except ValueError:\n",
    "        print('I could not convert this to an integer')"
   ]
  },
  {
   "cell_type": "code",
   "execution_count": null,
   "metadata": {},
   "outputs": [],
   "source": [
    "x = 1\n",
    "eval('print(x)')"
   ]
  },
  {
   "cell_type": "code",
   "execution_count": null,
   "metadata": {},
   "outputs": [],
   "source": [
    "inp=input('Type Something: ')\n",
    "x = eval(inp)\n",
    "print(type(x))"
   ]
  },
  {
   "cell_type": "code",
   "execution_count": null,
   "metadata": {},
   "outputs": [],
   "source": [
    "inp=input('Type Something: ')\n",
    "eval(inp)"
   ]
  },
  {
   "cell_type": "markdown",
   "metadata": {},
   "source": [
    "**Exercise: Guess The Number**\n",
    "1. Your program will pick a random number between 1 and 100 (both inclusive)\n",
    "2. The user will try to guess this number via console input. If the user inputs 0, the game should quit.\n",
    "3. Your program will say lower or higher and will warn the user if an unexpected input is given.\n",
    "4. Your program will run until the user guesses correctly or enters the quit input.\n",
    "5. If the user guesses correctly, your program will ask the user whether they want to play another round."
   ]
  },
  {
   "cell_type": "code",
   "execution_count": null,
   "metadata": {},
   "outputs": [],
   "source": [
    "# Your Solution\n",
    "import random\n",
    "\n",
    "number = random.randint(1,100)\n",
    "\n",
    "while True:\n",
    "    inp=input('Please enter your guess:')\n",
    "    try:\n",
    "        inp = int(inp)\n",
    "    except ValueError:\n",
    "        print('Please enter an integer')\n",
    "        continue\n",
    "    if inp == 0:\n",
    "        print('Have a nice day')\n",
    "        break\n",
    "    elif inp < 1 or inp > 100:\n",
    "        print('Please enter an integer between 1 and 100')\n",
    "        continue\n",
    "        \n",
    "    if number > inp:\n",
    "        print('My number is higher')\n",
    "    elif number < inp:\n",
    "        print('My number is lower')\n",
    "    elif number == inp:\n",
    "        print('You guessed correctly')\n",
    "        break"
   ]
  },
  {
   "cell_type": "markdown",
   "metadata": {},
   "source": [
    "**Exercise: Guess The Number 2**\n",
    "1. The user will pick a random number between 1 and 100 (both inclusive)\n",
    "2. Your program will try to guess this. I recommend you use \"binary search\".\n",
    "3. The user will input correct (c), higher (h), lower (l) or exit (e) commands through the console\n",
    "4. If the program guesses correctly, your program will ask the user whether they want to play another round.\n",
    "5. Additionally, your program should detect if the user is cheatin\n"
   ]
  },
  {
   "cell_type": "code",
   "execution_count": null,
   "metadata": {},
   "outputs": [],
   "source": [
    "# Your Solution\n",
    "\n",
    "# Left empty for you to solve at home!"
   ]
  }
 ],
 "metadata": {
  "kernelspec": {
   "display_name": "Python 3",
   "language": "python",
   "name": "python3"
  },
  "language_info": {
   "codemirror_mode": {
    "name": "ipython",
    "version": 3
   },
   "file_extension": ".py",
   "mimetype": "text/x-python",
   "name": "python",
   "nbconvert_exporter": "python",
   "pygments_lexer": "ipython3",
   "version": "3.7.7"
  }
 },
 "nbformat": 4,
 "nbformat_minor": 4
}
