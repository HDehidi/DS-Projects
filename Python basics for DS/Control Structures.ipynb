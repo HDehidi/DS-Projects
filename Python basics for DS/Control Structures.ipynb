{
 "cells": [
  {
   "cell_type": "markdown",
   "metadata": {},
   "source": [
    "### Control Structures\n",
    "\n",
    "So far, the code we have written has been executed *sequentially*. However, this is very limiting. Most of the time, we will be required to chose from multiple options and/or repeat certain statements repeatedly. This is where control structures come in. A control structure directs the program's *flow* (the order of statement execution - control flow). **Control flow structures** are code features that affect the order, or flow, in which the lines of code in a program happen. There are three types of control structures:\n",
    "* Sequential: Set of statements that execute in the order they appear (line-by-line execution, including function jumps)\n",
    "* Selection: Chosing which code block to execute based on Boolean conditions. Examples include *if - else if - else*, *switch* and *case when* statements in some common languages\n",
    "* Repetition: Repeating code blocks until some condition is satisfied (including iterating over items in iterable data structures). Examples include *for*, *while*, *do - while* and *foreach* loops.\n",
    "\n",
    "Note that typical programs include all types of these structures."
   ]
  },
  {
   "cell_type": "markdown",
   "metadata": {},
   "source": [
    "**Selection Structures** or more commonly **Conditionals**\n",
    "\n",
    "* `if`: Conditionally executes a code block\n",
    "* `elif`: When there are multiple conditions to decide on what to execute\n",
    "* `else`: Specifies the executed block if all the preceeding conditions in the current if statement is false\n"
   ]
  },
  {
   "cell_type": "code",
   "execution_count": null,
   "metadata": {},
   "outputs": [],
   "source": [
    "light_state = None\n",
    "\n",
    "if light_state == 'red':\n",
    "    print('stop')\n",
    "elif light_state == 'yellow':\n",
    "    print('slow down')\n",
    "elif light_state == 'green':\n",
    "    print('go')\n",
    "else: \n",
    "    print('be careful')"
   ]
  },
  {
   "cell_type": "code",
   "execution_count": null,
   "metadata": {},
   "outputs": [],
   "source": [
    "# 0-1: print red, 1-2: print yellow, 2-3: print green\n",
    "\n",
    "#Be careful while ordering of elif statements \n",
    "\n",
    "x = 3\n",
    "\n",
    "if x > 0 and x < 1:\n",
    "    print('red')\n",
    "elif x > 1: # and x < 2:\n",
    "    print('yellow')\n",
    "elif x > 2:\n",
    "    print('green')"
   ]
  },
  {
   "cell_type": "code",
   "execution_count": null,
   "metadata": {},
   "outputs": [],
   "source": [
    "# Print digit odd if a number is smaller than 10 and odd, and digit even if it is smaller than 10 and even, \n",
    "# else just write number\n",
    "\n",
    "x = 11\n",
    "\n",
    "if x < 10:\n",
    "    if x%2 == 0:\n",
    "        print('digit even')\n",
    "    else:\n",
    "        print('digit odd')\n",
    "else:\n",
    "    print('number')"
   ]
  },
  {
   "cell_type": "markdown",
   "metadata": {},
   "source": [
    "**Repetition** or **Loops**"
   ]
  },
  {
   "cell_type": "code",
   "execution_count": null,
   "metadata": {},
   "outputs": [],
   "source": [
    "i = 1\n",
    "while i<10:\n",
    "    print(i, end=', ')\n",
    "    i+=1\n",
    "print()"
   ]
  },
  {
   "cell_type": "code",
   "execution_count": null,
   "metadata": {},
   "outputs": [],
   "source": [
    "for i in range(1,10): #for(i=0;i<n;i++) - > does not exist\n",
    "    print(i, end=', ')\n",
    "print()\n",
    "for i in range(9,0,-1): #for(i=0;i<n;i++) - > does not exist\n",
    "    print(i, end=', ')"
   ]
  },
  {
   "cell_type": "code",
   "execution_count": null,
   "metadata": {},
   "outputs": [],
   "source": [
    "a = ['apple', 10, -1.2, True]\n",
    "for item in a:\n",
    "    print(item)"
   ]
  },
  {
   "cell_type": "code",
   "execution_count": null,
   "metadata": {},
   "outputs": [],
   "source": [
    "b = [-1,'banana',False,4.2]\n",
    "\n",
    "for i in range(len(a)):\n",
    "    print(a[i],b[i],end=', ')\n",
    "print()    \n",
    "i = 0\n",
    "for item in a:\n",
    "    print(item,b[i],end=', ')\n",
    "    i += 1\n",
    "print()  \n",
    "i=0\n",
    "while i<len(a):\n",
    "    print(a[i],b[i],end=', ')\n",
    "    i+=1\n",
    "print()\n",
    "for i,item in enumerate(a):\n",
    "    print(item,b[i],end=', ')"
   ]
  },
  {
   "cell_type": "code",
   "execution_count": null,
   "metadata": {},
   "outputs": [],
   "source": [
    "# Create a list of squared integers that can be divided by 3 between 2 and 17\n",
    "\n",
    "l = []\n",
    "for i in range(2,18):\n",
    "    if i%3 == 0:\n",
    "        l.append(i**2)\n",
    "print(l)"
   ]
  },
  {
   "cell_type": "code",
   "execution_count": null,
   "metadata": {},
   "outputs": [],
   "source": [
    "l2 = [i**2 for i in range(2,18) if i%3 == 0]\n",
    "print(l2)"
   ]
  },
  {
   "cell_type": "code",
   "execution_count": null,
   "metadata": {},
   "outputs": [],
   "source": [
    "i = 0\n",
    "a = 0\n",
    "while i < 1000:\n",
    "    if i % 2 == 0:\n",
    "        a += 1\n",
    "    elif i%3 == 0:\n",
    "        a *= 2\n",
    "    else:\n",
    "        a -= 2\n",
    "    if a < 0:\n",
    "        print('before break')\n",
    "        break\n",
    "        print('after break')\n",
    "    b = a/2\n",
    "    if i%100 == 0:\n",
    "        print(i,a,b)\n",
    "    i += 1"
   ]
  },
  {
   "cell_type": "code",
   "execution_count": null,
   "metadata": {},
   "outputs": [],
   "source": [
    "while i < 1000:\n",
    "    if i % 2 == 0:\n",
    "        a += 1\n",
    "    elif i%3 == 0:\n",
    "        a *= 2\n",
    "    else:\n",
    "        a -= 2\n",
    "    if a < 0:\n",
    "        print('before continue')\n",
    "        a = 1\n",
    "        i+=1\n",
    "        continue\n",
    "        print('after continue')\n",
    "    b = a/2\n",
    "    if i%100 == 0:\n",
    "        print(i,a,b)\n",
    "    i += 1"
   ]
  },
  {
   "cell_type": "code",
   "execution_count": null,
   "metadata": {},
   "outputs": [],
   "source": [
    "for i in range(5):\n",
    "    for j in range(i,5):\n",
    "        if j %2 == 0:\n",
    "            break\n",
    "        print(i,j)"
   ]
  },
  {
   "cell_type": "code",
   "execution_count": null,
   "metadata": {},
   "outputs": [],
   "source": [
    "for i in range(5):\n",
    "    for j in range(i,5):\n",
    "        if j %2 == 0:\n",
    "            continue\n",
    "        print(i,j)"
   ]
  },
  {
   "cell_type": "code",
   "execution_count": null,
   "metadata": {},
   "outputs": [],
   "source": [
    "import random\n",
    "\n",
    "a = [-1+2*random.random() for i in range(100)]"
   ]
  },
  {
   "cell_type": "code",
   "execution_count": null,
   "metadata": {},
   "outputs": [],
   "source": [
    "def ownMax(a):\n",
    "    temp = a[0]\n",
    "    for item in a:\n",
    "        if temp < item:\n",
    "            temp = item\n",
    "    return temp\n",
    "print(ownMax(a))"
   ]
  },
  {
   "cell_type": "code",
   "execution_count": null,
   "metadata": {},
   "outputs": [],
   "source": [
    "# Random 1D list\n",
    "\n",
    "import random\n",
    "\n",
    "def randomVector(numItems):\n",
    "    l = []\n",
    "    for i in range(numItems):\n",
    "        l.append(random.random())\n",
    "    return l\n",
    "\n",
    "print(randomVector(5))"
   ]
  },
  {
   "cell_type": "code",
   "execution_count": null,
   "metadata": {},
   "outputs": [],
   "source": [
    "# write a function that takes number of rows and number of columns as input and \n",
    "# returns a \"2D\" list filled with random numbers\n",
    "\n",
    "import random\n",
    "\n",
    "def random2dMatrix(nrows, ncols):\n",
    "    l = []\n",
    "    for i in range(nrows):\n",
    "        #l.append(randomVector(ncols))\n",
    "        l2 = []\n",
    "        for j in range(ncols):\n",
    "            l2.append(random.random())\n",
    "        l.append(l2)\n",
    "    return l\n",
    "\n",
    "print(random2dMatrix(2,4))"
   ]
  },
  {
   "cell_type": "code",
   "execution_count": null,
   "metadata": {},
   "outputs": [],
   "source": [
    "a=random2dMatrix(2,4)"
   ]
  },
  {
   "cell_type": "code",
   "execution_count": null,
   "metadata": {},
   "outputs": [],
   "source": [
    "def print2dMatrix(mat):\n",
    "    for row in mat:\n",
    "        for i in range(len(row)-1):\n",
    "            val = row[i]\n",
    "            print('{:.4}'.format(val),end=', ')\n",
    "        print('{:.4}'.format(row[-1]))\n",
    "print2dMatrix(a)"
   ]
  },
  {
   "cell_type": "code",
   "execution_count": null,
   "metadata": {},
   "outputs": [],
   "source": [
    "def print2dMatrixLC(mat):\n",
    "    print('\\n'.join([' '.join(['{:.4}'.format(item) for item in row]) for row in mat]))\n",
    "    \n",
    "print2dMatrixLC(a)"
   ]
  },
  {
   "cell_type": "code",
   "execution_count": null,
   "metadata": {},
   "outputs": [],
   "source": [
    "# Write a function that will take the \"dot product\" of two lists if they are of equal length\n",
    "def calcListDotProd(list1, list2):\n",
    "    s = 0\n",
    "    if(len(list1) != len(list2)):\n",
    "        raise Exception(\"Lists are not of the same size\")\n",
    "    else:\n",
    "        for i in range(len(list1)):\n",
    "            s += list1[i]*list2[i]\n",
    "            \n",
    "    return s\n",
    "\n",
    "calcListDotProd([1,2],[2,3])"
   ]
  },
  {
   "cell_type": "code",
   "execution_count": null,
   "metadata": {},
   "outputs": [],
   "source": [
    "# Estimate pi by:\n",
    "## Generating given number of points with random coordinates within a unit square. \n",
    "## Counting the number of points inside a quarter arc (norm less than 1)\n",
    "## Divide this number with the total number of points\n",
    "## Multiplying this by four to estimate pi \n",
    "\n",
    "def estimatePi(num_points):\n",
    "    def genRandomPoint():\n",
    "        return [random.random(), random.random()]\n",
    "    \n",
    "    def norm(point):\n",
    "        return (point[0]**2+point[1]**2)**0.5\n",
    "    \n",
    "    c = 0\n",
    "    \n",
    "    for i in range(num_points):\n",
    "        rp = genRandomPoint()\n",
    "        if norm(rp) < 1:\n",
    "            c += 1\n",
    "    \n",
    "    return c/num_points*4\n",
    "\n",
    "estimatePi(1000000)\n",
    "        "
   ]
  },
  {
   "cell_type": "code",
   "execution_count": null,
   "metadata": {},
   "outputs": [],
   "source": [
    "# Write a function that takes a mathematical function, a range and stepsize as input and prints out the \n",
    "# zero-crossing (return a list of two-tuples where the zero lies in between) of the input function\n",
    "def calcZeroCrossings(func, start, end, step):\n",
    "    lst = []\n",
    "    \n",
    "    xLst = []\n",
    "    cur = start\n",
    "    while cur <= end:\n",
    "        xLst.append(cur)\n",
    "        cur += step\n",
    "    \n",
    "    for i in range(len(xLst)-1):\n",
    "        x=xLst[i]\n",
    "        xnext=xLst[i+1]\n",
    "        fx = func(x)\n",
    "        fxnext = func(xnext)\n",
    "        \n",
    "        if fx == 0:\n",
    "            lst.append((x,))\n",
    "        elif fxnext == 0 and i == len(xLst)-2:\n",
    "            lst.append((xnext,))\n",
    "        elif fx*fxnext < 0:\n",
    "            lst.append((x,xnext))\n",
    "    \n",
    "    return lst\n",
    "\n",
    "start = -2.\n",
    "end = 2.\n",
    "step = 0.01\n",
    "\n",
    "def func(x):\n",
    "    return x**2 - 2*x + 0.53\n",
    "\n",
    "calcZeroCrossings(func,start,end,step)\n"
   ]
  },
  {
   "cell_type": "markdown",
   "metadata": {},
   "source": [
    "**Recursion**\n",
    "\n",
    "*To understand recursion, you must first understand recursion.*\n",
    "\n",
    "A method of defining a function in terms of its own definition, i.e., when a function calls itself. Applied when the solution of a problem depends on solutions to the smaller instances of the same problem. One of the central ideas in CS! Let’s us implement “a lot of computation” with very few lines of code! Of course it comes with its own caveats.\n",
    "\n",
    "**Base case(s)**: Values of the input variables for which we perform no recursive calls are called base cases (there should be at least one base case). Every possible chain of recursive calls must eventually reach a base case or we would have infinite recursion\n",
    "\n",
    "**Recursive calls**: Calls to the current method. Each recursive call should be defined so that it makes progress towards a base case.\n"
   ]
  },
  {
   "cell_type": "code",
   "execution_count": null,
   "metadata": {},
   "outputs": [],
   "source": [
    "def factorial(n):\n",
    "    \n",
    "    # Input checking, should also check whether n is an integer or not\n",
    "    if n < 0:\n",
    "        raise ValueError(\"Negative values not allowed in factorial\")\n",
    "    \n",
    "    # Base Case\n",
    "    elif n == 0:\n",
    "        return 1\n",
    "    \n",
    "    # Recursive case\n",
    "    else:\n",
    "        return n*factorial(n-1)\n"
   ]
  },
  {
   "cell_type": "code",
   "execution_count": null,
   "metadata": {},
   "outputs": [],
   "source": [
    "# Write a function to calculate the kth Fibonacci Number\n",
    "# fib(k) = fib(k-1) + fib(k-2) for k >2\n",
    "# fib(1) = 1, fib(2) = 2\n",
    "def fibonacciNumberBad(k):\n",
    "    if k < 1:\n",
    "        raise ValueError(\"Only positive integers are allowed in the Fibonacci sequence\")\n",
    "    elif k == 1 or k == 2:\n",
    "        return k\n",
    "    else:\n",
    "        return fibonacciNumberBad(k-1)+fibonacciNumberBad(k-2)"
   ]
  },
  {
   "cell_type": "code",
   "execution_count": null,
   "metadata": {},
   "outputs": [],
   "source": [
    "fibonacciNumberBad(35)"
   ]
  },
  {
   "cell_type": "code",
   "execution_count": null,
   "metadata": {},
   "outputs": [],
   "source": [
    "def fibonacciNumber(k):\n",
    "    if k < 1:\n",
    "        raise ValueError(\"Only positive integers are allowed in the Fibonacci sequence\")\n",
    "    elif k == 1 or k == 2:\n",
    "        return k\n",
    "    \n",
    "    def fibonacciHelper(k):\n",
    "        #returns fib(k-2) and fib(k-1)\n",
    "        if k < 3:\n",
    "            raise ValueError(\"Only positive integers larger than 3 are allowed in the Fibonacci sequence\")\n",
    "        elif k == 3:\n",
    "            return 1,2\n",
    "        else:\n",
    "            #what should I write here?\n",
    "            tmp = fibonacciHelper(k-1)\n",
    "            a = tmp[1]\n",
    "            b = tmp[0] + tmp[1]\n",
    "            return a, b\n",
    "    \n",
    "    return sum(fibonacciHelper(k))\n",
    "    \n"
   ]
  },
  {
   "cell_type": "code",
   "execution_count": null,
   "metadata": {},
   "outputs": [],
   "source": [
    "fibonacciNumber(35)"
   ]
  },
  {
   "cell_type": "code",
   "execution_count": null,
   "metadata": {},
   "outputs": [],
   "source": [
    "def linearSearch(unoredered_lst, target):\n",
    "    for elem in unoredered_lst:\n",
    "        if elem == target:\n",
    "            return True\n",
    "    return False"
   ]
  },
  {
   "cell_type": "code",
   "execution_count": null,
   "metadata": {},
   "outputs": [],
   "source": [
    "# Write binary search in an ordered list\n",
    "def binarySearch(ordered_lst, target):\n",
    "    mid = len(ordered_lst)//2\n",
    "    if len(ordered_lst) == 0:\n",
    "        return False\n",
    "    if(ordered_lst[mid] == target):\n",
    "        return True\n",
    "    elif ordered_lst[mid] < target:\n",
    "        return binarySearch(ordered_lst[mid+1:],target)\n",
    "    else:\n",
    "        return binarySearch(ordered_lst[:mid],target)"
   ]
  },
  {
   "cell_type": "code",
   "execution_count": null,
   "metadata": {},
   "outputs": [],
   "source": [
    "import random\n",
    "\n",
    "unoredered_lst = [random.randint(-1000,1000) for i in range(100)]\n",
    "\n",
    "print(linearSearch(unoredered_lst, 1200))\n",
    "print(linearSearch(unoredered_lst, unoredered_lst[18]))"
   ]
  },
  {
   "cell_type": "code",
   "execution_count": null,
   "metadata": {},
   "outputs": [],
   "source": [
    "ordered_lst = [random.randint(-1000,1000) for i in range(100)]\n",
    "ordered_lst.sort()\n",
    "\n",
    "print(binarySearch(ordered_lst, 1200))\n",
    "print(binarySearch(ordered_lst, ordered_lst[18]))"
   ]
  }
 ],
 "metadata": {
  "kernelspec": {
   "display_name": "Python 3",
   "language": "python",
   "name": "python3"
  },
  "language_info": {
   "codemirror_mode": {
    "name": "ipython",
    "version": 3
   },
   "file_extension": ".py",
   "mimetype": "text/x-python",
   "name": "python",
   "nbconvert_exporter": "python",
   "pygments_lexer": "ipython3",
   "version": "3.7.7"
  }
 },
 "nbformat": 4,
 "nbformat_minor": 4
}
