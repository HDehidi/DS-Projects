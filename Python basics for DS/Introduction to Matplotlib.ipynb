{
 "cells": [
  {
   "cell_type": "markdown",
   "metadata": {},
   "source": [
    "### Matplotlib\n",
    "\n",
    "[Matplotlib](https://matplotlib.org/) is a plotting/visualization library for Python which plays nicely with NumPy and other commonly used mathematics libraries. \n",
    "\n",
    "There are other visualization libraries for Python such as seaborn (built atop Matplotlib), plotly, bokeh and dash. All of these have their own strenghts. Users are encouraged to pick the best one for the task. We are going to concentrate on Matplotlib since is a great starting point."
   ]
  },
  {
   "cell_type": "code",
   "execution_count": null,
   "metadata": {},
   "outputs": [],
   "source": [
    "%matplotlib inline\n",
    "import matplotlib.pyplot as plt\n",
    "import numpy as np"
   ]
  },
  {
   "cell_type": "markdown",
   "metadata": {},
   "source": [
    "The most common plotting function is `plot`, which creates a line graph"
   ]
  },
  {
   "cell_type": "code",
   "execution_count": null,
   "metadata": {},
   "outputs": [],
   "source": [
    "# A single sequence is treated as the vertical-axis\n",
    "y_coords = [0, 3, 1, 5, 2]\n",
    "plt.plot(y_coords)\n",
    "plt.show() # not needed for notebooks but still good practise"
   ]
  },
  {
   "cell_type": "code",
   "execution_count": null,
   "metadata": {},
   "outputs": [],
   "source": [
    "# We can also add the horizontal axis by hand\n",
    "x_coords = [0, 1, 2, 3, 4]\n",
    "plt.plot(x_coords, y_coords)\n",
    "plt.show()"
   ]
  },
  {
   "cell_type": "code",
   "execution_count": null,
   "metadata": {},
   "outputs": [],
   "source": [
    "# Coordinates do not have to be integers\n",
    "x_coords2 = np.linspace(0,1,len(y_coords))\n",
    "plt.plot(x_coords2, y_coords)\n",
    "plt.show()"
   ]
  },
  {
   "cell_type": "markdown",
   "metadata": {},
   "source": [
    "A good figure should include axis labels and a title, especially when it is given without a caption"
   ]
  },
  {
   "cell_type": "code",
   "execution_count": null,
   "metadata": {},
   "outputs": [],
   "source": [
    "plt.plot(x_coords, y_coords)\n",
    "plt.xlabel('X-Axis')\n",
    "plt.ylabel('Y-Axis')\n",
    "plt.title('Plot Title')\n",
    "plt.show()"
   ]
  },
  {
   "cell_type": "markdown",
   "metadata": {},
   "source": [
    "We can set the \"ticks\" of both axis; we can set where to place them, what to call them and implicitly decide their number"
   ]
  },
  {
   "cell_type": "code",
   "execution_count": null,
   "metadata": {},
   "outputs": [],
   "source": [
    "#Sparser X, Arbitrary Y\n",
    "plt.plot(x_coords, y_coords)\n",
    "\n",
    "# Making X sparser\n",
    "plt.xticks(range(0,len(y_coords)), range(0,len(y_coords)))\n",
    "\n",
    "# Arbitrary Y values\n",
    "plt.yticks([-1,-0.5,0,1,3,3.5,4,4.7,5],[-1,-0.5,0,1,3,3.5,4,4.7,5])\n",
    "#plt.yticks([-1,-0.5,0,1,3,3.5,4,4.7,5],range(8,-1,-1))\n",
    "plt.show()"
   ]
  },
  {
   "cell_type": "code",
   "execution_count": null,
   "metadata": {},
   "outputs": [],
   "source": [
    "# Customizing the tick marks. Might as well put more meaningful labels\n",
    "\n",
    "# Build the line graph.\n",
    "plt.plot(x_coords, y_coords)\n",
    "\n",
    "# Add a title.\n",
    "plt.title('Sales by Year')\n",
    "\n",
    "# Add labels to the axes.\n",
    "plt.xlabel('Year')\n",
    "plt.ylabel('Sales')\n",
    "\n",
    "# Set the ticks\n",
    "plt.xticks([0, 1, 2, 3, 4],\n",
    "           ['2016', '2017', '2018', '2019', '2020'])\n",
    "plt.yticks([0, 1, 2, 3, 4, 5],\n",
    "           ['$0m', '$1m', '$2m', '$3m', '$4m', '$5m'])\n",
    "\n",
    "plt.show()"
   ]
  },
  {
   "cell_type": "markdown",
   "metadata": {},
   "source": [
    "We can play around with line and point (also called markers within matplotlib) properties:\n",
    "* Color\n",
    "* Line type (e.g. straight, dashed)\n",
    "* Marker type (e.g. None, point, triangle)\n",
    "* Line thickness\n",
    "* Markers size\n",
    "\n",
    "Note: There is a shortcut for marker and line, types and colors.\n",
    "\n",
    "We will not explain all the possible parameters. They will become apparent as we use them"
   ]
  },
  {
   "cell_type": "code",
   "execution_count": null,
   "metadata": {},
   "outputs": [],
   "source": [
    "# Shortcut\n",
    "plt.plot(x_coords, y_coords, 'ro--')\n",
    "plt.show()"
   ]
  },
  {
   "cell_type": "code",
   "execution_count": null,
   "metadata": {},
   "outputs": [],
   "source": [
    "#Equivalent to above\n",
    "plt.plot(x_coords, y_coords, color = 'r', marker='o', linestyle = '--')\n",
    "plt.show()"
   ]
  },
  {
   "cell_type": "code",
   "execution_count": null,
   "metadata": {},
   "outputs": [],
   "source": [
    "#Larger marker and thicker line (exaggerated, this will not look good :) \n",
    "plt.plot(x_coords, y_coords, 'ro--', markersize=12, linewidth = 4)\n",
    "plt.show()"
   ]
  },
  {
   "cell_type": "markdown",
   "metadata": {},
   "source": [
    "We can set the overall figure size, often a good idea for notebooks. Let's also add a grid."
   ]
  },
  {
   "cell_type": "code",
   "execution_count": null,
   "metadata": {},
   "outputs": [],
   "source": [
    "# Setting the size\n",
    "plt.figure(figsize=(12,8))\n",
    "\n",
    "# Build the line graph.\n",
    "plt.plot(x_coords, y_coords,'ro--', ms=12,linewidth = 3)\n",
    "\n",
    "# Add a title.\n",
    "plt.title('Sales by Year')\n",
    "\n",
    "# Add labels to the axes.\n",
    "plt.xlabel('Year')\n",
    "plt.ylabel('Sales')\n",
    "\n",
    "# Set the ticks\n",
    "plt.xticks([0, 1, 2, 3, 4],\n",
    "           ['2016', '2017', '2018', '2019', '2020'])\n",
    "plt.yticks([0, 1, 2, 3, 4, 5],\n",
    "           ['$0m', '$1m', '$2m', '$3m', '$4m', '$5m'])\n",
    "\n",
    "# Add a grid.\n",
    "plt.grid(True)\n",
    "\n",
    "plt.show()"
   ]
  },
  {
   "cell_type": "markdown",
   "metadata": {},
   "source": [
    "Now the fonts are small!"
   ]
  },
  {
   "cell_type": "code",
   "execution_count": null,
   "metadata": {},
   "outputs": [],
   "source": [
    "# Setting the size\n",
    "plt.figure(figsize=(12,8))\n",
    "\n",
    "# Build the line graph.\n",
    "plt.plot(x_coords, y_coords,'ro--', ms=12,linewidth = 3)\n",
    "\n",
    "# Add a title.\n",
    "plt.title('Sales by Year', fontsize=18)\n",
    "\n",
    "# Add labels to the axes.\n",
    "plt.xlabel('Year', fontsize=16)\n",
    "plt.ylabel('Sales', fontsize=16)\n",
    "\n",
    "# Set the ticks\n",
    "plt.xticks([0, 1, 2, 3, 4],\n",
    "           ['2016', '2017', '2018', '2019', '2020'],\n",
    "           fontsize=14)\n",
    "plt.yticks([0, 1, 2, 3, 4, 5],\n",
    "           ['$0m', '$1m', '$2m', '$3m', '$4m', '$5m'],\n",
    "           fontsize=14)\n",
    "\n",
    "# Add a grid.\n",
    "plt.grid(True)\n",
    "\n",
    "plt.show()"
   ]
  },
  {
   "cell_type": "markdown",
   "metadata": {},
   "source": [
    "This is the sales by year graph. Let's also see the costs graph."
   ]
  },
  {
   "cell_type": "code",
   "execution_count": null,
   "metadata": {},
   "outputs": [],
   "source": [
    "costs = [0.5, 0.8, 1.2, 0.7, 1.6]\n",
    "plt.plot(x_coords, costs)"
   ]
  },
  {
   "cell_type": "markdown",
   "metadata": {},
   "source": [
    "We can draw multiple lines on the same graph! We need to specify a legend in this case"
   ]
  },
  {
   "cell_type": "code",
   "execution_count": null,
   "metadata": {},
   "outputs": [],
   "source": [
    "# Add the legend\n",
    "plt.plot(x_coords, y_coords,'r')\n",
    "plt.plot(x_coords, costs,'b')\n",
    "\n",
    "# Specify them with the order they are added\n",
    "plt.legend(['Sales', 'Costs'])\n",
    "\n",
    "# Try the below ones\n",
    "# plt.legend(['Sales', 'Costs','Something Else'])\n",
    "\n",
    "# plt.legend(['Sales'])\n",
    "# plt.legend(['Costs'])\n",
    "\n",
    "\n",
    "plt.show()"
   ]
  },
  {
   "cell_type": "markdown",
   "metadata": {},
   "source": [
    "Let's put everything in one place"
   ]
  },
  {
   "cell_type": "code",
   "execution_count": null,
   "metadata": {},
   "outputs": [],
   "source": [
    "# Setting the size\n",
    "plt.figure(figsize=(10,7))\n",
    "\n",
    "# Build the line graph.\n",
    "plt.plot(x_coords, y_coords,'ro--', ms=12,linewidth = 3)\n",
    "plt.plot(x_coords, costs,'bd--', ms=12,linewidth = 3)\n",
    "\n",
    "# Add a title.\n",
    "plt.title('Yearly Amounts', fontsize=18)\n",
    "\n",
    "# Add labels to the axes.\n",
    "plt.xlabel('Year', fontsize=16)\n",
    "plt.ylabel('Amount', fontsize=16)\n",
    "\n",
    "# Set the ticks\n",
    "plt.xticks([0, 1, 2, 3, 4],\n",
    "           ['2016', '2017', '2018', '2019', '2020'],\n",
    "           fontsize=14)\n",
    "plt.yticks([0, 1, 2, 3, 4, 5],\n",
    "           ['$0m', '$1m', '$2m', '$3m', '$4m', '$5m'],\n",
    "           fontsize=14)\n",
    "\n",
    "# Add a legend\n",
    "plt.legend(['Sales', 'Costs'], fontsize= 14)\n",
    "\n",
    "# Add a grid.\n",
    "plt.grid(True)\n",
    "\n",
    "plt.show()"
   ]
  },
  {
   "cell_type": "markdown",
   "metadata": {},
   "source": [
    "We can also plot just points/markers or have different marker and line colors"
   ]
  },
  {
   "cell_type": "code",
   "execution_count": null,
   "metadata": {},
   "outputs": [],
   "source": [
    "# No lines\n",
    "plt.plot(x_coords, y_coords,'ro', ms=12,linewidth = 3)\n",
    "#plt.scatter(x_coords,y_coords,marker='o',color='r')\n",
    "\n",
    "plt.show()"
   ]
  },
  {
   "cell_type": "code",
   "execution_count": null,
   "metadata": {},
   "outputs": [],
   "source": [
    "#Different color markers and lines for the same sequence\n",
    "plt.plot(x_coords, y_coords,'o', ms=12)\n",
    "plt.plot(x_coords, y_coords,'--', linewidth=3)"
   ]
  },
  {
   "cell_type": "markdown",
   "metadata": {},
   "source": [
    "We can set axis limits and make the axis scales be the same as well"
   ]
  },
  {
   "cell_type": "code",
   "execution_count": null,
   "metadata": {},
   "outputs": [],
   "source": [
    "#Default\n",
    "\n",
    "plt.figure(figsize=(8,6))\n",
    "x = np.linspace(0,10,10)\n",
    "y = 0.45*x**2-2*x+2\n",
    "z = 2*x \n",
    "plt.plot(x,y,'.--')\n",
    "plt.plot(x,z,'rx-')\n",
    "\n",
    "plt.xlabel('x')\n",
    "plt.ylabel('f(x)')\n",
    "plt.title('Polynomials')\n",
    "\n",
    "# Sprinkle in some Latex!\n",
    "plt.legend(('$2^{nd}$ Order','$1^{st}$ Order'))\n",
    "\n",
    "plt.show()"
   ]
  },
  {
   "cell_type": "code",
   "execution_count": null,
   "metadata": {},
   "outputs": [],
   "source": [
    "# Axis scales equal\n",
    "\n",
    "plt.figure(figsize=(8,6))\n",
    "x = np.linspace(0,10,10)\n",
    "y = 0.45*x**2-2*x+2\n",
    "z = 2*x \n",
    "plt.plot(x,y,'.--')\n",
    "plt.plot(x,z,'rx-')\n",
    "\n",
    "plt.xlabel('x')\n",
    "plt.ylabel('f(x)')\n",
    "plt.title('Polynomials')\n",
    "\n",
    "# Sprinkle in some Latex!\n",
    "plt.legend(('2^{nd} Order','1^{st} Order'))\n",
    "\n",
    "# Make them Equal!\n",
    "plt.axis('equal')\n",
    "\n",
    "plt.show()"
   ]
  },
  {
   "cell_type": "code",
   "execution_count": null,
   "metadata": {
    "scrolled": false
   },
   "outputs": [],
   "source": [
    "# Tighter by setting the limits\n",
    "\n",
    "plt.figure(figsize=(8,6))\n",
    "x = np.linspace(0,10,10)\n",
    "y = 0.45*x**2-2*x+2\n",
    "z = 2*x \n",
    "plt.plot(x,y,'.--')\n",
    "plt.plot(x,z,'rx-')\n",
    "\n",
    "plt.xlabel('x')\n",
    "plt.ylabel('f(x)')\n",
    "plt.title('Polynomials')\n",
    "\n",
    "# Sprinkle in some Latex!\n",
    "plt.legend(('2^{nd} Order','1^{st} Order'))\n",
    "\n",
    "plt.xlim((8,9))\n",
    "plt.ylim((14,20))\n",
    "\n",
    "plt.show()"
   ]
  },
  {
   "cell_type": "markdown",
   "metadata": {},
   "source": [
    "**Bar Charts**\n",
    "\n",
    "Bar charts are also commonly used in visualization, which can be plotted with the `bar` function. We need to specify the location and height of the bars."
   ]
  },
  {
   "cell_type": "code",
   "execution_count": null,
   "metadata": {},
   "outputs": [],
   "source": [
    "centers = [0, 10, 20, 30, 40]\n",
    "heights = [100, 200, 300, 400, 500]\n",
    "plt.bar(centers, heights)\n",
    "plt.show()"
   ]
  },
  {
   "cell_type": "code",
   "execution_count": null,
   "metadata": {},
   "outputs": [],
   "source": [
    "centers2 = range(len(heights))\n",
    "plt.bar(centers2, heights)\n",
    "plt.show()"
   ]
  },
  {
   "cell_type": "code",
   "execution_count": null,
   "metadata": {},
   "outputs": [],
   "source": [
    "centers3 = [0,1,3,6,10]\n",
    "plt.bar(centers3, heights)\n",
    "plt.show()"
   ]
  },
  {
   "cell_type": "markdown",
   "metadata": {},
   "source": [
    "We can additionally set the widths of the bars"
   ]
  },
  {
   "cell_type": "code",
   "execution_count": null,
   "metadata": {},
   "outputs": [],
   "source": [
    "bar_width = 5\n",
    "plt.bar(centers, heights, bar_width)\n",
    "plt.show()"
   ]
  },
  {
   "cell_type": "markdown",
   "metadata": {},
   "source": [
    "Let's display the counts of words!"
   ]
  },
  {
   "cell_type": "code",
   "execution_count": null,
   "metadata": {},
   "outputs": [],
   "source": [
    "text = \"\"\"Pfizer's COVID's vaccine over \"90% effective\"\n",
    "\n",
    "By: Michael Erman and Julie Steenhuysen | 9 November 2020\n",
    "\n",
    "Reuters – Pfizer Inc said on Monday its experimental COVID-19 vaccine was more than 90% effective, a major victory in the fight against a pandemic that has killed more than a million people, battered the world's economy and upended daily life.\n",
    "\n",
    "Pfizer and German partner BioNTech SE are the first drugmakers to release successful data from a large-scale clinical trial of a coronavirus vaccine. The companies said they have so far found no serious safety concerns and expect to seek U.S. authorization this month for emergency use of the vaccine.\n",
    "\n",
    "Health experts said Pfizer's results were positive for all COVID-19 vaccines currently in development since they show the shots are going after the right target and are a proof of concept that the disease can be halted with vaccination.\n",
    "\n",
    "\"Today is a great day for science and humanity,\" Albert Bourla, Pfizer's chairman and chief executive, said.\n",
    "\n",
    "\"We are reaching this critical milestone in our vaccine development program at a time when the world needs it most with infection rates setting new records, hospitals nearing over-capacity and economies struggling to reopen.\"\n",
    "\n",
    "If Pfizer's vaccine is authorized, the number of doses will initially be limited and many questions remain, including how long the vaccine will provide protection.\n",
    "\n",
    "BioNTech Chief Executive Ugur Sahin told Reuters he was optimistic the immunisation effect of the vaccine would last for a year although that was not certain yet.\n",
    "\n",
    "\"This news made me smile from ear to ear. It is a relief to see such positive results on this vaccine and bodes well for COVID-19 vaccines in general,\" said Peter Horby, professor of emerging infectious diseases at the University of Oxford.\n",
    "\n",
    " \n",
    "\n",
    "MARKETS SURGE\n",
    "\n",
    "The prospect of a vaccine electrified world markets with S&P 500 futures hitting a record high and tourism and travel shares surging. Pfizer shares were indicated 14.2% higher in pre-market trading in New York, while BioNTech's stock was up nearly 23% in Frankfurt.\n",
    "\n",
    "\"Light at the end of the tunnel. Let's just hope the vaccine deniers won't get in the way, but 2021 just got a lot brighter,\" said Neil Wilson, chief market analyst at Markets.com\n",
    "\n",
    "Shares of other vaccine developers in the final stage of testing also rose with Johnson & Johnson up 4% in pre-market trading and Moderna 7.4% stronger. Britain's AstraZeneca was down 0.5%.\n",
    "\n",
    "\"The efficacy data are really impressive. This is better than most of us anticipated,\" said William Schaffner, infectious diseases expert at Vanderbilt University School of Medicine, Nashville, Tennessee. \"The study isn't completed yet, but nonetheless the data look very solid.\"\n",
    "\n",
    "U.S. President Donald Trump welcomed the test results, and the market boost: \"STOCK MARKET UP BIG, VACCINE COMING SOON. REPORT 90% EFFECTIVE. SUCH GREAT NEWS!\" he said on Twitter.\n",
    "\n",
    "President-elect Joe Biden said the news was excellent but did not change the fact that face masks, social distancing and other health measures would be needed well into next year.\n",
    "\n",
    "1.3 BILLION DOSES\n",
    "\n",
    "Pfizer expects to seek broad U.S. authorization for emergency use of the vaccine for people aged 16 to 85. To do so, it will need two months of safety data from about half the study's 44,000 participants, which is expected late this month.\n",
    "\n",
    "\"I'm near ecstatic,\" Bill Gruber, one of Pfizer's top vaccine scientists, said in an interview. \"This is a great day for public health and for the potential to get us all out of the circumstances we're now in.\"\n",
    "\n",
    "Pfizer and BioNTech have a $1.95 billion contract with the U.S. government to deliver 100 million vaccine doses beginning this year. They have also reached supply agreements with the European Union, the United Kingdom, Canada and Japan.\n",
    "\n",
    "To save time, the companies began manufacturing the vaccine before they knew whether it would be effective. They now expect to produce up to 50 million doses, or enough to protect 25 million people this year.\n",
    "\n",
    "Pfizer said it expects to produce up to 1.3 billion doses of the vaccine in 2021.\n",
    "\n",
    "The U.S. pharmaceutical giant said the interim analysis was conducted after 94 participants in the trial developed COVID-19, examining how many of them had received the vaccine versus a placebo.\n",
    "\n",
    "The company did not break down exactly how many of those who fell ill received the vaccine. Still, over 90% effectiveness implies that no more than 8 of the 94 people who caught COVID-19 had been given the vaccine, which was administered in two shots about three weeks apart.\n",
    "\n",
    "The efficacy rate is well above the 50% effectiveness required by the U.S. Food and Drug Administration for a coronavirus vaccine.\n",
    "\n",
    "MORE DATA NEEDED\n",
    "\n",
    "To confirm the efficacy rate, Pfizer said it would continue the trial until there are 164 COVID-19 cases among participants. Bourla told CNBC on Monday that based on rising infection rates, the trial could be completed before the end of November.\n",
    "\n",
    "The data have yet to be peer-reviewed or published in a medical journal. Pfizer said it would do so once it has results from the entire trial.\n",
    "\n",
    "\"These are interesting first signals, but again they are only communicated in press releases,\" said Marylyn Addo, head of tropical medicine at the University Medical Center Hamburg-Eppendorf in Germany.\n",
    "\n",
    "\"Primary data are not yet available and a peer-reviewed publication is still pending. We still have to wait for the exact data before we can make a final assessment.\"\n",
    "\n",
    "The global race for a vaccine has seen wealthier countries forge multibillion-dollar supply deals with drugmakers like Pfizer, AstraZeneca Plc and Johnson & Johnson, raising questions over when middle income and poorer nations will get access to inoculations.\n",
    "\n",
    "The U.S. quest for a vaccine has been the Trump administration's central response to the pandemic. The United States has the world's highest known number of COVID-19 cases and deaths with more than 10 million infections and over 237,000 fatalities.\n",
    "\n",
    "Trump repeatedly assured the public that his administration would likely identify a successful vaccine in time for the presidential election, held last Tuesday. On Saturday, Democratic rival Biden was declared the winner.\n",
    "\n",
    "ESSENTIAL TOOLS\n",
    "\n",
    "Vaccines are seen as essential tools to help end the health crisis that has shuttered businesses and left millions out of work. Millions of children whose schools were closed in March remain in remote learning programs.\n",
    "\n",
    "Dozens of drugmakers and research groups around the globe have been racing to develop vaccines against COVID-19, which on Sunday exceeded 50 million infections since the new coronavirus first emerged late last year in China.\n",
    "\n",
    "The Pfizer and BioNTech vaccine uses messenger RNA (mRNA) technology, which relies on synthetic genes that can be generated and manufactured in weeks, and produced at scale more rapidly than conventional vaccines.\n",
    "\n",
    "Moderna Inc, whose vaccine candidate employs similar technology, is expected to report results from its large-scale trial later this month.\n",
    "\n",
    "The mRNA technology is designed to trigger an immune response without using pathogens, such as actual virus particles.\n",
    "\n",
    "Pfizer alone will not have the capacity to immediately provide enough vaccines for the United States. The Trump administration has said it will have enough supply for all of the 330 million U.S. residents who wish to be vaccinated by the middle of 2021.\n",
    "\n",
    "The U.S. government has said the vaccines will be provided free to Americans, including the insured, uninsured and those in government health programs such as Medicare.\"\"\"\n",
    "print(text)"
   ]
  },
  {
   "cell_type": "code",
   "execution_count": null,
   "metadata": {},
   "outputs": [],
   "source": [
    "import string\n",
    "preProcessed = text.translate(str.maketrans('','', string.punctuation + string.digits + '–')).lower()\n",
    "print(preProcessed)"
   ]
  },
  {
   "cell_type": "code",
   "execution_count": null,
   "metadata": {},
   "outputs": [],
   "source": [
    "words = preProcessed.split()\n",
    "print(len(words))"
   ]
  },
  {
   "cell_type": "code",
   "execution_count": null,
   "metadata": {},
   "outputs": [],
   "source": [
    "from collections import Counter\n",
    "\n",
    "wordCounts = Counter(words)\n",
    "print(wordCounts.most_common(10))"
   ]
  },
  {
   "cell_type": "code",
   "execution_count": null,
   "metadata": {},
   "outputs": [],
   "source": [
    "mc_words = []\n",
    "mc_counts = []\n",
    "n = 25\n",
    "for w, c in wordCounts.most_common(n):\n",
    "    mc_words.append(w)\n",
    "    mc_counts.append(c)\n",
    "    \n",
    "xlocations = range(len(mc_counts))\n",
    "plt.figure(figsize=(12,8))\n",
    "plt.bar(xlocations,mc_counts)\n",
    "plt.xticks(xlocations,mc_words,rotation=45)\n",
    "plt.show()"
   ]
  },
  {
   "cell_type": "code",
   "execution_count": null,
   "metadata": {},
   "outputs": [],
   "source": [
    "# Handle the MatplotlibDeprecationWarning\n",
    "figs = plt.subplot(2,2,1)\n",
    "figs.plot(range(4))\n",
    "figs = plt.subplot(2,2,2)\n",
    "figs.plot(range(10,-1,-1))\n",
    "figs = plt.subplot(2,2,3)\n",
    "figs.plot(np.random.random(5))\n",
    "figs.set_title('T')\n",
    "figs.get_xlim()\n",
    "figs = plt.subplot(2,2,1)\n",
    "figs.get_xlim()"
   ]
  },
  {
   "cell_type": "markdown",
   "metadata": {},
   "source": [
    "Misc. Bar Plot Stuff:"
   ]
  },
  {
   "cell_type": "code",
   "execution_count": null,
   "metadata": {},
   "outputs": [],
   "source": [
    "%matplotlib inline\n",
    "import matplotlib.pyplot as plt\n",
    "import numpy as np"
   ]
  },
  {
   "cell_type": "code",
   "execution_count": null,
   "metadata": {},
   "outputs": [],
   "source": [
    "bar_width = 5\n",
    "plt.figure(figsize = (12,8))\n",
    "plt.bar(centers, heights,bar_width, color=('r', 'g', 'b', 'c', 'k'))\n",
    "plt.show()"
   ]
  },
  {
   "cell_type": "code",
   "execution_count": null,
   "metadata": {},
   "outputs": [],
   "source": [
    "bar_width = 5\n",
    "plt.figure(figsize = (12,8))\n",
    "plt.bar(centers, heights,bar_width, color=('r', 'g', 'b', 'c', 'k'))\n",
    "plt.xticks(centers,['red','green','blue','cyan','black'], fontsize=14)\n",
    "plt.show()"
   ]
  },
  {
   "cell_type": "code",
   "execution_count": null,
   "metadata": {},
   "outputs": [],
   "source": [
    "bar_width = 5\n",
    "plt.figure(figsize = (12,8))\n",
    "plt.bar(centers, heights,bar_width, color=('r', 'g', 'b', 'c', 'k'))\n",
    "plt.xticks(centers,['red','green','blue','cyan','black'], fontsize=14)\n",
    "plt.yticks(plt.gca().get_yticks(),plt.gca().get_yticks(), fontsize=14)\n",
    "plt.show()"
   ]
  },
  {
   "cell_type": "markdown",
   "metadata": {},
   "source": [
    "Different bar plots side by side"
   ]
  },
  {
   "cell_type": "code",
   "execution_count": null,
   "metadata": {},
   "outputs": [],
   "source": [
    "heights2 = [150,50,400,70,600]\n",
    "plt.bar(centers, heights,bar_width)\n",
    "plt.bar(centers, heights2,bar_width)\n"
   ]
  },
  {
   "cell_type": "code",
   "execution_count": null,
   "metadata": {},
   "outputs": [],
   "source": [
    "#Change the widths\n",
    "width=2.5\n",
    "plt.bar(np.array(centers)-width/2, heights, width)\n",
    "plt.bar(np.array(centers)+width/2, heights2, width)"
   ]
  },
  {
   "cell_type": "code",
   "execution_count": null,
   "metadata": {},
   "outputs": [],
   "source": [
    "# Alternative, but you need to play around with the ticks\n",
    "width=2.5\n",
    "plt.bar(np.array(centers)+width*0, heights, width)\n",
    "plt.bar(np.array(centers)+width*1, heights2, width)"
   ]
  },
  {
   "cell_type": "markdown",
   "metadata": {},
   "source": [
    "**Pie Chart**"
   ]
  },
  {
   "cell_type": "code",
   "execution_count": null,
   "metadata": {},
   "outputs": [],
   "source": [
    "values = [20, 60, 80, 40]\n",
    "plt.pie(values)\n",
    "plt.show()"
   ]
  },
  {
   "cell_type": "code",
   "execution_count": null,
   "metadata": {},
   "outputs": [],
   "source": [
    "sales = [100, 400, 300, 600]\n",
    "slice_labels = ['1st Qtr', '2nd Qtr', '3rd Qtr', '4th Qtr']\n",
    "plt.pie(sales, labels=slice_labels)\n",
    "plt.title('Sales by Quarter')"
   ]
  },
  {
   "cell_type": "code",
   "execution_count": null,
   "metadata": {},
   "outputs": [],
   "source": [
    "values = [20, 60, 80, 40]\n",
    "plt.figure(figsize = (12,8))\n",
    "plt.pie(values, labels=['1st Qtr', '2nd Qtr', '3rd Qtr', '4th Qtr'], colors=('r', 'g', 'b', 'w', 'k'))\n",
    "plt.title('Sales')"
   ]
  },
  {
   "cell_type": "code",
   "execution_count": null,
   "metadata": {},
   "outputs": [],
   "source": [
    "def tmp(pct):\n",
    "    return f'{pct:.2f}%'"
   ]
  },
  {
   "cell_type": "code",
   "execution_count": null,
   "metadata": {},
   "outputs": [],
   "source": [
    "values = [20, 60, 80, 40]\n",
    "plt.figure(figsize = (12,8))\n",
    "plt.pie(values, labels=['1st Qtr', '2nd Qtr', '3rd Qtr', '4th Qtr'], autopct='%.1f%%')\n",
    "plt.title('Sales')"
   ]
  },
  {
   "cell_type": "code",
   "execution_count": null,
   "metadata": {},
   "outputs": [],
   "source": [
    "# Changing the fontsize\n",
    "\n",
    "values = [20, 60, 80, 40]\n",
    "plt.figure(figsize = (12,8))\n",
    "plt.pie(values, labels=['1st Qtr', '2nd Qtr', '3rd Qtr', '4th Qtr'], autopct='%.1f%%',textprops={'fontsize': 14})\n",
    "plt.title('Sales')"
   ]
  },
  {
   "cell_type": "markdown",
   "metadata": {},
   "source": [
    "**Histograms**\n",
    "\n",
    "Displaying counts within bins to visualize distributions"
   ]
  },
  {
   "cell_type": "code",
   "execution_count": null,
   "metadata": {},
   "outputs": [],
   "source": [
    "xn = np.random.normal(0,0.5,200)\n",
    "xu = np.random.uniform(-5,-2.,100)*0.1\n",
    "x = np.concatenate((xn,xu))"
   ]
  },
  {
   "cell_type": "code",
   "execution_count": null,
   "metadata": {},
   "outputs": [],
   "source": [
    "plt.figure(figsize=(12,8))\n",
    "h,bins,_=plt.hist(x)"
   ]
  },
  {
   "cell_type": "code",
   "execution_count": null,
   "metadata": {},
   "outputs": [],
   "source": [
    "len(x)"
   ]
  },
  {
   "cell_type": "code",
   "execution_count": null,
   "metadata": {},
   "outputs": [],
   "source": [
    "print(len(h),len(bins))"
   ]
  },
  {
   "cell_type": "code",
   "execution_count": null,
   "metadata": {},
   "outputs": [],
   "source": [
    "h"
   ]
  },
  {
   "cell_type": "code",
   "execution_count": null,
   "metadata": {},
   "outputs": [],
   "source": [
    "plt.bar(bins[1:],h,0.25)"
   ]
  },
  {
   "cell_type": "code",
   "execution_count": null,
   "metadata": {},
   "outputs": [],
   "source": [
    "h,bins,_=plt.hist(x,bins=5)"
   ]
  },
  {
   "cell_type": "code",
   "execution_count": null,
   "metadata": {},
   "outputs": [],
   "source": [
    "print(len(h),len(bins))"
   ]
  },
  {
   "cell_type": "code",
   "execution_count": null,
   "metadata": {},
   "outputs": [],
   "source": [
    "h,bins,_=plt.hist(x,bins=20)"
   ]
  },
  {
   "cell_type": "code",
   "execution_count": null,
   "metadata": {},
   "outputs": [],
   "source": [
    "# How to set the bin widths?\n",
    "\n",
    "# First Try\n",
    "bw=0.2\n",
    "rng = x.max()-x.min()\n",
    "num_bins = int(np.ceil(rng/0.2))\n",
    "h,bins,_=plt.hist(x,bins=num_bins)"
   ]
  },
  {
   "cell_type": "code",
   "execution_count": null,
   "metadata": {},
   "outputs": [],
   "source": [
    "bins[1]-bins[0] # not exactly 0.2, but close"
   ]
  },
  {
   "cell_type": "code",
   "execution_count": null,
   "metadata": {},
   "outputs": [],
   "source": [
    "# Second try\n",
    "given_bins = x.min()+np.arange(num_bins+1)*bw\n",
    "h,bins,_=plt.hist(x,bins=given_bins)"
   ]
  },
  {
   "cell_type": "code",
   "execution_count": null,
   "metadata": {},
   "outputs": [],
   "source": [
    "given_bins"
   ]
  },
  {
   "cell_type": "code",
   "execution_count": null,
   "metadata": {},
   "outputs": [],
   "source": [
    "given_bins[1]-given_bins[0]"
   ]
  },
  {
   "cell_type": "markdown",
   "metadata": {},
   "source": [
    "We can plot a parametric distribution on top of the histogram using its probability density function."
   ]
  },
  {
   "cell_type": "code",
   "execution_count": null,
   "metadata": {},
   "outputs": [],
   "source": [
    "from scipy import stats\n",
    "\n",
    "mu = x.mean()\n",
    "std = x.std()\n",
    "\n",
    "t = np.linspace(min(mu-3*std,x.min()),max(mu+3*std,x.max()),100)\n",
    "y = stats.norm(mu,std).pdf(t)"
   ]
  },
  {
   "cell_type": "code",
   "execution_count": null,
   "metadata": {},
   "outputs": [],
   "source": [
    "# IMPORTANT: \n",
    "# Need to set density = True so that histogram does not show counts,\n",
    "# but instead show bin_count/(total_count*bin_width)\n",
    "plt.hist(x, density=True) \n",
    "plt.plot(t,y,'r')"
   ]
  },
  {
   "cell_type": "markdown",
   "metadata": {},
   "source": [
    "Not exactly Gaussian so does not fit but see below"
   ]
  },
  {
   "cell_type": "code",
   "execution_count": null,
   "metadata": {
    "scrolled": true
   },
   "outputs": [],
   "source": [
    "xn = np.random.normal(0,0.5,500)\n",
    "tn = np.linspace(-1.5,1.5,100)\n",
    "yn = stats.norm(xn.mean(),xn.std()).pdf(tn)\n",
    "plt.hist(xn, density=True) \n",
    "plt.plot(tn,yn,'r')"
   ]
  },
  {
   "cell_type": "markdown",
   "metadata": {},
   "source": [
    "**Box Plots**\n",
    "\n",
    "Box plots are also used to display distributions"
   ]
  },
  {
   "cell_type": "code",
   "execution_count": null,
   "metadata": {},
   "outputs": [],
   "source": [
    "plt.boxplot(x)\n",
    "plt.show()"
   ]
  },
  {
   "cell_type": "code",
   "execution_count": null,
   "metadata": {},
   "outputs": [],
   "source": [
    "y = np.random.normal(-0.2,0.2,100)\n",
    "plt.boxplot([x,y])\n",
    "plt.show()"
   ]
  },
  {
   "cell_type": "markdown",
   "metadata": {},
   "source": [
    "**Small Example:** Throwing Multiple Dice"
   ]
  },
  {
   "cell_type": "code",
   "execution_count": null,
   "metadata": {},
   "outputs": [],
   "source": [
    "import random\n",
    "def throw_single_die(num_die_sides):\n",
    "    return random.randint(1,num_die_sides)\n",
    "\n",
    "def throw_and_sum(die_per_throw = 2, total_num_throws=10000, num_die_sides=6):\n",
    "    l = []\n",
    "    # Perform the throws\n",
    "    for i in range(total_num_throws):\n",
    "        s = 0\n",
    "        for j in range(die_per_throw):\n",
    "            s += throw_single_die(num_die_sides)\n",
    "        l.append(s)\n",
    "    return l"
   ]
  },
  {
   "cell_type": "code",
   "execution_count": null,
   "metadata": {},
   "outputs": [],
   "source": [
    "lst = throw_and_sum(4)\n",
    "plt.hist(lst,10,density=True)"
   ]
  },
  {
   "cell_type": "code",
   "execution_count": null,
   "metadata": {},
   "outputs": [],
   "source": [
    "#21 possible sums:\n",
    "plt.figure(figsize=(10,7))\n",
    "plt.hist(lst,21)"
   ]
  },
  {
   "cell_type": "code",
   "execution_count": null,
   "metadata": {},
   "outputs": [],
   "source": [
    "# FIXED THE TICKS!\n",
    "\n",
    "# Explanation:\n",
    "## min = 4, max = 24 ==> 21 bins\n",
    "## Need to specify all the left edges and the last right edge (21 left edges + 1 right edge)\n",
    "\n",
    "plt.figure(figsize=(10,7))\n",
    "bw=1\n",
    "xthrows = np.array(lst)\n",
    "rng = xthrows.max()-xthrows.min()\n",
    "num_bins = int(np.ceil(rng/bw))+1 #Need to add 1 due to dealing with integers since rng = 20\n",
    "given_bins = xthrows.min()+np.arange(num_bins+1)*bw #+1 right edge\n",
    "h,bins,_=plt.hist(xthrows,bins=given_bins)\n",
    "plt.xticks(given_bins[:-1]+0.5,given_bins[:-1]) #Home exercise: Why did I do this?\n",
    "plt.xlim((xthrows.min()-bw,xthrows.max()+2*bw))\n",
    "plt.ylabel(\"Number of Occurences\")\n",
    "plt.xlabel(\"Counts\")\n",
    "plt.show()"
   ]
  },
  {
   "cell_type": "code",
   "execution_count": null,
   "metadata": {},
   "outputs": [],
   "source": [
    "h"
   ]
  },
  {
   "cell_type": "code",
   "execution_count": null,
   "metadata": {},
   "outputs": [],
   "source": [
    "given_bins"
   ]
  },
  {
   "cell_type": "code",
   "execution_count": null,
   "metadata": {},
   "outputs": [],
   "source": [
    "bins"
   ]
  },
  {
   "cell_type": "markdown",
   "metadata": {},
   "source": [
    "Adding text: `plt.text(x,y,text,...)` where\n",
    "* x and y are coordinates of the lower left edge of the text in the data coordinates (can be changed)\n",
    "* text is a string\n",
    "* ... are formatting options like color, fontsize tc."
   ]
  },
  {
   "cell_type": "code",
   "execution_count": null,
   "metadata": {},
   "outputs": [],
   "source": [
    "plt.figure(figsize=(10,7))\n",
    "h,bins,_=plt.hist(xthrows)\n",
    "plt.ylabel(\"Number of Occurences\")\n",
    "plt.xlabel(\"Counts\")\n",
    "\n",
    "xmin, xmax = plt.xlim()\n",
    "ymin, ymax = plt.ylim()\n",
    "\n",
    "plt.text(0,0,'realorigin',color='r')\n",
    "\n",
    "plt.text(xmin,ymin,'origin')\n",
    "plt.text((xmax+xmin)/2,(ymax+ymin)/2,'center',color = 'w', fontsize=16)\n"
   ]
  },
  {
   "cell_type": "code",
   "execution_count": null,
   "metadata": {},
   "outputs": [],
   "source": [
    "xmin"
   ]
  },
  {
   "cell_type": "code",
   "execution_count": null,
   "metadata": {},
   "outputs": [],
   "source": [
    "plt.figure(figsize=(12,8))\n",
    "\n",
    "\n",
    "h,bins,_=plt.hist(xthrows)\n",
    "plt.ylabel(\"Number of Occurences\", fontsize=16)\n",
    "plt.xlabel(\"Counts\", fontsize=16)\n",
    "\n",
    "xmin, xmax = plt.xlim()\n",
    "ymin, ymax = plt.ylim()\n",
    "\n",
    "for i in range(len(h)):\n",
    "    plt.text(bins[i],h[i]+10,f'{int(h[i])}',color = 'r', fontsize=14)\n",
    "    \n",
    "# New command:\n",
    "plt.gca().tick_params(labelsize=14)"
   ]
  },
  {
   "cell_type": "markdown",
   "metadata": {},
   "source": [
    "**Saving Figures**\n",
    "\n",
    "How to put our figures into presentatitons and reports: `plt.savefig`"
   ]
  },
  {
   "cell_type": "code",
   "execution_count": null,
   "metadata": {
    "scrolled": false
   },
   "outputs": [],
   "source": [
    "plt.figure(figsize=(10,7))\n",
    "bw=1\n",
    "xthrows = np.array(lst)\n",
    "rng = xthrows.max()-xthrows.min()\n",
    "num_bins = int(np.ceil(rng/bw))\n",
    "given_bins = xthrows.min()+np.arange(num_bins)*bw\n",
    "\n",
    "h,bins,_=plt.hist(xthrows,bins=given_bins)\n",
    "\n",
    "plt.xticks(given_bins+0.5,given_bins) #Home exercise: Why did I do this?\n",
    "\n",
    "plt.ylabel(\"Number of Occurences\")\n",
    "plt.xlabel(\"Counts\")\n",
    "\n",
    "\n",
    "plt.savefig(fname='dieTotals.png', dpi=300)"
   ]
  },
  {
   "cell_type": "markdown",
   "metadata": {},
   "source": [
    "**Matplotlib Example**\n",
    "\n",
    "Use the below cell to read the data in memory. Then answer the questions below."
   ]
  },
  {
   "cell_type": "code",
   "execution_count": null,
   "metadata": {},
   "outputs": [],
   "source": [
    "with open('student_grades.csv','r') as file:\n",
    "    column_names = file.readline().strip().split(',')\n",
    "    sdic = {}\n",
    "    lgcounts = {}\n",
    "    for cname in column_names:\n",
    "        sdic[cname] = []\n",
    "    for row in file:\n",
    "        row_data = row.strip().split(',')\n",
    "        for i in range(len(column_names)):\n",
    "            cname = column_names[i]\n",
    "            entry = row_data[i]\n",
    "            if i == 0:\n",
    "                sdic[cname].append(entry)\n",
    "                lgcounts[entry] = lgcounts.get(entry,0) + 1\n",
    "            else:\n",
    "                sdic[cname].append(float(entry))\n",
    "    for key, value in sdic.items():\n",
    "        sdic[key] = np.array(value)"
   ]
  },
  {
   "cell_type": "code",
   "execution_count": null,
   "metadata": {},
   "outputs": [],
   "source": [
    "sdic"
   ]
  },
  {
   "cell_type": "markdown",
   "metadata": {},
   "source": [
    "Exercises:\n",
    "* Plot the histogram of the `'Total'` \n",
    "* Write a function that will plot the histogram with (`simple_histogram`):\n",
    "    * Larger figure size (decide on the size yourself)\n",
    "    * Labels and title (feel free to decide on this yourself). \n",
    "    * Xticks denoting the range of each bin\n",
    "    * Appropriate fontsizes\n",
    "    * The function signature is given below\n",
    "* Improve the previous function with the below additions in (`better_histogram`)\n",
    "    * Labels and titles as input as well with default values\n",
    "    * Bins not so close to each other\n",
    "    * If a filename is given, write the plot to a figure\n",
    "* Plot the histogram of letter grades with the correct order of letters\n",
    "* Letter grade distribution in a pie chart\n",
    "* 3 separate histograms of the `'Total'`, `'Exams'` and the `'HWs'` side by side for students who received `'B+'`, `'B'` and `'B-'`.\n",
    "\n",
    "**Hint:** Do not be shy to revert to the `plt.bar` function"
   ]
  },
  {
   "cell_type": "code",
   "execution_count": null,
   "metadata": {},
   "outputs": [],
   "source": [
    "# Histogram of total\n",
    "h,bins,_ = plt.hist(sdic['Total'])"
   ]
  },
  {
   "cell_type": "code",
   "execution_count": null,
   "metadata": {},
   "outputs": [],
   "source": [
    "# Simple Histogram\n",
    "def simple_histogram(data, bins=10):\n",
    "    \n",
    "    # Appropriate fontsizes\n",
    "    titlefontsize = 16\n",
    "    labelfontsize = 16\n",
    "    tickfontsize = 12\n",
    "    \n",
    "    # Larger figure size (decide on the size yourself)\n",
    "    plt.figure(figsize=(14,7))\n",
    "    \n",
    "    h,bins,_ = plt.hist(data, bins)\n",
    "    \n",
    "    # Labels and title (feel free to decide on this yourself)\n",
    "    plt.xlabel('Grade Ranges',fontsize=labelfontsize)\n",
    "    plt.ylabel('Number of Students',fontsize=labelfontsize)\n",
    "    plt.title('Student Grades',fontsize=titlefontsize)\n",
    "    \n",
    "    # Xticks denoting the range of each bin\n",
    "    mid_points = (bins[1:]+bins[:-1])/2\n",
    "    tick_labels = []\n",
    "    for i in range(len(bins)-1):\n",
    "        s = f'{bins[i]:.1f}-{bins[i+1]:.1f}' \n",
    "        tick_labels.append(s)\n",
    "    \n",
    "    plt.xticks(mid_points,tick_labels)  \n",
    "    \n",
    "    plt.tick_params(labelsize=tickfontsize)    \n",
    "    plt.show()\n",
    "    "
   ]
  },
  {
   "cell_type": "code",
   "execution_count": null,
   "metadata": {},
   "outputs": [],
   "source": [
    "simple_histogram(sdic['Total'])"
   ]
  },
  {
   "cell_type": "code",
   "execution_count": null,
   "metadata": {},
   "outputs": [],
   "source": [
    "simple_histogram(sdic['Total'],bins=range(10,100,10))"
   ]
  },
  {
   "cell_type": "code",
   "execution_count": null,
   "metadata": {},
   "outputs": [],
   "source": [
    "# Better Histogram, no signature given!\n",
    "\n",
    "# Labels and titles as input as well with default values\n",
    "# Bins not so close to each other (hint:rwidth)\n",
    "# If a filename is given, write the plot to a figure\n",
    "\n",
    "# Home exercise!\n",
    "\n",
    "# Simple Histogram\n",
    "def better_histogram(data, \n",
    "                     bins=10, \n",
    "                     xlabel = 'Grade Ranges', \n",
    "                     ylabel = 'Number of Students',\n",
    "                     title = 'Student Grades',\n",
    "                     filename = None):\n",
    "    \n",
    "    # Appropriate fontsizes\n",
    "    titlefontsize = 18\n",
    "    labelfontsize = 16\n",
    "    tickfontsize = 14\n",
    "    \n",
    "    # Larger figure size (decide on the size yourself)\n",
    "    plt.figure(figsize=(14,7))\n",
    "    \n",
    "    h,bins,_ = plt.hist(data, bins, rwidth = 0.9)\n",
    "    \n",
    "    # Labels and title (feel free to decide on this yourself)\n",
    "    plt.xlabel(xlabel,fontsize=labelfontsize)\n",
    "    plt.ylabel(ylabel,fontsize=labelfontsize)\n",
    "    plt.title(title,fontsize=titlefontsize)\n",
    "    \n",
    "    # Xticks denoting the range of each bin\n",
    "    mid_points = (bins[1:]+bins[:-1])/2\n",
    "    tick_labels = []\n",
    "    for i in range(len(bins)-1):\n",
    "        s = f'{bins[i]:.1f}-{bins[i+1]:.1f}' \n",
    "        tick_labels.append(s)\n",
    "    \n",
    "    plt.xticks(mid_points,tick_labels)  \n",
    "    \n",
    "    plt.tick_params(labelsize=tickfontsize) \n",
    "    \n",
    "    if filename:\n",
    "        plt.savefig(filename, dpi=300)\n",
    "        \n",
    "    plt.show()\n",
    "    "
   ]
  },
  {
   "cell_type": "code",
   "execution_count": null,
   "metadata": {},
   "outputs": [],
   "source": [
    "better_histogram(sdic['Total'], bins=range(10,101,10))"
   ]
  },
  {
   "cell_type": "code",
   "execution_count": null,
   "metadata": {
    "scrolled": true
   },
   "outputs": [],
   "source": [
    "# Letter grade histogram in correct order\n",
    "correct_order = ['F', 'D', 'D+', 'C-', 'C', 'C+', 'B-', 'B', 'B+', 'A-', 'A']\n",
    "\n",
    "plt.hist(sdic['Letter'],rwidth=0.9)\n",
    "plt.show()\n"
   ]
  },
  {
   "cell_type": "code",
   "execution_count": null,
   "metadata": {},
   "outputs": [],
   "source": [
    "tmp = np.zeros(len(sdic['Letter']))\n",
    "\n",
    "for i in range(len(tmp)):\n",
    "    tmp[i] = correct_order.index(sdic['Letter'][i]) # This is the trick! Why does this work?"
   ]
  },
  {
   "cell_type": "code",
   "execution_count": null,
   "metadata": {},
   "outputs": [],
   "source": [
    "print(tmp[:5])\n",
    "print(sdic['Letter'][:5])"
   ]
  },
  {
   "cell_type": "code",
   "execution_count": null,
   "metadata": {},
   "outputs": [],
   "source": [
    "plt.figure(figsize=(12,7))\n",
    "h,bins,_=plt.hist(tmp,11,rwidth=0.9)\n",
    "plt.xticks((bins[1:]+bins[:-1])/2,correct_order)\n",
    "\n",
    "plt.title('Letter Grade Distribution', fontsize=18)\n",
    "plt.xlabel('Letter Grades', fontsize=16)\n",
    "plt.ylabel('Number of Students', fontsize=16)\n",
    "\n",
    "plt.tick_params(labelsize=14)\n",
    "\n",
    "plt.show()"
   ]
  },
  {
   "cell_type": "code",
   "execution_count": null,
   "metadata": {},
   "outputs": [],
   "source": [
    "# We also have\n",
    "lgcounts"
   ]
  },
  {
   "cell_type": "code",
   "execution_count": null,
   "metadata": {},
   "outputs": [],
   "source": [
    "# Letter grade distribution in a pie chart\n",
    "plt.figure(figsize=(12,7))\n",
    "plt.pie(lgcounts.values(),labels=lgcounts.keys(), autopct='%.1f%%', explode = np.ones(len(lgcounts))*0.02, \n",
    "        colors= ('b','g','r','c','m','y'))\n",
    "plt.show()"
   ]
  },
  {
   "cell_type": "code",
   "execution_count": null,
   "metadata": {},
   "outputs": [],
   "source": [
    "# In the correct order?\n",
    "argsortedCounts = []\n",
    "\n",
    "for g in correct_order:\n",
    "    argsortedCounts.append(lgcounts[g])\n",
    "\n",
    "# Letter grade distribution in a pie chart\n",
    "plt.figure(figsize=(12,7))\n",
    "plt.pie(argsortedCounts, labels=correct_order, autopct='%.1f%%', explode = np.ones(len(lgcounts))*0.02)\n",
    "plt.show()"
   ]
  },
  {
   "cell_type": "markdown",
   "metadata": {},
   "source": [
    "More advanced color options: https://matplotlib.org/stable/tutorials/colors/colors.html "
   ]
  },
  {
   "cell_type": "code",
   "execution_count": null,
   "metadata": {},
   "outputs": [],
   "source": [
    "# Exploding only As, Cs and Fs with a different color cycle\n",
    "explode = np.zeros(len(argsortedCounts))\n",
    "explode[correct_order.index('A')] = 0.1\n",
    "explode[correct_order.index('C')] = 0.1\n",
    "explode[correct_order.index('F')] = 0.1\n",
    "plt.figure(figsize=(12,7))\n",
    "plt.pie(argsortedCounts, labels=correct_order, autopct='%.1f%%', explode = explode,\n",
    "       colors = ('tab:blue','tab:orange','tab:green','tab:cyan','tab:purple','tab:olive'))\n",
    "plt.show()"
   ]
  },
  {
   "cell_type": "code",
   "execution_count": null,
   "metadata": {},
   "outputs": [],
   "source": [
    "# 3 separate histograms of the `'Total'`, `'Exams'` and the `'HWs'` side by side for \n",
    "\n",
    "plt.figure(figsize=(16,5))\n",
    "\n",
    "plt.subplot(1,3,1)\n",
    "plt.hist(sdic['Total'])\n",
    "plt.title('Total')\n",
    "\n",
    "plt.subplot(1,3,2)\n",
    "plt.hist(sdic['Exams'])\n",
    "plt.title('Exams')\n",
    "\n",
    "plt.subplot(1,3,3)\n",
    "plt.hist(sdic['HWs'])\n",
    "plt.title('HWs')"
   ]
  },
  {
   "cell_type": "code",
   "execution_count": null,
   "metadata": {},
   "outputs": [],
   "source": [
    "sdic['Total'] > 85"
   ]
  },
  {
   "cell_type": "code",
   "execution_count": null,
   "metadata": {},
   "outputs": [],
   "source": [
    "plt.hist(sdic['Total'][sdic['Total'] > 85])"
   ]
  },
  {
   "cell_type": "code",
   "execution_count": null,
   "metadata": {},
   "outputs": [],
   "source": [
    "# 3 separate histograms of the `'Total'`, `'Exams'` and the `'HWs'` side by side for \n",
    "# students who received `'B+'`, `'B'` and `'B-'`.\n",
    "\n",
    "grades = sdic['Letter']\n",
    "\n",
    "inds = (grades=='B') | (grades=='B-') | (grades=='B+')\n",
    "\n",
    "plt.figure(figsize=(16,5))\n",
    "\n",
    "plt.subplot(1,3,1)\n",
    "plt.hist(sdic['Total'][inds])\n",
    "plt.title('Total')\n",
    "\n",
    "plt.subplot(1,3,2)\n",
    "plt.hist(sdic['Exams'][inds])\n",
    "plt.title('Exams')\n",
    "\n",
    "plt.subplot(1,3,3)\n",
    "plt.hist(sdic['HWs'][inds])\n",
    "plt.title('HWs')"
   ]
  }
 ],
 "metadata": {
  "kernelspec": {
   "display_name": "Python 3",
   "language": "python",
   "name": "python3"
  },
  "language_info": {
   "codemirror_mode": {
    "name": "ipython",
    "version": 3
   },
   "file_extension": ".py",
   "mimetype": "text/x-python",
   "name": "python",
   "nbconvert_exporter": "python",
   "pygments_lexer": "ipython3",
   "version": "3.7.7"
  }
 },
 "nbformat": 4,
 "nbformat_minor": 4
}
