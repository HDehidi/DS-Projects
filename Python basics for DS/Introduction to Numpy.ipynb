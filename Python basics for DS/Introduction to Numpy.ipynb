{
 "cells": [
  {
   "cell_type": "markdown",
   "metadata": {},
   "source": [
    "### Numpy\n",
    "\n",
    "[NumPy](https://numpy.org/) is a community-developed, open-source library for Python, which adds support for large, multi-dimensional arrays with a large collection of mathematical functions that operate on these arrays. Numpy is so widely used that there is even a Nature [article](https://www.nature.com/articles/s41586-020-2649-2.pdf ) on it! It is the foundation of the Python scientific computation stack.\n",
    "\n",
    "\n",
    "Implemented in C (means fast)\n",
    "NumPy ndarrays: Efficient storage of a single type of data \n",
    "These arrays can be of any dimension (e.g. vector 1, matrix 2, tensor n)\n",
    "Efficient mathematical and logical operations on arrays\n",
    "Efficient linear algebra operations on arrays\n",
    "Random number (array) generation\n",
    "\n"
   ]
  },
  {
   "cell_type": "code",
   "execution_count": 1,
   "metadata": {},
   "outputs": [],
   "source": [
    "# Might take a while!\n",
    "import numpy as np"
   ]
  },
  {
   "cell_type": "markdown",
   "metadata": {},
   "source": [
    "Let's start with the main work-horse: The Numpy `array`. This data structure stores objects of a single type and allows for efficient access and mathematical operations on them. This is as opposed to the built-in list structure, which prioritizes container flexibility.\n",
    "\n",
    "(Side Note: [There is an array library](https://docs.python.org/3/library/array.html) in Python but we are going to ignore it since numpy arrays support a wider range of operations and have much wider support themselves)\n"
   ]
  },
  {
   "cell_type": "code",
   "execution_count": 2,
   "metadata": {},
   "outputs": [
    {
     "name": "stdout",
     "output_type": "stream",
     "text": [
      "[1 2 3] [1 2 3] [1 2 3]\n"
     ]
    }
   ],
   "source": [
    "# Creating from a sequnce or an array_like object: np.array(array_like)\n",
    "#1D examples\n",
    "xList  = np.array([1,2,3])\n",
    "xTuple = np.array((1,2,3))\n",
    "xRange = np.array(range(1,4))\n",
    "print(xList,xTuple,xRange)"
   ]
  },
  {
   "cell_type": "code",
   "execution_count": 3,
   "metadata": {},
   "outputs": [
    {
     "name": "stdout",
     "output_type": "stream",
     "text": [
      "<class 'numpy.ndarray'>\n"
     ]
    }
   ],
   "source": [
    "print(type(xList))"
   ]
  },
  {
   "cell_type": "code",
   "execution_count": 4,
   "metadata": {},
   "outputs": [
    {
     "name": "stdout",
     "output_type": "stream",
     "text": [
      "[[ 3.3  4.9]\n",
      " [-1.   3.2]\n",
      " [ 7.1 -5.7]]\n"
     ]
    }
   ],
   "source": [
    "#2D: sequence of squences\n",
    "x2D = np.array([[3.3,4.9],[-1,3.2],[7.1,-5.7]]) \n",
    "print(x2D)"
   ]
  },
  {
   "cell_type": "code",
   "execution_count": 5,
   "metadata": {},
   "outputs": [
    {
     "name": "stdout",
     "output_type": "stream",
     "text": [
      "[[[ 3.3  4.9]\n",
      "  [-1.   3.2]\n",
      "  [ 7.1 -5.7]]\n",
      "\n",
      " [[ 5.1 -1.2]\n",
      "  [-1.3  6.2]\n",
      "  [-7.1 -2.7]]]\n"
     ]
    }
   ],
   "source": [
    "#3D: sequence of squences of squences\n",
    "x3D = np.array([[[3.3,4.9],[-1,3.2],[7.1,-5.7]],[[5.1,-1.2],[-1.3,6.2],[-7.1,-2.7]]]) \n",
    "print(x3D)"
   ]
  },
  {
   "cell_type": "markdown",
   "metadata": {},
   "source": [
    "Four main properties of arrays:\n",
    "* ndim: number of dimensions\n",
    "* shape: size of each dimension\n",
    "* size: total number of elements\n",
    "* dtype: data type"
   ]
  },
  {
   "cell_type": "code",
   "execution_count": 6,
   "metadata": {},
   "outputs": [
    {
     "name": "stdout",
     "output_type": "stream",
     "text": [
      "ndim: 2 3\n",
      "shape: (3, 2) (2, 3, 2)\n",
      "size: 6 12\n",
      "dtype: float64 float64 int32\n"
     ]
    }
   ],
   "source": [
    "print(\"ndim:\", x2D.ndim, x3D.ndim)\n",
    "print(\"shape:\", x2D.shape, x3D.shape)\n",
    "print(\"size:\", x2D.size, x3D.size)\n",
    "print(\"dtype:\", x2D.dtype, x3D.dtype, xList.dtype)"
   ]
  },
  {
   "cell_type": "code",
   "execution_count": 7,
   "metadata": {},
   "outputs": [
    {
     "data": {
      "text/plain": [
       "(3, 2)"
      ]
     },
     "execution_count": 7,
     "metadata": {},
     "output_type": "execute_result"
    }
   ],
   "source": [
    "np.shape(x2D) # no difference "
   ]
  },
  {
   "cell_type": "code",
   "execution_count": 8,
   "metadata": {},
   "outputs": [
    {
     "name": "stdout",
     "output_type": "stream",
     "text": [
      "[list([3.3, 4.9]) list([-1, 3.2]) list([7.1, -5.7, 99])]\n",
      "(3,)\n",
      "object\n"
     ]
    },
    {
     "name": "stderr",
     "output_type": "stream",
     "text": [
      "f:\\python\\python37_64\\lib\\site-packages\\ipykernel_launcher.py:2: VisibleDeprecationWarning: Creating an ndarray from ragged nested sequences (which is a list-or-tuple of lists-or-tuples-or ndarrays with different lengths or shapes) is deprecated. If you meant to do this, you must specify 'dtype=object' when creating the ndarray\n",
      "  \n"
     ]
    }
   ],
   "source": [
    "#What if the inner sequences are not of the same length\n",
    "x2DBad = np.array([[3.3, 4.9],[-1, 3.2],[7.1, -5.7, 99]]) \n",
    "print(x2DBad)\n",
    "print(x2DBad.shape)\n",
    "print(x2DBad.dtype)"
   ]
  },
  {
   "cell_type": "markdown",
   "metadata": {},
   "source": [
    "We can 1D create arrays by specifying ranges (`arange`, `linspace` and `logspace`)"
   ]
  },
  {
   "cell_type": "code",
   "execution_count": 9,
   "metadata": {},
   "outputs": [
    {
     "name": "stdout",
     "output_type": "stream",
     "text": [
      "[1 2 3 4 5 6 7 8 9] int32\n",
      "[1.  3.5 6.  8.5] float64\n"
     ]
    }
   ],
   "source": [
    "x = np.arange(1,10)\n",
    "y = np.arange(1,10,2.5)\n",
    "print(x,x.dtype)\n",
    "print(y,y.dtype)"
   ]
  },
  {
   "cell_type": "code",
   "execution_count": 10,
   "metadata": {},
   "outputs": [
    {
     "name": "stdout",
     "output_type": "stream",
     "text": [
      "[5.  4.5 4.  3.5 3.  2.5 2.  1.5 1.  0.5]\n",
      "[5.  4.5 4.  3.5 3.  2.5 2.  1.5 1.  0.5 0. ]\n"
     ]
    }
   ],
   "source": [
    "z = np.arange(5,0,-0.5)\n",
    "print(z)\n",
    "z = np.arange(5,-0.01,-0.5)\n",
    "print(z)"
   ]
  },
  {
   "cell_type": "code",
   "execution_count": 11,
   "metadata": {},
   "outputs": [
    {
     "name": "stdout",
     "output_type": "stream",
     "text": [
      "[5.  4.5 4.  3.5 3.  2.5 2.  1.5 1.  0.5 0. ]\n",
      "[0.1 0.6 1.1 1.6 2.1 2.6 3.1 3.6 4.1 4.6 5.1]\n",
      "[3.         3.06122449 3.12244898 3.18367347 3.24489796 3.30612245\n",
      " 3.36734694 3.42857143 3.48979592 3.55102041 3.6122449  3.67346939\n",
      " 3.73469388 3.79591837 3.85714286 3.91836735 3.97959184 4.04081633\n",
      " 4.10204082 4.16326531 4.2244898  4.28571429 4.34693878 4.40816327\n",
      " 4.46938776 4.53061224 4.59183673 4.65306122 4.71428571 4.7755102\n",
      " 4.83673469 4.89795918 4.95918367 5.02040816 5.08163265 5.14285714\n",
      " 5.20408163 5.26530612 5.32653061 5.3877551  5.44897959 5.51020408\n",
      " 5.57142857 5.63265306 5.69387755 5.75510204 5.81632653 5.87755102\n",
      " 5.93877551 6.        ]\n"
     ]
    }
   ],
   "source": [
    "x = np.linspace(5,0,11)\n",
    "print(x)\n",
    "y = np.linspace(0.1,5.1,11)\n",
    "print(y)\n",
    "z = np.linspace(3,6)\n",
    "print(z)"
   ]
  },
  {
   "cell_type": "code",
   "execution_count": 12,
   "metadata": {
    "scrolled": true
   },
   "outputs": [
    {
     "name": "stdout",
     "output_type": "stream",
     "text": [
      "[1.00000000e+00 3.16227766e+00 1.00000000e+01 3.16227766e+01\n",
      " 1.00000000e+02 3.16227766e+02 1.00000000e+03 3.16227766e+03\n",
      " 1.00000000e+04 3.16227766e+04 1.00000000e+05]\n",
      "[1.00000000e+00 3.16227766e+00 1.00000000e+01 3.16227766e+01\n",
      " 1.00000000e+02 3.16227766e+02 1.00000000e+03 3.16227766e+03\n",
      " 1.00000000e+04 3.16227766e+04 1.00000000e+05]\n"
     ]
    }
   ],
   "source": [
    "x = np.logspace(0,5,11)\n",
    "print(x)\n",
    "y = np.linspace(0,5,11)\n",
    "tmp = np.array(10)\n",
    "print(tmp**y)"
   ]
  },
  {
   "cell_type": "markdown",
   "metadata": {},
   "source": [
    "We can create multi-dimensional arrays with homogeneous data"
   ]
  },
  {
   "cell_type": "code",
   "execution_count": 13,
   "metadata": {},
   "outputs": [
    {
     "name": "stdout",
     "output_type": "stream",
     "text": [
      "[[0. 0. 0. 0. 0. 0. 0. 0. 0. 0.]\n",
      " [0. 0. 0. 0. 0. 0. 0. 0. 0. 0.]\n",
      " [0. 0. 0. 0. 0. 0. 0. 0. 0. 0.]\n",
      " [0. 0. 0. 0. 0. 0. 0. 0. 0. 0.]\n",
      " [0. 0. 0. 0. 0. 0. 0. 0. 0. 0.]]\n"
     ]
    }
   ],
   "source": [
    "# Create an array of given shape full of zeros\n",
    "print(np.zeros((5,10)))"
   ]
  },
  {
   "cell_type": "code",
   "execution_count": 14,
   "metadata": {},
   "outputs": [
    {
     "name": "stdout",
     "output_type": "stream",
     "text": [
      "[[1. 1. 1. 1. 1. 1. 1. 1.]\n",
      " [1. 1. 1. 1. 1. 1. 1. 1.]\n",
      " [1. 1. 1. 1. 1. 1. 1. 1.]\n",
      " [1. 1. 1. 1. 1. 1. 1. 1.]]\n"
     ]
    }
   ],
   "source": [
    "# Create an array of given shape full of ones\n",
    "print(np.ones((4,8)))"
   ]
  },
  {
   "cell_type": "code",
   "execution_count": 15,
   "metadata": {
    "scrolled": true
   },
   "outputs": [
    {
     "name": "stdout",
     "output_type": "stream",
     "text": [
      "[[[5.4 5.4]\n",
      "  [5.4 5.4]]\n",
      "\n",
      " [[5.4 5.4]\n",
      "  [5.4 5.4]]\n",
      "\n",
      " [[5.4 5.4]\n",
      "  [5.4 5.4]]]\n",
      "float64\n"
     ]
    }
   ],
   "source": [
    "# Create an array of given shape full of a given number (in this case 5.4)\n",
    "x=np.full((3,2,2), 5.4)\n",
    "print(x)\n",
    "print(x.dtype)"
   ]
  },
  {
   "cell_type": "code",
   "execution_count": 16,
   "metadata": {},
   "outputs": [
    {
     "name": "stdout",
     "output_type": "stream",
     "text": [
      "int32\n"
     ]
    }
   ],
   "source": [
    "print(np.full((3,2,2), 5).dtype)"
   ]
  },
  {
   "cell_type": "code",
   "execution_count": 17,
   "metadata": {},
   "outputs": [
    {
     "name": "stdout",
     "output_type": "stream",
     "text": [
      "[[[0 0]\n",
      "  [0 0]\n",
      "  [0 0]\n",
      "  [0 0]\n",
      "  [0 0]]\n",
      "\n",
      " [[0 0]\n",
      "  [0 0]\n",
      "  [0 0]\n",
      "  [0 0]\n",
      "  [0 0]]\n",
      "\n",
      " [[0 0]\n",
      "  [0 0]\n",
      "  [0 0]\n",
      "  [0 0]\n",
      "  [0 0]]]\n"
     ]
    }
   ],
   "source": [
    "# Create an empty 3D array of integers\n",
    "# Creating an empty array is useful when you know you will fill it and want to \n",
    "# allocate the memory beforehand (faster in practise and easier to code)\n",
    "x = np.empty((3,5,2), dtype='int32')\n",
    "print(x)"
   ]
  },
  {
   "cell_type": "code",
   "execution_count": 18,
   "metadata": {},
   "outputs": [
    {
     "name": "stdout",
     "output_type": "stream",
     "text": [
      "[0 0 0 0 0 0 0 0 0 0] int16\n"
     ]
    }
   ],
   "source": [
    "x=np.zeros(10, dtype='int16')\n",
    "print(x,x.dtype)"
   ]
  },
  {
   "cell_type": "code",
   "execution_count": 19,
   "metadata": {},
   "outputs": [
    {
     "name": "stdout",
     "output_type": "stream",
     "text": [
      "[0. 0. 0. 0. 0. 0. 0. 0. 0. 0.] float64\n"
     ]
    }
   ],
   "source": [
    "x=np.zeros(10)\n",
    "print(x,x.dtype)"
   ]
  },
  {
   "cell_type": "code",
   "execution_count": 20,
   "metadata": {
    "scrolled": true
   },
   "outputs": [
    {
     "name": "stdout",
     "output_type": "stream",
     "text": [
      "[0. 0. 0. 0. 0. 0. 0. 0. 0. 0.] float32\n"
     ]
    }
   ],
   "source": [
    "x=np.zeros(10, dtype='float32')\n",
    "print(x,x.dtype)"
   ]
  },
  {
   "cell_type": "markdown",
   "metadata": {},
   "source": [
    "For more dtype info:\n",
    "* https://numpy.org/doc/stable/reference/arrays.dtypes.html\n",
    "* https://numpy.org/doc/stable/user/basics.types.html"
   ]
  },
  {
   "cell_type": "code",
   "execution_count": 21,
   "metadata": {},
   "outputs": [
    {
     "name": "stdout",
     "output_type": "stream",
     "text": [
      "[[ 4  0  0]\n",
      " [ 0 -8  0]\n",
      " [ 0  0  2]]\n"
     ]
    }
   ],
   "source": [
    "# Diagonal array, all others 0\n",
    "x = np.diag([4,-8,2])\n",
    "print(x)"
   ]
  },
  {
   "cell_type": "code",
   "execution_count": 22,
   "metadata": {},
   "outputs": [
    {
     "name": "stdout",
     "output_type": "stream",
     "text": [
      "[ 1 -4 -8]\n"
     ]
    }
   ],
   "source": [
    "# Diagonal of the 2D array, as a 1D array\n",
    "y = np.array([[1,-2,2],[3,-4,7],[9,6,-8]])\n",
    "x = np.diag(y)\n",
    "print(x)"
   ]
  },
  {
   "cell_type": "code",
   "execution_count": 23,
   "metadata": {},
   "outputs": [
    {
     "name": "stdout",
     "output_type": "stream",
     "text": [
      "[[1. 0. 0. 0.]\n",
      " [0. 1. 0. 0.]\n",
      " [0. 0. 1. 0.]\n",
      " [0. 0. 0. 1.]]\n"
     ]
    }
   ],
   "source": [
    "# Identity matrix (i.e. 2D array) with the given dim\n",
    "x = np.eye(4)\n",
    "print(x)"
   ]
  },
  {
   "cell_type": "markdown",
   "metadata": {},
   "source": [
    "Elementwise Operation Examples"
   ]
  },
  {
   "cell_type": "code",
   "execution_count": 24,
   "metadata": {},
   "outputs": [
    {
     "name": "stdout",
     "output_type": "stream",
     "text": [
      "[0 2 4 6 8]\n",
      "\n",
      "[0, 1, 2, 3, 4, 0, 1, 2, 3, 4]\n"
     ]
    }
   ],
   "source": [
    "tn = np.arange(5)\n",
    "tp = list(range(5))\n",
    "xn = 2*tn\n",
    "xp = 2*tp\n",
    "\n",
    "# Numpy vs List for * operations\n",
    "print(xn)\n",
    "print()\n",
    "print(xp)"
   ]
  },
  {
   "cell_type": "code",
   "execution_count": 25,
   "metadata": {},
   "outputs": [
    {
     "data": {
      "text/plain": [
       "array([ 0,  1,  4,  9, 16], dtype=int32)"
      ]
     },
     "execution_count": 25,
     "metadata": {},
     "output_type": "execute_result"
    }
   ],
   "source": [
    "# Elementwise squaring\n",
    "tn**2"
   ]
  },
  {
   "cell_type": "code",
   "execution_count": 26,
   "metadata": {},
   "outputs": [
    {
     "name": "stdout",
     "output_type": "stream",
     "text": [
      "(101,) (101,) <class 'numpy.ndarray'>\n"
     ]
    }
   ],
   "source": [
    "t = np.linspace(0,5,101)\n",
    "x = t**2 - 2*t + 1\n",
    "print(t.shape,x.shape,type(x))"
   ]
  },
  {
   "cell_type": "markdown",
   "metadata": {},
   "source": [
    "Let's visualize these"
   ]
  },
  {
   "cell_type": "code",
   "execution_count": 27,
   "metadata": {},
   "outputs": [],
   "source": [
    "t = np.linspace(1,4,101)\n",
    "x = t**2 - 5*t + 6\n",
    "y = np.sin(3*t)\n",
    "z = np.log(t)"
   ]
  },
  {
   "cell_type": "code",
   "execution_count": 28,
   "metadata": {},
   "outputs": [],
   "source": [
    "import matplotlib.pyplot as plt"
   ]
  },
  {
   "cell_type": "code",
   "execution_count": 29,
   "metadata": {},
   "outputs": [
    {
     "data": {
      "text/plain": [
       "[<matplotlib.lines.Line2D at 0x1f95ab4f8c8>]"
      ]
     },
     "execution_count": 29,
     "metadata": {},
     "output_type": "execute_result"
    },
    {
     "data": {
      "image/png": "[encoded data removed]",
      "text/plain": [
       "<Figure size 432x288 with 1 Axes>"
      ]
     },
     "metadata": {
      "needs_background": "light"
     },
     "output_type": "display_data"
    }
   ],
   "source": [
    "plt.plot(t,t)\n",
    "plt.plot(t,x)\n",
    "plt.plot(t,y)\n",
    "plt.plot(t,z)"
   ]
  },
  {
   "cell_type": "markdown",
   "metadata": {},
   "source": [
    "We can do elementwise operations on multi-dimensional data as well"
   ]
  },
  {
   "cell_type": "code",
   "execution_count": 30,
   "metadata": {},
   "outputs": [
    {
     "name": "stdout",
     "output_type": "stream",
     "text": [
      "[[3. 3. 3.]\n",
      " [3. 3. 3.]\n",
      " [3. 3. 3.]]\n",
      "\n",
      "[[-1. -1. -1.]\n",
      " [-1. -1. -1.]\n",
      " [-1. -1. -1.]]\n"
     ]
    }
   ],
   "source": [
    "t = np.ones((3,3))\n",
    "\n",
    "print(t*3)\n",
    "print()\n",
    "print(t-2)"
   ]
  },
  {
   "cell_type": "code",
   "execution_count": 31,
   "metadata": {},
   "outputs": [
    {
     "name": "stdout",
     "output_type": "stream",
     "text": [
      "[[4. 5. 5.]\n",
      " [5. 4. 5.]\n",
      " [5. 5. 4.]]\n"
     ]
    }
   ],
   "source": [
    "x = 2*t + 3 - np.eye(3)\n",
    "\n",
    "print(x)"
   ]
  },
  {
   "cell_type": "markdown",
   "metadata": {},
   "source": [
    "The dimensions must match!"
   ]
  },
  {
   "cell_type": "code",
   "execution_count": 32,
   "metadata": {},
   "outputs": [],
   "source": [
    "#x = 2*t + 3 - np.eye(4) # this will give an error"
   ]
  },
  {
   "cell_type": "markdown",
   "metadata": {},
   "source": [
    "It is easy to confuse elementwise operations with linear algebra operations, especially coming from mathematical languages like Matlab. Using `*` on two arrays implies elementwise multiplication not matrix multiplication with Numpy."
   ]
  },
  {
   "cell_type": "code",
   "execution_count": 33,
   "metadata": {},
   "outputs": [
    {
     "name": "stdout",
     "output_type": "stream",
     "text": [
      "[[1. 1. 1. 1.]\n",
      " [1. 1. 1. 1.]\n",
      " [1. 1. 1. 1.]\n",
      " [1. 1. 1. 1.]]\n",
      "[1 2 3 4]\n",
      "[[1]\n",
      " [2]\n",
      " [3]\n",
      " [4]]\n",
      "[[1 2 3 4]]\n"
     ]
    }
   ],
   "source": [
    "a = np.ones((4,4))      #2D array\n",
    "b = np.array([1,2,3,4]) #1D array\n",
    "c = b.reshape((4,1))    #2D array representing a column vector\n",
    "d = b.reshape((1,4))    #2D array representing a row vector\n",
    "print(a)\n",
    "print(b)\n",
    "print(c)\n",
    "print(d)"
   ]
  },
  {
   "cell_type": "code",
   "execution_count": 34,
   "metadata": {},
   "outputs": [
    {
     "data": {
      "text/plain": [
       "array([ 1,  4,  9, 16])"
      ]
     },
     "execution_count": 34,
     "metadata": {},
     "output_type": "execute_result"
    }
   ],
   "source": [
    "# Multiplying elements together, same as squaring\n",
    "b*b"
   ]
  },
  {
   "cell_type": "markdown",
   "metadata": {},
   "source": [
    "We can also try to multiply arrays with different number of elements. This happens based on numpy [broadcasting rules](https://numpy.org/doc/stable/user/basics.broadcasting.html). Numpy performs elementwise operations when the trailing dimensions:\n",
    "* are equal\n",
    "* one of them is 1"
   ]
  },
  {
   "cell_type": "markdown",
   "metadata": {},
   "source": [
    "Example:  \n",
    "<pre>\n",
    "a: 4 x 4  \n",
    "b:     4  \n",
    "r: 4 x 4\n",
    "</pre>  \n",
    "Elementwise multiplication will happen along the rows (first dim)"
   ]
  },
  {
   "cell_type": "code",
   "execution_count": 35,
   "metadata": {},
   "outputs": [
    {
     "name": "stdout",
     "output_type": "stream",
     "text": [
      "[[1. 1. 1. 1.]\n",
      " [1. 1. 1. 1.]\n",
      " [1. 1. 1. 1.]\n",
      " [1. 1. 1. 1.]]\n",
      "[1 2 3 4]\n"
     ]
    }
   ],
   "source": [
    "print(a)\n",
    "print(b)"
   ]
  },
  {
   "cell_type": "code",
   "execution_count": 36,
   "metadata": {},
   "outputs": [
    {
     "name": "stdout",
     "output_type": "stream",
     "text": [
      "[[1. 2. 3. 4.]\n",
      " [1. 2. 3. 4.]\n",
      " [1. 2. 3. 4.]\n",
      " [1. 2. 3. 4.]]\n",
      "(4, 4)\n"
     ]
    }
   ],
   "source": [
    "r=a*b\n",
    "print(r)\n",
    "print(r.shape)"
   ]
  },
  {
   "cell_type": "markdown",
   "metadata": {},
   "source": [
    "Example:  \n",
    "<pre>\n",
    "a: 4 x 4  \n",
    "c: 4 x 1  \n",
    "r: 4 x 4\n",
    "</pre>\n",
    "Elementwise multiplication will happen along the columns (second dim)"
   ]
  },
  {
   "cell_type": "code",
   "execution_count": 37,
   "metadata": {},
   "outputs": [
    {
     "name": "stdout",
     "output_type": "stream",
     "text": [
      "[[1]\n",
      " [2]\n",
      " [3]\n",
      " [4]]\n"
     ]
    }
   ],
   "source": [
    "print(c)"
   ]
  },
  {
   "cell_type": "code",
   "execution_count": 38,
   "metadata": {
    "scrolled": true
   },
   "outputs": [
    {
     "name": "stdout",
     "output_type": "stream",
     "text": [
      "[[1. 1. 1. 1.]\n",
      " [2. 2. 2. 2.]\n",
      " [3. 3. 3. 3.]\n",
      " [4. 4. 4. 4.]]\n",
      "(4, 4)\n"
     ]
    }
   ],
   "source": [
    "r=a*c\n",
    "print(r)\n",
    "print(r.shape)"
   ]
  },
  {
   "cell_type": "code",
   "execution_count": 39,
   "metadata": {},
   "outputs": [
    {
     "name": "stdout",
     "output_type": "stream",
     "text": [
      "[[1 2 3 4]]\n"
     ]
    }
   ],
   "source": [
    "print(d)"
   ]
  },
  {
   "cell_type": "markdown",
   "metadata": {},
   "source": [
    "Example:  \n",
    "<pre>\n",
    "a: 4 x 4  \n",
    "d: 1 x 4  \n",
    "r: 4 x 4\n",
    "</pre>\n",
    "Elementwise multiplication will happen along the rows (first dim)"
   ]
  },
  {
   "cell_type": "code",
   "execution_count": 40,
   "metadata": {},
   "outputs": [
    {
     "data": {
      "text/plain": [
       "array([[1., 2., 3., 4.],\n",
       "       [1., 2., 3., 4.],\n",
       "       [1., 2., 3., 4.],\n",
       "       [1., 2., 3., 4.]])"
      ]
     },
     "execution_count": 40,
     "metadata": {},
     "output_type": "execute_result"
    }
   ],
   "source": [
    "a*d"
   ]
  },
  {
   "cell_type": "markdown",
   "metadata": {},
   "source": [
    "Example\n",
    "<pre>\n",
    "e: 4 x 1 x 4  \n",
    "c:     4 x 1  \n",
    "r: 4 x 4 x 4\n",
    "</pre>\n",
    "\n",
    "The output shape is different than both!"
   ]
  },
  {
   "cell_type": "code",
   "execution_count": 41,
   "metadata": {},
   "outputs": [
    {
     "name": "stdout",
     "output_type": "stream",
     "text": [
      "[[[1. 1. 1. 1.]\n",
      "  [2. 2. 2. 2.]\n",
      "  [3. 3. 3. 3.]\n",
      "  [4. 4. 4. 4.]]\n",
      "\n",
      " [[1. 1. 1. 1.]\n",
      "  [2. 2. 2. 2.]\n",
      "  [3. 3. 3. 3.]\n",
      "  [4. 4. 4. 4.]]\n",
      "\n",
      " [[1. 1. 1. 1.]\n",
      "  [2. 2. 2. 2.]\n",
      "  [3. 3. 3. 3.]\n",
      "  [4. 4. 4. 4.]]\n",
      "\n",
      " [[1. 1. 1. 1.]\n",
      "  [2. 2. 2. 2.]\n",
      "  [3. 3. 3. 3.]\n",
      "  [4. 4. 4. 4.]]]\n",
      "(4, 4, 4)\n"
     ]
    }
   ],
   "source": [
    "e = np.zeros((4,1,4))\n",
    "r = e+c\n",
    "print(r)\n",
    "print(r.shape)"
   ]
  },
  {
   "cell_type": "markdown",
   "metadata": {},
   "source": [
    "Example\n",
    "<pre>\n",
    "e: 4 x 1 x 4  \n",
    "d:     1 x 4  \n",
    "r: 4 x 1 x 4\n",
    "</pre>"
   ]
  },
  {
   "cell_type": "code",
   "execution_count": 42,
   "metadata": {},
   "outputs": [
    {
     "name": "stdout",
     "output_type": "stream",
     "text": [
      "[[[1. 2. 3. 4.]]\n",
      "\n",
      " [[1. 2. 3. 4.]]\n",
      "\n",
      " [[1. 2. 3. 4.]]\n",
      "\n",
      " [[1. 2. 3. 4.]]]\n",
      "(4, 1, 4)\n"
     ]
    }
   ],
   "source": [
    "r = e+d\n",
    "print(r)\n",
    "print(r.shape)"
   ]
  },
  {
   "cell_type": "markdown",
   "metadata": {},
   "source": [
    "The below would not work since the 2nd trailing dimensions do not match and one of them is not 1\n",
    "<pre>\n",
    "g: 4 x 2 x 4  \n",
    "h:     4 x 1  \n",
    "r: ?\n",
    "</pre>"
   ]
  },
  {
   "cell_type": "code",
   "execution_count": 43,
   "metadata": {},
   "outputs": [],
   "source": [
    "# This cell will given an error if uncommented\n",
    "g = np.zeros((4,2,4))\n",
    "h = np.ones((4,1))\n",
    "# r = g + h"
   ]
  },
  {
   "cell_type": "markdown",
   "metadata": {},
   "source": [
    "If we want matrix multiplication (we will get back to this later):"
   ]
  },
  {
   "cell_type": "code",
   "execution_count": 44,
   "metadata": {},
   "outputs": [
    {
     "name": "stdout",
     "output_type": "stream",
     "text": [
      "[10. 10. 10. 10.]\n",
      "(4,)\n"
     ]
    }
   ],
   "source": [
    "# 4x4 by 4 -> 4\n",
    "r=a@b\n",
    "print(r)\n",
    "print(r.shape)"
   ]
  },
  {
   "cell_type": "code",
   "execution_count": 45,
   "metadata": {},
   "outputs": [
    {
     "name": "stdout",
     "output_type": "stream",
     "text": [
      "[[10.]\n",
      " [10.]\n",
      " [10.]\n",
      " [10.]]\n",
      "(4, 1)\n"
     ]
    }
   ],
   "source": [
    "# 4x4 by 4x1 -> 4x1\n",
    "r=a@c\n",
    "print(r)\n",
    "print(r.shape)"
   ]
  },
  {
   "cell_type": "code",
   "execution_count": 46,
   "metadata": {},
   "outputs": [],
   "source": [
    "# 4x4 by 1x4 -> does not work!\n",
    "# r=a@d # this will give an error"
   ]
  },
  {
   "cell_type": "code",
   "execution_count": 47,
   "metadata": {},
   "outputs": [
    {
     "name": "stdout",
     "output_type": "stream",
     "text": [
      "[[10. 10. 10. 10.]]\n",
      "(1, 4)\n"
     ]
    }
   ],
   "source": [
    "# 1x4 by 4x4 -> 1x4\n",
    "r=d@a\n",
    "print(r)\n",
    "print(r.shape)"
   ]
  },
  {
   "cell_type": "markdown",
   "metadata": {},
   "source": [
    "We can also create arrays with random numbers"
   ]
  },
  {
   "cell_type": "code",
   "execution_count": 48,
   "metadata": {},
   "outputs": [
    {
     "name": "stdout",
     "output_type": "stream",
     "text": [
      "[[0.74530712 0.29794283 0.09831961]\n",
      " [0.68900067 0.46039406 0.34141675]\n",
      " [0.2513533  0.87195736 0.99703087]\n",
      " [0.8753734  0.93765363 0.22827936]]\n",
      "float64\n",
      "(4, 3)\n"
     ]
    }
   ],
   "source": [
    "# Uniformly randomly in [0., 1.) with given shape\n",
    "x = np.random.random((4,3))\n",
    "print(x)\n",
    "print(x.dtype)\n",
    "print(x.shape)"
   ]
  },
  {
   "cell_type": "code",
   "execution_count": 49,
   "metadata": {},
   "outputs": [],
   "source": [
    "# Create uniformly random numbers in [a,b)\n",
    "# np.random.uniform(a,b, shape)\n",
    "a = -1\n",
    "b = 1\n",
    "x = np.random.random(10)*(b-a)+a"
   ]
  },
  {
   "cell_type": "code",
   "execution_count": 50,
   "metadata": {},
   "outputs": [
    {
     "name": "stdout",
     "output_type": "stream",
     "text": [
      "[[[5 0 6 4]\n",
      "  [5 4 6 9]]\n",
      "\n",
      " [[5 7 1 5]\n",
      "  [6 4 4 1]]\n",
      "\n",
      " [[5 1 3 3]\n",
      "  [3 6 3 7]]]\n",
      "int32\n"
     ]
    }
   ],
   "source": [
    "# Random integer in [a, b) where b > a\n",
    "# np.random.randint(a,b,shape)\n",
    "x=np.random.randint(0,10,(3,2,4))\n",
    "print(x)\n",
    "print(x.dtype)"
   ]
  },
  {
   "cell_type": "code",
   "execution_count": 51,
   "metadata": {},
   "outputs": [
    {
     "name": "stdout",
     "output_type": "stream",
     "text": [
      "[[2.35496971 1.89060582 3.6268608  3.38365734]\n",
      " [3.05083776 2.38334756 2.34312898 2.49536619]\n",
      " [1.46437387 4.13512397 0.40249684 5.17778821]]\n"
     ]
    }
   ],
   "source": [
    "# Gaussian with mean m and standard deviation s\n",
    "#np.random.normal(m,s,shape)\n",
    "print(np.random.normal(3,1.5,(3,4)))"
   ]
  },
  {
   "cell_type": "code",
   "execution_count": 52,
   "metadata": {},
   "outputs": [
    {
     "name": "stdout",
     "output_type": "stream",
     "text": [
      "(20,)\n",
      "(20, 5)\n",
      "(20, 5, 1, 6)\n"
     ]
    }
   ],
   "source": [
    "# Shorthand when m=0, s=1\n",
    "# The way we provide shape is a bit different since this is for people coming from Matlab\n",
    "x=np.random.randn(20)\n",
    "print(x.shape)\n",
    "y=np.random.randn(20,5)\n",
    "print(y.shape)\n",
    "z=np.random.randn(20,5,1,6)\n",
    "print(z.shape)"
   ]
  },
  {
   "cell_type": "markdown",
   "metadata": {},
   "source": [
    "**Array Access and Indexing**\n",
    "\n",
    "(See also the accompanying pdf)\n",
    "\n",
    "Accessing and indexing 1D numpy arrays are the same as accessing and indexing Python lists and strings"
   ]
  },
  {
   "cell_type": "code",
   "execution_count": 53,
   "metadata": {},
   "outputs": [
    {
     "name": "stdout",
     "output_type": "stream",
     "text": [
      "[0 1 2 3 4 5 6 7 8 9]\n"
     ]
    }
   ],
   "source": [
    "x1 = np.arange(10)\n",
    "print(x1)"
   ]
  },
  {
   "cell_type": "code",
   "execution_count": 54,
   "metadata": {},
   "outputs": [
    {
     "name": "stdout",
     "output_type": "stream",
     "text": [
      "0 5 8\n"
     ]
    }
   ],
   "source": [
    "print(x1[0],x1[5],x1[-2])"
   ]
  },
  {
   "cell_type": "code",
   "execution_count": 55,
   "metadata": {},
   "outputs": [
    {
     "name": "stdout",
     "output_type": "stream",
     "text": [
      "[2 3 4 5]\n"
     ]
    }
   ],
   "source": [
    "print(x1[2:6])"
   ]
  },
  {
   "cell_type": "code",
   "execution_count": 56,
   "metadata": {},
   "outputs": [
    {
     "name": "stdout",
     "output_type": "stream",
     "text": [
      "[1 3 5]\n"
     ]
    }
   ],
   "source": [
    "print(x1[1:7:2])"
   ]
  },
  {
   "cell_type": "code",
   "execution_count": 57,
   "metadata": {},
   "outputs": [
    {
     "name": "stdout",
     "output_type": "stream",
     "text": [
      "[9 8 7 6 5 4 3 2 1 0]\n"
     ]
    }
   ],
   "source": [
    "print(x1[::-1]) "
   ]
  },
  {
   "cell_type": "code",
   "execution_count": 58,
   "metadata": {},
   "outputs": [
    {
     "name": "stdout",
     "output_type": "stream",
     "text": [
      "[8 7 6 5 4 3 2]\n"
     ]
    }
   ],
   "source": [
    "print(x1[-2:1:-1]) "
   ]
  },
  {
   "cell_type": "markdown",
   "metadata": {},
   "source": [
    "Numpy arrays are mutable. We can assign values to elements using indexing"
   ]
  },
  {
   "cell_type": "code",
   "execution_count": 59,
   "metadata": {},
   "outputs": [
    {
     "name": "stdout",
     "output_type": "stream",
     "text": [
      "[0 1 2 3 4 5 6 7 8 9]\n",
      "[ 0  1  2 -3  4 10  6  7  8  9]\n"
     ]
    }
   ],
   "source": [
    "print(x1)\n",
    "x1[5] = 10\n",
    "x1[3] *= -1\n",
    "print(x1)"
   ]
  },
  {
   "cell_type": "code",
   "execution_count": 60,
   "metadata": {},
   "outputs": [
    {
     "name": "stdout",
     "output_type": "stream",
     "text": [
      "[ 0  1  2 -3  4 10 40 40 40  9]\n"
     ]
    }
   ],
   "source": [
    "# Broadcasting rules apply here too\n",
    "x1[6:9] = 40\n",
    "print(x1)"
   ]
  },
  {
   "cell_type": "code",
   "execution_count": 61,
   "metadata": {
    "scrolled": true
   },
   "outputs": [
    {
     "name": "stdout",
     "output_type": "stream",
     "text": [
      "[-6 -4 -2  0  4 10 40 40 40  9]\n"
     ]
    }
   ],
   "source": [
    "x1[0:4] = np.linspace(-6, 0, 4)\n",
    "print(x1)"
   ]
  },
  {
   "cell_type": "markdown",
   "metadata": {},
   "source": [
    "We can do the same for multi-dimensional arrays"
   ]
  },
  {
   "cell_type": "code",
   "execution_count": 62,
   "metadata": {
    "scrolled": false
   },
   "outputs": [
    {
     "name": "stdout",
     "output_type": "stream",
     "text": [
      "[[4 2 3 2]\n",
      " [2 4 3 1]\n",
      " [2 4 1 3]\n",
      " [4 1 2 3]]\n",
      "(4, 4)\n"
     ]
    }
   ],
   "source": [
    "x = np.array([[4, 2, 3, 2], \n",
    "              [2, 4, 3, 1], \n",
    "              [2, 4, 1, 3], \n",
    "              [4, 1, 2, 3]])\n",
    "print(x)\n",
    "print(x.shape)"
   ]
  },
  {
   "cell_type": "code",
   "execution_count": 63,
   "metadata": {},
   "outputs": [
    {
     "name": "stdout",
     "output_type": "stream",
     "text": [
      "3 2\n",
      "3 2\n"
     ]
    }
   ],
   "source": [
    "# Single elements\n",
    "# List of lists notation was [row][column] vs numpy [row, colum] or [row][column]\n",
    "print(x[2,3],x[3,2])\n",
    "print(x[2][3],x[3][2])"
   ]
  },
  {
   "cell_type": "code",
   "execution_count": 64,
   "metadata": {},
   "outputs": [
    {
     "name": "stdout",
     "output_type": "stream",
     "text": [
      "[2 4 3 1]\n"
     ]
    }
   ],
   "source": [
    "# First row\n",
    "print(x[1,:]) "
   ]
  },
  {
   "cell_type": "code",
   "execution_count": 65,
   "metadata": {},
   "outputs": [
    {
     "name": "stdout",
     "output_type": "stream",
     "text": [
      "[4 2 3 2]\n"
     ]
    }
   ],
   "source": [
    "# Zeroth row (alternative)\n",
    "print(x[0]) "
   ]
  },
  {
   "cell_type": "code",
   "execution_count": 66,
   "metadata": {},
   "outputs": [
    {
     "name": "stdout",
     "output_type": "stream",
     "text": [
      "[2 1 3 3]\n",
      "(4,)\n"
     ]
    }
   ],
   "source": [
    "# Last column\n",
    "print(x[:,-1])\n",
    "print(x[:,-1].shape) "
   ]
  },
  {
   "cell_type": "code",
   "execution_count": 67,
   "metadata": {},
   "outputs": [
    {
     "name": "stdout",
     "output_type": "stream",
     "text": [
      "[[2]\n",
      " [1]\n",
      " [3]\n",
      " [3]]\n",
      "(4, 1)\n"
     ]
    }
   ],
   "source": [
    "print(x[:,-1:])\n",
    "print(x[:,-1:].shape) "
   ]
  },
  {
   "cell_type": "code",
   "execution_count": 68,
   "metadata": {},
   "outputs": [
    {
     "name": "stdout",
     "output_type": "stream",
     "text": [
      "[[2 3 2]\n",
      " [4 3 1]\n",
      " [4 1 3]]\n"
     ]
    }
   ],
   "source": [
    "#First 3 rows, all the columns starting from 1\n",
    "print(x[:3,1:])"
   ]
  },
  {
   "cell_type": "code",
   "execution_count": 69,
   "metadata": {},
   "outputs": [
    {
     "name": "stdout",
     "output_type": "stream",
     "text": [
      "[[2 4]\n",
      " [2 4]]\n"
     ]
    }
   ],
   "source": [
    "# 2x2 from around the middle\n",
    "print(x[1:3,:2])"
   ]
  },
  {
   "cell_type": "code",
   "execution_count": 70,
   "metadata": {},
   "outputs": [
    {
     "data": {
      "text/plain": [
       "array([[2, 4],\n",
       "       [4, 1]])"
      ]
     },
     "execution_count": 70,
     "metadata": {},
     "output_type": "execute_result"
    }
   ],
   "source": [
    "# Lists as indices!!\n",
    "x[[1,3],:2]"
   ]
  },
  {
   "cell_type": "code",
   "execution_count": 71,
   "metadata": {},
   "outputs": [
    {
     "data": {
      "text/plain": [
       "array([[ True, False, False, False],\n",
       "       [False,  True, False, False],\n",
       "       [False,  True, False, False],\n",
       "       [ True, False, False, False]])"
      ]
     },
     "execution_count": 71,
     "metadata": {},
     "output_type": "execute_result"
    }
   ],
   "source": [
    "x > 3"
   ]
  },
  {
   "cell_type": "markdown",
   "metadata": {},
   "source": [
    "We can assign using slicing as well"
   ]
  },
  {
   "cell_type": "code",
   "execution_count": 72,
   "metadata": {},
   "outputs": [
    {
     "name": "stdout",
     "output_type": "stream",
     "text": [
      "[[4 2 3 2]\n",
      " [2 4 3 1]\n",
      " [2 4 1 3]\n",
      " [4 1 2 3]]\n",
      "To assigned\n",
      "[[8 3]\n",
      " [1 4]]\n",
      "After assignment\n",
      "[[4 2 3 2]\n",
      " [8 3 3 1]\n",
      " [1 4 1 3]\n",
      " [4 1 2 3]]\n"
     ]
    }
   ],
   "source": [
    "y = np.random.randint(0,10,(2,2))\n",
    "print(x)\n",
    "print('To assigned')\n",
    "print(y)\n",
    "print('After assignment')\n",
    "x[1:3,:2] = y\n",
    "print(x)"
   ]
  },
  {
   "cell_type": "markdown",
   "metadata": {},
   "source": [
    "### Changing Array Shapes\n",
    "\n",
    "Sometimes we need to change the shape of the array without changing the number of elements. Frequent use-cases are converting 1D arrays to 2D arrays for compatibility purposes (i.e. shape a to shape a x 1) and converting an arbitrary array to a 1D array to get a vector representation (e.g. shape a x b x c to shape a\\*b\\*c)"
   ]
  },
  {
   "cell_type": "code",
   "execution_count": 73,
   "metadata": {},
   "outputs": [
    {
     "name": "stdout",
     "output_type": "stream",
     "text": [
      "[1. 2. 3. 4. 5. 6. 7. 8. 9.]\n",
      "\n"
     ]
    }
   ],
   "source": [
    "x = np.linspace(1,9,9)\n",
    "print(x)\n",
    "print()"
   ]
  },
  {
   "cell_type": "code",
   "execution_count": 74,
   "metadata": {},
   "outputs": [
    {
     "name": "stdout",
     "output_type": "stream",
     "text": [
      "[[1. 2. 3.]\n",
      " [4. 5. 6.]\n",
      " [7. 8. 9.]]\n",
      "\n"
     ]
    }
   ],
   "source": [
    "x2 = x.reshape((3,3))\n",
    "print(x2)\n",
    "print()"
   ]
  },
  {
   "cell_type": "code",
   "execution_count": 75,
   "metadata": {},
   "outputs": [],
   "source": [
    "#Will not work if uncommented\n",
    "# x.reshape((3,4)) "
   ]
  },
  {
   "cell_type": "code",
   "execution_count": 76,
   "metadata": {},
   "outputs": [
    {
     "name": "stdout",
     "output_type": "stream",
     "text": [
      "[[1.]\n",
      " [2.]\n",
      " [3.]\n",
      " [4.]\n",
      " [5.]\n",
      " [6.]\n",
      " [7.]\n",
      " [8.]\n",
      " [9.]]\n",
      "\n",
      "[[1. 2. 3. 4. 5. 6. 7. 8. 9.]]\n",
      "\n"
     ]
    }
   ],
   "source": [
    "x3a = x.reshape((9,1))\n",
    "print(x3a)\n",
    "print()\n",
    "x3b = x.reshape((1,9))\n",
    "print(x3b)\n",
    "print()"
   ]
  },
  {
   "cell_type": "code",
   "execution_count": 77,
   "metadata": {},
   "outputs": [
    {
     "name": "stdout",
     "output_type": "stream",
     "text": [
      "[[1.]\n",
      " [2.]\n",
      " [3.]\n",
      " [4.]\n",
      " [5.]\n",
      " [6.]\n",
      " [7.]\n",
      " [8.]\n",
      " [9.]]\n",
      "[[1. 2. 3. 4. 5. 6. 7. 8. 9.]]\n"
     ]
    }
   ],
   "source": [
    "# Adding a dimension without specifying the size\n",
    "x4a = x.reshape((-1,1))\n",
    "print(x4a)\n",
    "x4b = x.reshape((1,-1))\n",
    "print(x4b)"
   ]
  },
  {
   "cell_type": "code",
   "execution_count": 78,
   "metadata": {},
   "outputs": [
    {
     "data": {
      "text/plain": [
       "array([[[1.],\n",
       "        [2.],\n",
       "        [3.]],\n",
       "\n",
       "       [[4.],\n",
       "        [5.],\n",
       "        [6.]],\n",
       "\n",
       "       [[7.],\n",
       "        [8.],\n",
       "        [9.]]])"
      ]
     },
     "execution_count": 78,
     "metadata": {},
     "output_type": "execute_result"
    }
   ],
   "source": [
    "x.reshape((-1,3,1))"
   ]
  },
  {
   "cell_type": "code",
   "execution_count": 79,
   "metadata": {},
   "outputs": [],
   "source": [
    "#Will not work\n",
    "# x.reshape((-1,4,1))"
   ]
  },
  {
   "cell_type": "code",
   "execution_count": 80,
   "metadata": {},
   "outputs": [],
   "source": [
    "#Will not work\n",
    "# x.reshape((-1,-1,3,1))"
   ]
  },
  {
   "cell_type": "code",
   "execution_count": 81,
   "metadata": {},
   "outputs": [
    {
     "name": "stdout",
     "output_type": "stream",
     "text": [
      "[[1.]\n",
      " [2.]\n",
      " [3.]\n",
      " [4.]\n",
      " [5.]\n",
      " [6.]\n",
      " [7.]\n",
      " [8.]\n",
      " [9.]]\n",
      "\n",
      "[[1. 2. 3. 4. 5. 6. 7. 8. 9.]]\n",
      "\n"
     ]
    }
   ],
   "source": [
    "# Alternatively\n",
    "x4c = x[:,np.newaxis]\n",
    "print(x4c)\n",
    "print()\n",
    "x4d = x[np.newaxis,:]\n",
    "print(x4d)\n",
    "print()"
   ]
  },
  {
   "cell_type": "code",
   "execution_count": 82,
   "metadata": {},
   "outputs": [
    {
     "name": "stdout",
     "output_type": "stream",
     "text": [
      "1 (20,)\n"
     ]
    }
   ],
   "source": [
    "y = np.random.random((4,5,1))\n",
    "z = y.reshape(4*5)\n",
    "print(z.ndim,z.shape)"
   ]
  },
  {
   "cell_type": "code",
   "execution_count": 83,
   "metadata": {},
   "outputs": [
    {
     "name": "stdout",
     "output_type": "stream",
     "text": [
      "(4, 5, 1)\n",
      "(4, 5)\n"
     ]
    }
   ],
   "source": [
    "# Drop the single-dimensional entries\n",
    "y = np.random.random((4,5,1))\n",
    "print(y.shape)\n",
    "print(y.squeeze().shape)"
   ]
  },
  {
   "cell_type": "code",
   "execution_count": 84,
   "metadata": {},
   "outputs": [
    {
     "name": "stdout",
     "output_type": "stream",
     "text": [
      "(1, 4, 5, 1)\n",
      "(4, 5)\n"
     ]
    }
   ],
   "source": [
    "y = np.random.random((1,4,5,1))\n",
    "print(y.shape)\n",
    "print(y.squeeze().shape)"
   ]
  },
  {
   "cell_type": "code",
   "execution_count": 85,
   "metadata": {},
   "outputs": [],
   "source": [
    "import numpy as np"
   ]
  },
  {
   "cell_type": "code",
   "execution_count": 86,
   "metadata": {},
   "outputs": [
    {
     "name": "stdout",
     "output_type": "stream",
     "text": [
      "(2, 3)\n",
      "(6,)\n"
     ]
    }
   ],
   "source": [
    "y = np.random.random((2,3))\n",
    "print(y.shape)\n",
    "print(y.flatten().shape)"
   ]
  },
  {
   "cell_type": "code",
   "execution_count": 87,
   "metadata": {},
   "outputs": [
    {
     "name": "stdout",
     "output_type": "stream",
     "text": [
      "[[0.06377848 0.26167312 0.852259  ]\n",
      " [0.01368892 0.4543863  0.78672829]]\n",
      "\n",
      "[0.06377848 0.26167312 0.852259   0.01368892 0.4543863  0.78672829]\n"
     ]
    }
   ],
   "source": [
    "# Default is row-major\n",
    "print(y)\n",
    "print()\n",
    "print(y.flatten())"
   ]
  },
  {
   "cell_type": "code",
   "execution_count": 88,
   "metadata": {},
   "outputs": [
    {
     "name": "stdout",
     "output_type": "stream",
     "text": [
      "[0.06377848 0.01368892 0.26167312 0.4543863  0.852259   0.78672829]\n"
     ]
    }
   ],
   "source": [
    "# Column-major\n",
    "print(y.flatten('F'))"
   ]
  },
  {
   "cell_type": "markdown",
   "metadata": {},
   "source": [
    "## Joining Arrays\n",
    "\n",
    "There are multiple commands to join arrays  together:\n",
    "* `np.concatenate`: Join/stack the given np.array objects along an **existing** axis\n",
    "* `np.hstack`: Join/stack the given 2D np.array objects horizontally (columnwise, i.e. increasing the number of columns).\n",
    "* `np.vstack`: Join/stack the given 2D np.array objects vertically (rowwise, i.e. increasing the number of rows). \n",
    "* `np.dstack`: Join/stack the given 2D np.array objects depthwise. (adds a third axis)\n",
    "* `np.stack`: Join/stack the given np.array objects along a new axis.\n",
    "* `np.column_stack`: Treat the 1D np.array objects as vertical vectors and join/stack them horizontally to get a 2D array.\n",
    "\n",
    "The dimensions and dimension sizes of the joined arrays must match. Some of these create a new axis. Note that we can use these on more than two arrays"
   ]
  },
  {
   "cell_type": "code",
   "execution_count": 89,
   "metadata": {},
   "outputs": [],
   "source": [
    "a = np.array([[1, 2], [3, 4]])\n",
    "b = np.array([[5, 6]])"
   ]
  },
  {
   "cell_type": "code",
   "execution_count": 90,
   "metadata": {},
   "outputs": [
    {
     "name": "stdout",
     "output_type": "stream",
     "text": [
      "[[1 2]\n",
      " [3 4]]\n",
      "[[5 6]]\n"
     ]
    }
   ],
   "source": [
    "print(a)\n",
    "print(b)"
   ]
  },
  {
   "cell_type": "code",
   "execution_count": 91,
   "metadata": {},
   "outputs": [
    {
     "name": "stdout",
     "output_type": "stream",
     "text": [
      "[[1 2]\n",
      " [3 4]\n",
      " [5 6]]\n",
      "\n",
      "[[1 2]\n",
      " [3 4]\n",
      " [5 6]]\n"
     ]
    }
   ],
   "source": [
    "# Zeroth axis\n",
    "print(np.concatenate((a, b), axis=0))\n",
    "print()\n",
    "print(np.vstack((a, b)))"
   ]
  },
  {
   "cell_type": "code",
   "execution_count": 92,
   "metadata": {},
   "outputs": [
    {
     "name": "stdout",
     "output_type": "stream",
     "text": [
      "[[1 2]\n",
      " [3 4]]\n",
      "[[5]\n",
      " [6]]\n"
     ]
    }
   ],
   "source": [
    "print(a)\n",
    "print(b.T)"
   ]
  },
  {
   "cell_type": "code",
   "execution_count": 93,
   "metadata": {},
   "outputs": [
    {
     "name": "stdout",
     "output_type": "stream",
     "text": [
      "[[1 2 5]\n",
      " [3 4 6]]\n",
      "\n",
      "[[1 2 5]\n",
      " [3 4 6]]\n"
     ]
    }
   ],
   "source": [
    "# First axis\n",
    "print(np.concatenate((a, b.T), axis=1))\n",
    "print()\n",
    "print(np.hstack((a, b.T)))"
   ]
  },
  {
   "cell_type": "code",
   "execution_count": 94,
   "metadata": {},
   "outputs": [
    {
     "name": "stdout",
     "output_type": "stream",
     "text": [
      "[1 2 3 4 5 6]\n"
     ]
    }
   ],
   "source": [
    "# ALternative way of flattening\n",
    "print(np.concatenate((a, b), axis=None))"
   ]
  },
  {
   "cell_type": "code",
   "execution_count": 95,
   "metadata": {},
   "outputs": [
    {
     "name": "stdout",
     "output_type": "stream",
     "text": [
      "(200, 2)\n",
      "(100, 4)\n"
     ]
    }
   ],
   "source": [
    "x1 = np.random.random((100,2))\n",
    "x2 = np.random.random((100,2))\n",
    "\n",
    "print(np.concatenate((x1, x2), axis=0).shape)\n",
    "print(np.concatenate((x1, x2), axis=1).shape)\n",
    "\n",
    "#Error\n",
    "#print(np.concatenate((x1, x2), axis=2).shape)"
   ]
  },
  {
   "cell_type": "code",
   "execution_count": 96,
   "metadata": {},
   "outputs": [
    {
     "name": "stdout",
     "output_type": "stream",
     "text": [
      "(200, 2)\n",
      "(100, 4)\n"
     ]
    }
   ],
   "source": [
    "print(np.vstack((x1, x2)).shape)\n",
    "print(np.hstack((x1, x2)).shape)"
   ]
  },
  {
   "cell_type": "code",
   "execution_count": 97,
   "metadata": {},
   "outputs": [
    {
     "name": "stdout",
     "output_type": "stream",
     "text": [
      "(100, 2, 2)\n"
     ]
    }
   ],
   "source": [
    "x1 = x1.reshape((100,2,1))\n",
    "x2 = x2[:,:,np.newaxis]\n",
    "\n",
    "#Error\n",
    "print(np.concatenate((x1, x2), axis=2).shape)"
   ]
  },
  {
   "cell_type": "code",
   "execution_count": 98,
   "metadata": {},
   "outputs": [
    {
     "name": "stdout",
     "output_type": "stream",
     "text": [
      "(100, 2, 2)\n"
     ]
    }
   ],
   "source": [
    "#This works\n",
    "print(np.dstack((x1, x2)).shape)"
   ]
  },
  {
   "cell_type": "code",
   "execution_count": 99,
   "metadata": {},
   "outputs": [
    {
     "name": "stdout",
     "output_type": "stream",
     "text": [
      "[[1. 1. 1. 1. 1. 1. 1. 1. 1. 1.]\n",
      " [0. 0. 0. 0. 0. 0. 0. 0. 0. 0.]]\n",
      "\n"
     ]
    }
   ],
   "source": [
    "x=np.ones(10) #1D\n",
    "y=np.zeros(10) #1D\n",
    "# hstack\n",
    "print(np.stack((x,y),axis=0)) #2D\n",
    "print()"
   ]
  },
  {
   "cell_type": "code",
   "execution_count": 100,
   "metadata": {},
   "outputs": [
    {
     "name": "stdout",
     "output_type": "stream",
     "text": [
      "[[1. 0.]\n",
      " [1. 0.]\n",
      " [1. 0.]\n",
      " [1. 0.]\n",
      " [1. 0.]\n",
      " [1. 0.]\n",
      " [1. 0.]\n",
      " [1. 0.]\n",
      " [1. 0.]\n",
      " [1. 0.]]\n",
      "\n"
     ]
    }
   ],
   "source": [
    "print(np.stack((x,y),axis=1)) #2D\n",
    "print()"
   ]
  },
  {
   "cell_type": "code",
   "execution_count": 101,
   "metadata": {},
   "outputs": [
    {
     "name": "stdout",
     "output_type": "stream",
     "text": [
      "[[1. 0.]\n",
      " [1. 0.]\n",
      " [1. 0.]\n",
      " [1. 0.]\n",
      " [1. 0.]\n",
      " [1. 0.]\n",
      " [1. 0.]\n",
      " [1. 0.]\n",
      " [1. 0.]\n",
      " [1. 0.]]\n",
      "\n"
     ]
    }
   ],
   "source": [
    "print(np.column_stack((x,y)))\n",
    "print()"
   ]
  },
  {
   "cell_type": "code",
   "execution_count": 102,
   "metadata": {},
   "outputs": [
    {
     "name": "stdout",
     "output_type": "stream",
     "text": [
      "[1. 1. 1. 1. 1. 1. 1. 1. 1. 1. 0. 0. 0. 0. 0. 0. 0. 0. 0. 0.]\n",
      "\n"
     ]
    }
   ],
   "source": [
    "print(np.concatenate((x,y),axis=0))\n",
    "print()\n",
    "#Hata verecek\n",
    "#print(np.concatenate((x,y),axis=1))\n",
    "#print()"
   ]
  },
  {
   "cell_type": "markdown",
   "metadata": {},
   "source": [
    "## Conditional Indexing\n",
    "We can apply conditional indexing on numpy arrays.\n",
    "Conditional indexing has two components:\n",
    "* Apply boolean operators on the array. This returns element-wise results.\n",
    "* Use indexing with booleans (recall that we can use sequences for indexing)"
   ]
  },
  {
   "cell_type": "code",
   "execution_count": 103,
   "metadata": {},
   "outputs": [
    {
     "name": "stdout",
     "output_type": "stream",
     "text": [
      "[0 1 2 3 4]\n"
     ]
    }
   ],
   "source": [
    "data = np.arange(5)\n",
    "print(data)"
   ]
  },
  {
   "cell_type": "code",
   "execution_count": 104,
   "metadata": {},
   "outputs": [
    {
     "name": "stdout",
     "output_type": "stream",
     "text": [
      "[ True  True  True False False]\n",
      "bool\n"
     ]
    }
   ],
   "source": [
    "# Elementwise boolean operation\n",
    "b = data < 3\n",
    "print(b)\n",
    "print(b.dtype)"
   ]
  },
  {
   "cell_type": "code",
   "execution_count": 105,
   "metadata": {},
   "outputs": [
    {
     "name": "stdout",
     "output_type": "stream",
     "text": [
      "[0 1 2 3 4]\n",
      "[0 1 4]\n"
     ]
    }
   ],
   "source": [
    "# Using booleans for access \n",
    "a = np.arange(5)\n",
    "print(a)\n",
    "print(a[ [True, True, False, False, True] ])"
   ]
  },
  {
   "cell_type": "code",
   "execution_count": 106,
   "metadata": {},
   "outputs": [
    {
     "name": "stdout",
     "output_type": "stream",
     "text": [
      "[0 1 2]\n"
     ]
    }
   ],
   "source": [
    "print(a[ b ])"
   ]
  },
  {
   "cell_type": "markdown",
   "metadata": {},
   "source": [
    "Join the two to get conditional indexing"
   ]
  },
  {
   "cell_type": "code",
   "execution_count": 107,
   "metadata": {
    "scrolled": true
   },
   "outputs": [
    {
     "name": "stdout",
     "output_type": "stream",
     "text": [
      "[0 1 2 3 4 1]\n",
      "[0 1 2 1]\n"
     ]
    }
   ],
   "source": [
    "a = np.arange(5)\n",
    "a = np.concatenate((a,[1]),axis=0)\n",
    "print(a)\n",
    "# Access\n",
    "print(a[a < 3])"
   ]
  },
  {
   "cell_type": "code",
   "execution_count": 108,
   "metadata": {},
   "outputs": [
    {
     "name": "stdout",
     "output_type": "stream",
     "text": [
      "[10 10 10  3  4 10]\n"
     ]
    }
   ],
   "source": [
    "# Assignment\n",
    "a[a < 3] = 10\n",
    "print(a)"
   ]
  },
  {
   "cell_type": "markdown",
   "metadata": {},
   "source": [
    "We can further use logical operations on the boolean arrays; `&` is used for **and**, `|` is used for **or**. Note that we cannot directly use `and` and `or`."
   ]
  },
  {
   "cell_type": "code",
   "execution_count": 109,
   "metadata": {},
   "outputs": [],
   "source": [
    "import matplotlib.pyplot as plt"
   ]
  },
  {
   "cell_type": "code",
   "execution_count": 110,
   "metadata": {
    "scrolled": false
   },
   "outputs": [
    {
     "data": {
      "text/plain": [
       "[<matplotlib.lines.Line2D at 0x1f97dfeba48>]"
      ]
     },
     "execution_count": 110,
     "metadata": {},
     "output_type": "execute_result"
    },
    {
     "data": {
      "image/png": "[encoded data removed]",
      "text/plain": [
       "<Figure size 432x288 with 1 Axes>"
      ]
     },
     "metadata": {
      "needs_background": "light"
     },
     "output_type": "display_data"
    }
   ],
   "source": [
    "x = np.linspace(0, 6 * np.pi, 200)\n",
    "y = np.sin(x)\n",
    "\n",
    "plt.plot(x,y)"
   ]
  },
  {
   "cell_type": "code",
   "execution_count": 111,
   "metadata": {},
   "outputs": [
    {
     "data": {
      "image/png": "[encoded data removed]",
      "text/plain": [
       "<Figure size 432x288 with 1 Axes>"
      ]
     },
     "metadata": {
      "needs_background": "light"
     },
     "output_type": "display_data"
    }
   ],
   "source": [
    "plt.plot(x[(y > 0.7) | (y < -0.5)], y[(y > 0.7) | (y < -0.5)], 'bo')\n",
    "plt.plot(x[(y > -0.5) & (y < 0.7)], y[(y > -0.5) & (y < 0.7)], 'ro')\n",
    "plt.show()"
   ]
  },
  {
   "cell_type": "code",
   "execution_count": 112,
   "metadata": {},
   "outputs": [],
   "source": [
    "#(a < 3) and (a >1) # this will not work"
   ]
  },
  {
   "cell_type": "markdown",
   "metadata": {},
   "source": [
    "**Numpy Simple Statistics**"
   ]
  },
  {
   "cell_type": "code",
   "execution_count": 113,
   "metadata": {
    "scrolled": true
   },
   "outputs": [
    {
     "name": "stdout",
     "output_type": "stream",
     "text": [
      "[[ 0.91850921  1.         -0.42421099]\n",
      " [ 1.19862869  1.         -0.11064843]\n",
      " [ 0.2356072   1.          0.46545435]\n",
      " [ 1.12040938  1.         -0.05569247]\n",
      " [ 1.58059566  1.         -0.287173  ]\n",
      " [ 1.38197417  1.          0.36064456]\n",
      " [ 0.7664477   1.          0.48592059]\n",
      " [ 0.31033793  1.          0.3815031 ]\n",
      " [ 1.87412114  1.         -0.09911847]\n",
      " [ 0.89132706  1.          0.68500199]]\n"
     ]
    }
   ],
   "source": [
    "col1=np.random.normal(1,0.5,(10,1))\n",
    "col2=np.ones((10,1))\n",
    "col3=np.random.uniform(-1,1,(10,1))\n",
    "mat=np.concatenate((col1,col2,col3),axis=1)\n",
    "#print(mat.shape)\n",
    "#mat = np.reshape(mat,(10,3))\n",
    "print(mat)"
   ]
  },
  {
   "cell_type": "code",
   "execution_count": 114,
   "metadata": {},
   "outputs": [
    {
     "data": {
      "text/plain": [
       "0.7226546462489669"
      ]
     },
     "execution_count": 114,
     "metadata": {},
     "output_type": "execute_result"
    }
   ],
   "source": [
    "# Mean of all elements of the array\n",
    "np.mean(mat)"
   ]
  },
  {
   "cell_type": "code",
   "execution_count": 115,
   "metadata": {},
   "outputs": [
    {
     "data": {
      "text/plain": [
       "array([1.02779581, 1.        , 0.14016812])"
      ]
     },
     "execution_count": 115,
     "metadata": {},
     "output_type": "execute_result"
    }
   ],
   "source": [
    "# Mean of the 0th axis (since mat is 2D, it corresponds to the rows)\n",
    "np.mean(mat,axis=0) "
   ]
  },
  {
   "cell_type": "code",
   "execution_count": 116,
   "metadata": {},
   "outputs": [
    {
     "data": {
      "text/plain": [
       "array([0.4980994 , 0.69599342, 0.56702052, 0.68823897, 0.76447422,\n",
       "       0.91420625, 0.75078943, 0.56394701, 0.92500089, 0.85877635])"
      ]
     },
     "execution_count": 116,
     "metadata": {},
     "output_type": "execute_result"
    }
   ],
   "source": [
    "# Mean of the 1st axis (since mat is 2D, it corresponds to the columns)\n",
    "np.mean(mat,axis=1) "
   ]
  },
  {
   "cell_type": "code",
   "execution_count": 117,
   "metadata": {},
   "outputs": [
    {
     "data": {
      "text/plain": [
       "array([1.01945929, 1.        , 0.15247605])"
      ]
     },
     "execution_count": 117,
     "metadata": {},
     "output_type": "execute_result"
    }
   ],
   "source": [
    "# Median\n",
    "np.median(mat,axis=0) "
   ]
  },
  {
   "cell_type": "code",
   "execution_count": 118,
   "metadata": {},
   "outputs": [
    {
     "data": {
      "text/plain": [
       "array([0.49256841, 0.        , 0.35898815])"
      ]
     },
     "execution_count": 118,
     "metadata": {},
     "output_type": "execute_result"
    }
   ],
   "source": [
    "# Standard deviation\n",
    "np.std(mat,axis=0)"
   ]
  },
  {
   "cell_type": "code",
   "execution_count": 119,
   "metadata": {},
   "outputs": [
    {
     "data": {
      "text/plain": [
       "array([0.24262364, 0.        , 0.12887249])"
      ]
     },
     "execution_count": 119,
     "metadata": {},
     "output_type": "execute_result"
    }
   ],
   "source": [
    "# Variance\n",
    "np.var(mat,axis=0) "
   ]
  },
  {
   "cell_type": "code",
   "execution_count": 120,
   "metadata": {},
   "outputs": [
    {
     "data": {
      "text/plain": [
       "array([1.87412114, 1.        , 0.68500199])"
      ]
     },
     "execution_count": 120,
     "metadata": {},
     "output_type": "execute_result"
    }
   ],
   "source": [
    "# Maximum\n",
    "np.max(mat,axis=0)"
   ]
  },
  {
   "cell_type": "code",
   "execution_count": 121,
   "metadata": {},
   "outputs": [
    {
     "data": {
      "text/plain": [
       "array([-0.42421099, -0.11064843,  0.2356072 , -0.05569247, -0.287173  ,\n",
       "        0.36064456,  0.48592059,  0.31033793, -0.09911847,  0.68500199])"
      ]
     },
     "execution_count": 121,
     "metadata": {},
     "output_type": "execute_result"
    }
   ],
   "source": [
    "# Minimum\n",
    "np.min(mat,axis=1)"
   ]
  },
  {
   "cell_type": "code",
   "execution_count": 122,
   "metadata": {},
   "outputs": [
    {
     "data": {
      "text/plain": [
       "21.679639387469006"
      ]
     },
     "execution_count": 122,
     "metadata": {},
     "output_type": "execute_result"
    }
   ],
   "source": [
    "# Sum of all the elements\n",
    "np.sum(mat)"
   ]
  },
  {
   "cell_type": "code",
   "execution_count": 123,
   "metadata": {},
   "outputs": [
    {
     "data": {
      "text/plain": [
       "array([10.27795815, 10.        ,  1.40168124])"
      ]
     },
     "execution_count": 123,
     "metadata": {},
     "output_type": "execute_result"
    }
   ],
   "source": [
    "#Sum along the axis\n",
    "np.sum(mat,axis=0)"
   ]
  },
  {
   "cell_type": "code",
   "execution_count": 124,
   "metadata": {},
   "outputs": [
    {
     "data": {
      "text/plain": [
       "array([3, 3, 3, 3, 3, 3, 3, 3, 3, 3], dtype=int64)"
      ]
     },
     "execution_count": 124,
     "metadata": {},
     "output_type": "execute_result"
    }
   ],
   "source": [
    "# Number of non-elements\n",
    "np.count_nonzero(mat,axis=1) #"
   ]
  },
  {
   "cell_type": "code",
   "execution_count": 125,
   "metadata": {},
   "outputs": [
    {
     "data": {
      "text/plain": [
       "4"
      ]
     },
     "execution_count": 125,
     "metadata": {},
     "output_type": "execute_result"
    }
   ],
   "source": [
    "np.count_nonzero(np.eye(4)) #"
   ]
  },
  {
   "cell_type": "code",
   "execution_count": 126,
   "metadata": {},
   "outputs": [
    {
     "data": {
      "text/plain": [
       "True"
      ]
     },
     "execution_count": 126,
     "metadata": {},
     "output_type": "execute_result"
    }
   ],
   "source": [
    "# Checking for nan elements\n",
    "np.isnan(np.nan)"
   ]
  },
  {
   "cell_type": "code",
   "execution_count": 127,
   "metadata": {},
   "outputs": [
    {
     "data": {
      "text/plain": [
       "array([[False, False, False],\n",
       "       [False, False, False],\n",
       "       [False, False, False],\n",
       "       [False, False, False],\n",
       "       [False, False, False],\n",
       "       [False, False, False],\n",
       "       [False, False, False],\n",
       "       [False, False, False],\n",
       "       [False, False, False],\n",
       "       [False, False, False]])"
      ]
     },
     "execution_count": 127,
     "metadata": {},
     "output_type": "execute_result"
    }
   ],
   "source": [
    "np.isnan(mat)"
   ]
  },
  {
   "cell_type": "code",
   "execution_count": 128,
   "metadata": {},
   "outputs": [
    {
     "data": {
      "text/plain": [
       "array([False,  True, False])"
      ]
     },
     "execution_count": 128,
     "metadata": {},
     "output_type": "execute_result"
    }
   ],
   "source": [
    "tmp = np.zeros(3)\n",
    "tmp[1] = None #or np.nan\n",
    "np.isnan(tmp)"
   ]
  },
  {
   "cell_type": "markdown",
   "metadata": {},
   "source": [
    "### Array Copies"
   ]
  },
  {
   "cell_type": "code",
   "execution_count": 129,
   "metadata": {},
   "outputs": [
    {
     "name": "stdout",
     "output_type": "stream",
     "text": [
      "[[1 4 1 9]\n",
      " [4 0 6 5]\n",
      " [2 8 9 5]]\n"
     ]
    }
   ],
   "source": [
    "x = np.random.randint(10, size=(3, 4))\n",
    "\n",
    "print(x)"
   ]
  },
  {
   "cell_type": "code",
   "execution_count": 130,
   "metadata": {},
   "outputs": [
    {
     "name": "stdout",
     "output_type": "stream",
     "text": [
      "[[1 4]\n",
      " [4 0]]\n"
     ]
    }
   ],
   "source": [
    "x_top_copy = x[:2,:2].copy()\n",
    "print(x_top_copy)"
   ]
  },
  {
   "cell_type": "code",
   "execution_count": 131,
   "metadata": {},
   "outputs": [
    {
     "name": "stdout",
     "output_type": "stream",
     "text": [
      "[[ 1 -6  1  9]\n",
      " [ 4  0  6  5]\n",
      " [ 2  8  9  5]]\n",
      "\n",
      "[[-1  4]\n",
      " [ 4  0]]\n"
     ]
    }
   ],
   "source": [
    "x_top_copy[0,0] = -1\n",
    "x[0,1] += -10\n",
    "print(x)\n",
    "print()\n",
    "print(x_top_copy)"
   ]
  },
  {
   "cell_type": "code",
   "execution_count": 132,
   "metadata": {},
   "outputs": [
    {
     "name": "stdout",
     "output_type": "stream",
     "text": [
      "[[ 4 10]\n",
      " [ 8  1]]\n",
      "[10  1]\n"
     ]
    }
   ],
   "source": [
    "A=np.array([[4,10],[8,1]])\n",
    "#reference copy\n",
    "print(A)\n",
    "b=A[:,1]\n",
    "print(b)\n",
    "\n",
    "#To not have a reference copy:\n",
    "#b=A[:,1].copy()"
   ]
  },
  {
   "cell_type": "code",
   "execution_count": 133,
   "metadata": {},
   "outputs": [
    {
     "name": "stdout",
     "output_type": "stream",
     "text": [
      "[11  2]\n",
      "[[ 4 11]\n",
      " [ 8  2]]\n"
     ]
    }
   ],
   "source": [
    "b+=1\n",
    "print(b)\n",
    "print(A)"
   ]
  },
  {
   "cell_type": "code",
   "execution_count": 134,
   "metadata": {},
   "outputs": [
    {
     "name": "stdout",
     "output_type": "stream",
     "text": [
      "[[11 11]\n",
      " [ 2  2]]\n"
     ]
    }
   ],
   "source": [
    "#value copy\n",
    "A[:,0] = b\n",
    "print(A)"
   ]
  },
  {
   "cell_type": "code",
   "execution_count": 135,
   "metadata": {},
   "outputs": [
    {
     "name": "stdout",
     "output_type": "stream",
     "text": [
      "[12  3]\n"
     ]
    }
   ],
   "source": [
    "b+=1\n",
    "print(b)"
   ]
  },
  {
   "cell_type": "code",
   "execution_count": 136,
   "metadata": {},
   "outputs": [
    {
     "name": "stdout",
     "output_type": "stream",
     "text": [
      "[[11 12]\n",
      " [ 2  3]]\n"
     ]
    }
   ],
   "source": [
    "print(A)"
   ]
  },
  {
   "cell_type": "markdown",
   "metadata": {},
   "source": [
    "### Numpy Sorting"
   ]
  },
  {
   "cell_type": "code",
   "execution_count": 137,
   "metadata": {},
   "outputs": [
    {
     "name": "stdout",
     "output_type": "stream",
     "text": [
      "[2 1 4 3 5]\n",
      "[1 2 3 4 5]\n"
     ]
    }
   ],
   "source": [
    "# Sorting out-of-place\n",
    "x = np.array([2, 1, 4, 3, 5])\n",
    "y = np.sort(x)\n",
    "print(x)\n",
    "print(y)"
   ]
  },
  {
   "cell_type": "code",
   "execution_count": 138,
   "metadata": {},
   "outputs": [
    {
     "name": "stdout",
     "output_type": "stream",
     "text": [
      "[1 2 3 4 5]\n"
     ]
    }
   ],
   "source": [
    "# Sorting in-place\n",
    "#x=np.sort(x), this is inefficient\n",
    "x.sort()\n",
    "print(x)"
   ]
  },
  {
   "cell_type": "code",
   "execution_count": 139,
   "metadata": {},
   "outputs": [
    {
     "name": "stdout",
     "output_type": "stream",
     "text": [
      "[1 0 3 2 4]\n",
      "[2 1 4 3 5]\n"
     ]
    }
   ],
   "source": [
    "# Getting the sorted indices aka argsorting\n",
    "x = np.array([2, 1, 4, 3, 5])\n",
    "orderedIndices = np.argsort(x)\n",
    "print(orderedIndices)\n",
    "print(x)"
   ]
  },
  {
   "cell_type": "code",
   "execution_count": 140,
   "metadata": {},
   "outputs": [
    {
     "name": "stdout",
     "output_type": "stream",
     "text": [
      "[2 1 4 3 5]\n",
      "[1 2 4]\n"
     ]
    }
   ],
   "source": [
    "# Recall:\n",
    "print(x)\n",
    "print(x[[1, 0, 2]])"
   ]
  },
  {
   "cell_type": "code",
   "execution_count": 141,
   "metadata": {},
   "outputs": [
    {
     "name": "stdout",
     "output_type": "stream",
     "text": [
      "[1 2 3 4 5]\n"
     ]
    }
   ],
   "source": [
    "# Sequence based indexing of array\n",
    "print(x[orderedIndices])"
   ]
  },
  {
   "cell_type": "code",
   "execution_count": 142,
   "metadata": {},
   "outputs": [],
   "source": [
    "# This does not work with Python lists\n",
    "y = [2, 1, 4, 3, 5]\n",
    "#y[ [1, 0, 2] ] # this will not work"
   ]
  },
  {
   "cell_type": "markdown",
   "metadata": {},
   "source": [
    "Multi-dimensional arrays can also be sorted"
   ]
  },
  {
   "cell_type": "code",
   "execution_count": 143,
   "metadata": {},
   "outputs": [
    {
     "name": "stdout",
     "output_type": "stream",
     "text": [
      "[[7 9 6 5 8]\n",
      " [1 2 4 5 7]\n",
      " [6 9 8 7 1]]\n"
     ]
    }
   ],
   "source": [
    "X = np.random.randint(1, 10, (3, 5))\n",
    "print(X)"
   ]
  },
  {
   "cell_type": "code",
   "execution_count": 144,
   "metadata": {},
   "outputs": [
    {
     "data": {
      "text/plain": [
       "array([[1, 2, 4, 5, 1],\n",
       "       [6, 9, 6, 5, 7],\n",
       "       [7, 9, 8, 7, 8]])"
      ]
     },
     "execution_count": 144,
     "metadata": {},
     "output_type": "execute_result"
    }
   ],
   "source": [
    "# Sort columns\n",
    "np.sort(X, axis=0)"
   ]
  },
  {
   "cell_type": "code",
   "execution_count": 145,
   "metadata": {},
   "outputs": [
    {
     "data": {
      "text/plain": [
       "array([[5, 6, 7, 8, 9],\n",
       "       [1, 2, 4, 5, 7],\n",
       "       [1, 6, 7, 8, 9]])"
      ]
     },
     "execution_count": 145,
     "metadata": {},
     "output_type": "execute_result"
    }
   ],
   "source": [
    "# Sort rows\n",
    "np.sort(X, axis=1)"
   ]
  },
  {
   "cell_type": "markdown",
   "metadata": {},
   "source": [
    "You can also use argsort with multi-dimensional arrays"
   ]
  },
  {
   "cell_type": "code",
   "execution_count": 146,
   "metadata": {},
   "outputs": [
    {
     "data": {
      "text/plain": [
       "array([[3, 2, 0, 4, 1],\n",
       "       [0, 1, 2, 3, 4],\n",
       "       [4, 0, 3, 2, 1]], dtype=int64)"
      ]
     },
     "execution_count": 146,
     "metadata": {},
     "output_type": "execute_result"
    }
   ],
   "source": [
    "np.argsort(X, axis=1)"
   ]
  },
  {
   "cell_type": "markdown",
   "metadata": {},
   "source": [
    "How to sort the rows based on a single column?"
   ]
  },
  {
   "cell_type": "code",
   "execution_count": 147,
   "metadata": {},
   "outputs": [
    {
     "name": "stdout",
     "output_type": "stream",
     "text": [
      "[[7 9 6 5 8]\n",
      " [1 2 4 5 7]\n",
      " [6 9 8 7 1]]\n",
      "\n",
      "[[7 9 6 5 8]\n",
      " [1 2 4 5 7]\n",
      " [6 9 8 7 1]]\n"
     ]
    }
   ],
   "source": [
    "# Let's sort based on the 3rd column\n",
    "# Note that rows are preserved\n",
    "print(X)\n",
    "inds=np.argsort(X[:,3])\n",
    "print()\n",
    "print(X[inds,:])"
   ]
  },
  {
   "cell_type": "code",
   "execution_count": 148,
   "metadata": {},
   "outputs": [
    {
     "name": "stdout",
     "output_type": "stream",
     "text": [
      "[[7 9 6 5 8]\n",
      " [1 2 4 5 7]\n",
      " [6 9 8 7 1]]\n",
      "\n",
      "[[7 9 6 5 8]\n",
      " [1 2 4 5 7]\n",
      " [6 9 8 7 1]]\n"
     ]
    }
   ],
   "source": [
    "# Let's sort based on the 1st row\n",
    "# Note that columns are preserved\n",
    "print(X)\n",
    "inds=np.argsort(X[1,:])\n",
    "print()\n",
    "print(X[:,inds])"
   ]
  },
  {
   "cell_type": "markdown",
   "metadata": {},
   "source": [
    "## Numpy Operations - Recap\n",
    "\n",
    "Examples of element-wise operations. "
   ]
  },
  {
   "cell_type": "code",
   "execution_count": 149,
   "metadata": {},
   "outputs": [
    {
     "name": "stdout",
     "output_type": "stream",
     "text": [
      "[[1. 2.]\n",
      " [3. 4.]]\n",
      "\n",
      "[[5. 6.]\n",
      " [7. 8.]]\n"
     ]
    }
   ],
   "source": [
    "%matplotlib inline\n",
    "import matplotlib.pyplot as plt\n",
    "import numpy as np\n",
    "\n",
    "x = np.array([[1,2],[3,4]], dtype=np.float64)\n",
    "y = np.array([[5,6],[7,8]], dtype=np.float64)\n",
    "print(x)\n",
    "print()\n",
    "print(y)"
   ]
  },
  {
   "cell_type": "code",
   "execution_count": 150,
   "metadata": {},
   "outputs": [
    {
     "name": "stdout",
     "output_type": "stream",
     "text": [
      "[[ 6.  8.]\n",
      " [10. 12.]]\n",
      "\n",
      "[[ 6.  8.]\n",
      " [10. 12.]]\n"
     ]
    }
   ],
   "source": [
    "# Addition\n",
    "# [[ 6.0  8.0]\n",
    "#  [10.0 12.0]]\n",
    "print(x + y)\n",
    "print()\n",
    "print(np.add(x, y))"
   ]
  },
  {
   "cell_type": "code",
   "execution_count": 151,
   "metadata": {},
   "outputs": [
    {
     "name": "stdout",
     "output_type": "stream",
     "text": [
      "[[-4. -4.]\n",
      " [-4. -4.]]\n",
      "\n",
      "[[-4. -4.]\n",
      " [-4. -4.]]\n"
     ]
    }
   ],
   "source": [
    "# Subtraction\n",
    "# [[-4.0 -4.0]\n",
    "#  [-4.0 -4.0]]\n",
    "print(x - y)\n",
    "print()\n",
    "print(np.subtract(x, y))"
   ]
  },
  {
   "cell_type": "code",
   "execution_count": 152,
   "metadata": {},
   "outputs": [
    {
     "name": "stdout",
     "output_type": "stream",
     "text": [
      "[[ 5. 12.]\n",
      " [21. 32.]]\n",
      "\n",
      "[[ 5. 12.]\n",
      " [21. 32.]]\n"
     ]
    }
   ],
   "source": [
    "# Multiplication\n",
    "# [[ 5.0 12.0]\n",
    "#  [21.0 32.0]]\n",
    "print(x * y)\n",
    "print()\n",
    "print(np.multiply(x, y))"
   ]
  },
  {
   "cell_type": "code",
   "execution_count": 153,
   "metadata": {},
   "outputs": [
    {
     "name": "stdout",
     "output_type": "stream",
     "text": [
      "[[0.2        0.33333333]\n",
      " [0.42857143 0.5       ]]\n",
      "\n",
      "[[0.2        0.33333333]\n",
      " [0.42857143 0.5       ]]\n"
     ]
    }
   ],
   "source": [
    "# Division\n",
    "# [[ 0.2         0.33333333]\n",
    "#  [ 0.42857143  0.5       ]]\n",
    "print(x / y)\n",
    "print()\n",
    "print(np.divide(x, y))"
   ]
  },
  {
   "cell_type": "code",
   "execution_count": 154,
   "metadata": {},
   "outputs": [
    {
     "name": "stdout",
     "output_type": "stream",
     "text": [
      "[[1.         1.41421356]\n",
      " [1.73205081 2.        ]]\n",
      "\n",
      "[[ 0.84147098  0.90929743]\n",
      " [ 0.14112001 -0.7568025 ]]\n",
      "\n",
      "[[0.         0.69314718]\n",
      " [1.09861229 1.38629436]]\n",
      "\n"
     ]
    }
   ],
   "source": [
    "# Functions\n",
    "print(np.sqrt(x))\n",
    "print()\n",
    "print(np.sin(x))\n",
    "print()\n",
    "print(np.log(x))\n",
    "print()"
   ]
  },
  {
   "cell_type": "markdown",
   "metadata": {},
   "source": [
    "Mathematical functions: https://numpy.org/doc/stable/reference/routines.math.html"
   ]
  },
  {
   "cell_type": "markdown",
   "metadata": {},
   "source": [
    "**Matrix Multiplication:**\n",
    "\n",
    "Matrix (2D array) multiplication is down with `np.matmul` function or the `@` opeator. The generalized dot product, applicaple to numpy arrays (as long as the sizes match) is done with `np.dot`."
   ]
  },
  {
   "cell_type": "code",
   "execution_count": 155,
   "metadata": {},
   "outputs": [
    {
     "name": "stdout",
     "output_type": "stream",
     "text": [
      "[[3. 3. 3. 3.]\n",
      " [3. 3. 3. 3.]\n",
      " [3. 3. 3. 3.]\n",
      " [3. 3. 3. 3.]]\n"
     ]
    }
   ],
   "source": [
    "x=np.ones((3,4))\n",
    "print(np.dot(x.T,x)) # 4x3 . 3x4"
   ]
  },
  {
   "cell_type": "code",
   "execution_count": 156,
   "metadata": {},
   "outputs": [],
   "source": [
    "v = np.array([9,10]) #1D, 2\n",
    "w = np.array([11,2]) #1D, 2\n",
    "\n",
    "x = np.array([[1,2],[3,4]]) #2D, 2x2\n",
    "y = np.array([[5,6],[7,8]]) #2D, 2x2"
   ]
  },
  {
   "cell_type": "code",
   "execution_count": 157,
   "metadata": {},
   "outputs": [
    {
     "name": "stdout",
     "output_type": "stream",
     "text": [
      "119\n",
      "119\n",
      "119\n",
      "119\n"
     ]
    }
   ],
   "source": [
    "# Inner product\n",
    "print(v.dot(w)) #9*11+10*2\n",
    "print(np.dot(v, w))\n",
    "print(np.matmul(v,w))\n",
    "print(v@w)"
   ]
  },
  {
   "cell_type": "code",
   "execution_count": 158,
   "metadata": {},
   "outputs": [
    {
     "name": "stdout",
     "output_type": "stream",
     "text": [
      "[29 67]\n",
      "[29 67]\n",
      "[29 67]\n",
      "[29 67]\n"
     ]
    }
   ],
   "source": [
    "# Matrix / vector multiplication. 1D array is treated as a column vector\n",
    "# 9*1+10*2, 9*3+10*4\n",
    "print(x.dot(v)) \n",
    "print(np.dot(x, v))\n",
    "print(np.matmul(x,v))\n",
    "print(x@v) "
   ]
  },
  {
   "cell_type": "code",
   "execution_count": 159,
   "metadata": {},
   "outputs": [
    {
     "name": "stdout",
     "output_type": "stream",
     "text": [
      "[39 58]\n",
      "[39 58]\n",
      "[39 58]\n",
      "[39 58]\n"
     ]
    }
   ],
   "source": [
    "# Matrix / vector multiplication. 1D array is treated as a row vector\n",
    "# 9*1+10*3, 9*2+10*4\n",
    "print(v.dot(x))\n",
    "print(np.dot(v, x))\n",
    "print(np.matmul(v,x))\n",
    "print(v@x) "
   ]
  },
  {
   "cell_type": "code",
   "execution_count": 160,
   "metadata": {},
   "outputs": [
    {
     "name": "stdout",
     "output_type": "stream",
     "text": [
      "[[29]\n",
      " [67]]\n",
      "[[39 58]]\n"
     ]
    }
   ],
   "source": [
    "# Another way\n",
    "print(x.dot(v.reshape((-1,1))))\n",
    "print(v.reshape((1,-1)).dot(x))"
   ]
  },
  {
   "cell_type": "code",
   "execution_count": 161,
   "metadata": {},
   "outputs": [
    {
     "name": "stdout",
     "output_type": "stream",
     "text": [
      "[[19 22]\n",
      " [43 50]]\n",
      "[[19 22]\n",
      " [43 50]]\n",
      "[[19 22]\n",
      " [43 50]]\n",
      "[[19 22]\n",
      " [43 50]]\n"
     ]
    }
   ],
   "source": [
    "# Matrix / matrix multiplication\n",
    "print(x.dot(y))\n",
    "print(np.dot(x, y))\n",
    "print(np.matmul(x,y))\n",
    "print(x@y)"
   ]
  },
  {
   "cell_type": "code",
   "execution_count": 162,
   "metadata": {},
   "outputs": [
    {
     "name": "stdout",
     "output_type": "stream",
     "text": [
      "[[23 34]\n",
      " [31 46]]\n"
     ]
    }
   ],
   "source": [
    "# Matrix / matrix multiplication but the other way\n",
    "print(y.dot(x))"
   ]
  },
  {
   "cell_type": "code",
   "execution_count": 163,
   "metadata": {},
   "outputs": [
    {
     "name": "stdout",
     "output_type": "stream",
     "text": [
      "(3, 2)\n",
      "[[0.79769496 0.88605719]\n",
      " [0.76632428 0.57213945]\n",
      " [0.64072339 0.92917097]]\n"
     ]
    }
   ],
   "source": [
    "# Different but matching shapes \n",
    "x = np.random.random((3,4))\n",
    "y = np.random.random((4,2))\n",
    "z = x@y\n",
    "print(z.shape)\n",
    "print(z)"
   ]
  },
  {
   "cell_type": "code",
   "execution_count": 164,
   "metadata": {},
   "outputs": [],
   "source": [
    "# z=y@x # This will give an error; 4x2 times 3x4 "
   ]
  },
  {
   "cell_type": "markdown",
   "metadata": {},
   "source": [
    "## Linalg Submodule\n",
    "\n",
    "Many linear algebra related operations can be found under Numpy's Linear Algebra submodule:\n",
    "https://numpy.org/doc/stable/reference/routines.linalg.html\n",
    "\n",
    "(Note: Similar operations are also in the SciPy library submodule of the same name, https://docs.scipy.org/doc/scipy/reference/linalg.html)\n",
    "\n",
    "Let's start with the matrix inverse"
   ]
  },
  {
   "cell_type": "code",
   "execution_count": 165,
   "metadata": {},
   "outputs": [
    {
     "name": "stdout",
     "output_type": "stream",
     "text": [
      "[[1 2]\n",
      " [3 4]]\n",
      "\n",
      "[[-2.   1. ]\n",
      " [ 1.5 -0.5]]\n",
      "\n"
     ]
    }
   ],
   "source": [
    "x = np.array([[1,2],[3,4]]) #2D, 2x2\n",
    "print(x)\n",
    "print()\n",
    "\n",
    "xinv = np.linalg.inv(x)\n",
    "print(xinv)\n",
    "print()"
   ]
  },
  {
   "cell_type": "code",
   "execution_count": 166,
   "metadata": {},
   "outputs": [
    {
     "name": "stdout",
     "output_type": "stream",
     "text": [
      "[[1.0000000e+00 0.0000000e+00]\n",
      " [8.8817842e-16 1.0000000e+00]]\n",
      "\n",
      "[[1.00000000e+00 0.00000000e+00]\n",
      " [1.11022302e-16 1.00000000e+00]]\n"
     ]
    }
   ],
   "source": [
    "print(x@xinv)\n",
    "print()\n",
    "print(xinv@x)"
   ]
  },
  {
   "cell_type": "markdown",
   "metadata": {},
   "source": [
    "Solving a System of Linear Equations\n",
    "E.g: $3\\cdot x_0 + x_1 = 9$ and $x_0 + 2\\cdot x_1 = 8$\n",
    "\n",
    "`np.linalg.solve` Solves the $Ax=b$ equation"
   ]
  },
  {
   "cell_type": "code",
   "execution_count": 167,
   "metadata": {},
   "outputs": [
    {
     "name": "stdout",
     "output_type": "stream",
     "text": [
      "[[3.1  1.21]\n",
      " [1.2  2.3 ]]\n"
     ]
    }
   ],
   "source": [
    "A = np.array([[3.1,1.21], [1.2,2.3]])\n",
    "b = np.array([9,8/3])\n",
    "print(A)"
   ]
  },
  {
   "cell_type": "code",
   "execution_count": 168,
   "metadata": {},
   "outputs": [
    {
     "name": "stdout",
     "output_type": "stream",
     "text": [
      "[ 3.07737466 -0.44616649]\n"
     ]
    }
   ],
   "source": [
    "x = np.linalg.solve(A, b)\n",
    "print(x)"
   ]
  },
  {
   "cell_type": "code",
   "execution_count": 169,
   "metadata": {},
   "outputs": [
    {
     "name": "stdout",
     "output_type": "stream",
     "text": [
      "[9.         2.66666667]\n",
      "[9.         2.66666667]\n"
     ]
    }
   ],
   "source": [
    "print(b)\n",
    "print(np.dot(A, x))"
   ]
  },
  {
   "cell_type": "markdown",
   "metadata": {},
   "source": [
    "Solution test"
   ]
  },
  {
   "cell_type": "code",
   "execution_count": 170,
   "metadata": {},
   "outputs": [
    {
     "name": "stdout",
     "output_type": "stream",
     "text": [
      "True\n"
     ]
    }
   ],
   "source": [
    "print(np.allclose(np.dot(A, x), b))"
   ]
  },
  {
   "cell_type": "code",
   "execution_count": 171,
   "metadata": {},
   "outputs": [
    {
     "data": {
      "text/plain": [
       "False"
      ]
     },
     "execution_count": 171,
     "metadata": {},
     "output_type": "execute_result"
    }
   ],
   "source": [
    "(np.dot(A, x) == b).all()"
   ]
  },
  {
   "cell_type": "markdown",
   "metadata": {},
   "source": [
    "With inverse"
   ]
  },
  {
   "cell_type": "code",
   "execution_count": 172,
   "metadata": {},
   "outputs": [
    {
     "name": "stdout",
     "output_type": "stream",
     "text": [
      "[ 3.07737466 -0.44616649]\n",
      "True\n"
     ]
    }
   ],
   "source": [
    "x=np.linalg.inv(A).dot(b)\n",
    "print(x)\n",
    "print(np.allclose(np.dot(A, x), b))"
   ]
  },
  {
   "cell_type": "markdown",
   "metadata": {},
   "source": [
    "Sometimes you need to solve $xA=b$ For this either do:\n",
    "```\n",
    " x=b.dot(np.linalg.inv(A))\n",
    "```\n",
    "or using $xA=b \\rightarrow A^Tx^T=b^T$:\n",
    "```\n",
    " x=np.linalg.solve(A.T, b.T)\n",
    "```\n"
   ]
  },
  {
   "cell_type": "markdown",
   "metadata": {},
   "source": [
    "**The Pseudo-Inverse:**"
   ]
  },
  {
   "cell_type": "code",
   "execution_count": 173,
   "metadata": {},
   "outputs": [],
   "source": [
    "A = np.random.normal(0, 0.5, (6, 3)) #this is not a square matrix, no inverse!"
   ]
  },
  {
   "cell_type": "code",
   "execution_count": 174,
   "metadata": {},
   "outputs": [],
   "source": [
    "# np.linalg.inv(A) # this will give an error"
   ]
  },
  {
   "cell_type": "code",
   "execution_count": 175,
   "metadata": {},
   "outputs": [
    {
     "name": "stdout",
     "output_type": "stream",
     "text": [
      "[[-0.52206852 -0.38021707 -0.10737     0.11643469 -0.28303361 -0.05093707]\n",
      " [ 0.07926812  0.47950838 -0.29944903 -0.12757343 -0.30385926 -0.30126917]\n",
      " [ 0.02660424  0.22947087  0.44648817 -0.44046857 -0.00271567 -0.02368383]]\n"
     ]
    }
   ],
   "source": [
    "Apinv = np.linalg.pinv(A) #3x6 \n",
    "print(Apinv)"
   ]
  },
  {
   "cell_type": "code",
   "execution_count": 176,
   "metadata": {},
   "outputs": [
    {
     "name": "stdout",
     "output_type": "stream",
     "text": [
      "[[ 1.00000000e+00  2.71412808e-17 -2.86938750e-16]\n",
      " [-3.31660067e-16  1.00000000e+00 -3.72138190e-17]\n",
      " [-4.33730299e-16 -1.71423123e-16  1.00000000e+00]]\n"
     ]
    }
   ],
   "source": [
    "print(np.dot(Apinv,A)) #square"
   ]
  },
  {
   "cell_type": "markdown",
   "metadata": {},
   "source": [
    "Does not work the other way!"
   ]
  },
  {
   "cell_type": "code",
   "execution_count": 177,
   "metadata": {},
   "outputs": [
    {
     "name": "stdout",
     "output_type": "stream",
     "text": [
      "[[ 0.59864853  0.31974858 -0.06396524  0.07077231  0.34883867  0.08509186]\n",
      " [ 0.31974858  0.61687401 -0.08759459 -0.256502   -0.10753766 -0.22151947]\n",
      " [-0.06396524 -0.08759459  0.67280688 -0.39100376  0.16948659  0.16359637]\n",
      " [ 0.07077231 -0.256502   -0.39100376  0.46831095  0.12620208  0.09686539]\n",
      " [ 0.34883867 -0.10753766  0.16948659  0.12620208  0.44147452  0.26204835]\n",
      " [ 0.08509186 -0.22151947  0.16359637  0.09686539  0.26204835  0.20188511]]\n"
     ]
    }
   ],
   "source": [
    "print(np.dot(A,Apinv)) #kare"
   ]
  },
  {
   "cell_type": "markdown",
   "metadata": {},
   "source": [
    "The Matrix Determinant:"
   ]
  },
  {
   "cell_type": "code",
   "execution_count": 178,
   "metadata": {},
   "outputs": [
    {
     "name": "stdout",
     "output_type": "stream",
     "text": [
      "5.000000000000001\n"
     ]
    }
   ],
   "source": [
    "x=np.array([[3,1], [1,2]])\n",
    "print(np.linalg.det(x))"
   ]
  },
  {
   "cell_type": "code",
   "execution_count": 179,
   "metadata": {},
   "outputs": [
    {
     "name": "stdout",
     "output_type": "stream",
     "text": [
      "-0.008674428989968291\n"
     ]
    }
   ],
   "source": [
    "x = np.random.random((10,10))\n",
    "print(np.linalg.det(x))"
   ]
  },
  {
   "cell_type": "markdown",
   "metadata": {},
   "source": [
    "Trace:"
   ]
  },
  {
   "cell_type": "code",
   "execution_count": 180,
   "metadata": {},
   "outputs": [
    {
     "name": "stdout",
     "output_type": "stream",
     "text": [
      "[[1. 0. 0.]\n",
      " [0. 1. 0.]\n",
      " [0. 0. 1.]]\n",
      "3.0\n"
     ]
    }
   ],
   "source": [
    "a=np.eye(3)\n",
    "print(a)\n",
    "print(np.trace(a))"
   ]
  },
  {
   "cell_type": "code",
   "execution_count": 181,
   "metadata": {},
   "outputs": [
    {
     "name": "stdout",
     "output_type": "stream",
     "text": [
      "[[1. 1. 1.]\n",
      " [1. 1. 1.]\n",
      " [1. 1. 1.]]\n",
      "3.0\n"
     ]
    }
   ],
   "source": [
    "a=np.ones((3,3))\n",
    "print(a)\n",
    "print(np.trace(a))"
   ]
  },
  {
   "cell_type": "markdown",
   "metadata": {},
   "source": [
    "Norms:"
   ]
  },
  {
   "cell_type": "code",
   "execution_count": 182,
   "metadata": {},
   "outputs": [
    {
     "name": "stdout",
     "output_type": "stream",
     "text": [
      "[-4 -3 -2 -1  0  1  2  3  4]\n",
      "7.745966692414834\n",
      "60\n",
      "7.745966692414834\n"
     ]
    }
   ],
   "source": [
    "a = np.arange(9) - 4\n",
    "print(a)\n",
    "print(np.linalg.norm(a))\n",
    "print(a.dot(a))\n",
    "print(np.sqrt(a.dot(a)))"
   ]
  },
  {
   "cell_type": "code",
   "execution_count": 183,
   "metadata": {},
   "outputs": [
    {
     "name": "stdout",
     "output_type": "stream",
     "text": [
      "[[-4 -3 -2]\n",
      " [-1  0  1]\n",
      " [ 2  3  4]]\n",
      "7.745966692414834\n"
     ]
    }
   ],
   "source": [
    "b = a.reshape((3, 3))\n",
    "print(b)\n",
    "print(np.linalg.norm(b)) #Frobenius norm"
   ]
  },
  {
   "cell_type": "code",
   "execution_count": 184,
   "metadata": {},
   "outputs": [
    {
     "name": "stdout",
     "output_type": "stream",
     "text": [
      "7.745966692414834\n"
     ]
    }
   ],
   "source": [
    "print(np.sqrt(np.trace(b.dot(b.T))))"
   ]
  },
  {
   "cell_type": "markdown",
   "metadata": {},
   "source": [
    "Rank:"
   ]
  },
  {
   "cell_type": "code",
   "execution_count": 185,
   "metadata": {},
   "outputs": [
    {
     "name": "stdout",
     "output_type": "stream",
     "text": [
      "4\n",
      "3\n",
      "1\n",
      "0\n"
     ]
    }
   ],
   "source": [
    "# Unit matrix, full rank\n",
    "print(np.linalg.matrix_rank(np.eye(4)))\n",
    "\n",
    "# Losing 1 rank since we are setting an all 0 row\n",
    "B=np.eye(4)\n",
    "B[-1,-1] = 0. \n",
    "print(np.linalg.matrix_rank(B))\n",
    "\n",
    "#Matrix of only 1s, thus we need only 1 vector to define it\n",
    "print(np.linalg.matrix_rank(np.ones((4,4))))\n",
    "\n",
    "#Matrix of only 0s, no information\n",
    "print(np.linalg.matrix_rank(np.zeros((4,4))))"
   ]
  },
  {
   "cell_type": "code",
   "execution_count": 186,
   "metadata": {},
   "outputs": [
    {
     "name": "stdout",
     "output_type": "stream",
     "text": [
      "0.0\n"
     ]
    },
    {
     "data": {
      "text/plain": [
       "array([[1., 0., 0., 0.],\n",
       "       [0., 1., 0., 0.],\n",
       "       [0., 0., 1., 0.],\n",
       "       [0., 0., 0., 0.]])"
      ]
     },
     "execution_count": 186,
     "metadata": {},
     "output_type": "execute_result"
    }
   ],
   "source": [
    "# Non-full rank matrixes have 0 determinant, thus we cannot calculate their inverse\n",
    "# However, we can still calculate the pseudo-inverse\n",
    "print(np.linalg.det(B))\n",
    "#np.linalg.inv(B) # this will give an error\n",
    "np.linalg.pinv(B)"
   ]
  },
  {
   "cell_type": "markdown",
   "metadata": {},
   "source": [
    "### Example: K-Nearest Neighbors Algorithm"
   ]
  },
  {
   "cell_type": "code",
   "execution_count": 201,
   "metadata": {},
   "outputs": [],
   "source": [
    "import numpy as np\n",
    "\n",
    "X = np.random.random((100,2))\n",
    "y = np.random.randint(0,2,100)\n",
    "x = np.random.random((1,2))\n",
    "\n",
    "num_classes = len(np.unique(y))\n",
    "\n",
    "# You have n points (maybe multi-dimensional), X and n labels, y\n",
    "# You are given a new point, x \n",
    "# Find the closest k points to x within X\n",
    "# Use this information to label x (majority of y within k closest neighbors)\n",
    "\n",
    "#Intentionally inefficient version:\n",
    "def knn(X, y, x, k, norm, plot = False):\n",
    "    # norm(x1,x2): returns the distance between two points\n",
    "    dists = np.empty(X.shape[0])\n",
    "    for i in range(X.shape[0]):\n",
    "        dists[i] = norm(X[i,:], x) #X[i] returns the ith row so it is also correct\n",
    "    \n",
    "    indices = np.argsort(dists)\n",
    "    kindices = indices[:k]\n",
    "    \n",
    "    ky = y[kindices]\n",
    "    # Assume y is an integer between 0 to num_classes-1\n",
    "    counts = np.zeros(num_classes)\n",
    "    for label in ky:\n",
    "        counts[label] += 1\n",
    "    #Alternatively:\n",
    "    # counts = np.bincount(ky)\n",
    "    \n",
    "    probs = counts/k\n",
    "    xlabel = np.argmax(counts)\n",
    "    \n",
    "    if plot:\n",
    "        plt.plot(X[indices[k:],0],X[indices[k:],1],'b.')\n",
    "        plt.plot(X[indices[:k],0],X[indices[:k],1],'go')\n",
    "        plt.plot(x[:,0],x[:,1],'rx')\n",
    "    plt.axis('Equal')\n",
    "    plt.show()\n",
    "    \n",
    "    return xlabel, probs\n",
    "    "
   ]
  },
  {
   "cell_type": "code",
   "execution_count": 188,
   "metadata": {},
   "outputs": [],
   "source": [
    "def l2norm(x1,x2):\n",
    "    return np.linalg.norm(x1-x2)"
   ]
  },
  {
   "cell_type": "code",
   "execution_count": 189,
   "metadata": {},
   "outputs": [],
   "source": [
    "def cosineNorm(x1,x2):\n",
    "    #x dot y = x.norm * y.norm *cos(alpha)\n",
    "    cos_alpha = x2@x1/(np.linalg.norm(x1)*np.linalg.norm(x2))\n",
    "    alpha = np.arccos(cos_alpha)\n",
    "    return alpha"
   ]
  },
  {
   "cell_type": "code",
   "execution_count": 202,
   "metadata": {
    "scrolled": true
   },
   "outputs": [
    {
     "name": "stdout",
     "output_type": "stream",
     "text": [
      "[2. 3.]\n",
      "[2 3]\n"
     ]
    },
    {
     "data": {
      "text/plain": [
       "(1, array([0.4, 0.6]))"
      ]
     },
     "execution_count": 202,
     "metadata": {},
     "output_type": "execute_result"
    }
   ],
   "source": [
    "knn(X,y,x,5,l2norm)"
   ]
  },
  {
   "cell_type": "code",
   "execution_count": 203,
   "metadata": {},
   "outputs": [
    {
     "name": "stdout",
     "output_type": "stream",
     "text": [
      "[1. 4.]\n",
      "[1 4]\n"
     ]
    },
    {
     "data": {
      "text/plain": [
       "(1, array([0.2, 0.8]))"
      ]
     },
     "execution_count": 203,
     "metadata": {},
     "output_type": "execute_result"
    }
   ],
   "source": [
    "knn(X,y,x,5,cosineNorm)"
   ]
  },
  {
   "cell_type": "markdown",
   "metadata": {},
   "source": [
    "### Eigenvalues and Eigenvectors\n",
    "\n",
    "$Ax=\\lambda x$ "
   ]
  },
  {
   "cell_type": "code",
   "execution_count": 192,
   "metadata": {},
   "outputs": [
    {
     "name": "stdout",
     "output_type": "stream",
     "text": [
      "[[1 0 0]\n",
      " [0 2 0]\n",
      " [0 0 3]]\n"
     ]
    }
   ],
   "source": [
    "# Starting Simple\n",
    "x = np.diag([1, 2, 3])\n",
    "print(x)"
   ]
  },
  {
   "cell_type": "code",
   "execution_count": 193,
   "metadata": {},
   "outputs": [
    {
     "name": "stdout",
     "output_type": "stream",
     "text": [
      "[1. 2. 3.]\n",
      "[[1. 0. 0.]\n",
      " [0. 1. 0.]\n",
      " [0. 0. 1.]]\n"
     ]
    }
   ],
   "source": [
    "values, vectors = np.linalg.eig(x)\n",
    "print(values)\n",
    "print(vectors)"
   ]
  },
  {
   "cell_type": "markdown",
   "metadata": {},
   "source": [
    "May return complex numbers"
   ]
  },
  {
   "cell_type": "code",
   "execution_count": 194,
   "metadata": {},
   "outputs": [
    {
     "name": "stdout",
     "output_type": "stream",
     "text": [
      "[1.+1.j 1.-1.j]\n",
      "[[0.70710678+0.j         0.70710678-0.j        ]\n",
      " [0.        -0.70710678j 0.        +0.70710678j]]\n"
     ]
    }
   ],
   "source": [
    "x=np.array([[1, -1], [1, 1]])\n",
    "values, vectors = np.linalg.eig(x)\n",
    "print(values)\n",
    "print(vectors)"
   ]
  },
  {
   "cell_type": "markdown",
   "metadata": {},
   "source": [
    "An Application: Finding the main directions of the data:"
   ]
  },
  {
   "cell_type": "code",
   "execution_count": 195,
   "metadata": {},
   "outputs": [],
   "source": [
    "# Example data\n",
    "n = 100\n",
    "\n",
    "x = np.linspace(0,5,n)\n",
    "y = 2*x + np.random.normal(0,1.,n)\n",
    "\n",
    "X = np.vstack((y,x))\n",
    "\n",
    "# Center the data\n",
    "X = X-np.mean(X,axis=1).reshape((-1,1))"
   ]
  },
  {
   "cell_type": "code",
   "execution_count": 196,
   "metadata": {},
   "outputs": [],
   "source": [
    "# Calculate the eigenvalues and vectors\n",
    "w,v = np.linalg.eig(X.dot(X.T)/(n-1))"
   ]
  },
  {
   "cell_type": "code",
   "execution_count": 197,
   "metadata": {},
   "outputs": [
    {
     "name": "stdout",
     "output_type": "stream",
     "text": [
      "[10.93903813  0.20545317]\n",
      "\n",
      "[[ 0.90505528 -0.42529395]\n",
      " [ 0.42529395  0.90505528]]\n"
     ]
    }
   ],
   "source": [
    "print(w)\n",
    "print()\n",
    "print(v)"
   ]
  },
  {
   "cell_type": "code",
   "execution_count": 198,
   "metadata": {},
   "outputs": [
    {
     "name": "stdout",
     "output_type": "stream",
     "text": [
      "2.128069937337946\n"
     ]
    }
   ],
   "source": [
    "# The main direction should have a slope that is around 2\n",
    "# Why 2? Look at the data (y = 2x + ...)\n",
    "print(v[0,0]/v[1,0])"
   ]
  },
  {
   "cell_type": "code",
   "execution_count": 199,
   "metadata": {
    "scrolled": true
   },
   "outputs": [
    {
     "data": {
      "image/png": "[encoded data removed]",
      "text/plain": [
       "<Figure size 432x288 with 1 Axes>"
      ]
     },
     "metadata": {
      "needs_background": "light"
     },
     "output_type": "display_data"
    }
   ],
   "source": [
    "origin = [[0],[0]] # origin point\n",
    "plt.plot(X[0,:],X[1,:],'g.')\n",
    "plt.quiver([0],[0],v[0,0],v[1,0],color=['r'], scale=10/np.sqrt(w[0]))\n",
    "plt.quiver([0],[0],v[0,1],v[1,1],color=['b'], scale=10/np.sqrt(w[1]))\n",
    "#plt.quiver([0,0],[0,0],v[0,:],v[1,:],color=['r','b'], scale=5)\n",
    "plt.axis('Equal')\n",
    "plt.show()"
   ]
  },
  {
   "cell_type": "markdown",
   "metadata": {},
   "source": [
    "**Matrix Decompositions**\n",
    "\n",
    "Numpy Linalg Module readily supports the following matrix decompositions:\n",
    "\n",
    "* Cholesky Decomposition: `linalg.cholesky(A)`\n",
    "    * A = LL* (*: conjugate transpose, equivalent to regular transpose for real numbers) where L is lower-triangular\n",
    "    * A must be square and positive definite (and also Hermitian/symmetric but it seems to work without this)\n",
    "* QR Factorization: `linalg.qr(A)`, should look at the `mode` parameter as well\n",
    "    * A = QR where Q is orthonormal and R is upper-triangular\n",
    "* Singular Value Decomposition: `linalg.svd(A)`, should look at the other parameters as well\n",
    "    * USV* (U: unitary/orthogonal (complex/real), S: rectangular diagonal of non-negative reals, V:unitary/orthogonal (complex/real))\n",
    "    * Returns only the diagonal elements of S!\n"
   ]
  },
  {
   "cell_type": "code",
   "execution_count": 226,
   "metadata": {},
   "outputs": [
    {
     "name": "stdout",
     "output_type": "stream",
     "text": [
      "[[ 1.06492933  0.          0.          0.        ]\n",
      " [ 0.56517227  0.90549272  0.          0.        ]\n",
      " [ 0.43560081  0.56424385  0.9700425   0.        ]\n",
      " [ 0.83194869  0.56316306 -0.03469934  0.32037476]]\n"
     ]
    }
   ],
   "source": [
    "A = np.random.random((4,4)) + np.eye(4) #to make it positive definite\n",
    "L = np.linalg.cholesky(A)\n",
    "print(L)"
   ]
  },
  {
   "cell_type": "code",
   "execution_count": 234,
   "metadata": {},
   "outputs": [
    {
     "name": "stdout",
     "output_type": "stream",
     "text": [
      "[[-0.22377136  0.88945802  0.39744186  0.02882323]\n",
      " [-0.25736549  0.12719505 -0.36534333 -0.88549911]\n",
      " [-0.78339731 -0.00472692 -0.46074635  0.41710804]\n",
      " [-0.51959411 -0.43893451  0.70446932 -0.20268555]]\n",
      "\n",
      "[[-0.91162383 -1.18450916 -0.66358579 -1.4769224  -1.09175531 -0.63737116]\n",
      " [ 0.          0.7172665  -0.02243522  0.59501644  0.75296924  0.09013878]\n",
      " [ 0.          0.          0.4038408   0.26576666  0.09044618  0.04474737]\n",
      " [ 0.          0.          0.         -0.40139234  0.11102046 -0.81616873]]\n"
     ]
    }
   ],
   "source": [
    "A = np.random.random((4,6)) \n",
    "Q,R = np.linalg.qr(A)\n",
    "print(Q)\n",
    "print()\n",
    "print(R)"
   ]
  },
  {
   "cell_type": "code",
   "execution_count": 235,
   "metadata": {},
   "outputs": [
    {
     "name": "stdout",
     "output_type": "stream",
     "text": [
      "[[-0.71920799 -0.18917313 -0.55911424  0.01455673]\n",
      " [-0.45820291 -0.05901706  0.42095872 -0.02230734]\n",
      " [-0.01675965  0.62139808 -0.53569635  0.13957937]\n",
      " [-0.14344318  0.50637271  0.13954953 -0.80533466]\n",
      " [-0.48015442 -0.00507789  0.31402586  0.06089859]\n",
      " [-0.14623564  0.56405304  0.32423468  0.5723072 ]]\n",
      "\n",
      "[[-1.31816444 -1.01592737 -1.56089452 -1.34968815]\n",
      " [ 0.          1.33548842  0.79726893  0.58479767]\n",
      " [ 0.          0.          0.5733629   0.20264807]\n",
      " [ 0.          0.          0.          0.29921049]]\n"
     ]
    }
   ],
   "source": [
    "A = np.random.random((6,4)) \n",
    "Q,R = np.linalg.qr(A)\n",
    "print(Q)\n",
    "print()\n",
    "print(R)"
   ]
  },
  {
   "cell_type": "code",
   "execution_count": 238,
   "metadata": {},
   "outputs": [
    {
     "name": "stdout",
     "output_type": "stream",
     "text": [
      "[[-0.35759333 -0.69508891  0.62362754  0.00819209]\n",
      " [-0.56787094  0.08205874 -0.22381093 -0.78784365]\n",
      " [-0.56906475 -0.21409251 -0.5721623   0.55041803]\n",
      " [-0.47519986  0.68138254  0.48335046  0.27617975]]\n",
      "\n",
      "[2.42639606 1.13987156 0.69117628 0.25782826]\n",
      "\n",
      "[[-0.51071921 -0.37182515 -0.33299359 -0.365281   -0.22304692 -0.5539378 ]\n",
      " [-0.19232485 -0.65824393 -0.12556118  0.54307083 -0.20685575  0.41981573]\n",
      " [-0.23476768  0.33731207 -0.69598187  0.35503957  0.46951357 -0.01475979]\n",
      " [ 0.18879406  0.38496862 -0.23469101  0.3288985  -0.78481696 -0.19226081]\n",
      " [-0.43371213  0.13955819  0.56866588  0.52213903  0.11756424 -0.42730072]\n",
      " [-0.65062413  0.3834113   0.10246046 -0.25453368 -0.23928805  0.54510521]]\n"
     ]
    }
   ],
   "source": [
    "A = np.random.random((4,6)) \n",
    "U,S,V = np.linalg.svd(A)\n",
    "print(U)\n",
    "print()\n",
    "print(S)\n",
    "print()\n",
    "print(V)"
   ]
  },
  {
   "cell_type": "code",
   "execution_count": 239,
   "metadata": {},
   "outputs": [
    {
     "name": "stdout",
     "output_type": "stream",
     "text": [
      "[[-0.43616394 -0.49796875  0.28731013 -0.06064382  0.57865474  0.37512937]\n",
      " [-0.39643816 -0.44574056  0.25201375 -0.00742908 -0.75799917 -0.0776098 ]\n",
      " [-0.53897085  0.19760838 -0.2056019   0.73602674  0.11769886 -0.26944539]\n",
      " [-0.37530183  0.63111732  0.56921529 -0.34128169  0.03198828 -0.13905746]\n",
      " [-0.34914462 -0.13680821 -0.54194946 -0.56633701  0.1371112  -0.47553679]\n",
      " [-0.31520596  0.31187795 -0.44040271 -0.13160915 -0.23857954  0.7315611 ]]\n",
      "\n",
      "[2.57080857 0.96323191 0.80598969 0.28969344]\n",
      "\n",
      "[[-0.72290418 -0.30465836 -0.46584481 -0.40936712]\n",
      " [-0.51079515  0.43111062 -0.13245616  0.73190663]\n",
      " [-0.45628055  0.16641631  0.83276026 -0.2657518 ]\n",
      " [-0.09113682 -0.83284604  0.26824304  0.47550733]]\n"
     ]
    }
   ],
   "source": [
    "A = np.random.random((6,4)) \n",
    "U,S,V = np.linalg.svd(A)\n",
    "print(U)\n",
    "print()\n",
    "print(S)\n",
    "print()\n",
    "print(V)"
   ]
  },
  {
   "cell_type": "markdown",
   "metadata": {},
   "source": [
    "**Linear System of Equations Example**\n",
    "\n",
    "Recall we had a NumPy function to solve the equations of type $Ax=b$\n",
    "\n",
    "Solve it at home!"
   ]
  },
  {
   "cell_type": "code",
   "execution_count": null,
   "metadata": {},
   "outputs": [],
   "source": [
    "import numpy as np\n",
    "\n",
    "# Linear System Equation small example\n",
    "\"\"\"\n",
    "x,y,z\n",
    "  2*x -    y +    z =  3\n",
    "   -x +   2y + 0.5z = -2\n",
    "0.5*x - 0.5y -    z =  0\n",
    "\"\"\"\n",
    "# Solve for x,y and z\n",
    "# Get something like [ 0.69230769 -0.84615385  0.76923077]\n"
   ]
  },
  {
   "cell_type": "markdown",
   "metadata": {},
   "source": [
    "**Least Squares Curve Fitting**\n",
    " \n",
    "Fitting a curve to existing data comes up in many places (e.g. experimental modeling, sensor calibration, machine learning etc.). Let's see how we can fit following model?\n",
    "\n",
    "$y = ax + b$\n",
    "\n",
    "Our aim is to find $a$ and $b$ given $n$ $x_i$ and $y_i$ pairs such that $\\sum_{i=1}^n (y_i-(ax_i+b))^2$ is minimized (there can be other metrics to optimize)"
   ]
  },
  {
   "cell_type": "code",
   "execution_count": 200,
   "metadata": {
    "scrolled": true
   },
   "outputs": [
    {
     "data": {
      "text/plain": [
       "[<matplotlib.lines.Line2D at 0x29de3c99d88>]"
      ]
     },
     "execution_count": 200,
     "metadata": {},
     "output_type": "execute_result"
    },
    {
     "data": {
      "image/png": "[encoded data removed]",
      "text/plain": [
       "<Figure size 432x288 with 1 Axes>"
      ]
     },
     "metadata": {
      "needs_background": "light"
     },
     "output_type": "display_data"
    }
   ],
   "source": [
    "x = np.linspace(0, 50, 100)\n",
    "y = np.random.normal(0, 0.5, 100) + 0.1 * x + 1.0\n",
    "plt.plot(x,y, '.')"
   ]
  },
  {
   "cell_type": "markdown",
   "metadata": {},
   "source": [
    "We can write it as a matrix operation $Xw = y$ where\n",
    "\n",
    "$X = \\begin{bmatrix}\n",
    "x_1 & 1 \\\\\n",
    "x_2 & 1 \\\\\n",
    "\\ldots  \\\\\n",
    "x_n & 1 \n",
    "\\end{bmatrix}, \n",
    "w = \\begin{bmatrix}\n",
    "a \\\\\n",
    "b\n",
    "\\end{bmatrix},\n",
    "y = \\begin{bmatrix}\n",
    "y_1 \\\\\n",
    "y_2 \\\\\n",
    "\\ldots \\\\\n",
    "y_n\n",
    "\\end{bmatrix}$\n",
    "\n",
    "Then, we use the `np.linalg.lstsq(X,y)` method to get our parameters"
   ]
  },
  {
   "cell_type": "code",
   "execution_count": 203,
   "metadata": {
    "scrolled": false
   },
   "outputs": [
    {
     "name": "stdout",
     "output_type": "stream",
     "text": [
      "[[ 0.          1.        ]\n",
      " [ 0.50505051  1.        ]\n",
      " [ 1.01010101  1.        ]\n",
      " [ 1.51515152  1.        ]\n",
      " [ 2.02020202  1.        ]\n",
      " [ 2.52525253  1.        ]\n",
      " [ 3.03030303  1.        ]\n",
      " [ 3.53535354  1.        ]\n",
      " [ 4.04040404  1.        ]\n",
      " [ 4.54545455  1.        ]\n",
      " [ 5.05050505  1.        ]\n",
      " [ 5.55555556  1.        ]\n",
      " [ 6.06060606  1.        ]\n",
      " [ 6.56565657  1.        ]\n",
      " [ 7.07070707  1.        ]\n",
      " [ 7.57575758  1.        ]\n",
      " [ 8.08080808  1.        ]\n",
      " [ 8.58585859  1.        ]\n",
      " [ 9.09090909  1.        ]\n",
      " [ 9.5959596   1.        ]\n",
      " [10.1010101   1.        ]\n",
      " [10.60606061  1.        ]\n",
      " [11.11111111  1.        ]\n",
      " [11.61616162  1.        ]\n",
      " [12.12121212  1.        ]\n",
      " [12.62626263  1.        ]\n",
      " [13.13131313  1.        ]\n",
      " [13.63636364  1.        ]\n",
      " [14.14141414  1.        ]\n",
      " [14.64646465  1.        ]\n",
      " [15.15151515  1.        ]\n",
      " [15.65656566  1.        ]\n",
      " [16.16161616  1.        ]\n",
      " [16.66666667  1.        ]\n",
      " [17.17171717  1.        ]\n",
      " [17.67676768  1.        ]\n",
      " [18.18181818  1.        ]\n",
      " [18.68686869  1.        ]\n",
      " [19.19191919  1.        ]\n",
      " [19.6969697   1.        ]\n",
      " [20.2020202   1.        ]\n",
      " [20.70707071  1.        ]\n",
      " [21.21212121  1.        ]\n",
      " [21.71717172  1.        ]\n",
      " [22.22222222  1.        ]\n",
      " [22.72727273  1.        ]\n",
      " [23.23232323  1.        ]\n",
      " [23.73737374  1.        ]\n",
      " [24.24242424  1.        ]\n",
      " [24.74747475  1.        ]\n",
      " [25.25252525  1.        ]\n",
      " [25.75757576  1.        ]\n",
      " [26.26262626  1.        ]\n",
      " [26.76767677  1.        ]\n",
      " [27.27272727  1.        ]\n",
      " [27.77777778  1.        ]\n",
      " [28.28282828  1.        ]\n",
      " [28.78787879  1.        ]\n",
      " [29.29292929  1.        ]\n",
      " [29.7979798   1.        ]\n",
      " [30.3030303   1.        ]\n",
      " [30.80808081  1.        ]\n",
      " [31.31313131  1.        ]\n",
      " [31.81818182  1.        ]\n",
      " [32.32323232  1.        ]\n",
      " [32.82828283  1.        ]\n",
      " [33.33333333  1.        ]\n",
      " [33.83838384  1.        ]\n",
      " [34.34343434  1.        ]\n",
      " [34.84848485  1.        ]\n",
      " [35.35353535  1.        ]\n",
      " [35.85858586  1.        ]\n",
      " [36.36363636  1.        ]\n",
      " [36.86868687  1.        ]\n",
      " [37.37373737  1.        ]\n",
      " [37.87878788  1.        ]\n",
      " [38.38383838  1.        ]\n",
      " [38.88888889  1.        ]\n",
      " [39.39393939  1.        ]\n",
      " [39.8989899   1.        ]\n",
      " [40.4040404   1.        ]\n",
      " [40.90909091  1.        ]\n",
      " [41.41414141  1.        ]\n",
      " [41.91919192  1.        ]\n",
      " [42.42424242  1.        ]\n",
      " [42.92929293  1.        ]\n",
      " [43.43434343  1.        ]\n",
      " [43.93939394  1.        ]\n",
      " [44.44444444  1.        ]\n",
      " [44.94949495  1.        ]\n",
      " [45.45454545  1.        ]\n",
      " [45.95959596  1.        ]\n",
      " [46.46464646  1.        ]\n",
      " [46.96969697  1.        ]\n",
      " [47.47474747  1.        ]\n",
      " [47.97979798  1.        ]\n",
      " [48.48484848  1.        ]\n",
      " [48.98989899  1.        ]\n",
      " [49.49494949  1.        ]\n",
      " [50.          1.        ]]\n"
     ]
    }
   ],
   "source": [
    "# Let's form the X matrix aka the data matrix\n",
    "A = np.ones((x.shape[0],2))\n",
    "A[:,0] = x\n",
    "print(A)"
   ]
  },
  {
   "cell_type": "code",
   "execution_count": 207,
   "metadata": {},
   "outputs": [
    {
     "name": "stdout",
     "output_type": "stream",
     "text": [
      "[0.100831   0.93634652]\n",
      "[29.97979601]\n"
     ]
    },
    {
     "name": "stderr",
     "output_type": "stream",
     "text": [
      "f:\\python\\python37_64\\lib\\site-packages\\ipykernel_launcher.py:6: FutureWarning: `rcond` parameter will change to the default of machine precision times ``max(M, N)`` where M and N are the input matrix dimensions.\n",
      "To use the future default and silence this warning we advise to pass `rcond=None`, to keep using the old, explicitly pass `rcond=-1`.\n",
      "  \n"
     ]
    }
   ],
   "source": [
    "# Use least squares method (linalg.lstsq)\n",
    "#coef: the coefficients of the function a*x+b. \n",
    "#  - Their order depends on where you put the 1 in the A matrix.\n",
    "#  - For our case coef[0] id a, coef[1] is b\n",
    "#residuals: The sum of squared errors, sum( ( y-(ax*+b) )**2 )\n",
    "coef, residuals, rank, sing = np.linalg.lstsq(A, y, rcond=-1) #rcond is to suppress a warning\n",
    "print(coef) #compare with 0.1x + 1 \n",
    "print(residuals)"
   ]
  },
  {
   "cell_type": "code",
   "execution_count": 204,
   "metadata": {},
   "outputs": [
    {
     "data": {
      "text/plain": [
       "[<matplotlib.lines.Line2D at 0x29de3e99f08>]"
      ]
     },
     "execution_count": 204,
     "metadata": {},
     "output_type": "execute_result"
    },
    {
     "data": {
      "image/png": "[encoded data removed]",
      "text/plain": [
       "<Figure size 432x288 with 1 Axes>"
      ]
     },
     "metadata": {
      "needs_background": "light"
     },
     "output_type": "display_data"
    }
   ],
   "source": [
    "# Let's plot the data and the fit\n",
    "plt.plot(x, y, \".\")\n",
    "plt.plot(x, x*coef[0] + coef[1]) # two plot commands to show two things on the same plot!"
   ]
  },
  {
   "cell_type": "markdown",
   "metadata": {},
   "source": [
    "We can also get a sense of the \"goodness of fit\" with the R-squared (R$^2$) metric (See also https://en.wikipedia.org/wiki/Coefficient_of_determination )"
   ]
  },
  {
   "cell_type": "code",
   "execution_count": 205,
   "metadata": {},
   "outputs": [
    {
     "data": {
      "text/plain": [
       "[<matplotlib.lines.Line2D at 0x29de3ea7208>]"
      ]
     },
     "execution_count": 205,
     "metadata": {},
     "output_type": "execute_result"
    },
    {
     "data": {
      "image/png": "[encoded data removed]",
      "text/plain": [
       "<Figure size 432x288 with 1 Axes>"
      ]
     },
     "metadata": {
      "needs_background": "light"
     },
     "output_type": "display_data"
    }
   ],
   "source": [
    "r2 = 1-residuals/(y.size*y.var())  # calculate the R^2 measure of how good the fit is\n",
    "# display some text on the plot (coefficients a, b, R^2)\n",
    "mytext = \"a = \" + str(coef[0]) + \"\\nb = \" + str(coef[1]) + \"\\nR^2 = \" + str(r2[0])\n",
    "plt.text(0, 6, mytext)\n",
    "plt.plot(x, y, \".\")\n",
    "plt.plot(x, x*coef[0] + coef[1])"
   ]
  },
  {
   "cell_type": "code",
   "execution_count": 206,
   "metadata": {
    "scrolled": true
   },
   "outputs": [
    {
     "name": "stdout",
     "output_type": "stream",
     "text": [
      "[0.100831   0.93634652] [0.100831   0.93634652]\n"
     ]
    }
   ],
   "source": [
    "# The pseudo-inverse version:\n",
    "coef2 = np.linalg.pinv(A)@y\n",
    "print(coef,coef2)"
   ]
  },
  {
   "cell_type": "markdown",
   "metadata": {},
   "source": [
    "### Curve Fitting: Polynomial\n",
    "\n",
    "Previously, we have fit the following model $y=ax+b$ to our data. What if this relation is not linear?  \n",
    "\n",
    "Let's see a quadratic example: $y=ax^2 + bx + c$"
   ]
  },
  {
   "cell_type": "code",
   "execution_count": 242,
   "metadata": {},
   "outputs": [
    {
     "data": {
      "text/plain": [
       "[<matplotlib.lines.Line2D at 0x29de3c62a08>]"
      ]
     },
     "execution_count": 242,
     "metadata": {},
     "output_type": "execute_result"
    },
    {
     "data": {
      "image/png": "[encoded data removed]",
      "text/plain": [
       "<Figure size 432x288 with 1 Axes>"
      ]
     },
     "metadata": {
      "needs_background": "light"
     },
     "output_type": "display_data"
    }
   ],
   "source": [
    "import numpy as np\n",
    "import matplotlib.pyplot as plt\n",
    "\n",
    "x=np.array([-1.,-.5,0.,.5,1.])\n",
    "y=np.array([1.,0.5,0.,0.5,2.])\n",
    "\n",
    "plt.plot(x,y,'d')"
   ]
  },
  {
   "cell_type": "code",
   "execution_count": 243,
   "metadata": {},
   "outputs": [
    {
     "data": {
      "text/plain": [
       "[<matplotlib.lines.Line2D at 0x29de3f19388>]"
      ]
     },
     "execution_count": 243,
     "metadata": {},
     "output_type": "execute_result"
    },
    {
     "data": {
      "image/png": "[encoded data removed]",
      "text/plain": [
       "<Figure size 432x288 with 1 Axes>"
      ]
     },
     "metadata": {
      "needs_background": "light"
     },
     "output_type": "display_data"
    }
   ],
   "source": [
    "# Try linear fit\n",
    "X = np.ones((x.shape[0],2))\n",
    "X[:,0] = x\n",
    "coefs,_,_,_ = np.linalg.lstsq(X,y, rcond=-1)\n",
    "\n",
    "plt.plot(x,y,'d')\n",
    "plt.plot(x,coefs[1]+coefs[0]*x)"
   ]
  },
  {
   "cell_type": "markdown",
   "metadata": {},
   "source": [
    "Look at the model, the coefficients are still linear with respect to the function! (the quadratic term is in the data which is constant)"
   ]
  },
  {
   "cell_type": "code",
   "execution_count": 244,
   "metadata": {},
   "outputs": [
    {
     "name": "stderr",
     "output_type": "stream",
     "text": [
      "f:\\python\\python37_64\\lib\\site-packages\\ipykernel_launcher.py:5: FutureWarning: `rcond` parameter will change to the default of machine precision times ``max(M, N)`` where M and N are the input matrix dimensions.\n",
      "To use the future default and silence this warning we advise to pass `rcond=None`, to keep using the old, explicitly pass `rcond=-1`.\n",
      "  \"\"\"\n"
     ]
    },
    {
     "data": {
      "text/plain": [
       "[<matplotlib.lines.Line2D at 0x29de3ffedc8>]"
      ]
     },
     "execution_count": 244,
     "metadata": {},
     "output_type": "execute_result"
    },
    {
     "data": {
      "image/png": "[encoded data removed]",
      "text/plain": [
       "<Figure size 432x288 with 1 Axes>"
      ]
     },
     "metadata": {
      "needs_background": "light"
     },
     "output_type": "display_data"
    }
   ],
   "source": [
    "# Let's fill the data matrix with 1, xi and (xi)^2\n",
    "X = np.ones((x.shape[0],3))\n",
    "X[:,1] = x\n",
    "X[:,0] = x**2\n",
    "coefs,_,_,_ = np.linalg.lstsq(X,y)\n",
    "\n",
    "plt.plot(x,y,'d')\n",
    "plt.plot(x,coefs[2]+coefs[1]*x+coefs[0]*(x**2))"
   ]
  },
  {
   "cell_type": "code",
   "execution_count": 245,
   "metadata": {},
   "outputs": [
    {
     "data": {
      "text/plain": [
       "[<matplotlib.lines.Line2D at 0x29de409c988>]"
      ]
     },
     "execution_count": 245,
     "metadata": {},
     "output_type": "execute_result"
    },
    {
     "data": {
      "image/png": "[encoded data removed]",
      "text/plain": [
       "<Figure size 432x288 with 1 Axes>"
      ]
     },
     "metadata": {
      "needs_background": "light"
     },
     "output_type": "display_data"
    }
   ],
   "source": [
    "# Let's plot denser\n",
    "plt.plot(x,y,'d')\n",
    "t = np.linspace(x.min(),x.max(),100)\n",
    "plt.plot(t,coefs[2]+coefs[1]*t+coefs[0]*(t**2))"
   ]
  },
  {
   "cell_type": "code",
   "execution_count": 246,
   "metadata": {},
   "outputs": [
    {
     "data": {
      "text/plain": [
       "array([1.42857143, 0.4       , 0.08571429])"
      ]
     },
     "execution_count": 246,
     "metadata": {},
     "output_type": "execute_result"
    }
   ],
   "source": [
    "coefs"
   ]
  },
  {
   "cell_type": "markdown",
   "metadata": {},
   "source": [
    "There are two built-in functions to help with polynomial fitting:\n",
    "\n",
    "* `np.polyfit`: Performs the least squares polynomial fitting in a signle step\n",
    "* `np.poly1d`: Creates a polynomial object for ease of use"
   ]
  },
  {
   "cell_type": "code",
   "execution_count": 247,
   "metadata": {
    "scrolled": true
   },
   "outputs": [
    {
     "name": "stdout",
     "output_type": "stream",
     "text": [
      "[1.42857143 0.4        0.08571429]\n"
     ]
    }
   ],
   "source": [
    "# Built-in functions\n",
    "coefs_b = np.polyfit(x,y,2)\n",
    "print(coefs_b)"
   ]
  },
  {
   "cell_type": "code",
   "execution_count": 248,
   "metadata": {},
   "outputs": [
    {
     "data": {
      "text/plain": [
       "[<matplotlib.lines.Line2D at 0x29de4127f88>]"
      ]
     },
     "execution_count": 248,
     "metadata": {},
     "output_type": "execute_result"
    },
    {
     "data": {
      "image/png": "[encoded data removed]",
      "text/plain": [
       "<Figure size 432x288 with 1 Axes>"
      ]
     },
     "metadata": {
      "needs_background": "light"
     },
     "output_type": "display_data"
    }
   ],
   "source": [
    "# Makes it easier to use the polynomials\n",
    "poly = np.poly1d(coefs_b)\n",
    "yt = poly(t)\n",
    "plt.plot(x,y,'d')\n",
    "plt.plot(t,yt)"
   ]
  },
  {
   "cell_type": "markdown",
   "metadata": {},
   "source": [
    "### Which polynomial to fit?"
   ]
  },
  {
   "cell_type": "code",
   "execution_count": 249,
   "metadata": {},
   "outputs": [],
   "source": [
    "polyfits=[]\n",
    "for i in range(5):\n",
    "    polyfits.append(np.poly1d(np.polyfit(x, y, i)))"
   ]
  },
  {
   "cell_type": "code",
   "execution_count": 250,
   "metadata": {},
   "outputs": [
    {
     "data": {
      "text/plain": [
       "Text(0.5, 1.0, 'Polynomial Fit Example')"
      ]
     },
     "execution_count": 250,
     "metadata": {},
     "output_type": "execute_result"
    },
    {
     "data": {
      "image/png": "[encoded data removed]",
      "text/plain": [
       "<Figure size 432x288 with 1 Axes>"
      ]
     },
     "metadata": {
      "needs_background": "light"
     },
     "output_type": "display_data"
    }
   ],
   "source": [
    "plt.plot(x,y,\"d\")\n",
    "for i in range(5):\n",
    "    poly=polyfits[i]\n",
    "    yfit=poly(t)\n",
    "    plt.plot(t,yfit)\n",
    "plt.legend([\"Data\"]+list(range(5)))\n",
    "plt.xlabel(\"x\")\n",
    "plt.ylabel(\"y\")\n",
    "plt.title(\"Polynomial Fit Example\")"
   ]
  },
  {
   "cell_type": "code",
   "execution_count": 251,
   "metadata": {},
   "outputs": [
    {
     "data": {
      "text/plain": [
       "[poly1d([0.8]),\n",
       " poly1d([0.4, 0.8]),\n",
       " poly1d([1.42857143, 0.4       , 0.08571429]),\n",
       " poly1d([ 0.66666667,  1.42857143, -0.16666667,  0.08571429]),\n",
       " poly1d([-6.66666667e-01,  6.66666667e-01,  2.16666667e+00, -1.66666667e-01,\n",
       "         2.60366172e-16])]"
      ]
     },
     "execution_count": 251,
     "metadata": {},
     "output_type": "execute_result"
    }
   ],
   "source": [
    "polyfits"
   ]
  },
  {
   "cell_type": "markdown",
   "metadata": {},
   "source": [
    "The selection process depends on the application."
   ]
  },
  {
   "cell_type": "markdown",
   "metadata": {},
   "source": [
    "### Example: Exponential Decay"
   ]
  },
  {
   "cell_type": "code",
   "execution_count": 252,
   "metadata": {},
   "outputs": [
    {
     "data": {
      "text/plain": [
       "<matplotlib.legend.Legend at 0x29de51f87c8>"
      ]
     },
     "execution_count": 252,
     "metadata": {},
     "output_type": "execute_result"
    },
    {
     "data": {
      "image/png": "[encoded data removed]",
      "text/plain": [
       "<Figure size 432x288 with 1 Axes>"
      ]
     },
     "metadata": {
      "needs_background": "light"
     },
     "output_type": "display_data"
    }
   ],
   "source": [
    "t = np.linspace(0,5,100)\n",
    "for i in range(1,6):\n",
    "    y = np.exp(-i*t)\n",
    "    plt.plot(t,y)\n",
    "plt.legend(range(1,6))"
   ]
  },
  {
   "cell_type": "markdown",
   "metadata": {},
   "source": [
    "Home Exercise:  \n",
    "* How to recover the multiplier of t if given number of points? \n",
    "* What if the model was different?"
   ]
  },
  {
   "cell_type": "markdown",
   "metadata": {},
   "source": [
    "### Example: A More Complicated Model"
   ]
  },
  {
   "cell_type": "code",
   "execution_count": 253,
   "metadata": {},
   "outputs": [
    {
     "data": {
      "text/plain": [
       "[<matplotlib.lines.Line2D at 0x29de52b9fc8>]"
      ]
     },
     "execution_count": 253,
     "metadata": {},
     "output_type": "execute_result"
    },
    {
     "data": {
      "image/png": "[encoded data removed]",
      "text/plain": [
       "<Figure size 432x288 with 1 Axes>"
      ]
     },
     "metadata": {
      "needs_background": "light"
     },
     "output_type": "display_data"
    }
   ],
   "source": [
    "x = np.linspace(0.1,5, 100)\n",
    "y = -2*np.log(x)+3*np.sin(x*2)+0.2*x**2-x+1+np.random.normal(0,0.5,x.shape[0])\n",
    "plt.plot(x,y)"
   ]
  },
  {
   "cell_type": "code",
   "execution_count": 254,
   "metadata": {},
   "outputs": [],
   "source": [
    "polyfits=[]\n",
    "for i in range(2,6):\n",
    "    polyfits.append(np.poly1d(np.polyfit(x, y, i)))"
   ]
  },
  {
   "cell_type": "code",
   "execution_count": 255,
   "metadata": {},
   "outputs": [
    {
     "data": {
      "text/plain": [
       "Text(0.5, 1.0, 'Polynomial Fit Example')"
      ]
     },
     "execution_count": 255,
     "metadata": {},
     "output_type": "execute_result"
    },
    {
     "data": {
      "image/png": "[encoded data removed]",
      "text/plain": [
       "<Figure size 432x288 with 1 Axes>"
      ]
     },
     "metadata": {
      "needs_background": "light"
     },
     "output_type": "display_data"
    }
   ],
   "source": [
    "plt.plot(x,y,'d--')\n",
    "for i in range(2,6):\n",
    "    poly=polyfits[i-2]\n",
    "    yfit=poly(x)\n",
    "    plt.plot(x,yfit)\n",
    "plt.legend([\"Data\"]+list(range(2,6)))\n",
    "plt.xlabel(\"x\")\n",
    "plt.ylabel(\"y\")\n",
    "plt.title(\"Polynomial Fit Example\")"
   ]
  },
  {
   "cell_type": "code",
   "execution_count": null,
   "metadata": {},
   "outputs": [],
   "source": [
    "#y = a*np.log(x)+b*np.sin(x*2)+c*x**2-d*x+e\n",
    "X = np.ones((x.shape[0],5))\n",
    "X[:,0] = np.log(x)\n",
    "X[:,1] = np.sin(x*2)\n",
    "X[:,2] = x**2\n",
    "X[:,3] = x\n",
    "coefs,_,_,_ = np.linalg.lstsq(X,y)\n",
    "coefs"
   ]
  },
  {
   "cell_type": "code",
   "execution_count": null,
   "metadata": {
    "scrolled": true
   },
   "outputs": [],
   "source": [
    "plt.plot(x,y,'d--')\n",
    "plt.plot(x,coefs[0]*np.log(x)+coefs[1]*np.sin(x*2)+coefs[2]*x**2+coefs[3]*x+coefs[4],'r')"
   ]
  },
  {
   "cell_type": "code",
   "execution_count": null,
   "metadata": {},
   "outputs": [],
   "source": []
  },
  {
   "cell_type": "code",
   "execution_count": null,
   "metadata": {},
   "outputs": [],
   "source": []
  }
 ],
 "metadata": {
  "kernelspec": {
   "display_name": "Python 3",
   "language": "python",
   "name": "python3"
  },
  "language_info": {
   "codemirror_mode": {
    "name": "ipython",
    "version": 3
   },
   "file_extension": ".py",
   "mimetype": "text/x-python",
   "name": "python",
   "nbconvert_exporter": "python",
   "pygments_lexer": "ipython3",
   "version": "3.7.7"
  }
 },
 "nbformat": 4,
 "nbformat_minor": 4
}
