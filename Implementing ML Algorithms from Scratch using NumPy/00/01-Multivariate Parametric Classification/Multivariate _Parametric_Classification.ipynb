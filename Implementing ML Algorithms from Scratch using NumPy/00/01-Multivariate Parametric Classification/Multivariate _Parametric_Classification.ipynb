{
 "cells": [
  {
   "cell_type": "markdown",
   "id": "24fded5f",
   "metadata": {},
   "source": [
    "# HW01: Multivariate Parametric Classification\n",
    "## Hamza Dehidi KU 0077989\n",
    "### October 18, 2021"
   ]
  },
  {
   "cell_type": "code",
   "execution_count": 1,
   "id": "68708d6d",
   "metadata": {},
   "outputs": [],
   "source": [
    "import matplotlib.pyplot as plt\n",
    "import numpy as np\n",
    "import scipy.linalg as linalg\n",
    "import pandas as pd\n",
    "import math\n",
    "import copy"
   ]
  },
  {
   "cell_type": "markdown",
   "id": "80067ff1",
   "metadata": {},
   "source": [
    "## Parameters"
   ]
  },
  {
   "cell_type": "code",
   "execution_count": 2,
   "id": "4b15f120",
   "metadata": {},
   "outputs": [],
   "source": [
    "np.random.seed(521)\n",
    "# The below Parameters are givien.\n",
    "# Mean parameters\n",
    "class_means = np.array([[+0.0, +2.5],\n",
    "                        [-2.5, -2.0],\n",
    "                        [+2.5, -2.0]])\n",
    "# Covariance parameters\n",
    "class_covariances = np.array([[[+3.2, +0.0],\n",
    "                               [+0.0, +1.2]],\n",
    "                              [[+1.2, +0.8],\n",
    "                               [+0.8, +1.2]],\n",
    "                              [[+1.2, -0.8],\n",
    "                               [-0.8, +1.2]]])\n",
    "# Sample sizes\n",
    "class_sizes = np.array([120, 80, 100])"
   ]
  },
  {
   "cell_type": "markdown",
   "id": "17dd5a16",
   "metadata": {},
   "source": [
    "## Data Generation"
   ]
  },
  {
   "cell_type": "code",
   "execution_count": 3,
   "id": "d58c434d",
   "metadata": {},
   "outputs": [],
   "source": [
    "# Generate random samples\n",
    "points1 = np.random.multivariate_normal(class_means[0,:], class_covariances[0,:,:], class_sizes[0])\n",
    "points2 = np.random.multivariate_normal(class_means[1,:], class_covariances[1,:,:], class_sizes[1])\n",
    "points3 = np.random.multivariate_normal(class_means[2,:], class_covariances[2,:,:], class_sizes[2])\n",
    "X = np.concatenate((points1, points2, points3))\n",
    "\n",
    "# Labeling the data \n",
    "y_truth = np.concatenate((np.repeat(1, class_sizes[0]), np.repeat(2, class_sizes[1]), np.repeat(3, class_sizes[2])))"
   ]
  },
  {
   "cell_type": "markdown",
   "id": "7e86147b",
   "metadata": {},
   "source": [
    "## Plotting Data"
   ]
  },
  {
   "cell_type": "code",
   "execution_count": 4,
   "id": "b40c3324",
   "metadata": {},
   "outputs": [
    {
     "data": {
      "image/png": "[encoded data removed]",
      "text/plain": [
       "<Figure size 720x720 with 1 Axes>"
      ]
     },
     "metadata": {
      "needs_background": "light"
     },
     "output_type": "display_data"
    }
   ],
   "source": [
    "# Assuming we have no idea about the parameters exploring the data by ploting. \n",
    "# plot generated data points \n",
    "plt.figure(figsize = (10, 10))\n",
    "plt.plot(points1[:,0], points1[:,1], \"r.\", markersize = 10) #first dataset\n",
    "plt.plot(points2[:,0], points2[:,1], \"g.\", markersize = 10) #Second dataset\n",
    "plt.plot(points3[:,0], points3[:,1], \"b.\", markersize = 10) #Third dataset\n",
    "plt.xlabel(\"x1\")\n",
    "plt.ylabel(\"x2\")\n",
    "plt.show()"
   ]
  },
  {
   "cell_type": "markdown",
   "id": "ce35ff0f",
   "metadata": {},
   "source": [
    "## Getting Data Size, Sample numbers & Dimentions"
   ]
  },
  {
   "cell_type": "code",
   "execution_count": 5,
   "id": "b0d125f8",
   "metadata": {},
   "outputs": [],
   "source": [
    "# Getting number of classes(K), number of samples(N) & number of dimentions (D)\n",
    "K = np.max(y_truth)\n",
    "N = X.shape[0]\n",
    "D = X.shape[1]"
   ]
  },
  {
   "cell_type": "markdown",
   "id": "12cfd8d9",
   "metadata": {},
   "source": [
    "## Parameter Estimation"
   ]
  },
  {
   "cell_type": "code",
   "execution_count": 6,
   "id": "d04956a4",
   "metadata": {},
   "outputs": [
    {
     "data": {
      "text/plain": [
       "3"
      ]
     },
     "execution_count": 6,
     "metadata": {},
     "output_type": "execute_result"
    }
   ],
   "source": [
    "K"
   ]
  },
  {
   "cell_type": "markdown",
   "id": "ee8c3ad1",
   "metadata": {},
   "source": [
    "### Calculate sample means"
   ]
  },
  {
   "cell_type": "markdown",
   "id": "2b8a8da7",
   "metadata": {},
   "source": [
    "$\\widehat{\\mu_{c}} = \\dfrac{\\sum\\limits_{i = 1}^{N} x_{i} \\mathbb{1}(y_{i} = c)}{\\sum\\limits_{i = 1}^{N} \\mathbb{1}(y_{i} = c)}$"
   ]
  },
  {
   "cell_type": "code",
   "execution_count": 7,
   "id": "25b3310e",
   "metadata": {},
   "outputs": [],
   "source": [
    "# Calculate sample means for each dataset along each dimention\n",
    "\n",
    "sample_means = np.reshape([np.mean((X[y_truth == (c + 1)]),axis=0)\n",
    "                           for c in range(K)],(K,D))  \n",
    "                    "
   ]
  },
  {
   "cell_type": "code",
   "execution_count": 8,
   "id": "98767419",
   "metadata": {},
   "outputs": [
    {
     "name": "stdout",
     "output_type": "stream",
     "text": [
      "[[-0.06002766  2.37891762]\n",
      " [-2.4831697  -2.07440706]\n",
      " [ 2.56694496 -1.97561106]]\n"
     ]
    }
   ],
   "source": [
    "print(sample_means)"
   ]
  },
  {
   "cell_type": "markdown",
   "id": "1b95ae62",
   "metadata": {},
   "source": [
    "### Calculate sample variances"
   ]
  },
  {
   "cell_type": "markdown",
   "id": "5ce433b2",
   "metadata": {},
   "source": [
    "$\\widehat{\\sigma_{c}^{2}} = \\dfrac{\\sum\\limits_{i = 1}^{N} (x_{i} - \\widehat{\\mu_{c}})^{T} \\mathbb{1}(y_{i} = c)(x_{i} - \\widehat{\\mu_{c}})^{T}} {\\sum\\limits_{i = 1}^{N} \\mathbb{1}(y_{i} = c)}$"
   ]
  },
  {
   "cell_type": "code",
   "execution_count": 9,
   "id": "7ea2624b",
   "metadata": {},
   "outputs": [],
   "source": [
    "# Calculate sample variance & covariances for each dataset\n",
    "# I could not solve it by vector multiplication as the above equation\n",
    "# x[y == (c + 1)][:,i] getting the the x values each class for each dimention.\n",
    "# sample_means[c][i] for each class for each dimention\n",
    "# nested loops total 12 loop, 4 for each dimention\n",
    "# first loop when i&j = 0, calculates the variance of the first dimention.\n",
    "# second and third loops calculate the covariances.\n",
    "# forth loop calculates the variance of the second dimention.\n",
    "\n",
    "sample_covariances = np.reshape([(np.mean((X[y_truth == (c + 1)][:,i] - sample_means[c][i])\n",
    "                              *(X[y_truth == (c + 1)][:,j] - sample_means[c][j])))\n",
    "                     for c in range(K) \n",
    "                     for i in range (D) \n",
    "                     for j in range (D)],(K,D,D))"
   ]
  },
  {
   "cell_type": "code",
   "execution_count": 10,
   "id": "d03e8782",
   "metadata": {},
   "outputs": [
    {
     "name": "stdout",
     "output_type": "stream",
     "text": [
      "[[[ 3.50095118  0.31087727]\n",
      "  [ 0.31087727  1.21501353]]\n",
      "\n",
      " [[ 1.19789275  0.64059317]\n",
      "  [ 0.64059317  0.95264859]]\n",
      "\n",
      " [[ 1.25199541 -0.79696981]\n",
      "  [-0.79696981  1.17191479]]]\n"
     ]
    }
   ],
   "source": [
    "print(sample_covariances)"
   ]
  },
  {
   "cell_type": "markdown",
   "id": "c52feccf",
   "metadata": {},
   "source": [
    "### Calculate prior probabilities"
   ]
  },
  {
   "cell_type": "markdown",
   "id": "62fb1680",
   "metadata": {},
   "source": [
    "$\\widehat{P}(y_{i} = c) = \\dfrac{\\sum\\limits_{i = 1}^{N} \\mathbb{1}(y_{i} = c)}{N}$"
   ]
  },
  {
   "cell_type": "code",
   "execution_count": 11,
   "id": "fc07f4e3",
   "metadata": {},
   "outputs": [],
   "source": [
    "# calculate prior probabilities\n",
    "class_priors = [np.mean(y_truth == (c + 1)) for c in range(K)]"
   ]
  },
  {
   "cell_type": "code",
   "execution_count": 12,
   "id": "02109d4f",
   "metadata": {},
   "outputs": [
    {
     "name": "stdout",
     "output_type": "stream",
     "text": [
      "[0.4, 0.26666666666666666, 0.3333333333333333]\n"
     ]
    }
   ],
   "source": [
    "print(class_priors)"
   ]
  },
  {
   "cell_type": "markdown",
   "id": "0b34d115",
   "metadata": {},
   "source": [
    "## Parametric Classification"
   ]
  },
  {
   "cell_type": "markdown",
   "id": "d928a54b",
   "metadata": {},
   "source": [
    "\\begin{align*}\n",
    "g_{c}(x) &= \\log p(x | y = c) + \\log P(y = c)\\\\\n",
    "&= -\\dfrac{d}{2} \\log(2 \\pi) -\\dfrac{1}{2}\\log(|\\Sigma_{c}|)-\\dfrac{1}{2}(x - \\mu_{c})^{T}\\Sigma_{c}^{-1}(x - \\mu_{c}) + \\log P(y = c)\\\\\n",
    "&= x^{T}W_{c}x + w_{c}^{T}x + w_{c 0}\\\\\n",
    "W_{c} &= -\\dfrac{1}{2}\\Sigma_{c}^{-1} \\\\\n",
    "w_{c} &= \\Sigma_{c}^{-1}\\mu_{c} \\\\\n",
    "w_{c 0} &= -\\dfrac{1}{2}\\mu_{c}^{T}\\Sigma_{c}^{-1}\\mu_{c} -\\dfrac{d}{2} \\log(2 \\pi) - \\dfrac{1}{2}\\log(|\\Sigma_{c}|) + \\log P(y = c)\n",
    "\\end{align*}\n"
   ]
  },
  {
   "cell_type": "markdown",
   "id": "6d62c6b9",
   "metadata": {},
   "source": [
    "## Creating score function\n"
   ]
  },
  {
   "cell_type": "code",
   "execution_count": 13,
   "id": "1934938f",
   "metadata": {},
   "outputs": [],
   "source": [
    "#I'm using the first method not the Ws.\n",
    "# for i in range(x.shape[0]) produces 300 itirations,  for c in range(K) gives 3 itirations.\n",
    "# total 900 itirations, 3 scors for each dataset.\n",
    "\n",
    "def score_func(X):\n",
    "    total_scores = np.zeros((X.shape[0], 0))\n",
    "    for c in range(K):\n",
    "        scores = np.vstack([- 0.5 * D * np.log(2 * math.pi) - 0.5 * np.log(np.linalg.det(sample_covariances[c]))\n",
    "                         - 0.5 * (X[j] - sample_means[c]).T @ np.linalg.inv(sample_covariances[c]) @ (X[j] - sample_means[c]) \n",
    "                         + np.log(class_priors[c]) for j in range(X.shape[0])])\n",
    "        total_scores = np.hstack((total_scores,scores))\n",
    "        \n",
    "    return total_scores\n"
   ]
  },
  {
   "cell_type": "code",
   "execution_count": 14,
   "id": "adca55cb",
   "metadata": {},
   "outputs": [],
   "source": [
    "# This loop will assign the highest score for observation.\n",
    "scores = score_func(X)\n",
    "y_predicted = np.zeros((N)).astype(int)\n",
    "\n",
    "for r in range(N):\n",
    "    if scores[r,0] == np.max(scores[r,:]):\n",
    "        y_predicted[r] = 1\n",
    "    elif scores[r,1] == np.max(scores[r,:]):\n",
    "        y_predicted[r] = 2\n",
    "    elif scores[r,2] == np.max(scores[r,:]):        \n",
    "        y_predicted[r] = 3\n"
   ]
  },
  {
   "cell_type": "code",
   "execution_count": 15,
   "id": "047501af",
   "metadata": {},
   "outputs": [
    {
     "name": "stdout",
     "output_type": "stream",
     "text": [
      "y_truth    1   2   3\n",
      "y_pred              \n",
      "1        119   1   2\n",
      "2          1  79   0\n",
      "3          0   0  98\n"
     ]
    }
   ],
   "source": [
    "# calculate confusion matrix\n",
    "confusion_matrix = pd.crosstab(y_predicted, y_truth, rownames = ['y_pred'], colnames = ['y_truth'])\n",
    "print(confusion_matrix)"
   ]
  },
  {
   "cell_type": "markdown",
   "id": "0b568523",
   "metadata": {},
   "source": [
    "## Visualization"
   ]
  },
  {
   "cell_type": "code",
   "execution_count": 16,
   "id": "bd974ddd",
   "metadata": {},
   "outputs": [],
   "source": [
    "# Creating a grid \n",
    "# np.ravel(x1_grid) to break the array\n",
    "# np.array([[xx,yy] for xx,yy in zip to assign every two entries togather\n",
    "# np.argmax(score_func(coordinations),axis =1 to choose the highest score for each tuple\n",
    "# reshape(x1_grid.shape) to reshape and fit x1_grid,x2_grid sizes\n",
    "\n",
    "\n",
    "x1_interval = np.linspace(-6, +6, 200)\n",
    "x2_interval = np.linspace(-6, +6, 200)\n",
    "x1_grid, x2_grid = np.meshgrid(x1_interval, x2_interval)\n",
    "coordinations = np.array([[xx,yy] for xx,yy in zip(np.ravel(x1_grid),np.ravel(x2_grid))])\n",
    "z = np.argmax(score_func(coordinations),axis =1).reshape(x1_grid.shape)\n"
   ]
  },
  {
   "cell_type": "code",
   "execution_count": 22,
   "id": "3d1f8bdf",
   "metadata": {},
   "outputs": [
    {
     "data": {
      "image/png": "[encoded data removed]",
      "text/plain": [
       "<Figure size 1440x1440 with 1 Axes>"
      ]
     },
     "metadata": {
      "needs_background": "light"
     },
     "output_type": "display_data"
    }
   ],
   "source": [
    "plt.figure(figsize = (20, 20))\n",
    "plt.plot(points1[:,0], points1[:,1], \"r.\", markersize = 10)\n",
    "plt.plot(points2[:,0], points2[:,1], \"g.\", markersize = 10)\n",
    "plt.plot(points3[:,0], points3[:,1], \"b.\", markersize = 10)\n",
    "plt.plot(X[y_predicted != y_truth, 0], X[y_predicted != y_truth, 1], \"ko\", markersize = 12, fillstyle = \"none\")\n",
    "plt.contour(x1_grid, x2_grid, z ,  colors = \"k\")\n",
    "plt.xlabel(\"x1\")\n",
    "plt.ylabel(\"x2\")\n",
    "plt.show()"
   ]
  },
  {
   "cell_type": "code",
   "execution_count": null,
   "id": "fc3b97a3",
   "metadata": {},
   "outputs": [],
   "source": []
  }
 ],
 "metadata": {
  "kernelspec": {
   "display_name": "Python 3",
   "language": "python",
   "name": "python3"
  },
  "language_info": {
   "codemirror_mode": {
    "name": "ipython",
    "version": 3
   },
   "file_extension": ".py",
   "mimetype": "text/x-python",
   "name": "python",
   "nbconvert_exporter": "python",
   "pygments_lexer": "ipython3",
   "version": "3.8.8"
  }
 },
 "nbformat": 4,
 "nbformat_minor": 5
}
