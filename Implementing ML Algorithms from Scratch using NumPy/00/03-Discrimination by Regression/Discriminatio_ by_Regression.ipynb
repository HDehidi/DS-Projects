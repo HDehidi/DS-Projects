{
 "cells": [
  {
   "cell_type": "markdown",
   "id": "24fded5f",
   "metadata": {},
   "source": [
    "# HW03: Discrimination by Regression\n",
    "## Hamza Dehidi KU 0077989\n",
    "### November 5, 2021"
   ]
  },
  {
   "cell_type": "code",
   "execution_count": 1,
   "id": "68708d6d",
   "metadata": {},
   "outputs": [],
   "source": [
    "import matplotlib.pyplot as plt\n",
    "import numpy as np\n",
    "import pandas as pd"
   ]
  },
  {
   "cell_type": "markdown",
   "id": "80067ff1",
   "metadata": {},
   "source": [
    "## Parameters"
   ]
  },
  {
   "cell_type": "code",
   "execution_count": 2,
   "id": "4b15f120",
   "metadata": {},
   "outputs": [],
   "source": [
    "np.random.seed(521)\n",
    "# The below Parameters are givien.\n",
    "# Mean parameters\n",
    "class_means = np.array([[+0.0, +2.5],\n",
    "                        [-2.5, -2.0],\n",
    "                        [+2.5, -2.0]])\n",
    "# Covariance parameters\n",
    "class_covariances = np.array([[[+3.2, +0.0],\n",
    "                               [+0.0, +1.2]],\n",
    "                              [[+1.2, +0.8],\n",
    "                               [+0.8, +1.2]],\n",
    "                              [[+1.2, -0.8],\n",
    "                               [-0.8, +1.2]]])\n",
    "# Sample sizes\n",
    "class_sizes = np.array([120, 80, 100])"
   ]
  },
  {
   "cell_type": "markdown",
   "id": "17dd5a16",
   "metadata": {},
   "source": [
    "## Data Generation"
   ]
  },
  {
   "cell_type": "code",
   "execution_count": 3,
   "id": "d58c434d",
   "metadata": {},
   "outputs": [],
   "source": [
    "# Generate random samples\n",
    "points1 = np.random.multivariate_normal(class_means[0,:], class_covariances[0,:,:], class_sizes[0])\n",
    "points2 = np.random.multivariate_normal(class_means[1,:], class_covariances[1,:,:], class_sizes[1])\n",
    "points3 = np.random.multivariate_normal(class_means[2,:], class_covariances[2,:,:], class_sizes[2])\n",
    "X = np.concatenate((points1, points2, points3))\n",
    "\n",
    "# Labeling the data \n",
    "y_truth= np.concatenate((np.repeat(1, class_sizes[0]), np.repeat(2, class_sizes[1]), np.repeat(3, class_sizes[2])))"
   ]
  },
  {
   "cell_type": "markdown",
   "id": "7e86147b",
   "metadata": {},
   "source": [
    "## Plotting Data"
   ]
  },
  {
   "cell_type": "code",
   "execution_count": 4,
   "id": "b40c3324",
   "metadata": {},
   "outputs": [
    {
     "data": {
      "image/png": "[encoded data removed]",
      "text/plain": [
       "<Figure size 576x576 with 1 Axes>"
      ]
     },
     "metadata": {
      "needs_background": "light"
     },
     "output_type": "display_data"
    }
   ],
   "source": [
    "# Assuming we have no idea about the parameters exploring the data by ploting. \n",
    "# plot generated data points \n",
    "plt.figure(figsize = (8, 8))\n",
    "plt.plot(points1[:,0], points1[:,1], \"r.\", markersize = 10) #first dataset\n",
    "plt.plot(points2[:,0], points2[:,1], \"g.\", markersize = 10) #Second dataset\n",
    "plt.plot(points3[:,0], points3[:,1], \"b.\", markersize = 10) #Third dataset\n",
    "plt.xlim((-6, +6))\n",
    "plt.ylim((-6, +6))\n",
    "plt.xlabel(\"$x_1$\")\n",
    "plt.ylabel(\"$x_2$\")\n",
    "plt.show()"
   ]
  },
  {
   "cell_type": "markdown",
   "id": "ce35ff0f",
   "metadata": {},
   "source": [
    "## Getting Data Size, Sample numbers & Dimentions"
   ]
  },
  {
   "cell_type": "code",
   "execution_count": 5,
   "id": "b0d125f8",
   "metadata": {},
   "outputs": [],
   "source": [
    "# Getting number of classes(K), number of samples(N) & number of dimentions (D)\n",
    "# get number of classes and number of samples\n",
    "K = np.max(y_truth)\n",
    "N = X.shape[0]\n",
    "\n",
    "# one-of-K encoding\n",
    "Y_truth = np.zeros((N, K)).astype(int)\n",
    "Y_truth[range(N), y_truth - 1] = 1"
   ]
  },
  {
   "cell_type": "markdown",
   "id": "12cfd8d9",
   "metadata": {},
   "source": [
    "## Sigmoid Functions"
   ]
  },
  {
   "cell_type": "markdown",
   "id": "9025bb70",
   "metadata": {},
   "source": [
    "$\\textrm{sigmoid}(\\boldsymbol{w}_{c}^{\\top} \\boldsymbol{x} + w_{c0}) = \\dfrac{1}{1 + \\exp\\left[-(\\boldsymbol{w}_{c}^{\\top} \\boldsymbol{x} + w_{c0})\\right]}$"
   ]
  },
  {
   "cell_type": "code",
   "execution_count": 6,
   "id": "4427a52c",
   "metadata": {},
   "outputs": [],
   "source": [
    "# define the sigmoid function\n",
    "def sigmoid(X, W, w0):\n",
    "    return(1 / (1 + np.exp(-(np.matmul(X, W) + w0))))\n"
   ]
  },
  {
   "cell_type": "markdown",
   "id": "ff7959ba",
   "metadata": {},
   "source": [
    "## Gradient Functions"
   ]
  },
  {
   "cell_type": "markdown",
   "id": "6429cfcf",
   "metadata": {},
   "source": [
    "\\begin{align*}\n",
    "\\dfrac{\\partial \\textrm{Error}}{\\partial \\boldsymbol{w}_{c}} &= \\sum\\limits_{i = 1}^{N} (y_{ic} - \\widehat{y}_{ic})\\widehat{y}_{ic}(1-\\widehat{y}_{ic})\\boldsymbol{x}_{i} \\\\\n",
    "\\dfrac{\\partial \\textrm{Error}}{\\partial w_{c0}} &= \\sum\\limits_{i = 1}^{N} (y_{ic} - \\widehat{y}_{ic})\\widehat{y}_{ic}(1-\\widehat{y}_{ic})\n",
    "\\end{align*}"
   ]
  },
  {
   "cell_type": "code",
   "execution_count": 7,
   "id": "860f2227",
   "metadata": {},
   "outputs": [],
   "source": [
    "# define the gradient functions\n",
    "def gradient_W(X, Y_truth, Y_predicted):\n",
    "    return(np.asarray([np.matmul(((Y_truth[:,c] - Y_predicted[:,c])*Y_predicted[:,c])*(1-Y_predicted[:,c]), X)\n",
    "                       for c in range(K)]).transpose())\n",
    "\n",
    "def gradient_w0(Y_truth, Y_predicted):\n",
    "    return(np.sum((Y_truth - Y_predicted)*(Y_predicted)*(1 - Y_predicted), axis = 0))"
   ]
  },
  {
   "cell_type": "markdown",
   "id": "b4cfa459",
   "metadata": {},
   "source": [
    "## Algorithm Parameters"
   ]
  },
  {
   "cell_type": "code",
   "execution_count": 8,
   "id": "f96c3f4f",
   "metadata": {},
   "outputs": [],
   "source": [
    "# set learning parameters\n",
    "eta = 0.01\n",
    "epsilon = 0.001"
   ]
  },
  {
   "cell_type": "markdown",
   "id": "a3dbc7be",
   "metadata": {},
   "source": [
    "## Parameter Initialization"
   ]
  },
  {
   "cell_type": "code",
   "execution_count": 9,
   "id": "833b7662",
   "metadata": {},
   "outputs": [],
   "source": [
    "# randomly initalize w and w0\n",
    "np.random.seed(521)\n",
    "W = np.random.uniform(low = -0.01, high = 0.01, size = (X.shape[1], K))\n",
    "w0 = np.random.uniform(low = -0.01, high = 0.01, size = (1, K))"
   ]
  },
  {
   "cell_type": "markdown",
   "id": "15db9403",
   "metadata": {},
   "source": [
    "## Iterative Algorithm"
   ]
  },
  {
   "cell_type": "markdown",
   "id": "0ee782a4",
   "metadata": {},
   "source": [
    "$\\textrm{Error} = 0.5\\sum\\limits_{i = 1}^{N} \\sum\\limits_{c = 1}^{K} \\left[ (y_{ic} - \\hat{y}_{ic})^2 \\right]$"
   ]
  },
  {
   "cell_type": "code",
   "execution_count": 10,
   "id": "4e887d67",
   "metadata": {},
   "outputs": [
    {
     "name": "stdout",
     "output_type": "stream",
     "text": [
      "[[ 0.02528117 -2.23729296  2.44057308]\n",
      " [ 4.6079024  -2.46097432 -2.26881566]]\n",
      "[[-1.13651535 -4.28418421 -3.60810854]]\n"
     ]
    }
   ],
   "source": [
    "# learn W and w0 using gradient descent\n",
    "iteration = 1\n",
    "objective_values = []\n",
    "while 1:\n",
    "    Y_predicted = sigmoid(X, W, w0)\n",
    "     \n",
    "    objective_values = np.append(objective_values, 0.5 * np.sum((Y_truth - Y_predicted)**2))\n",
    "\n",
    "    W_old = W\n",
    "    w0_old = w0\n",
    "\n",
    "    W = W + eta * gradient_W(X, Y_truth, Y_predicted)\n",
    "    w0 = w0 + eta * gradient_w0(Y_truth, Y_predicted)\n",
    "\n",
    "    if np.sqrt(np.sum((w0 - w0_old))**2 + np.sum((W - W_old)**2)) < epsilon:\n",
    "        break\n",
    "\n",
    "    iteration = iteration + 1\n",
    "print(W)\n",
    "print(w0)\n"
   ]
  },
  {
   "cell_type": "markdown",
   "id": "1b95ae62",
   "metadata": {},
   "source": [
    "## Convergence"
   ]
  },
  {
   "cell_type": "code",
   "execution_count": 11,
   "id": "7ea2624b",
   "metadata": {},
   "outputs": [
    {
     "data": {
      "image/png": "[encoded data removed]",
      "text/plain": [
       "<Figure size 720x432 with 1 Axes>"
      ]
     },
     "metadata": {
      "needs_background": "light"
     },
     "output_type": "display_data"
    }
   ],
   "source": [
    "# plot objective function during iterations\n",
    "plt.figure(figsize = (10, 6))\n",
    "plt.plot(range(1, iteration +1), objective_values, \"k-\")\n",
    "plt.xlabel(\"Iteration\")\n",
    "plt.ylabel(\"Error\")\n",
    "plt.show()"
   ]
  },
  {
   "cell_type": "markdown",
   "id": "c52feccf",
   "metadata": {},
   "source": [
    "## Training Performance"
   ]
  },
  {
   "cell_type": "code",
   "execution_count": 12,
   "id": "fc07f4e3",
   "metadata": {},
   "outputs": [
    {
     "name": "stdout",
     "output_type": "stream",
     "text": [
      "y_truth    1   2   3\n",
      "y_pred              \n",
      "1        117   1   3\n",
      "2          2  78   0\n",
      "3          1   1  97\n"
     ]
    }
   ],
   "source": [
    "# calculate confusion matrix\n",
    "y_predicted = np.argmax(Y_predicted, axis = 1) + 1\n",
    "confusion_matrix = pd.crosstab(y_predicted, y_truth, rownames = ['y_pred'], colnames = ['y_truth'])\n",
    "print(confusion_matrix)"
   ]
  },
  {
   "cell_type": "markdown",
   "id": "0b34d115",
   "metadata": {},
   "source": [
    "## Visualization"
   ]
  },
  {
   "cell_type": "code",
   "execution_count": 13,
   "id": "3d1f8bdf",
   "metadata": {},
   "outputs": [
    {
     "data": {
      "image/png": "[encoded data removed]",
      "text/plain": [
       "<Figure size 720x720 with 1 Axes>"
      ]
     },
     "metadata": {
      "needs_background": "light"
     },
     "output_type": "display_data"
    }
   ],
   "source": [
    "# evaluate discriminant function on a grid\n",
    "x1_interval = np.linspace(-6, +6, 1201)\n",
    "x2_interval = np.linspace(-6, +6, 1201)\n",
    "x1_grid, x2_grid = np.meshgrid(x1_interval, x2_interval)\n",
    "discriminant_values = np.zeros((len(x1_interval), len(x2_interval), K))\n",
    "for c in range(K):\n",
    "    discriminant_values[:,:,c] = W[0, c] * x1_grid + W[1, c] * x2_grid + w0[0, c]\n",
    "\n",
    "A = discriminant_values[:,:,0]\n",
    "B = discriminant_values[:,:,1]\n",
    "C = discriminant_values[:,:,2]\n",
    "A[(A < B) & (A < C)] = np.nan\n",
    "B[(B < A) & (B < C)] = np.nan\n",
    "C[(C < A) & (C < B)] = np.nan\n",
    "discriminant_values[:,:,0] = A\n",
    "discriminant_values[:,:,1] = B\n",
    "discriminant_values[:,:,2] = C\n",
    "\n",
    "plt.figure(figsize = (10, 10))\n",
    "plt.plot(X[y_truth == 1, 0], X[y_truth == 1, 1], \"r.\", markersize = 10)\n",
    "plt.plot(X[y_truth == 2, 0], X[y_truth == 2, 1], \"g.\", markersize = 10)\n",
    "plt.plot(X[y_truth == 3, 0], X[y_truth == 3, 1], \"b.\", markersize = 10)\n",
    "plt.plot(X[y_predicted != y_truth, 0], X[y_predicted != y_truth, 1], \"ko\", markersize = 12, fillstyle = \"none\")\n",
    "plt.contour(x1_grid, x2_grid, discriminant_values[:,:,0] - discriminant_values[:,:,1], levels = 0, colors = \"k\")\n",
    "plt.contour(x1_grid, x2_grid, discriminant_values[:,:,0] - discriminant_values[:,:,2], levels = 0, colors = \"k\")\n",
    "plt.contour(x1_grid, x2_grid, discriminant_values[:,:,1] - discriminant_values[:,:,2], levels = 0, colors = \"k\")\n",
    "plt.xlabel(\"$x_1$\")\n",
    "plt.ylabel(\"$x_2$\")\n",
    "plt.show()"
   ]
  },
  {
   "cell_type": "code",
   "execution_count": null,
   "id": "fc3b97a3",
   "metadata": {},
   "outputs": [],
   "source": []
  }
 ],
 "metadata": {
  "kernelspec": {
   "display_name": "Python 3",
   "language": "python",
   "name": "python3"
  },
  "language_info": {
   "codemirror_mode": {
    "name": "ipython",
    "version": 3
   },
   "file_extension": ".py",
   "mimetype": "text/x-python",
   "name": "python",
   "nbconvert_exporter": "python",
   "pygments_lexer": "ipython3",
   "version": "3.8.8"
  }
 },
 "nbformat": 4,
 "nbformat_minor": 5
}
