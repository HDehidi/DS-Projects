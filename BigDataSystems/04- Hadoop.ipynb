{
 "cells": [
  {
   "cell_type": "markdown",
   "metadata": {
    "cell_id": "00000-fbcb24d1-746d-493b-9e00-c17036412576",
    "deepnote_cell_type": "markdown",
    "id": "CyZFrWr4MS2c"
   },
   "source": [
    "# Hadoop\n",
    "\n",
    "- Data sets that are so large or complex that traditional data processing application software is inadequate to deal with them. \n",
    "- Data analysis requires massively parallel software running on several servers.\n",
    "- **Volume, Variety, Velocity, Variability and Veracity** describe Big Data properties."
   ]
  },
  {
   "cell_type": "markdown",
   "metadata": {
    "cell_id": "00001-bb247f40-2d2e-44c3-a92a-7b96c1e865ca",
    "deepnote_cell_type": "markdown",
    "id": "1X-W6TPmMS2h"
   },
   "source": [
    "![https://github.com/veekaybee/data-lake-talk/](https://github.com/pnavaro/big-data/blob/master/notebooks/images/bigdata.png?raw=1)"
   ]
  },
  {
   "cell_type": "markdown",
   "metadata": {
    "cell_id": "00002-78afdcfc-a3be-4f32-8151-6c9bf0f33683",
    "deepnote_cell_type": "markdown",
    "id": "jzqicLjgMS2i"
   },
   "source": [
    "![Hadoop Logo](https://github.com/pnavaro/big-data/blob/master/notebooks/images/hadoop.png?raw=1)\n",
    "\n",
    "- Framework for running applications on large cluster. \n",
    "- The Hadoop framework transparently provides applications both reliability and data motion. \n",
    "- Hadoop implements the computational paradigm named **Map/Reduce**, where the application is divided into many small fragments of work, each of which may be executed or re-executed on any node in the cluster. \n",
    "- It provides a distributed file system (HDFS) that stores data on the compute nodes, providing very high aggregate bandwidth across the cluster.\n",
    "- Both MapReduce and the **Hadoop Distributed File System** are designed so that node failures are automatically handled by the framework."
   ]
  },
  {
   "cell_type": "markdown",
   "metadata": {
    "cell_id": "00003-ac5b1ccc-32d2-4553-babd-0b58f23ffc71",
    "deepnote_cell_type": "markdown",
    "id": "Z4Z6ID2QMS2i"
   },
   "source": [
    "## HDFS\n",
    "\n",
    "* It is a distributed file systems.\n",
    "* HDFS is highly fault-tolerant and is designed to be deployed on low-cost hardware.\n",
    "* HDFS is suitable for applications that have large data sets. \n",
    "* HDFS provides interfaces to move applications closer to where the data is located. The computation is much more efficient when the size of the data set is huge. \n",
    "* HDFS consists of a single NameNode with a number of DataNodes which manage storage. \n",
    "* HDFS exposes a file system namespace and allows user data to be stored in files. \n",
    "    1. A file is split by the NameNode into blocks stored in DataNodes. \n",
    "    2. The [NameNode](http://svmass2.mass.uhb.fr:50070) executes operations like opening, closing, and renaming files and directories.\n",
    "    3. The [Secondary NameNode](http://svmass2.mass.uhb.fr:50090/status.html) stores information from **NameNode**. \n",
    "    4. The **DataNodes** manage perform block creation, deletion, and replication upon instruction from the NameNode.\n",
    "    5. The placement of replicas is optimized for data reliability, availability, and network bandwidth utilization.\n",
    "    6. User data never flows through the NameNode.\n",
    "* Files in HDFS are write-once and have strictly one writer at any time.\n",
    "* The DataNode has no knowledge about HDFS files."
   ]
  },
  {
   "cell_type": "markdown",
   "metadata": {
    "cell_id": "00004-e2ad7143-4d11-4b65-aff0-c5d2a3d16389",
    "deepnote_cell_type": "markdown",
    "id": "jjC8iM0qMS2j"
   },
   "source": [
    "## Accessibility\n",
    "\n",
    "All [HDFS commands](http://hadoop.apache.org/docs/stable/hadoop-project-dist/hadoop-common/FileSystemShell.html)  are invoked by the bin/hdfs Java script:\n",
    "```shell\n",
    "hdfs [SHELL_OPTIONS] COMMAND [GENERIC_OPTIONS] [COMMAND_OPTIONS]\n",
    "```\n",
    "## Manage files and directories\n",
    "```shell\n",
    "hdfs dfs -ls -h -R # Recursively list subdirectories with human-readable file sizes.\n",
    "hdfs dfs -cp  # Copy files from source to destination\n",
    "hdfs dfs -mv  # Move files from source to destination\n",
    "hdfs dfs -mkdir /foodir # Create a directory named /foodir\t\n",
    "hdfs dfs -rmr /foodir   # Remove a directory named /foodir\t\n",
    "hdfs dfs -cat /foodir/myfile.txt #View the contents of a file named /foodir/myfile.txt\t\n",
    "```"
   ]
  },
  {
   "cell_type": "markdown",
   "metadata": {
    "cell_id": "00005-20157ee7-3f62-4de9-9ea5-b28c35670101",
    "deepnote_cell_type": "markdown",
    "id": "Q6D2odGVMS2k"
   },
   "source": [
    "## Transfer between nodes\n",
    "\n",
    "### put\n",
    "```shell\n",
    "hdfs fs -put [-f] [-p] [-l] [-d] [ - | <localsrc1> .. ]. <dst>\n",
    "```\n",
    "Copy single src, or multiple srcs from local file system to the destination file system. \n",
    "\n",
    "Options:\n",
    "\n",
    "    -p : Preserves rights and modification times.\n",
    "    -f : Overwrites the destination if it already exists.\n",
    "\n",
    "```shell\n",
    "hdfs fs -put localfile /user/hadoop/hadoopfile\n",
    "hdfs fs -put -f localfile1 localfile2 /user/hadoop/hadoopdir\n",
    "```\n",
    "Similar to the fs -put command\n",
    "- `moveFromLocal` : to delete the source localsrc after copy.\n",
    "- `copyFromLocal` : source is restricted to a local file\n",
    "- `copyToLocal` : destination is restricted to a local file"
   ]
  },
  {
   "cell_type": "markdown",
   "metadata": {
    "cell_id": "00006-575e7d47-d579-4be3-a20d-283ac65e3a13",
    "deepnote_cell_type": "markdown",
    "id": "IsztGKwPMS2l"
   },
   "source": [
    "![hdfs blocks](https://github.com/pnavaro/big-data/blob/master/notebooks/images/hdfs-fonctionnement.jpg?raw=1)\n",
    "\n",
    "The Name Node is not in the data path. The Name Node only provides the map of where data is and where data should go in the cluster (file system metadata)."
   ]
  },
  {
   "cell_type": "markdown",
   "metadata": {
    "cell_id": "00008-0da7b383-6e4d-491b-9486-f0b432c75a76",
    "deepnote_cell_type": "markdown",
    "id": "zA45SYskMS2m"
   },
   "source": [
    "To do following hands on you can switch to [JupyterLab](https://jupyterlab.readthedocs.io).\n",
    "\n",
    "Just go to this following address http://localhost:9000/lab\n",
    "\n",
    "- Check that your HDFS home directory required to execute MapReduce jobs exists:\n",
    "```bash\n",
    "hdfs dfs -ls /user/${USER}\n",
    "```\n",
    "- Type the following commands: \n",
    "```bash\n",
    "hdfs dfs -ls\n",
    "hdfs dfs -ls /\n",
    "hdfs dfs -mkdir test\n",
    "```\n",
    "- Create a local file user.txt containing your name and the date:"
   ]
  },
  {
   "cell_type": "code",
   "execution_count": 5,
   "metadata": {
    "cell_id": "00009-f6414ae7-fd9a-47cd-bf43-03c9261c0ae4",
    "deepnote_cell_type": "code",
    "id": "x2QIw2koMS2n"
   },
   "outputs": [
    {
     "name": "stdout",
     "output_type": "stream",
     "text": [
      "Hamza Dehidi\n",
      "Thu Apr 28 17:58:41 UTC 2022\n"
     ]
    }
   ],
   "source": [
    "%%bash\n",
    "echo \"Hamza Dehidi\" > Hamza_Dehidi.txt\n",
    "echo `date` >> Hamza_Dehidi.txt \n",
    "cat Hamza_Dehidi.txt"
   ]
  },
  {
   "cell_type": "markdown",
   "metadata": {
    "cell_id": "00010-28687af5-3d07-4855-938a-c0f9faf58b39",
    "deepnote_cell_type": "markdown",
    "id": "Tc3YSDdiMS2o"
   },
   "source": [
    "Copy it on  HDFS :\n",
    "```bash\n",
    "hdfs dfs -put user.txt\n",
    "```\n",
    "\n",
    "Check with:\n",
    "```bash\n",
    "hdfs dfs -ls -R \n",
    "hdfs dfs -cat user.txt \n",
    "hdfs dfs -tail user.txt \n",
    "```"
   ]
  },
  {
   "cell_type": "code",
   "execution_count": 6,
   "metadata": {
    "cell_id": "00011-23a1c9fe-3f71-4363-b98e-a806943b5abd",
    "deepnote_cell_type": "code",
    "id": "DtBmC_zNMS2o"
   },
   "outputs": [
    {
     "name": "stdout",
     "output_type": "stream",
     "text": [
      "drwxr-xr-x   - alice supergroup          0 2022-04-28 14:39 /user/alice/.skein\n",
      "drwx------   - alice supergroup          0 2022-04-27 08:21 /user/alice/.skein/application_1651047611236_0002\n",
      "-rw-r--r--   1 alice supergroup       1013 2022-04-27 08:21 /user/alice/.skein/application_1651047611236_0002/.skein.crt\n",
      "-rw-r--r--   1 alice supergroup       1704 2022-04-27 08:21 /user/alice/.skein/application_1651047611236_0002/.skein.pem\n",
      "-rw-r--r--   1 alice supergroup       1460 2022-04-27 08:21 /user/alice/.skein/application_1651047611236_0002/.skein.proto\n",
      "-rw-------   1 alice supergroup    7806621 2022-04-27 08:21 /user/alice/.skein/application_1651047611236_0002/skein.jar\n",
      "drwx------   - alice supergroup          0 2022-04-27 17:34 /user/alice/.skein/application_1651080743810_0001\n",
      "-rw-r--r--   1 alice supergroup       1013 2022-04-27 17:33 /user/alice/.skein/application_1651080743810_0001/.skein.crt\n",
      "-rw-r--r--   1 alice supergroup       1708 2022-04-27 17:33 /user/alice/.skein/application_1651080743810_0001/.skein.pem\n",
      "-rw-r--r--   1 alice supergroup       1460 2022-04-27 17:34 /user/alice/.skein/application_1651080743810_0001/.skein.proto\n",
      "-rw-------   1 alice supergroup    7806621 2022-04-27 17:34 /user/alice/.skein/application_1651080743810_0001/skein.jar\n",
      "drwx------   - alice supergroup          0 2022-04-27 17:37 /user/alice/.skein/application_1651080743810_0002\n",
      "-rw-r--r--   1 alice supergroup       1013 2022-04-27 17:37 /user/alice/.skein/application_1651080743810_0002/.skein.crt\n",
      "-rw-r--r--   1 alice supergroup       1704 2022-04-27 17:37 /user/alice/.skein/application_1651080743810_0002/.skein.pem\n",
      "-rw-r--r--   1 alice supergroup       1460 2022-04-27 17:37 /user/alice/.skein/application_1651080743810_0002/.skein.proto\n",
      "-rw-------   1 alice supergroup    7806621 2022-04-27 17:37 /user/alice/.skein/application_1651080743810_0002/skein.jar\n",
      "drwx------   - alice supergroup          0 2022-04-27 17:39 /user/alice/.skein/application_1651080743810_0003\n",
      "-rw-r--r--   1 alice supergroup       1013 2022-04-27 17:39 /user/alice/.skein/application_1651080743810_0003/.skein.crt\n",
      "-rw-r--r--   1 alice supergroup       1704 2022-04-27 17:39 /user/alice/.skein/application_1651080743810_0003/.skein.pem\n",
      "-rw-r--r--   1 alice supergroup       1460 2022-04-27 17:39 /user/alice/.skein/application_1651080743810_0003/.skein.proto\n",
      "-rw-------   1 alice supergroup    7806621 2022-04-27 17:39 /user/alice/.skein/application_1651080743810_0003/skein.jar\n",
      "drwx------   - alice supergroup          0 2022-04-27 17:41 /user/alice/.skein/application_1651080743810_0004\n",
      "-rw-r--r--   1 alice supergroup       1013 2022-04-27 17:41 /user/alice/.skein/application_1651080743810_0004/.skein.crt\n",
      "-rw-r--r--   1 alice supergroup       1704 2022-04-27 17:41 /user/alice/.skein/application_1651080743810_0004/.skein.pem\n",
      "-rw-r--r--   1 alice supergroup       1460 2022-04-27 17:41 /user/alice/.skein/application_1651080743810_0004/.skein.proto\n",
      "-rw-------   1 alice supergroup    7806621 2022-04-27 17:41 /user/alice/.skein/application_1651080743810_0004/skein.jar\n",
      "drwx------   - alice supergroup          0 2022-04-28 06:07 /user/alice/.skein/application_1651126027271_0004\n",
      "-rw-r--r--   1 alice supergroup       1013 2022-04-28 06:07 /user/alice/.skein/application_1651126027271_0004/.skein.crt\n",
      "-rw-r--r--   1 alice supergroup       1708 2022-04-28 06:07 /user/alice/.skein/application_1651126027271_0004/.skein.pem\n",
      "-rw-r--r--   1 alice supergroup       1460 2022-04-28 06:07 /user/alice/.skein/application_1651126027271_0004/.skein.proto\n",
      "-rw-------   1 alice supergroup    7806621 2022-04-28 06:07 /user/alice/.skein/application_1651126027271_0004/skein.jar\n",
      "drwx------   - alice supergroup          0 2022-04-28 14:39 /user/alice/.skein/application_1651156726201_0005\n",
      "-rw-r--r--   1 alice supergroup       1013 2022-04-28 14:39 /user/alice/.skein/application_1651156726201_0005/.skein.crt\n",
      "-rw-r--r--   1 alice supergroup       1704 2022-04-28 14:39 /user/alice/.skein/application_1651156726201_0005/.skein.pem\n",
      "-rw-r--r--   1 alice supergroup       1460 2022-04-28 14:39 /user/alice/.skein/application_1651156726201_0005/.skein.proto\n",
      "-rw-------   1 alice supergroup    7806621 2022-04-28 14:39 /user/alice/.skein/application_1651156726201_0005/skein.jar\n",
      "-rw-r--r--   1 alice supergroup         42 2022-04-28 17:58 /user/alice/Hamza_Dehidi.txt\n",
      "-rw-r--r--   1 alice supergroup         47 2022-04-28 17:56 /user/alice/Mehmetcan_Eroglu.txt\n",
      "-rw-r--r--   1 alice supergroup         47 2022-04-28 17:57 /user/alice/ahmetOzanHarlak.txt\n",
      "-rw-r--r--   1 alice supergroup         46 2022-04-28 17:56 /user/alice/berna_bilcan_sen.txt\n",
      "-rw-r--r--   1 alice supergroup         44 2022-04-28 17:59 /user/alice/burak_albayrak.txt\n",
      "-rw-r--r--   1 alice supergroup         41 2022-04-28 17:56 /user/alice/ebru_mustul.txt\n",
      "-rw-r--r--   1 alice supergroup         40 2022-04-28 17:56 /user/alice/ege_erkmen.txt\n",
      "drwxr-xr-x   - alice supergroup          0 2022-04-27 09:56 /user/alice/files\n",
      "drwxr-xr-x   - alice supergroup          0 2022-04-27 14:15 /user/alice/input\n",
      "-rw-r--r--   1 alice supergroup         58 2022-04-27 14:15 /user/alice/input/name_surname.txt\n",
      "-rw-r--r--   1 alice supergroup         29 2022-04-27 09:45 /user/alice/name_surname.txt\n",
      "drwxr-xr-x   - alice supergroup          0 2022-04-28 14:26 /user/alice/notebooks\n",
      "drwxr-xr-x   - alice supergroup          0 2022-04-28 14:26 /user/alice/notebooks/.ipynb_checkpoints\n",
      "drwxr-xr-x   - alice supergroup          0 2022-04-27 17:56 /user/alice/notebooks/Data\n",
      "drwxr-xr-x   - alice supergroup          0 2022-04-27 17:56 /user/alice/notebooks/Data/.ipynb_checkpoints\n",
      "-rw-r--r--   1 alice supergroup      34322 2022-04-27 09:58 /user/alice/notebooks/Data/13_Hadoop.ipynb\n",
      "drwxr-xr-x   - alice supergroup          0 2022-04-28 14:26 /user/alice/notebooks/Lab 3\n",
      "drwxr-xr-x   - alice supergroup          0 2022-04-28 14:26 /user/alice/notebooks/Lab 3/.ipynb_checkpoints\n",
      "-rw-r--r--   1 alice supergroup       5420 2022-04-27 18:07 /user/alice/notebooks/Lab 3/.ipynb_checkpoints/cmergen21-checkpoint.ipynb\n",
      "-rw-r--r--   1 alice supergroup       5249 2022-04-27 20:34 /user/alice/notebooks/Lab 3/.ipynb_checkpoints/eerkmen21-checkpoint.ipynb\n",
      "-rw-r--r--   1 alice supergroup       5230 2022-04-27 18:00 /user/alice/notebooks/Lab 3/.ipynb_checkpoints/hkuyumcu21-checkpoint.ipynb\n",
      "-rw-r--r--   1 alice supergroup       4545 2022-04-27 17:46 /user/alice/notebooks/Lab 3/.ipynb_checkpoints/meroglu21-checkpoint.ipynb\n",
      "-rw-r--r--   1 alice supergroup       4525 2022-04-28 06:26 /user/alice/notebooks/Lab 3/.ipynb_checkpoints/ounlu21-checkpoint.ipynb\n",
      "-rw-r--r--   1 alice supergroup       5310 2022-04-27 17:55 /user/alice/notebooks/Lab 3/.ipynb_checkpoints/ssaygin21-checkpoint.ipynb\n",
      "-rw-r--r--   1 alice supergroup       5112 2022-04-27 17:54 /user/alice/notebooks/Lab 3/.ipynb_checkpoints/sshahmirzadi21-checkpoint.ipynb\n",
      "-rw-r--r--   1 alice supergroup       5721 2022-04-27 17:59 /user/alice/notebooks/Lab 3/Lab_3_Parallel_multiprocessing (1).ipynb\n",
      "-rw-r--r--   1 alice supergroup       5420 2022-04-28 00:43 /user/alice/notebooks/Lab 3/Lab_3_Parallel_multiprocessing.ipynb\n",
      "-rw-r--r--   1 alice supergroup         71 2022-04-27 17:46 /user/alice/notebooks/Lab 3/Untitled.ipynb\n",
      "-rw-r--r--   1 alice supergroup       5251 2022-04-27 17:50 /user/alice/notebooks/Lab 3/aharlak21.ipynb\n",
      "-rw-r--r--   1 alice supergroup       3400 2022-04-27 14:24 /user/alice/notebooks/Lab 3/akarslioglu.ipynb\n",
      "-rw-r--r--   1 alice supergroup       5274 2022-04-27 17:52 /user/alice/notebooks/Lab 3/balbayrak21.ipynb\n",
      "-rw-r--r--   1 alice supergroup       3400 2022-04-27 14:24 /user/alice/notebooks/Lab 3/barslan15.ipynb\n",
      "-rw-r--r--   1 alice supergroup       3400 2022-04-27 14:25 /user/alice/notebooks/Lab 3/berermis16.ipynb\n",
      "-rw-r--r--   1 alice supergroup       3400 2022-04-27 14:25 /user/alice/notebooks/Lab 3/bsen21.ipynb\n",
      "-rw-r--r--   1 alice supergroup       3400 2022-04-27 14:25 /user/alice/notebooks/Lab 3/bzumrut21.ipynb\n",
      "-rw-r--r--   1 alice supergroup       5420 2022-04-28 00:41 /user/alice/notebooks/Lab 3/cmergen21.ipynb\n",
      "-rw-r--r--   1 alice supergroup       3400 2022-04-27 14:25 /user/alice/notebooks/Lab 3/dbedir21.ipynb\n",
      "-rw-r--r--   1 alice supergroup       3400 2022-04-27 14:25 /user/alice/notebooks/Lab 3/debasaran.ipynb\n",
      "-rw-r--r--   1 alice supergroup       3400 2022-04-27 14:25 /user/alice/notebooks/Lab 3/dgultekin21.ipynb\n",
      "-rw-r--r--   1 alice supergroup       3400 2022-04-27 14:25 /user/alice/notebooks/Lab 3/ecosgun13.ipynb\n",
      "-rw-r--r--   1 alice supergroup       5249 2022-04-27 20:34 /user/alice/notebooks/Lab 3/eerkmen21.ipynb\n",
      "-rw-r--r--   1 alice supergroup       3400 2022-04-27 14:25 /user/alice/notebooks/Lab 3/egeaydin21.ipynb\n",
      "-rw-r--r--   1 alice supergroup       3400 2022-04-27 14:25 /user/alice/notebooks/Lab 3/egok15.ipynb\n",
      "-rw-r--r--   1 alice supergroup       5281 2022-04-27 17:50 /user/alice/notebooks/Lab 3/emustul21.ipynb\n",
      "-rw-r--r--   1 alice supergroup       4599 2022-04-27 17:50 /user/alice/notebooks/Lab 3/ersinsonmez21.ipynb\n",
      "-rw-r--r--   1 alice supergroup       3400 2022-04-27 14:25 /user/alice/notebooks/Lab 3/ezgiaydin21.ipynb\n",
      "-rw-r--r--   1 alice supergroup       3400 2022-04-27 14:25 /user/alice/notebooks/Lab 3/gcaferoglu21.ipynb\n",
      "-rw-r--r--   1 alice supergroup       5394 2022-04-27 18:01 /user/alice/notebooks/Lab 3/gureten21.ipynb\n",
      "-rw-r--r--   1 alice supergroup       3400 2022-04-27 14:26 /user/alice/notebooks/Lab 3/hbeyaz21.ipynb\n",
      "-rw-r--r--   1 alice supergroup       6549 2022-04-27 17:48 /user/alice/notebooks/Lab 3/hdehidi21.ipynb\n",
      "-rw-r--r--   1 alice supergroup       4635 2022-04-27 17:49 /user/alice/notebooks/Lab 3/hgungor21.ipynb\n",
      "-rw-r--r--   1 alice supergroup       5199 2022-04-27 18:07 /user/alice/notebooks/Lab 3/hkuyumcu21.ipynb\n",
      "-rw-r--r--   1 alice supergroup       3400 2022-04-27 14:26 /user/alice/notebooks/Lab 3/iyazici21.ipynb\n",
      "-rw-r--r--   1 alice supergroup       3400 2022-04-27 14:25 /user/alice/notebooks/Lab 3/mboluk15.ipynb\n",
      "-rw-r--r--   1 alice supergroup       3400 2022-04-27 14:25 /user/alice/notebooks/Lab 3/mcuruk21.ipynb\n",
      "-rw-r--r--   1 alice supergroup       3400 2022-04-27 14:25 /user/alice/notebooks/Lab 3/mekler17.ipynb\n",
      "-rw-r--r--   1 alice supergroup       4545 2022-04-27 17:46 /user/alice/notebooks/Lab 3/meroglu21.ipynb\n",
      "-rw-r--r--   1 alice supergroup       3400 2022-04-27 14:25 /user/alice/notebooks/Lab 3/mincegon14.ipynb\n",
      "-rw-r--r--   1 alice supergroup       3400 2022-04-27 14:26 /user/alice/notebooks/Lab 3/mkirilmaz16.ipynb\n",
      "-rw-r--r--   1 alice supergroup       3400 2022-04-27 14:26 /user/alice/notebooks/Lab 3/mulusam15.ipynb\n",
      "-rw-r--r--   1 alice supergroup       3400 2022-04-27 14:26 /user/alice/notebooks/Lab 3/ocan21.ipynb\n",
      "-rw-r--r--   1 alice supergroup       3400 2022-04-27 14:26 /user/alice/notebooks/Lab 3/osenocak21.ipynb\n",
      "-rw-r--r--   1 alice supergroup       3400 2022-04-27 14:26 /user/alice/notebooks/Lab 3/oulku21.ipynb\n",
      "-rw-r--r--   1 alice supergroup       4525 2022-04-28 06:26 /user/alice/notebooks/Lab 3/ounlu21.ipynb\n",
      "-rw-r--r--   1 alice supergroup       3400 2022-04-27 14:26 /user/alice/notebooks/Lab 3/segridere21.ipynb\n",
      "-rw-r--r--   1 alice supergroup       5310 2022-04-27 17:55 /user/alice/notebooks/Lab 3/ssaygin21.ipynb\n",
      "-rw-r--r--   1 alice supergroup       5112 2022-04-27 17:54 /user/alice/notebooks/Lab 3/sshahmirzadi21.ipynb\n",
      "-rw-r--r--   1 alice supergroup       5229 2022-04-27 17:53 /user/alice/notebooks/Lab 3/syumusak.ipynb\n",
      "-rw-r--r--   1 alice supergroup       3400 2022-04-27 14:26 /user/alice/notebooks/Lab 3/tbirinci21.ipynb\n",
      "-rw-r--r--   1 alice supergroup       3400 2022-04-27 14:25 /user/alice/notebooks/Lab 3/user1.ipynb\n",
      "-rw-r--r--   1 alice supergroup       3400 2022-04-27 14:25 /user/alice/notebooks/Lab 3/user10.ipynb\n",
      "-rw-r--r--   1 alice supergroup       3400 2022-04-27 14:25 /user/alice/notebooks/Lab 3/user2.ipynb\n",
      "-rw-r--r--   1 alice supergroup       3400 2022-04-27 14:25 /user/alice/notebooks/Lab 3/user3.ipynb\n",
      "-rw-r--r--   1 alice supergroup       3400 2022-04-27 14:25 /user/alice/notebooks/Lab 3/user4.ipynb\n",
      "-rw-r--r--   1 alice supergroup       3400 2022-04-27 14:25 /user/alice/notebooks/Lab 3/user5.ipynb\n",
      "-rw-r--r--   1 alice supergroup       3400 2022-04-27 14:25 /user/alice/notebooks/Lab 3/user6.ipynb\n",
      "-rw-r--r--   1 alice supergroup       3400 2022-04-27 14:25 /user/alice/notebooks/Lab 3/user7.ipynb\n",
      "-rw-r--r--   1 alice supergroup       3400 2022-04-27 14:25 /user/alice/notebooks/Lab 3/user8.ipynb\n",
      "-rw-r--r--   1 alice supergroup       3400 2022-04-27 14:24 /user/alice/notebooks/Lab 3/user9.ipynb\n",
      "-rw-r--r--   1 alice supergroup       3400 2022-04-27 14:24 /user/alice/notebooks/Lab 3/ybulut21.ipynb\n",
      "drwxr-xr-x   - alice supergroup          0 2022-04-28 17:58 /user/alice/notebooks/Lab 4\n",
      "drwxr-xr-x   - alice supergroup          0 2022-04-28 17:55 /user/alice/notebooks/Lab 4/.ipynb_checkpoints\n",
      "-rw-r--r--   1 alice supergroup      12387 2022-04-28 14:15 /user/alice/notebooks/Lab 4/.ipynb_checkpoints/Lab-Hadoop-Base-HDFS-checkpoint.ipynb\n",
      "-rw-r--r--   1 alice supergroup      13026 2022-04-28 17:55 /user/alice/notebooks/Lab 4/.ipynb_checkpoints/meroglu21-checkpoint.ipynb\n",
      "-rw-r--r--   1 alice supergroup      12855 2022-04-28 14:22 /user/alice/notebooks/Lab 4/Lab-Hadoop-Base-HDFS.ipynb\n",
      "-rw-r--r--   1 alice supergroup      33843 2022-04-28 17:57 /user/alice/notebooks/Lab 4/aharlak21.ipynb\n",
      "-rw-r--r--   1 alice supergroup      12855 2022-04-28 14:25 /user/alice/notebooks/Lab 4/akarslioglu.ipynb\n",
      "-rw-r--r--   1 alice supergroup      33863 2022-04-28 17:57 /user/alice/notebooks/Lab 4/balbayrak21.ipynb\n",
      "-rw-r--r--   1 alice supergroup      12855 2022-04-28 14:25 /user/alice/notebooks/Lab 4/barslan15.ipynb\n",
      "-rw-r--r--   1 alice supergroup      12855 2022-04-28 14:25 /user/alice/notebooks/Lab 4/berermis16.ipynb\n",
      "-rw-r--r--   1 alice supergroup      33903 2022-04-28 17:58 /user/alice/notebooks/Lab 4/bsen21.ipynb\n",
      "-rw-r--r--   1 alice supergroup      12855 2022-04-28 14:25 /user/alice/notebooks/Lab 4/bzumrut21.ipynb\n",
      "-rw-r--r--   1 alice supergroup      12855 2022-04-28 14:25 /user/alice/notebooks/Lab 4/cmergen21.ipynb\n",
      "-rw-r--r--   1 alice supergroup      12855 2022-04-28 14:25 /user/alice/notebooks/Lab 4/dbedir21.ipynb\n",
      "-rw-r--r--   1 alice supergroup      12855 2022-04-28 14:25 /user/alice/notebooks/Lab 4/debasaran.ipynb\n",
      "-rw-r--r--   1 alice supergroup      12855 2022-04-28 14:25 /user/alice/notebooks/Lab 4/dgultekin21.ipynb\n",
      "-rw-r--r--   1 alice supergroup      12855 2022-04-28 14:25 /user/alice/notebooks/Lab 4/ecosgun13.ipynb\n",
      "-rw-r--r--   1 alice supergroup      54477 2022-04-28 17:57 /user/alice/notebooks/Lab 4/eerkmen21.ipynb\n",
      "-rw-r--r--   1 alice supergroup      12855 2022-04-28 14:25 /user/alice/notebooks/Lab 4/egeaydin21.ipynb\n",
      "-rw-r--r--   1 alice supergroup      12855 2022-04-28 14:25 /user/alice/notebooks/Lab 4/egok15.ipynb\n",
      "-rw-r--r--   1 alice supergroup      33861 2022-04-28 17:58 /user/alice/notebooks/Lab 4/emustul21.ipynb\n",
      "-rw-r--r--   1 alice supergroup      12855 2022-04-28 14:25 /user/alice/notebooks/Lab 4/ersinsonmez21.ipynb\n",
      "-rw-r--r--   1 alice supergroup      12855 2022-04-28 14:25 /user/alice/notebooks/Lab 4/ezgiaydin21.ipynb\n",
      "-rw-r--r--   1 alice supergroup      12855 2022-04-28 14:25 /user/alice/notebooks/Lab 4/gcaferoglu21.ipynb\n",
      "-rw-r--r--   1 alice supergroup      12855 2022-04-28 14:25 /user/alice/notebooks/Lab 4/gureten21.ipynb\n",
      "-rw-r--r--   1 alice supergroup      12855 2022-04-28 14:25 /user/alice/notebooks/Lab 4/hbeyaz21.ipynb\n",
      "-rw-r--r--   1 alice supergroup      33660 2022-04-28 17:57 /user/alice/notebooks/Lab 4/hdehidi21.ipynb\n",
      "-rw-r--r--   1 alice supergroup      12855 2022-04-28 14:25 /user/alice/notebooks/Lab 4/hgungor21.ipynb\n",
      "-rw-r--r--   1 alice supergroup      12855 2022-04-28 14:25 /user/alice/notebooks/Lab 4/hkuyumcu21.ipynb\n",
      "-rw-r--r--   1 alice supergroup      12855 2022-04-28 14:25 /user/alice/notebooks/Lab 4/iyazici21.ipynb\n",
      "-rw-r--r--   1 alice supergroup      12855 2022-04-28 14:25 /user/alice/notebooks/Lab 4/mboluk15.ipynb\n",
      "-rw-r--r--   1 alice supergroup      12855 2022-04-28 14:25 /user/alice/notebooks/Lab 4/mcuruk21.ipynb\n",
      "-rw-r--r--   1 alice supergroup      12855 2022-04-28 14:25 /user/alice/notebooks/Lab 4/mekler17.ipynb\n",
      "-rw-r--r--   1 alice supergroup      33755 2022-04-28 17:58 /user/alice/notebooks/Lab 4/meroglu21.ipynb\n",
      "-rw-r--r--   1 alice supergroup      12855 2022-04-28 14:25 /user/alice/notebooks/Lab 4/mincegon14.ipynb\n",
      "-rw-r--r--   1 alice supergroup      12855 2022-04-28 14:25 /user/alice/notebooks/Lab 4/mkirilmaz16.ipynb\n",
      "-rw-r--r--   1 alice supergroup      12855 2022-04-28 14:25 /user/alice/notebooks/Lab 4/mulusam15.ipynb\n",
      "-rw-r--r--   1 alice supergroup      12855 2022-04-28 14:25 /user/alice/notebooks/Lab 4/ocan21.ipynb\n",
      "-rw-r--r--   1 alice supergroup      12855 2022-04-28 14:25 /user/alice/notebooks/Lab 4/osenocak21.ipynb\n",
      "-rw-r--r--   1 alice supergroup      12855 2022-04-28 14:25 /user/alice/notebooks/Lab 4/oulku21.ipynb\n",
      "-rw-r--r--   1 alice supergroup      12855 2022-04-28 14:25 /user/alice/notebooks/Lab 4/ounlu21.ipynb\n",
      "-rw-r--r--   1 alice supergroup      12855 2022-04-28 14:25 /user/alice/notebooks/Lab 4/segridere21.ipynb\n",
      "-rw-r--r--   1 alice supergroup      12855 2022-04-28 14:25 /user/alice/notebooks/Lab 4/ssaygin21.ipynb\n",
      "-rw-r--r--   1 alice supergroup      33545 2022-04-28 17:57 /user/alice/notebooks/Lab 4/sshahmirzadi21.ipynb\n",
      "-rw-r--r--   1 alice supergroup      33220 2022-04-28 17:57 /user/alice/notebooks/Lab 4/syumusak.ipynb\n",
      "-rw-r--r--   1 alice supergroup      12855 2022-04-28 14:25 /user/alice/notebooks/Lab 4/tbirinci21.ipynb\n",
      "-rw-r--r--   1 alice supergroup      12855 2022-04-28 14:25 /user/alice/notebooks/Lab 4/user1.ipynb\n",
      "-rw-r--r--   1 alice supergroup      12855 2022-04-28 14:26 /user/alice/notebooks/Lab 4/user10.ipynb\n",
      "-rw-r--r--   1 alice supergroup      12855 2022-04-28 14:25 /user/alice/notebooks/Lab 4/user2.ipynb\n",
      "-rw-r--r--   1 alice supergroup      12855 2022-04-28 14:25 /user/alice/notebooks/Lab 4/user3.ipynb\n",
      "-rw-r--r--   1 alice supergroup      12855 2022-04-28 14:25 /user/alice/notebooks/Lab 4/user4.ipynb\n",
      "-rw-r--r--   1 alice supergroup      12855 2022-04-28 14:25 /user/alice/notebooks/Lab 4/user5.ipynb\n",
      "-rw-r--r--   1 alice supergroup      12855 2022-04-28 14:25 /user/alice/notebooks/Lab 4/user6.ipynb\n",
      "-rw-r--r--   1 alice supergroup      12855 2022-04-28 14:25 /user/alice/notebooks/Lab 4/user7.ipynb\n",
      "-rw-r--r--   1 alice supergroup      12855 2022-04-28 14:25 /user/alice/notebooks/Lab 4/user8.ipynb\n",
      "-rw-r--r--   1 alice supergroup      12855 2022-04-28 14:25 /user/alice/notebooks/Lab 4/user9.ipynb\n",
      "-rw-r--r--   1 alice supergroup      12855 2022-04-28 14:25 /user/alice/notebooks/Lab 4/ybulut21.ipynb\n",
      "-rw-r--r--   1 alice supergroup         43 2022-04-28 17:56 /user/alice/semih_yumusak.txt\n",
      "-rw-r--r--   1 alice supergroup         55 2022-04-28 17:56 /user/alice/shayan_rahimi.txt\n",
      "-rw-r--r--   1 alice supergroup         29 2022-04-28 08:18 /user/alice/today.txt\n",
      "-rw-r--r--   1 alice supergroup         48 2022-04-27 08:46 /user/alice/user.txt\n",
      "-rw-r--r--   1 alice supergroup         58 2022-04-27 09:44 /user/alice/user2.txt\n"
     ]
    }
   ],
   "source": [
    "%%bash\n",
    "hdfs dfs -put Hamza_Dehidi.txt\n",
    "hdfs dfs -ls -R /user/alice/"
   ]
  },
  {
   "cell_type": "code",
   "execution_count": 7,
   "metadata": {
    "cell_id": "00012-34d0cd52-4319-49ac-89aa-4a113d361762",
    "deepnote_cell_type": "code",
    "id": "bEo0_nnvMS2o"
   },
   "outputs": [
    {
     "name": "stdout",
     "output_type": "stream",
     "text": [
      "Hamza Dehidi\n",
      "Thu Apr 28 17:58:41 UTC 2022\n"
     ]
    }
   ],
   "source": [
    "%%bash\n",
    "hdfs dfs -cat Hamza_Dehidi.txt"
   ]
  },
  {
   "cell_type": "markdown",
   "metadata": {
    "cell_id": "00013-1d7e39b5-9b9a-4ffa-aba4-246b79342334",
    "deepnote_cell_type": "markdown",
    "id": "DBm2R7rPMS2p"
   },
   "source": [
    "# Example Commands and Descriptions\n",
    "Remove the file:\n",
    "```bash\n",
    "hdfs dfs -rm user.txt\n",
    "```\n",
    "\n",
    "Put it again on HDFS and move to books directory:\n",
    "```bash\n",
    "hdfs dfs -copyFromLocal user.txt\n",
    "hdfs dfs -mv user.txt books/user.txt\n",
    "hdfs dfs -ls -R -h\n",
    "```\n",
    "\n",
    "Copy user.txt to hello.txt and remove it.\n",
    "```bash\n",
    "hdfs dfs -cp books/user.txt books/hello.txt\n",
    "hdfs dfs -count -h /user/$USER\n",
    "hdfs dfs -rm books/user.txt\n",
    "```"
   ]
  },
  {
   "cell_type": "markdown",
   "metadata": {
    "cell_id": "00014-c7644b69-2b41-45e3-8ef7-187048c5b82d",
    "deepnote_cell_type": "markdown",
    "id": "E5t3Zo7JMS2p"
   },
   "source": [
    "## Hands-on practice:\n",
    "\n",
    "1. Create a directory `files_name_surname` in HDFS.\n",
    "2. List the contents of a directory /.\n",
    "3. Upload the file today.txt in HDFS.\n",
    "```bash\n",
    "date > today.txt\n",
    "whoami >> today.txt\n",
    "```\n",
    "4. Display contents of file `today.txt`\n",
    "5. Copy `today.txt` file from source to `files_name_surname` directory.\n",
    "6. Copy file `jps.txt` from/To Local file system to HDFS\n",
    "```bash\n",
    "jps > jps.txt\n",
    "```\n",
    "7. Move file `jps.txt` from source to `files`.\n",
    "8. Remove file `today.txt` from home directory in HDFS.\n",
    "9. Display last few lines of `jps.txt`.\n",
    "10. Create a pandas dataframe from \"data\" and save it to your HDFS `files` folder (You may use the \"!hdfs dfs\" syntax)"
   ]
  },
  {
   "cell_type": "code",
   "execution_count": 8,
   "metadata": {},
   "outputs": [],
   "source": [
    "%%bash\n",
    "date > today.txt\n",
    "whoami >> today.txt"
   ]
  },
  {
   "cell_type": "code",
   "execution_count": 5,
   "metadata": {},
   "outputs": [],
   "source": [
    "%%bash\n",
    "# WRITE YOUR HDFS COMMANDS HERE - Task 1 \n",
    "# Cancelled Due to Permission Error"
   ]
  },
  {
   "cell_type": "code",
   "execution_count": 14,
   "metadata": {},
   "outputs": [
    {
     "name": "stdout",
     "output_type": "stream",
     "text": [
      "Found 1 items\n",
      "-rw-r--r--   1 alice supergroup         58 2022-04-27 14:15 /user/alice/input/name_surname.txt\n"
     ]
    }
   ],
   "source": [
    "%%bash\n",
    "# WRITE YOUR HDFS COMMANDS HERE - Task 2\n",
    "hdfs dfs -ls /user/alice/input"
   ]
  },
  {
   "cell_type": "code",
   "execution_count": 22,
   "metadata": {},
   "outputs": [],
   "source": [
    "%%bash\n",
    "# WRITE YOUR HDFS COMMANDS HERE - Task 3\n",
    "hdfs dfs -put today.txt"
   ]
  },
  {
   "cell_type": "code",
   "execution_count": 16,
   "metadata": {},
   "outputs": [
    {
     "name": "stdout",
     "output_type": "stream",
     "text": [
      "Thu Apr 28 08:16:21 UTC 2022\n"
     ]
    }
   ],
   "source": [
    "%%bash\n",
    "# WRITE YOUR HDFS COMMANDS HERE - Task 4\n",
    "hdfs dfs -cat today.txt"
   ]
  },
  {
   "cell_type": "code",
   "execution_count": null,
   "metadata": {},
   "outputs": [],
   "source": [
    "%%bash\n",
    "# WRITE YOUR HDFS COMMANDS HERE - Task 5\n",
    "# Cancelled Due to Permission Error"
   ]
  },
  {
   "cell_type": "code",
   "execution_count": 24,
   "metadata": {},
   "outputs": [],
   "source": [
    "%%bash\n",
    "# WRITE YOUR HDFS COMMANDS HERE - Task 6\n",
    "\n",
    "echo 'jps' > jps.txt\n",
    "hdfs dfs -copyFromLocal jps.txt"
   ]
  },
  {
   "cell_type": "code",
   "execution_count": 25,
   "metadata": {},
   "outputs": [
    {
     "name": "stdout",
     "output_type": "stream",
     "text": [
      "Deleted /user/alice/files/jps.txt\n"
     ]
    }
   ],
   "source": [
    "%%bash\n",
    "hdfs dfs -rm /user/alice/files/jps.txt # remove jps.txt if it exists\n",
    "\n",
    "# WRITE YOUR HDFS COMMANDS HERE - Task 7\n",
    "hdfs dfs -mv jps.txt /user/alice/files/jps.txt"
   ]
  },
  {
   "cell_type": "code",
   "execution_count": 26,
   "metadata": {},
   "outputs": [
    {
     "name": "stdout",
     "output_type": "stream",
     "text": [
      "Found 7 items\n",
      "-rw-r--r--   1 alice supergroup         46 2022-04-28 20:33 /user/alice/files/berna_bilcan_sen.txt\n",
      "-rw-r--r--   1 alice supergroup         46 2022-05-01 14:54 /user/alice/files/can_mergen.csv\n",
      "-rw-r--r--   1 alice supergroup       4349 2022-04-28 20:13 /user/alice/files/data.csv\n",
      "-rw-r--r--   1 alice supergroup        574 2022-04-28 20:18 /user/alice/files/df.txt\n",
      "-rw-r--r--   1 alice supergroup         11 2022-05-06 20:06 /user/alice/files/ersin_sonmez_today.txt\n",
      "-rw-r--r--   1 alice supergroup          4 2022-05-08 13:07 /user/alice/files/jps.txt\n",
      "-rw-r--r--   1 alice supergroup         35 2022-04-28 20:14 /user/alice/files/today.txt\n"
     ]
    }
   ],
   "source": [
    "%%bash \n",
    "hdfs dfs -ls /user/alice/files jps.txt # to make sure jps.txt is in the correct directory"
   ]
  },
  {
   "cell_type": "code",
   "execution_count": 23,
   "metadata": {},
   "outputs": [
    {
     "name": "stdout",
     "output_type": "stream",
     "text": [
      "Deleted /user/alice/today.txt\n"
     ]
    }
   ],
   "source": [
    "%%bash\n",
    "# WRITE YOUR HDFS COMMANDS HERE - Task 8\n",
    "hdfs dfs -rm /user/alice/today.txt"
   ]
  },
  {
   "cell_type": "code",
   "execution_count": 27,
   "metadata": {},
   "outputs": [
    {
     "name": "stdout",
     "output_type": "stream",
     "text": [
      "jps\n"
     ]
    }
   ],
   "source": [
    "%%bash\n",
    "# WRITE YOUR HDFS COMMANDS HERE - Task 9\n",
    "hdfs dfs -tail /user/alice/files/jps.txt"
   ]
  },
  {
   "cell_type": "code",
   "execution_count": 36,
   "metadata": {},
   "outputs": [],
   "source": [
    "# WRITE YOUR PYTHON AND HDFS COMMANDS HERE - Task 10\n",
    "import pandas as pd\n",
    "data = {'col1': [1, 2], 'col2': [3, 4]}\n",
    "df = pd.DataFrame(data)"
   ]
  },
  {
   "cell_type": "code",
   "execution_count": 44,
   "metadata": {},
   "outputs": [],
   "source": [
    "%%bash\n",
    "df > df.txt"
   ]
  },
  {
   "cell_type": "code",
   "execution_count": 45,
   "metadata": {},
   "outputs": [],
   "source": [
    "!hdfs dfs -put df.txt /user/alice/files/df.txt"
   ]
  },
  {
   "cell_type": "code",
   "execution_count": null,
   "metadata": {},
   "outputs": [],
   "source": []
  }
 ],
 "metadata": {
  "colab": {
   "name": "13-Hadoop.ipynb",
   "provenance": []
  },
  "deepnote_execution_queue": [],
  "deepnote_notebook_id": "18c01af4-155a-4b30-ab02-1fcfe73f7579",
  "kernelspec": {
   "display_name": "Python 3",
   "language": "python",
   "name": "python3"
  },
  "language_info": {
   "codemirror_mode": {
    "name": "ipython",
    "version": 3
   },
   "file_extension": ".py",
   "mimetype": "text/x-python",
   "name": "python",
   "nbconvert_exporter": "python",
   "pygments_lexer": "ipython3",
   "version": "3.7.3"
  }
 },
 "nbformat": 4,
 "nbformat_minor": 1
}