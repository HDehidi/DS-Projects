{
  "cells": [
    {
      "cell_type": "markdown",
      "metadata": {
        "id": "czuG2cRcn4wU"
      },
      "source": [
        "<!--BOOK_INFORMATION-->\n",
        "<img align=\"left\" style=\"padding-right:10px;\" src=\"https://github.com/jakevdp/PythonDataScienceHandbook/blob/master/notebooks/figures/PDSH-cover-small.png?raw=1\">\n",
        "\n",
        "*This notebook contains an excerpt from the [Python Data Science Handbook](http://shop.oreilly.com/product/0636920034919.do) by Jake VanderPlas; the content is available [on GitHub](https://github.com/jakevdp/PythonDataScienceHandbook).*\n",
        "\n",
        "*The text is released under the [CC-BY-NC-ND license](https://creativecommons.org/licenses/by-nc-nd/3.0/us/legalcode), and code is released under the [MIT license](https://opensource.org/licenses/MIT). If you find this content useful, please consider supporting the work by [buying the book](http://shop.oreilly.com/product/0636920034919.do)!*"
      ]
    },
    {
      "cell_type": "markdown",
      "metadata": {
        "id": "vtV_oBO9n4wZ"
      },
      "source": [
        "# IPython and Shell Commands"
      ]
    },
    {
      "cell_type": "markdown",
      "metadata": {
        "id": "PJ4FLg68n4wa"
      },
      "source": [
        "When working interactively with the standard Python interpreter, one of the frustrations is the need to switch between multiple windows to access Python tools and system command-line tools.\n",
        "IPython bridges this gap, and gives you a syntax for executing shell commands directly from within the IPython terminal.\n",
        "The magic happens with the exclamation point: anything appearing after ``!`` on a line will be executed not by the Python kernel, but by the system command-line.\n",
        "\n",
        "The following assumes you're on a Unix-like system, such as Linux or Mac OSX.\n",
        "Some of the examples that follow will fail on Windows, which uses a different type of shell by default (though with the 2016 announcement of native Bash shells on Windows, soon this may no longer be an issue!).\n",
        "If you're unfamiliar with shell commands, I'd suggest reviewing the [Shell Tutorial](http://swcarpentry.github.io/shell-novice/) put together by the always excellent Software Carpentry Foundation."
      ]
    },
    {
      "cell_type": "markdown",
      "metadata": {
        "id": "v-hR-7l3n4wb"
      },
      "source": [
        "## Quick Introduction to the Shell\n",
        "\n",
        "A full intro to using the shell/terminal/command-line is well beyond the scope of this chapter, but for the uninitiated we will offer a quick introduction here.\n",
        "The shell is a way to interact textually with your computer.\n",
        "Ever since the mid 1980s, when Microsoft and Apple introduced the first versions of their now ubiquitous graphical operating systems, most computer users have interacted with their operating system through familiar clicking of menus and drag-and-drop movements.\n",
        "But operating systems existed long before these graphical user interfaces, and were primarily controlled through sequences of text input: at the prompt, the user would type a command, and the computer would do what the user told it to.\n",
        "Those early prompt systems are the precursors of the shells and terminals that most active data scientists still use today.\n",
        "\n",
        "Someone unfamiliar with the shell might ask why you would bother with this, when many results can be accomplished by simply clicking on icons and menus.\n",
        "A shell user might reply with another question: why hunt icons and click menus when you can accomplish things much more easily by typing?\n",
        "While it might sound like a typical tech preference impasse, when moving beyond basic tasks it quickly becomes clear that the shell offers much more control of advanced tasks, though admittedly the learning curve can intimidate the average computer user.\n",
        "\n",
        "As an example, here is a sample of a Linux/OSX shell session where a user explores, creates, and modifies directories and files on their system (``/#`` is the prompt, and everything after the ``#`` sign is the typed command):\n",
        "\n",
        "```bash\n",
        "\n",
        "/content# cd ..             # go up to the root directory \n",
        "\n",
        "/# echo \"hello world\"             # echo is like Python's print function\n",
        "hello world\n",
        "\n",
        "/# pwd                            # pwd = print working directory\n",
        "/                             # this is the \"path\" that we're sitting in\n",
        "\n",
        "/# ls                             # ls = list working directory contents\n",
        "bin  lib  .... \n",
        "\n",
        "/# cd content/                   # cd = change directory\n",
        "\n",
        "/content# pwd\n",
        "/content\n",
        "\n",
        "/content# ls\n",
        "sample_data \n",
        "\n",
        "/content# mkdir myproject          # mkdir = make new directory\n",
        "\n",
        "/content# cd myproject/\n",
        "\n",
        "/content# mv ../sample_data/README.md ./  # mv = move file. Here we're moving the\n",
        "                                        # file README.md from one directory\n",
        "                                        # up (../) to the current directory (./)\n",
        "/content# ls\n",
        "README.md\n",
        "```\n",
        "\n",
        "Notice that all of this is just a compact way to do familiar operations (navigating a directory structure, creating a directory, moving a file, etc.) by typing commands rather than clicking icons and menus.\n",
        "Note that with just a few commands (``pwd``, ``ls``, ``cd``, ``mkdir``, and ``cp``) you can do many of the most common file operations.\n",
        "It's when you go beyond these basics that the shell approach becomes really powerful."
      ]
    },
    {
      "cell_type": "markdown",
      "metadata": {
        "id": "c44G_EK3n4wc"
      },
      "source": [
        "## Shell Commands in Colab\n",
        "\n",
        "Any command that works at the command-line can be used in IPython by prefixing it with the ``!`` character.\n",
        "For example, the ``ls``, ``pwd``, and ``echo`` commands can be run as follows:\n",
        "\n",
        "```ipython\n",
        "In [1]: !ls\n",
        "myproject.txt\n",
        "\n",
        "In [2]: !pwd\n",
        "/content/t\n",
        "\n",
        "In [3]: !echo \"printing from the shell\"\n",
        "printing from the shell\n",
        "```"
      ]
    },
    {
      "cell_type": "code",
      "source": [
        "!echo \"printing from the shell\""
      ],
      "metadata": {
        "id": "HZdyNzdASZBY",
        "colab": {
          "base_uri": "https://localhost:8080/"
        },
        "outputId": "bf34c142-bbd7-4536-e4dc-ee8e70185db1"
      },
      "execution_count": 3,
      "outputs": [
        {
          "output_type": "stream",
          "name": "stdout",
          "text": [
            "printing from the shell\n"
          ]
        }
      ]
    },
    {
      "cell_type": "markdown",
      "metadata": {
        "id": "ZnGeGtXZn4wd"
      },
      "source": [
        "## Passing Values to and from the Shell\n",
        "\n",
        "Shell commands can not only be called from IPython, but can also be made to interact with the IPython namespace.\n",
        "For example, you can save the output of any shell command to a Python list using the assignment operator:\n",
        "\n",
        "```ipython\n",
        "In [4]: contents = !ls\n",
        "\n",
        "In [5]: print(contents)\n",
        "['myproject.txt']\n",
        "\n",
        "In [6]: directory = !pwd\n",
        "\n",
        "In [7]: print(directory)\n",
        "['/content/sample_data']\n",
        "```\n",
        "\n",
        "Note that these results are not returned as lists, but as a special shell return type defined in IPython:\n",
        "\n",
        "```ipython\n",
        "In [8]: type(directory)\n",
        "IPython.utils.text.SList\n",
        "```\n",
        "\n",
        "This looks and acts a lot like a Python list, but has additional functionality, such as\n",
        "the ``grep`` and ``fields`` methods and the ``s``, ``n``, and ``p`` properties that allow you to search, filter, and display the results in convenient ways.\n",
        "For more information on these, you can use IPython's built-in help features."
      ]
    },
    {
      "cell_type": "code",
      "source": [
        "contents = !ls\n",
        "type(contents)"
      ],
      "metadata": {
        "colab": {
          "base_uri": "https://localhost:8080/"
        },
        "id": "E4oOH2rj1Bz2",
        "outputId": "ad5a1e7d-c47a-4ad2-8b9d-a5801ecd0f70"
      },
      "execution_count": 5,
      "outputs": [
        {
          "output_type": "execute_result",
          "data": {
            "text/plain": [
              "IPython.utils.text.SList"
            ]
          },
          "metadata": {},
          "execution_count": 5
        }
      ]
    },
    {
      "cell_type": "markdown",
      "metadata": {
        "id": "cY-eIsTEn4wf"
      },
      "source": [
        "Communication in the other direction–passing Python variables into the shell–is possible using the ``{varname}`` syntax:\n",
        "\n",
        "```ipython\n",
        "In [9]: message = \"hello from Python\"\n",
        "\n",
        "In [10]: !echo {message}\n",
        "hello from Python\n",
        "```\n",
        "\n",
        "The curly braces contain the variable name, which is replaced by the variable's contents in the shell command."
      ]
    },
    {
      "cell_type": "markdown",
      "metadata": {
        "id": "jKOKuL57n4wh"
      },
      "source": [
        "# Shell-Related Magic Commands\n",
        "\n",
        "If you play with IPython's shell commands for a while, you might notice that you cannot use ``!cd`` to navigate the filesystem:\n",
        "\n",
        "```ipython\n",
        "In [11]: !pwd\n",
        "/content/sample_data\n",
        "\n",
        "In [12]: !cd ..\n",
        "\n",
        "In [13]: !pwd\n",
        "/content\n",
        "```\n",
        "\n",
        "The reason is that shell commands in the notebook are executed in a temporary subshell.\n",
        "If you'd like to change the working directory in a more enduring way, you can use the ``%cd`` magic command:\n",
        "\n",
        "```ipython\n",
        "In [14]: %cd ..\n",
        "/\n",
        "```\n",
        "\n",
        "In fact, by default you can even use this without the ``%`` sign:\n",
        "\n",
        "```ipython\n",
        "In [15]: cd myproject\n",
        "/myproject\n",
        "```\n",
        "\n",
        "This is known as an ``automagic`` function, and this behavior can be toggled with the ``%automagic`` magic function.\n",
        "\n",
        "Besides ``%cd``, other available shell-like magic functions are ``%cat``, ``%cp``, ``%env``, ``%ls``, ``%man``, ``%mkdir``, ``%more``, ``%mv``, ``%pwd``, ``%rm``, and ``%rmdir``, any of which can be used without the ``%`` sign if ``automagic`` is on.\n",
        "This makes it so that you can almost treat the IPython prompt as if it's a normal shell:\n",
        "\n",
        "```ipython\n",
        "In [16]: mkdir tmp\n",
        "\n",
        "In [17]: ls\n",
        "myproject.txt  tmp/\n",
        "\n",
        "In [18]: cp myproject.txt tmp/\n",
        "\n",
        "In [19]: ls tmp\n",
        "myproject.txt\n",
        "\n",
        "In [20]: rm -r tmp\n",
        "```\n",
        "\n",
        "This access to the shell from within the same terminal window as your Python session means that there is a lot less switching back and forth between interpreter and shell as you write your Python code."
      ]
    },
    {
      "cell_type": "code",
      "source": [
        "# Write your commands here\n",
        "\n",
        "# Task 1: Create a folder with your name_surname\n",
        "# Task 2: Upload a file to colab and move that file to your folder with mv command\n",
        "# \n",
        "!mkdir Hamza_dehidi\n",
        "!mv new.txt Hamza_dehidi/"
      ],
      "metadata": {
        "id": "47kEJFXoRkOW",
        "colab": {
          "base_uri": "https://localhost:8080/"
        },
        "outputId": "14d24ea6-e027-4083-d029-588f3cd665e8"
      },
      "execution_count": 10,
      "outputs": [
        {
          "output_type": "stream",
          "name": "stdout",
          "text": [
            "mkdir: cannot create directory ‘Hamza_dehidi’: File exists\n"
          ]
        }
      ]
    },
    {
      "cell_type": "markdown",
      "source": [
        ""
      ],
      "metadata": {
        "id": "2t16DKbOS0mq"
      }
    },
    {
      "cell_type": "markdown",
      "source": [
        "Useful commands for library installations:\n",
        "\n",
        "[Ubuntu Commands Cheatsheet](https://github.com/semihyumusak/ubuntu-cheatsheet)\n",
        "\n",
        "apt-get: Package installation-removal\n",
        "\n",
        "Example: \n",
        "\n",
        "`!apt-get install openjdk-8-jdk-headless -qq > /dev/null`\n",
        "\n",
        "wget: Download a file \n",
        "\n",
        "Example:\n",
        "\n",
        "`!wget -q https://archive.apache.org/dist/spark/spark-2.4.4/spark-2.4.4-bin-hadoop2.7.tgz`\n",
        "\n",
        "tar: Compress and decompress files\n",
        "\n",
        "Example: \n",
        "\n",
        "`!tar xf spark-2.4.4-bin-hadoop2.7.tgz`\n",
        "\n",
        "python commands:\n",
        "\n",
        "Example:\n",
        "\n",
        "`!pip install -q findspark`"
      ],
      "metadata": {
        "id": "42O7EStnZxL0"
      }
    },
    {
      "cell_type": "code",
      "source": [
        "# Task 1: copy the example commands and run\n",
        "!apt-get install openjdk-8-jdk-headless -qq > /dev/null"
      ],
      "metadata": {
        "id": "uC2SUhjLU2zT"
      },
      "execution_count": 11,
      "outputs": []
    },
    {
      "cell_type": "code",
      "source": [
        "!wget -q https://archive.apache.org/dist/spark/spark-2.4.4/spark-2.4.4-bin-hadoop2.7.tgz"
      ],
      "metadata": {
        "id": "U8MDBzpT5ZzI"
      },
      "execution_count": 12,
      "outputs": []
    },
    {
      "cell_type": "code",
      "source": [
        "!tar xf spark-2.4.4-bin-hadoop2.7.tgz"
      ],
      "metadata": {
        "id": "s1fJ2p_j5fz1"
      },
      "execution_count": 14,
      "outputs": []
    },
    {
      "cell_type": "code",
      "source": [
        "!pip install -q findspark"
      ],
      "metadata": {
        "id": "fGy5r9kE6NB3"
      },
      "execution_count": 15,
      "outputs": []
    },
    {
      "cell_type": "code",
      "source": [
        "# Task 2: Figure out which library is missing for the following code and install it\n",
        "ModuleNotFoundError: No module named 'cartopy'"
      ],
      "metadata": {
        "id": "JW_ajEvoU-LA"
      },
      "execution_count": null,
      "outputs": []
    },
    {
      "cell_type": "code",
      "source": [
        "# Write your library installation code here\n",
        "!pip install -q cartopy"
      ],
      "metadata": {
        "id": "po2LwlsIXOwO",
        "colab": {
          "base_uri": "https://localhost:8080/"
        },
        "outputId": "756f3108-e8c9-47c4-b1c4-c2e472d6f997"
      },
      "execution_count": 17,
      "outputs": [
        {
          "output_type": "stream",
          "name": "stdout",
          "text": [
            "\u001b[K     |████████████████████████████████| 10.8 MB 8.2 MB/s \n",
            "\u001b[?25h  Installing build dependencies ... \u001b[?25l\u001b[?25hdone\n",
            "  Getting requirements to build wheel ... \u001b[?25l\u001b[?25herror\n",
            "\u001b[33mWARNING: Discarding https://files.pythonhosted.org/packages/f6/55/1e1c737dc9436b320deead73d1c455ddbb74b8b6992081863492f6f6378a/Cartopy-0.20.2.tar.gz#sha256=4d08c198ecaa50a6a6b109d0f14c070e813defc046a83ac5d7ab494f85599e35 (from https://pypi.org/simple/cartopy/) (requires-python:>=3.7). Command errored out with exit status 1: /usr/bin/python3 /usr/local/lib/python3.7/dist-packages/pip/_vendor/pep517/in_process/_in_process.py get_requires_for_build_wheel /tmp/tmp4w8e7qiu Check the logs for full command output.\u001b[0m\n",
            "\u001b[K     |████████████████████████████████| 10.8 MB 36.3 MB/s \n",
            "\u001b[?25h  Installing build dependencies ... \u001b[?25l\u001b[?25hdone\n",
            "  Getting requirements to build wheel ... \u001b[?25l\u001b[?25herror\n",
            "\u001b[33mWARNING: Discarding https://files.pythonhosted.org/packages/fc/59/aa52698e3838f4cd0e7eaa75bd86837e9e0b05041dbdaee3cda2fffced06/Cartopy-0.20.1.tar.gz#sha256=91f87b130e2574547a20cd634498df97d797abd12dcfd0235bc0cdbcec8b05e3 (from https://pypi.org/simple/cartopy/) (requires-python:>=3.7). Command errored out with exit status 1: /usr/bin/python3 /usr/local/lib/python3.7/dist-packages/pip/_vendor/pep517/in_process/_in_process.py get_requires_for_build_wheel /tmp/tmpsi60t3o1 Check the logs for full command output.\u001b[0m\n",
            "\u001b[K     |████████████████████████████████| 10.8 MB 42.5 MB/s \n",
            "\u001b[?25h  Installing build dependencies ... \u001b[?25l\u001b[?25hdone\n",
            "  Getting requirements to build wheel ... \u001b[?25l\u001b[?25herror\n",
            "\u001b[33mWARNING: Discarding https://files.pythonhosted.org/packages/0f/c0/58453b036e79046d211f083880d58dcce787e7e07647ac25dc46c6555099/Cartopy-0.20.0.tar.gz#sha256=eae58aff26806e63cf115b2bce9477cedc4aa9f578c5e477b2c25cfa404f2b7a (from https://pypi.org/simple/cartopy/) (requires-python:>=3.7). Command errored out with exit status 1: /usr/bin/python3 /usr/local/lib/python3.7/dist-packages/pip/_vendor/pep517/in_process/_in_process.py get_requires_for_build_wheel /tmp/tmpydm7mo63 Check the logs for full command output.\u001b[0m\n",
            "\u001b[K     |████████████████████████████████| 12.1 MB 43.8 MB/s \n",
            "\u001b[?25h  Installing build dependencies ... \u001b[?25l\u001b[?25hdone\n",
            "  Getting requirements to build wheel ... \u001b[?25l\u001b[?25hdone\n",
            "    Preparing wheel metadata ... \u001b[?25l\u001b[?25hdone\n",
            "\u001b[K     |████████████████████████████████| 44 kB 2.7 MB/s \n",
            "\u001b[?25h  Building wheel for cartopy (PEP 517) ... \u001b[?25l\u001b[?25hdone\n"
          ]
        }
      ]
    },
    {
      "cell_type": "code",
      "source": [
        "import matplotlib.path as mpath\n",
        "import matplotlib.pyplot as plt\n",
        "import numpy as np\n",
        "\n",
        "import cartopy.crs as ccrs\n",
        "import cartopy.feature as cfeature\n",
        "\n",
        "\n",
        "fig = plt.figure(figsize=[10, 5])\n",
        "ax1 = fig.add_subplot(1, 2, 1, projection=ccrs.SouthPolarStereo())\n",
        "ax2 = fig.add_subplot(1, 2, 2, projection=ccrs.SouthPolarStereo(),\n",
        "                    sharex=ax1, sharey=ax1)\n",
        "fig.subplots_adjust(bottom=0.05, top=0.95,\n",
        "                  left=0.04, right=0.95, wspace=0.02)\n",
        "\n",
        "# Limit the map to -60 degrees latitude and below.\n",
        "ax1.set_extent([-180, 180, -90, -60], ccrs.PlateCarree())\n",
        "\n",
        "ax1.add_feature(cfeature.LAND)\n",
        "ax1.add_feature(cfeature.OCEAN)\n",
        "\n",
        "ax1.gridlines()\n",
        "ax2.gridlines()\n",
        "\n",
        "ax2.add_feature(cfeature.LAND)\n",
        "ax2.add_feature(cfeature.OCEAN)\n",
        "\n",
        "# Compute a circle in axes coordinates, which we can use as a boundary\n",
        "# for the map. We can pan/zoom as much as we like - the boundary will be\n",
        "# permanently circular.\n",
        "theta = np.linspace(0, 2*np.pi, 100)\n",
        "center, radius = [0.5, 0.5], 0.5\n",
        "verts = np.vstack([np.sin(theta), np.cos(theta)]).T\n",
        "circle = mpath.Path(verts * radius + center)\n",
        "\n",
        "ax2.set_boundary(circle, transform=ax2.transAxes)\n",
        "\n",
        "plt.show()\n",
        "\n"
      ],
      "metadata": {
        "id": "3Zum2YWnXGIY",
        "colab": {
          "base_uri": "https://localhost:8080/"
        },
        "outputId": "ad6a563e-4b13-4180-ada2-127292895a4b"
      },
      "execution_count": null,
      "outputs": [
        {
          "output_type": "stream",
          "name": "stderr",
          "text": [
            "Geometry must be a Point or LineString\n"
          ]
        }
      ]
    },
    {
      "cell_type": "markdown",
      "source": [
        "# How to use Google Drive as storage"
      ],
      "metadata": {
        "id": "uAmL6yCZXLBH"
      }
    },
    {
      "cell_type": "code",
      "source": [
        "from google.colab import drive\n",
        "drive.mount('/content/drive')"
      ],
      "metadata": {
        "id": "8MvcH0SyRtkb",
        "colab": {
          "base_uri": "https://localhost:8080/"
        },
        "outputId": "cc88ae38-a47e-437a-a1aa-0aa5bc0394ed"
      },
      "execution_count": 1,
      "outputs": [
        {
          "output_type": "stream",
          "name": "stdout",
          "text": [
            "Mounted at /content/drive\n"
          ]
        }
      ]
    },
    {
      "cell_type": "code",
      "source": [
        "# Task 3: Access a file from your drive and print it here\n",
        "\"/content/drive/MyDrive/Books/paolo5.pdf\"\n",
        "# Task 4: Create a file in colab and store it into your google drive\n",
        "I have created Task_4.txt using the left panel"
      ],
      "metadata": {
        "id": "drKz2w3NXk6d",
        "colab": {
          "base_uri": "https://localhost:8080/",
          "height": 36
        },
        "outputId": "c4ab6aa1-06bb-44f1-d89a-f83418af9b50"
      },
      "execution_count": 3,
      "outputs": [
        {
          "output_type": "execute_result",
          "data": {
            "text/plain": [
              "'/content/drive/MyDrive/Books/paolo5.pdf'"
            ],
            "application/vnd.google.colaboratory.intrinsic+json": {
              "type": "string"
            }
          },
          "metadata": {},
          "execution_count": 3
        }
      ]
    }
  ],
  "metadata": {
    "anaconda-cloud": {},
    "kernelspec": {
      "display_name": "Python 3",
      "language": "python",
      "name": "python3"
    },
    "language_info": {
      "codemirror_mode": {
        "name": "ipython",
        "version": 3
      },
      "file_extension": ".py",
      "mimetype": "text/x-python",
      "name": "python",
      "nbconvert_exporter": "python",
      "pygments_lexer": "ipython3",
      "version": "3.5.1"
    },
    "colab": {
      "name": "Lab 1 - Python-And-Shell-Commands.ipynb",
      "provenance": [],
      "collapsed_sections": []
    }
  },
  "nbformat": 4,
  "nbformat_minor": 0
}