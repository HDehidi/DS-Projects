{
  "nbformat": 4,
  "nbformat_minor": 0,
  "metadata": {
    "colab": {
      "name": "Lab_3_Parallel_multiprocessing.ipynb",
      "provenance": []
    },
    "kernelspec": {
      "name": "python3",
      "display_name": "Python 3"
    },
    "language_info": {
      "name": "python"
    }
  },
  "cells": [
    {
      "cell_type": "code",
      "execution_count": 1,
      "metadata": {
        "id": "7VB2HuYlXmci"
      },
      "outputs": [],
      "source": [
        "import multiprocessing\n",
        "from multiprocessing import Pool\n",
        "import time\n",
        "import numba as nb # Speeds up some calculations\n",
        "import numpy as np"
      ]
    },
    {
      "cell_type": "code",
      "source": [
        "cores = multiprocessing.cpu_count() # Count the number of cores in a computer\n",
        "print(\"Number of cores: \", cores)\n",
        "!lscpu |grep 'Model name'\n",
        "!lscpu | grep 'Core(s) each processor has/per socket:'\n",
        "!lscpu | grep 'Number of threads/core:'"
      ],
      "metadata": {
        "colab": {
          "base_uri": "https://localhost:8080/"
        },
        "id": "D9e6DEg5m-NA",
        "outputId": "36671d50-3d0f-47cf-fe2f-f2527d848c8c"
      },
      "execution_count": 2,
      "outputs": [
        {
          "output_type": "stream",
          "name": "stdout",
          "text": [
            "Number of cores:  2\n",
            "Model name:          AMD EPYC 7B12\n"
          ]
        }
      ]
    },
    {
      "cell_type": "markdown",
      "source": [
        "# Map Basics"
      ],
      "metadata": {
        "id": "eAK6WR95La9Z"
      }
    },
    {
      "cell_type": "code",
      "source": [
        "def wait_fn(t):\n",
        "  time.sleep(t/10)\n",
        "\n",
        "data = [1]*10\n",
        "\n",
        "# Only one thread\n",
        "start = time.time()\n",
        "out = [wait_fn(t) for t in data]\n",
        "end = time.time()\n",
        "print(\"Only one thread: \",end - start,\"s\")\n",
        "\n",
        "# Palalelize\n",
        "start = time.time()\n",
        "with Pool() as p:\n",
        "  out = p.map(wait_fn, data)\n",
        "  end = time.time()\n",
        "print(\"Paralelized: \",end - start,\"s\")"
      ],
      "metadata": {
        "colab": {
          "base_uri": "https://localhost:8080/"
        },
        "id": "dRQeNk2GX0uY",
        "outputId": "632b1bba-081a-42b9-917b-c0dcca403610"
      },
      "execution_count": 3,
      "outputs": [
        {
          "output_type": "stream",
          "name": "stdout",
          "text": [
            "Only one thread:  1.0027673244476318 s\n",
            "Paralelized:  0.6164755821228027 s\n"
          ]
        }
      ]
    },
    {
      "cell_type": "markdown",
      "source": [
        "# Map an Array of Inputs"
      ],
      "metadata": {
        "id": "-uoZp7e4LvpK"
      }
    },
    {
      "cell_type": "code",
      "source": [
        "# Same as above, with two inputs\n",
        "data2 = [[1,0],[1,9],[1,1],[1,4],[1,3],[1,2]]\n",
        "\n",
        "def two_wait_fn(t1,t2):\n",
        "  time.sleep((t1+t2)/30)\n",
        "  print(t1+t2)\n",
        "  return t1,t2,t1+t2\n",
        "\n",
        "def two_wait_fn_unpacker(data):\n",
        "  return two_wait_fn(*data)\n",
        "\n",
        "# Only one thread\n",
        "start = time.time()\n",
        "out = [two_wait_fn(t1,t2) for t1,t2 in data2]\n",
        "#out = map(two_wait_fn_unpacker, data2)\n",
        "end = time.time()\n",
        "print(out)\n",
        "print(\"Only one thread: \",end - start,\"s\")\n",
        "\n",
        "# Paralelize\n",
        "start = time.time()\n",
        "out = []\n",
        "with Pool() as p:\n",
        "  out = p.map(two_wait_fn_unpacker, data2)\n",
        "end = time.time()\n",
        "print(out)\n",
        "print(\"Paralelized: \",end - start,\"s\")"
      ],
      "metadata": {
        "id": "-DOs9JCqaFPI",
        "colab": {
          "base_uri": "https://localhost:8080/"
        },
        "outputId": "2e93719a-3ca3-483b-dc49-1903a7b808a8"
      },
      "execution_count": 4,
      "outputs": [
        {
          "output_type": "stream",
          "name": "stdout",
          "text": [
            "1\n",
            "10\n",
            "2\n",
            "5\n",
            "4\n",
            "3\n",
            "[(1, 0, 1), (1, 9, 10), (1, 1, 2), (1, 4, 5), (1, 3, 4), (1, 2, 3)]\n",
            "Only one thread:  0.8362925052642822 s\n",
            "1\n",
            "2\n",
            "5\n",
            "10\n",
            "4\n",
            "3\n",
            "[(1, 0, 1), (1, 9, 10), (1, 1, 2), (1, 4, 5), (1, 3, 4), (1, 2, 3)]\n",
            "Paralelized:  0.5204808712005615 s\n"
          ]
        }
      ]
    },
    {
      "cell_type": "markdown",
      "source": [
        "# Assignment: \n",
        "Using Pool, parallelize the following code."
      ],
      "metadata": {
        "id": "iLaR7gC1jU5Y"
      }
    },
    {
      "cell_type": "code",
      "source": [
        "import time\n",
        "\n",
        "def is_perfect(n):\n",
        "    sum_factors = 0\n",
        "    for i in range(1, n):\n",
        "        if (n % i == 0):\n",
        "            sum_factors = sum_factors + i\n",
        "    if (sum_factors == n):\n",
        "        print('{} is a Perfect number'.format(n))\n",
        "\n",
        "tic = time.time()\n",
        "for n in range(1,30000):\n",
        "    is_perfect(n)\n",
        "toc = time.time()\n",
        "\n",
        "print('Done in {:.4f} seconds'.format(toc-tic))"
      ],
      "metadata": {
        "id": "8aWhCUj_iPub",
        "colab": {
          "base_uri": "https://localhost:8080/"
        },
        "outputId": "509171d8-3be0-41e2-b15f-7dd7fea00597"
      },
      "execution_count": 6,
      "outputs": [
        {
          "output_type": "stream",
          "name": "stdout",
          "text": [
            "6 is a Perfect number\n",
            "28 is a Perfect number\n",
            "496 is a Perfect number\n",
            "8128 is a Perfect number\n",
            "Done in 36.4210 seconds\n"
          ]
        }
      ]
    },
    {
      "cell_type": "code",
      "source": [
        "# Write your code here!\n",
        "n = range(1,30000)\n",
        "# Paralelize\n",
        "start = time.time()\n",
        "out = []\n",
        "with Pool() as p:\n",
        "  out = p.map(is_perfect, n)\n",
        "end = time.time()\n",
        "print(\"Paralelized: \",end - start,\"s\")"
      ],
      "metadata": {
        "id": "wbpV8iazjchG",
        "colab": {
          "base_uri": "https://localhost:8080/"
        },
        "outputId": "6bce7465-1d81-42e0-95a5-314f8a062ad7"
      },
      "execution_count": 9,
      "outputs": [
        {
          "output_type": "stream",
          "name": "stdout",
          "text": [
            "6 is a Perfect number\n",
            "28 is a Perfect number\n",
            "496 is a Perfect number\n",
            "8128 is a Perfect number\n",
            "Paralelized:  25.9706130027771 s\n"
          ]
        }
      ]
    }
  ]
}