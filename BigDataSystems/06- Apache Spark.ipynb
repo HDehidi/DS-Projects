{
  "cells": [
    {
      "cell_type": "markdown",
      "metadata": {
        "id": "HYaccnOdYbX4"
      },
      "source": [
        "## Spark\n",
        "\n",
        "You can speak with others regarding the assignment but all work must be your own. \n",
        "\n",
        "\n",
        "\n",
        "#![Spark Logo](http://spark-mooc.github.io/web-assets/images/ta_Spark-logo-small.png) + ![Python Logo](http://spark-mooc.github.io/web-assets/images/python-logo-master-v3-TM-flattened_small.png)\n",
        "# **Word Count Lab: Building a word count application**\n",
        "#### This lab will build on the techniques covered in the Spark tutorial to develop a simple word count application.  The volume of unstructured text in existence is growing dramatically, and Spark is an excellent tool for analyzing this type of data.  \n",
        "#### *Part 1:* Creating a base RDD and pair RDDs\n",
        "#### *Part 2:* Counting with pair RDDs\n",
        "#### *Part 3:* Finding unique words and a mean value\n",
        "\n",
        "#### Note that, for reference, you can look up the details of the relevant methods in [Spark's Python API](https://spark.apache.org/docs/latest/api/python/pyspark.html#pyspark.RDD)"
      ]
    },
    {
      "cell_type": "code",
      "source": [
        "!pip install pyspark"
      ],
      "metadata": {
        "id": "_PXIdcgdYmt2",
        "colab": {
          "base_uri": "https://localhost:8080/"
        },
        "outputId": "2d3eb809-f00e-47d3-9637-cbfba107e4af"
      },
      "execution_count": 1,
      "outputs": [
        {
          "output_type": "stream",
          "name": "stdout",
          "text": [
            "Collecting pyspark\n",
            "  Downloading pyspark-3.2.1.tar.gz (281.4 MB)\n",
            "\u001b[K     |████████████████████████████████| 281.4 MB 22 kB/s \n",
            "\u001b[?25hCollecting py4j==0.10.9.3\n",
            "  Downloading py4j-0.10.9.3-py2.py3-none-any.whl (198 kB)\n",
            "\u001b[K     |████████████████████████████████| 198 kB 59.0 MB/s \n",
            "\u001b[?25hBuilding wheels for collected packages: pyspark\n",
            "  Building wheel for pyspark (setup.py) ... \u001b[?25l\u001b[?25hdone\n",
            "  Created wheel for pyspark: filename=pyspark-3.2.1-py2.py3-none-any.whl size=281853642 sha256=57ba2a0661fde57dae9c06a29bc7d47f028d3bf437264109426b4231691fabb6\n",
            "  Stored in directory: /root/.cache/pip/wheels/9f/f5/07/7cd8017084dce4e93e84e92efd1e1d5334db05f2e83bcef74f\n",
            "Successfully built pyspark\n",
            "Installing collected packages: py4j, pyspark\n",
            "Successfully installed py4j-0.10.9.3 pyspark-3.2.1\n"
          ]
        }
      ]
    },
    {
      "cell_type": "code",
      "execution_count": 2,
      "metadata": {
        "id": "zSrnqeH1YbX-"
      },
      "outputs": [],
      "source": [
        "import pyspark\n",
        "sc = pyspark.SparkContext('local[*]')"
      ]
    },
    {
      "cell_type": "markdown",
      "metadata": {
        "id": "QdVgMai2YbYA"
      },
      "source": [
        "### ** Part 1: Creating a base RDD and pair RDDs **"
      ]
    },
    {
      "cell_type": "markdown",
      "metadata": {
        "id": "rumlJJr9YbYB"
      },
      "source": [
        "#### In this part of the lab, we will explore creating a base RDD with `parallelize` and using pair RDDs to count words."
      ]
    },
    {
      "cell_type": "markdown",
      "metadata": {
        "id": "rQITetcCYbYB"
      },
      "source": [
        "#### ** (1a) Create a base RDD **\n",
        "#### We'll start by generating a base RDD by using a Python list and the `sc.parallelize` method.  Then we'll print out the type of the base RDD."
      ]
    },
    {
      "cell_type": "code",
      "execution_count": 3,
      "metadata": {
        "id": "5RbAIMzhYbYC",
        "colab": {
          "base_uri": "https://localhost:8080/"
        },
        "outputId": "1146a3b8-9b8e-4c38-ad19-67c45d8937ae"
      },
      "outputs": [
        {
          "output_type": "stream",
          "name": "stdout",
          "text": [
            "<class 'pyspark.rdd.RDD'>\n"
          ]
        }
      ],
      "source": [
        "wordsList = ['cat', 'elephant', 'rat', 'rat', 'cat']\n",
        "wordsRDD = sc.parallelize(wordsList, 4)\n",
        "# Print out the type of wordsRDD\n",
        "print (type(wordsRDD))"
      ]
    },
    {
      "cell_type": "markdown",
      "metadata": {
        "id": "xRa4CCxRYbYC"
      },
      "source": [
        "#### What does it mean that the list is an RDD? What special operations does this enable and how is it different from a dataset? \n",
        "#\n"
      ]
    },
    {
      "cell_type": "markdown",
      "metadata": {
        "id": "LvA9ds7SYbYD"
      },
      "source": [
        "#### ** (1b) Pluralize and test **\n",
        "#### Let's use a `map()` transformation to add the letter 's' to each string in the base RDD we just created. We'll define a Python function that returns the word with an 's' at the end of the word.  Please replace `<FILL IN>` with your solution.  If you have trouble, the next cell has the solution.  After you have defined `makePlural` you can run the third cell which contains a test.  If you implementation is correct it will print `1 test passed`.\n",
        "#### This is the general form that exercises will take, except that no example solution will be provided.  Exercises will include an explanation of what is expected, followed by code cells where one cell will have one or more `<FILL IN>` sections.  The cell that needs to be modified will have `# TODO: Replace <FILL IN> with appropriate code` on its first line.  Once the `<FILL IN>` sections are updated and the code is run, the test cell can then be run to verify the correctness of your solution.  The last code cell before the next markdown section will contain the tests."
      ]
    },
    {
      "cell_type": "code",
      "execution_count": 5,
      "metadata": {
        "id": "t2TnZ_GPYbYE",
        "colab": {
          "base_uri": "https://localhost:8080/",
          "height": 36
        },
        "outputId": "095dbc62-087b-45bd-a034-9c8bcd34b04f"
      },
      "outputs": [
        {
          "output_type": "execute_result",
          "data": {
            "text/plain": [
              "'cats'"
            ],
            "application/vnd.google.colaboratory.intrinsic+json": {
              "type": "string"
            }
          },
          "metadata": {},
          "execution_count": 5
        }
      ],
      "source": [
        "# TODO: Replace <FILL IN> with appropriate code\n",
        "def makePlural(word):\n",
        "    \"\"\"Adds an 's' to `word`.\n",
        "\n",
        "    Note:\n",
        "        This is a simple function that only adds an 's'.  No attempt is made to follow proper\n",
        "        pluralization rules.\n",
        "\n",
        "    Args:\n",
        "        word (str): A string.\n",
        "\n",
        "    Returns:\n",
        "        str: A string with 's' added to it.\n",
        "    \"\"\"\n",
        "    return word+'s'\n",
        "\n",
        "makePlural('cat')"
      ]
    },
    {
      "cell_type": "markdown",
      "metadata": {
        "id": "Y3GiCOLTYbYF"
      },
      "source": [
        "#### ** (1c) Apply `makePlural` to the base RDD **\n",
        "#### Now pass each item in the base RDD into a [map()](http://spark.apache.org/docs/latest/api/python/pyspark.html#pyspark.RDD.map) transformation that applies the `makePlural()` function to each element. And then call the [collect()](http://spark.apache.org/docs/latest/api/python/pyspark.html#pyspark.RDD.collect) action to see the transformed RDD."
      ]
    },
    {
      "cell_type": "code",
      "execution_count": 8,
      "metadata": {
        "id": "wxBjcUk7YbYG",
        "colab": {
          "base_uri": "https://localhost:8080/"
        },
        "outputId": "a186fc5d-e6ad-4de4-d427-481be638bf14"
      },
      "outputs": [
        {
          "output_type": "stream",
          "name": "stdout",
          "text": [
            "['cats', 'elephants', 'rats', 'rats', 'cats']\n"
          ]
        }
      ],
      "source": [
        "# TODO: Replace <FILL IN> with appropriate code\n",
        "pluralRDD = wordsRDD.map(makePlural)\n",
        "print(pluralRDD.collect())"
      ]
    },
    {
      "cell_type": "markdown",
      "metadata": {
        "id": "Hyp9yzC_YbYG"
      },
      "source": [
        "#### ** (1d) Pass a `lambda` function to `map` **\n",
        "#### Let's create the same RDD using a `lambda` function.\n",
        "Let's remember that a lampda function \n",
        "\n",
        "lambda x: x + 1"
      ]
    },
    {
      "cell_type": "code",
      "execution_count": 9,
      "metadata": {
        "id": "l8rhkmqvYbYH",
        "colab": {
          "base_uri": "https://localhost:8080/"
        },
        "outputId": "2caf742a-7447-4125-d10e-2457b77efa82"
      },
      "outputs": [
        {
          "output_type": "stream",
          "name": "stdout",
          "text": [
            "['cats', 'elephants', 'rats', 'rats', 'cats']\n"
          ]
        }
      ],
      "source": [
        "# TODO: Replace <FILL IN> with appropriate code\n",
        "pluralLambdaRDD = wordsRDD.map(lambda x: x +'s')\n",
        "print(pluralLambdaRDD.collect())"
      ]
    },
    {
      "cell_type": "markdown",
      "metadata": {
        "id": "PmnbHKwPYbYH"
      },
      "source": [
        "#### ** (1e) Length of each word **\n",
        "#### Now use `map()` and a `lambda` function to return the number of characters in each word.  You can do this with the length function. We'll `collect` this result directly into a variable."
      ]
    },
    {
      "cell_type": "code",
      "execution_count": 13,
      "metadata": {
        "id": "40c5EodZYbYH",
        "colab": {
          "base_uri": "https://localhost:8080/"
        },
        "outputId": "229d8ac5-04b1-4e9d-db11-7a972421da3d"
      },
      "outputs": [
        {
          "output_type": "stream",
          "name": "stdout",
          "text": [
            "[4, 9, 4, 4, 4]\n"
          ]
        }
      ],
      "source": [
        "# TODO: Replace <FILL IN> with appropriate code\n",
        "pluralLengths = (pluralRDD\n",
        "                 .map(lambda w: len(w))\n",
        "                 .collect())\n",
        "print(pluralLengths)"
      ]
    },
    {
      "cell_type": "markdown",
      "metadata": {
        "id": "RUpdSBkYYbYI"
      },
      "source": [
        "#### ** (1f) Pair RDDs **\n",
        "#### The next step in writing our word counting program is to create a new type of RDD, called a pair RDD. A pair RDD is an RDD where each element is a pair tuple `(k, v)` where `k` is the key and `v` is the value. In this example, we will create a pair consisting of `('<word>', 1)` for each word element in the RDD.\n",
        "#### We can create the pair RDD using the `map()` transformation with a `lambda()` function to create a new RDD."
      ]
    },
    {
      "cell_type": "code",
      "execution_count": 14,
      "metadata": {
        "id": "VisBXMtgYbYI",
        "colab": {
          "base_uri": "https://localhost:8080/"
        },
        "outputId": "f9411b44-3ebb-40d6-c6fa-3d1f715edd93"
      },
      "outputs": [
        {
          "output_type": "stream",
          "name": "stdout",
          "text": [
            "[('cat', 1), ('elephant', 1), ('rat', 1), ('rat', 1), ('cat', 1)]\n"
          ]
        }
      ],
      "source": [
        "# TODO: Replace <FILL IN> with appropriate code\n",
        "wordPairs = wordsRDD.map(lambda w: (w, 1))\n",
        "print(wordPairs.collect())"
      ]
    },
    {
      "cell_type": "markdown",
      "metadata": {
        "id": "V_wJaT8cYbYI"
      },
      "source": [
        "### ** Part 2: Counting with pair RDDs **"
      ]
    },
    {
      "cell_type": "markdown",
      "metadata": {
        "id": "RuLIes1mYbYJ"
      },
      "source": [
        "#### Now, let's count the number of times a particular word appears in the RDD. There are multiple ways to perform the counting, but some are much less efficient than others.\n",
        "#### A naive approach would be to `collect()` all of the elements and count them in the driver program. While this approach could work for small datasets, we want an approach that will work for any size dataset including terabyte- or petabyte-sized datasets. In addition, performing all of the work in the driver program is slower than performing it in parallel in the workers. For these reasons, we will use data parallel operations."
      ]
    },
    {
      "cell_type": "markdown",
      "metadata": {
        "id": "Xh1jYnwNYbYJ"
      },
      "source": [
        "#### ** (2a) `groupByKey()` approach **\n",
        "#### An approach you might first consider (we'll see shortly that there are better ways) is based on using the [groupByKey()](http://spark.apache.org/docs/latest/api/python/pyspark.html#pyspark.RDD.groupByKey) transformation. As the name implies, the `groupByKey()` transformation groups all the elements of the RDD with the same key into a single list in one of the partitions. There are two problems with using `groupByKey()`:\n",
        "  + #### The operation requires a lot of data movement to move all the values into the appropriate partitions.\n",
        "  + #### The lists can be very large. Consider a word count of English Wikipedia: the lists for common words (e.g., the, a, etc.) would be huge and could exhaust the available memory in a worker.\n",
        " \n",
        "#### Use `groupByKey()` to generate a pair RDD of type `('word', iterator)`."
      ]
    },
    {
      "cell_type": "code",
      "execution_count": 15,
      "metadata": {
        "id": "fItm_JKUYbYJ",
        "colab": {
          "base_uri": "https://localhost:8080/"
        },
        "outputId": "8e8522cd-5ecc-43df-de9d-9b82d91ede12"
      },
      "outputs": [
        {
          "output_type": "stream",
          "name": "stdout",
          "text": [
            "cat: [1, 1]\n",
            "elephant: [1]\n",
            "rat: [1, 1]\n"
          ]
        }
      ],
      "source": [
        "# TODO: Replace <FILL IN> with appropriate code\n",
        "# Note that groupByKey requires no parameters\n",
        "wordsGrouped = wordPairs.groupByKey()\n",
        "for key, value in wordsGrouped.collect():\n",
        "    print('{0}: {1}'.format(key, list(value)))\n"
      ]
    },
    {
      "cell_type": "markdown",
      "metadata": {
        "id": "-bw81Q_ZYbYK"
      },
      "source": [
        "#### ** (2b) Use `groupByKey()` to obtain the counts **\n",
        "#### Using the `groupByKey()` transformation creates an RDD containing 3 elements, each of which is a pair of a word and a Python iterator.\n",
        "#### Now sum the iterator using a `map()` transformation.  The result should be a pair RDD consisting of (word, count) pairs."
      ]
    },
    {
      "cell_type": "code",
      "execution_count": 16,
      "metadata": {
        "id": "MCJhmPO3YbYK",
        "colab": {
          "base_uri": "https://localhost:8080/"
        },
        "outputId": "93acda1a-27aa-4c67-b8a9-3fdbd78d4baa"
      },
      "outputs": [
        {
          "output_type": "stream",
          "name": "stdout",
          "text": [
            "[('cat', 2), ('elephant', 1), ('rat', 2)]\n"
          ]
        }
      ],
      "source": [
        "# TODO: Replace <FILL IN> with appropriate code\n",
        "wordCountsGrouped = wordsGrouped.map(lambda kv: (kv[0], len(kv[1])))\n",
        "print(wordCountsGrouped.collect())"
      ]
    },
    {
      "cell_type": "markdown",
      "metadata": {
        "id": "LXsjNSYwYbYL"
      },
      "source": [
        "#### ** (2c) Counting using `reduceByKey` **\n",
        "#### A better approach is to start from the pair RDD and then use the [reduceByKey()](http://spark.apache.org/docs/latest/api/python/pyspark.html#pyspark.RDD.reduceByKey) transformation to create a new pair RDD. The `reduceByKey()` transformation gathers together pairs that have the same key and applies the function provided to two values at a time, iteratively reducing all of the values to a single value. `reduceByKey()` operates by applying the function first within each partition on a per-key basis and then across the partitions, allowing it to scale efficiently to large datasets."
      ]
    },
    {
      "cell_type": "code",
      "execution_count": 17,
      "metadata": {
        "id": "UmVaiTv7YbYL",
        "colab": {
          "base_uri": "https://localhost:8080/"
        },
        "outputId": "263d933c-6ef5-4b1e-bf60-8f2102e998ae"
      },
      "outputs": [
        {
          "output_type": "stream",
          "name": "stdout",
          "text": [
            "[('cat', 2), ('elephant', 1), ('rat', 2)]\n"
          ]
        }
      ],
      "source": [
        "# TODO: Replace <FILL IN> with appropriate code\n",
        "# Note that reduceByKey takes in a function that accepts two values and returns a single value\n",
        "wordCounts = wordPairs.reduceByKey(lambda a,b : a + b)\n",
        "print(wordCounts.collect())"
      ]
    },
    {
      "cell_type": "markdown",
      "metadata": {
        "id": "Y2fclbdUYbYL"
      },
      "source": [
        "#### ** (2d) All together **\n",
        "#### The expert version of the code performs the `map()` to pair RDD, `reduceByKey()` transformation, and `collect` in one statement."
      ]
    },
    {
      "cell_type": "code",
      "execution_count": 20,
      "metadata": {
        "id": "He3NKUFsYbYL",
        "colab": {
          "base_uri": "https://localhost:8080/"
        },
        "outputId": "395d1cf6-0c66-48b7-ee5c-3a4eb92db33e"
      },
      "outputs": [
        {
          "output_type": "stream",
          "name": "stdout",
          "text": [
            "[('cat', 2), ('elephant', 1), ('rat', 2)]\n"
          ]
        }
      ],
      "source": [
        "# TODO: Replace <FILL IN> with appropriate code\n",
        "wordCountsCollected = (wordsRDD\n",
        "                       .map(lambda w: (w,1))\n",
        "                       .reduceByKey(lambda a, b : a + b)\n",
        "                       .collect())\n",
        "print(wordCountsCollected)"
      ]
    },
    {
      "cell_type": "markdown",
      "metadata": {
        "id": "kzYLIy-3YbYL"
      },
      "source": [
        "### ** Part 3: Finding unique words and a mean value **"
      ]
    },
    {
      "cell_type": "code",
      "execution_count": 21,
      "metadata": {
        "id": "VDYfvjqDYbYL",
        "colab": {
          "base_uri": "https://localhost:8080/"
        },
        "outputId": "964de06a-24bf-47a3-9002-412f886d68e5"
      },
      "outputs": [
        {
          "output_type": "stream",
          "name": "stdout",
          "text": [
            "3\n"
          ]
        }
      ],
      "source": [
        "\n",
        "#See Unique words. \n",
        "uniqueWords =  wordsRDD.distinct().count()\n",
        "print (uniqueWords)"
      ]
    },
    {
      "cell_type": "markdown",
      "metadata": {
        "id": "rUzk5TfUYbYM"
      },
      "source": [
        "#### ** (3a) Mean using `reduce` **\n",
        "#### Find the mean number of words per unique word in `wordCounts`.\n",
        "#### Use a `reduce()` action to sum the counts in `wordCounts` and then divide by the number of unique words.  First `map()` the pair RDD `wordCounts`, which consists of (key, value) pairs, to an RDD of values."
      ]
    },
    {
      "cell_type": "code",
      "execution_count": 22,
      "metadata": {
        "id": "iK68E8mVYbYM",
        "colab": {
          "base_uri": "https://localhost:8080/"
        },
        "outputId": "d5c299ae-7289-464b-b1d4-d2623a33ce94"
      },
      "outputs": [
        {
          "output_type": "stream",
          "name": "stdout",
          "text": [
            "3\n",
            "1.0\n"
          ]
        }
      ],
      "source": [
        "# TODO: Replace <FILL IN> with appropriate code\n",
        "from operator import add\n",
        "totalCount = (wordCounts\n",
        "              .map(lambda kv: kv[0])\n",
        "              .count())\n",
        "average = totalCount / float(uniqueWords)\n",
        "print (totalCount)\n",
        "print (round(average, 2))"
      ]
    },
    {
      "cell_type": "markdown",
      "metadata": {
        "id": "lFm1qlzYYbYM"
      },
      "source": [
        "### ** Part 4: Apply word count to a file **"
      ]
    },
    {
      "cell_type": "markdown",
      "metadata": {
        "id": "fHBWqDo4YbYM"
      },
      "source": [
        "#### In this section we will finish developing our word count application.  We'll have to build the `wordCount` function, deal with real world problems like capitalization and punctuation, load in our data source, and compute the word count on the new data."
      ]
    },
    {
      "cell_type": "markdown",
      "metadata": {
        "id": "nueWtbp9YbYM"
      },
      "source": [
        "#### ** (4a) `wordCount` function **\n",
        "#### First, define a function for word counting.  You should reuse the techniques that have been covered in earlier parts of this lab.  This function should take in an RDD that is a list of words like `wordsRDD` and return a pair RDD that has all of the words and their associated counts."
      ]
    },
    {
      "cell_type": "code",
      "execution_count": 23,
      "metadata": {
        "id": "0YlLbWpbYbYM",
        "colab": {
          "base_uri": "https://localhost:8080/"
        },
        "outputId": "e56085e2-5eef-4948-ba66-fcce4a9e08a1"
      },
      "outputs": [
        {
          "output_type": "stream",
          "name": "stdout",
          "text": [
            "[('cat', 2), ('elephant', 1), ('rat', 2)]\n"
          ]
        }
      ],
      "source": [
        "# TODO: Replace <FILL IN> with appropriate code\n",
        "def wordCount(wordListRDD):\n",
        "    \"\"\"Creates a pair RDD with word counts from an RDD of words.\n",
        "\n",
        "    Args:\n",
        "        wordListRDD (RDD of str): An RDD consisting of words.\n",
        "\n",
        "    Returns:\n",
        "        RDD of (str, int): An RDD consisting of (word, count) tuples.\n",
        "    \"\"\"\n",
        "    return wordListRDD.map(lambda w: (w, 1)).reduceByKey(lambda a, b: a + b)\n",
        "  \n",
        "print (wordCount(wordsRDD).collect())"
      ]
    },
    {
      "cell_type": "code",
      "execution_count": null,
      "metadata": {
        "id": "Z-G8KDSuYbYN"
      },
      "outputs": [],
      "source": [
        ""
      ]
    }
  ],
  "metadata": {
    "anaconda-cloud": {},
    "kernelspec": {
      "display_name": "Python 3",
      "language": "python",
      "name": "python3"
    },
    "language_info": {
      "codemirror_mode": {
        "name": "ipython",
        "version": 3
      },
      "file_extension": ".py",
      "mimetype": "text/x-python",
      "name": "python",
      "nbconvert_exporter": "python",
      "pygments_lexer": "ipython3",
      "version": "3.6.3"
    },
    "name": "ML_lab2_word_count_student",
    "notebookId": 799244247729459,
    "colab": {
      "name": "Lab_6_spark_questions.ipynb",
      "provenance": [],
      "collapsed_sections": []
    }
  },
  "nbformat": 4,
  "nbformat_minor": 0
}