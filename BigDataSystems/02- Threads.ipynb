{
  "nbformat": 4,
  "nbformat_minor": 0,
  "metadata": {
    "colab": {
      "name": "Lab 2- Threads.ipynb",
      "provenance": [],
      "collapsed_sections": []
    },
    "kernelspec": {
      "name": "python3",
      "display_name": "Python 3"
    },
    "language_info": {
      "name": "python"
    }
  },
  "cells": [
    {
      "cell_type": "markdown",
      "source": [
        "# Single-threaded applications"
      ],
      "metadata": {
        "id": "aD2_1kuMhqIw"
      }
    },
    {
      "cell_type": "code",
      "execution_count": 3,
      "metadata": {
        "colab": {
          "base_uri": "https://localhost:8080/"
        },
        "id": "E6qGzme8hihx",
        "outputId": "046923fa-ce14-4ec5-f11b-c0e815e9dc88"
      },
      "outputs": [
        {
          "output_type": "stream",
          "name": "stdout",
          "text": [
            "Starting a task...\n",
            "done\n",
            "Starting a task...\n",
            "done\n",
            "It took  2.00 second(s) to complete.\n"
          ]
        }
      ],
      "source": [
        "from time import sleep, perf_counter\n",
        "\n",
        "def task():\n",
        "    print('Starting a task...')\n",
        "    sleep(1)\n",
        "    print('done')\n",
        "\n",
        "\n",
        "start_time = perf_counter()\n",
        "\n",
        "task()\n",
        "task()\n",
        "\n",
        "end_time = perf_counter()\n",
        "\n",
        "print(f'It took {end_time- start_time: 0.2f} second(s) to complete.')"
      ]
    },
    {
      "cell_type": "markdown",
      "source": [
        "The following diagram illustrates how the program works: \\\\\n",
        "![Python-Threading-Single-threaded-App[1].png](data:image/png;base64,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)\n",
        "\n",
        "First, the task() function executed and slept for one second. Then it executed a second time and also slept for another second. Finally, the program completes.\n",
        "\n",
        "When the task() function called the sleep() function, the CPU didn’t do anything. This is not efficient.\n",
        "\n",
        "This program has one process with a single thread, which is called the main thread.\n",
        "\n",
        "Because the program has only one thread, it’s called the single-threaded program."
      ],
      "metadata": {
        "id": "RvM_xE83jC37"
      }
    },
    {
      "cell_type": "markdown",
      "source": [
        "# Programming Task 1: \n",
        "- Write a function with name factorial\n",
        "- Call the factorial function for all values from 1 to 1000\n"
      ],
      "metadata": {
        "id": "kVkrGOCaiCEN"
      }
    },
    {
      "cell_type": "code",
      "source": [
        "from time import sleep, perf_counter\n",
        "\n",
        "def factorial(n):\n",
        "    #print('Starting a task...')\n",
        "    #TODO: Write your code here\n",
        "    result = 1\n",
        "    for i in range(1,n+1):\n",
        "      result *= i\n",
        "    #print('done')\n",
        "    \n",
        "start_time = perf_counter()\n",
        "\n",
        "#TODO Loop from 1 to 1000 \n",
        "for i in range(1001):\n",
        "  factorial(10000)\n",
        "\n",
        "end_time = perf_counter()\n",
        "\n",
        "print(f'It took {end_time- start_time: 0.2f} second(s) to complete.')"
      ],
      "metadata": {
        "id": "E6HuVTUOiAAj",
        "colab": {
          "base_uri": "https://localhost:8080/"
        },
        "outputId": "09d45991-7673-4d7c-c56b-d067080a75a5"
      },
      "execution_count": 30,
      "outputs": [
        {
          "output_type": "stream",
          "name": "stdout",
          "text": [
            "It took  18.08 second(s) to complete.\n"
          ]
        }
      ]
    },
    {
      "cell_type": "markdown",
      "source": [
        "Using Python threading to develop a multi-threaded program example\n",
        "\n",
        "To create a multi-threaded program, you need to use the Python threading module."
      ],
      "metadata": {
        "id": "kBPR3tvijaBN"
      }
    },
    {
      "cell_type": "code",
      "source": [
        "from threading import Thread"
      ],
      "metadata": {
        "id": "b_OOLHPyi8te"
      },
      "execution_count": 11,
      "outputs": []
    },
    {
      "cell_type": "markdown",
      "source": [
        "Second, create a new thread by instantiating an instance of the Thread class:\n",
        "```\n",
        "# new_thread = Thread(target=fn,args=args_tuple)\n",
        "```"
      ],
      "metadata": {
        "id": "qq5YRd32jrcV"
      }
    },
    {
      "cell_type": "markdown",
      "source": [
        "The Thread() accepts many parameters. The main ones are:\n",
        "\n",
        "**target:** specifies a function (fn) to run in the new thread.\n",
        "\n",
        "**args:** specifies the arguments of the function (fn). The args argument is a tuple.\n",
        "\n",
        "Third, start the thread by calling the start() method of the Thread instance:\n",
        "\n",
        "```\n",
        "# new_thread.start()\n",
        "```"
      ],
      "metadata": {
        "id": "1MArhDCHj2-L"
      }
    },
    {
      "cell_type": "markdown",
      "source": [
        "If you want to wait for the thread to complete in the main thread, you can call the join() method:\n",
        "```\n",
        "# new_thread.join()\n",
        "```"
      ],
      "metadata": {
        "id": "Y_XKBhtPkIx-"
      }
    },
    {
      "cell_type": "markdown",
      "source": [
        "By calling the join() method, the main thread will wait for the second thread to complete before it is terminated."
      ],
      "metadata": {
        "id": "35kjXqlWkPHg"
      }
    },
    {
      "cell_type": "markdown",
      "source": [
        "# Simple Multi-Threading\n",
        "\n",
        "\n"
      ],
      "metadata": {
        "id": "sKyVRa-ZkVVX"
      }
    },
    {
      "cell_type": "code",
      "source": [
        "from time import sleep, perf_counter\n",
        "from threading import Thread\n",
        "\n",
        "\n",
        "def task():\n",
        "    print('Starting a task...')\n",
        "    sleep(1)\n",
        "    print('done')\n",
        "\n",
        "\n",
        "start_time = perf_counter()\n",
        "\n",
        "# create two new threads\n",
        "t1 = Thread(target=task)\n",
        "t2 = Thread(target=task)\n",
        "\n",
        "# start the threads\n",
        "t1.start()\n",
        "t2.start()\n",
        "\n",
        "# wait for the threads to complete\n",
        "t1.join()\n",
        "t2.join()\n",
        "\n",
        "end_time = perf_counter()\n",
        "\n",
        "print(f'It took {end_time- start_time: 0.2f} second(s) to complete.')"
      ],
      "metadata": {
        "colab": {
          "base_uri": "https://localhost:8080/"
        },
        "id": "e3jWun2QkTY-",
        "outputId": "16c33e87-c5a1-4e8e-8b54-d8d7f627c391"
      },
      "execution_count": 12,
      "outputs": [
        {
          "output_type": "stream",
          "name": "stdout",
          "text": [
            "Starting a task...\n",
            "Starting a task...\n",
            "done\n",
            "done\n",
            "It took  1.01 second(s) to complete.\n"
          ]
        }
      ]
    },
    {
      "cell_type": "markdown",
      "source": [
        "When the program executes, it’ll have three threads: the main thread is created by the Python interpreter, and two new threads are created by the program.\n",
        "\n",
        "As shown clearly from the output, the program took one second instead of two to complete.\n",
        "\n",
        "The following diagram shows how threads execute:\n",
        "\n",
        "\n",
        "![Python-Threading-Multi-threaded-App[1].png](data:image/png;base64,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)"
      ],
      "metadata": {
        "id": "UhBhsxIllG-D"
      }
    },
    {
      "cell_type": "markdown",
      "source": [
        "# Passing arguments to threads"
      ],
      "metadata": {
        "id": "4txsjB7MlRm_"
      }
    },
    {
      "cell_type": "code",
      "source": [
        "from time import sleep, perf_counter\n",
        "from threading import Thread\n",
        "\n",
        "\n",
        "def task(id):\n",
        "    print(f'Starting the task {id}...')\n",
        "    sleep(1)\n",
        "    print('done')\n",
        "\n",
        "\n",
        "start_time = perf_counter()\n",
        "\n",
        "# create and start 10 threads\n",
        "threads = []\n",
        "for n in range(1, 11):\n",
        "    t = Thread(target=task, args=(n,))\n",
        "    threads.append(t)\n",
        "    t.start()\n",
        "\n",
        "# wait for the threads to complete\n",
        "for t in threads:\n",
        "    t.join()\n",
        "\n",
        "end_time = perf_counter()\n",
        "\n",
        "print(f'It took {end_time- start_time: 0.2f} second(s) to complete.')"
      ],
      "metadata": {
        "id": "mIdq-LZGldXM",
        "colab": {
          "base_uri": "https://localhost:8080/"
        },
        "outputId": "15a48c17-1729-4aed-c0be-0459d02c3687"
      },
      "execution_count": 23,
      "outputs": [
        {
          "output_type": "stream",
          "name": "stdout",
          "text": [
            "Starting the task 1...\n",
            "Starting the task 2...\n",
            "Starting the task 3...\n",
            "Starting the task 4...\n",
            "Starting the task 5...\n",
            "Starting the task 6...\n",
            "Starting the task 7...Starting the task 8...\n",
            "\n",
            "Starting the task 9...Starting the task 10...\n",
            "\n",
            "done\n",
            "done\n",
            "done\n",
            "donedone\n",
            "\n",
            "done\n",
            "done\n",
            "done\n",
            "donedone\n",
            "\n",
            "It took  1.01 second(s) to complete.\n"
          ]
        }
      ]
    },
    {
      "cell_type": "markdown",
      "source": [
        "# Programming Task 2: \n",
        "- Use the factorial function you created in Task 1\n",
        "- Call the factorial function in 1000 threads for all values from 1000 to 2000 (Hint:in a for loop)\n"
      ],
      "metadata": {
        "id": "Nur1DcYvl5Gu"
      }
    },
    {
      "cell_type": "code",
      "source": [
        "from time import sleep, perf_counter\n",
        "from threading import Thread\n",
        "\n",
        "\n",
        "def factorial(n):\n",
        "    #print('Starting a task...')\n",
        "    result = 1\n",
        "    for i in range(1,n):\n",
        "      result *= i\n",
        "    #print('done')\n",
        "\n",
        "start_time = perf_counter()\n",
        "\n",
        "# TODO Create 1000 threads and put them in a list\n",
        "threads = []\n",
        "for n in range(1, 1001):\n",
        "  tX = Thread(target=factorial, args=(10000,))\n",
        "  threads.append(tX)\n",
        "  tX.start()\n",
        "\n",
        "# TODO Join all 1000 threads from the thread list\n",
        "for tX in threads:\n",
        "    tX.join()\n",
        "\n",
        "end_time = perf_counter()\n",
        "\n",
        "print(f'It took {end_time- start_time: 0.2f} second(s) to complete.')"
      ],
      "metadata": {
        "id": "86f03i0hlqaU",
        "colab": {
          "base_uri": "https://localhost:8080/"
        },
        "outputId": "814c1519-3bab-4500-e88c-26b201e90f1c"
      },
      "execution_count": 33,
      "outputs": [
        {
          "output_type": "stream",
          "name": "stdout",
          "text": [
            "It took  18.74 second(s) to complete.\n"
          ]
        }
      ]
    },
    {
      "cell_type": "markdown",
      "source": [
        "# Programming Task 3:\n",
        "\n",
        "1.   Liste öğesi\n",
        "2.   Liste öğesi\n",
        "\n",
        "\n",
        "\n",
        "Modify the following code to;\n",
        "1.   Create 1000 files (add a static text to each file) to your colab environment \n",
        "2. Process each file in a thread and replace the content with a specific word"
      ],
      "metadata": {
        "id": "2NlynnXWaZGO"
      }
    },
    {
      "cell_type": "code",
      "source": [
        "from time import perf_counter\n",
        "\n",
        "\n",
        "def replace(filename, substr, new_substr):\n",
        "    print(f'Processing the file {filename}')\n",
        "    # get the contents of the file\n",
        "    with open(filename, 'r') as f:\n",
        "        content = f.read()\n",
        "\n",
        "    # replace the substr by new_substr\n",
        "    content = content.replace(substr, new_substr)\n",
        "\n",
        "    # write data into the file\n",
        "    with open(filename, 'w') as f:\n",
        "        f.write(content)\n",
        "\n",
        "\n",
        "def main():\n",
        "    filenames = [\n",
        "        '/test1.txt',\n",
        "        '/test2.txt',\n",
        "        '/test3.txt',\n",
        "        '/test4.txt',\n",
        "        '/test5.txt',\n",
        "        '/test6.txt',\n",
        "        '/test7.txt',\n",
        "        '/test8.txt',\n",
        "        '/test9.txt',\n",
        "        '/test10.txt',\n",
        "    ]\n",
        "\n",
        "    for filename in filenames:\n",
        "        replace(filename, 'ids', 'id')\n",
        "\n",
        "\n",
        "if __name__ == \"__main__\":\n",
        "    start_time = perf_counter()\n",
        "\n",
        "    main()\n",
        "\n",
        "    end_time = perf_counter()\n",
        "    print(f'It took {end_time- start_time :0.2f} second(s) to complete.')\n"
      ],
      "metadata": {
        "colab": {
          "base_uri": "https://localhost:8080/",
          "height": 415
        },
        "id": "GWLqXZGHaYlA",
        "outputId": "a945c6c6-916a-4b6a-86c8-0d707dd0e1fb"
      },
      "execution_count": 27,
      "outputs": [
        {
          "output_type": "stream",
          "name": "stdout",
          "text": [
            "Processing the file /test1.txt\n",
            "Processing the file /test2.txt\n"
          ]
        },
        {
          "output_type": "error",
          "ename": "FileNotFoundError",
          "evalue": "ignored",
          "traceback": [
            "\u001b[0;31m---------------------------------------------------------------------------\u001b[0m",
            "\u001b[0;31mFileNotFoundError\u001b[0m                         Traceback (most recent call last)",
            "\u001b[0;32m<ipython-input-27-d42cac14806e>\u001b[0m in \u001b[0;36m<module>\u001b[0;34m()\u001b[0m\n\u001b[1;32m     37\u001b[0m     \u001b[0mstart_time\u001b[0m \u001b[0;34m=\u001b[0m \u001b[0mperf_counter\u001b[0m\u001b[0;34m(\u001b[0m\u001b[0;34m)\u001b[0m\u001b[0;34m\u001b[0m\u001b[0;34m\u001b[0m\u001b[0m\n\u001b[1;32m     38\u001b[0m \u001b[0;34m\u001b[0m\u001b[0m\n\u001b[0;32m---> 39\u001b[0;31m     \u001b[0mmain\u001b[0m\u001b[0;34m(\u001b[0m\u001b[0;34m)\u001b[0m\u001b[0;34m\u001b[0m\u001b[0;34m\u001b[0m\u001b[0m\n\u001b[0m\u001b[1;32m     40\u001b[0m \u001b[0;34m\u001b[0m\u001b[0m\n\u001b[1;32m     41\u001b[0m     \u001b[0mend_time\u001b[0m \u001b[0;34m=\u001b[0m \u001b[0mperf_counter\u001b[0m\u001b[0;34m(\u001b[0m\u001b[0;34m)\u001b[0m\u001b[0;34m\u001b[0m\u001b[0;34m\u001b[0m\u001b[0m\n",
            "\u001b[0;32m<ipython-input-27-d42cac14806e>\u001b[0m in \u001b[0;36mmain\u001b[0;34m()\u001b[0m\n\u001b[1;32m     31\u001b[0m \u001b[0;34m\u001b[0m\u001b[0m\n\u001b[1;32m     32\u001b[0m     \u001b[0;32mfor\u001b[0m \u001b[0mfilename\u001b[0m \u001b[0;32min\u001b[0m \u001b[0mfilenames\u001b[0m\u001b[0;34m:\u001b[0m\u001b[0;34m\u001b[0m\u001b[0;34m\u001b[0m\u001b[0m\n\u001b[0;32m---> 33\u001b[0;31m         \u001b[0mreplace\u001b[0m\u001b[0;34m(\u001b[0m\u001b[0mfilename\u001b[0m\u001b[0;34m,\u001b[0m \u001b[0;34m'ids'\u001b[0m\u001b[0;34m,\u001b[0m \u001b[0;34m'id'\u001b[0m\u001b[0;34m)\u001b[0m\u001b[0;34m\u001b[0m\u001b[0;34m\u001b[0m\u001b[0m\n\u001b[0m\u001b[1;32m     34\u001b[0m \u001b[0;34m\u001b[0m\u001b[0m\n\u001b[1;32m     35\u001b[0m \u001b[0;34m\u001b[0m\u001b[0m\n",
            "\u001b[0;32m<ipython-input-27-d42cac14806e>\u001b[0m in \u001b[0;36mreplace\u001b[0;34m(filename, substr, new_substr)\u001b[0m\n\u001b[1;32m      5\u001b[0m     \u001b[0mprint\u001b[0m\u001b[0;34m(\u001b[0m\u001b[0;34mf'Processing the file {filename}'\u001b[0m\u001b[0;34m)\u001b[0m\u001b[0;34m\u001b[0m\u001b[0;34m\u001b[0m\u001b[0m\n\u001b[1;32m      6\u001b[0m     \u001b[0;31m# get the contents of the file\u001b[0m\u001b[0;34m\u001b[0m\u001b[0;34m\u001b[0m\u001b[0;34m\u001b[0m\u001b[0m\n\u001b[0;32m----> 7\u001b[0;31m     \u001b[0;32mwith\u001b[0m \u001b[0mopen\u001b[0m\u001b[0;34m(\u001b[0m\u001b[0mfilename\u001b[0m\u001b[0;34m,\u001b[0m \u001b[0;34m'r'\u001b[0m\u001b[0;34m)\u001b[0m \u001b[0;32mas\u001b[0m \u001b[0mf\u001b[0m\u001b[0;34m:\u001b[0m\u001b[0;34m\u001b[0m\u001b[0;34m\u001b[0m\u001b[0m\n\u001b[0m\u001b[1;32m      8\u001b[0m         \u001b[0mcontent\u001b[0m \u001b[0;34m=\u001b[0m \u001b[0mf\u001b[0m\u001b[0;34m.\u001b[0m\u001b[0mread\u001b[0m\u001b[0;34m(\u001b[0m\u001b[0;34m)\u001b[0m\u001b[0;34m\u001b[0m\u001b[0;34m\u001b[0m\u001b[0m\n\u001b[1;32m      9\u001b[0m \u001b[0;34m\u001b[0m\u001b[0m\n",
            "\u001b[0;31mFileNotFoundError\u001b[0m: [Errno 2] No such file or directory: '/test2.txt'"
          ]
        }
      ]
    },
    {
      "cell_type": "code",
      "source": [
        "cat > /test1.txt\n",
        "ids"
      ],
      "metadata": {
        "id": "ajzVONHC_cAH"
      },
      "execution_count": null,
      "outputs": []
    },
    {
      "cell_type": "code",
      "source": [
        "echo{0001..0003}"
      ],
      "metadata": {
        "colab": {
          "base_uri": "https://localhost:8080/",
          "height": 131
        },
        "id": "vftzLwk-Vb2v",
        "outputId": "337b3500-8aa9-458c-9856-9acee71dc3ff"
      },
      "execution_count": 40,
      "outputs": [
        {
          "output_type": "error",
          "ename": "SyntaxError",
          "evalue": "ignored",
          "traceback": [
            "\u001b[0;36m  File \u001b[0;32m\"<ipython-input-40-e230d159f3bb>\"\u001b[0;36m, line \u001b[0;32m1\u001b[0m\n\u001b[0;31m    echo{0001..0003}\u001b[0m\n\u001b[0m        ^\u001b[0m\n\u001b[0;31mSyntaxError\u001b[0m\u001b[0;31m:\u001b[0m invalid syntax\n"
          ]
        }
      ]
    },
    {
      "cell_type": "code",
      "source": [
        "random=$(</dev/urandom tr -dc A-Za-z0-9 | head -c3000)\n",
        "for i in {1..5}; do\n",
        "  echo ${random:(i-1)*30:30} >/mnt/mymnt/passwords/Business$i.txt\n",
        "done"
      ],
      "metadata": {
        "colab": {
          "base_uri": "https://localhost:8080/",
          "height": 131
        },
        "id": "qaIYbm4eYMru",
        "outputId": "ddec1dc2-8a3e-43be-f5b4-3410ee9c5779"
      },
      "execution_count": 43,
      "outputs": [
        {
          "output_type": "error",
          "ename": "SyntaxError",
          "evalue": "ignored",
          "traceback": [
            "\u001b[0;36m  File \u001b[0;32m\"<ipython-input-43-9ad7c2ff50f9>\"\u001b[0;36m, line \u001b[0;32m1\u001b[0m\n\u001b[0;31m    random=$(</dev/urandom tr -dc A-Za-z0-9 | head -c3000)\u001b[0m\n\u001b[0m           ^\u001b[0m\n\u001b[0;31mSyntaxError\u001b[0m\u001b[0;31m:\u001b[0m invalid syntax\n"
          ]
        }
      ]
    },
    {
      "cell_type": "code",
      "source": [
        "for i in range(5):\n",
        "  cat > test{i}.txt\n"
      ],
      "metadata": {
        "colab": {
          "base_uri": "https://localhost:8080/",
          "height": 131
        },
        "id": "m0wBBr6nZ8i1",
        "outputId": "b116417a-54c2-43fd-acb6-7d72b549d4af"
      },
      "execution_count": 51,
      "outputs": [
        {
          "output_type": "error",
          "ename": "SyntaxError",
          "evalue": "ignored",
          "traceback": [
            "\u001b[0;36m  File \u001b[0;32m\"<ipython-input-51-5ed5371d2339>\"\u001b[0;36m, line \u001b[0;32m2\u001b[0m\n\u001b[0;31m    cat > test{i}.txt\u001b[0m\n\u001b[0m              ^\u001b[0m\n\u001b[0;31mSyntaxError\u001b[0m\u001b[0;31m:\u001b[0m invalid syntax\n"
          ]
        }
      ]
    },
    {
      "cell_type": "code",
      "source": [
        "def create_random_txt_files(fault_classes, number_of_files):\n",
        "    os.mkdir(\"./random_data/\")  # Make a directory to save created files.\n",
        "    for fault_class in fault_classes:\n",
        "        for i in range(number_of_files_in_each_class):\n",
        "            data = np.random.rand(1024,)\n",
        "            file_name = \"./random_data/\" + eval(\"fault_class\") + \"_\" + \"{0:03}\".format(i+1) + \".csv\" # This creates file_name\n",
        "            np.savetxt(eval(\"file_name\"), data, delimiter = \",\", header = \"V1\", comments = \"\")\n",
        "        print(str(eval(\"number_of_files_in_each_class\")) + \" \" + eval(\"fault_class\") + \" files\"  + \" created.\")"
      ],
      "metadata": {
        "id": "KF7GkjU3cDV6"
      },
      "execution_count": null,
      "outputs": []
    },
    {
      "cell_type": "code",
      "source": [
        "create_random_txt_files([\"Fault_1\", \"Fault_2\", \"Fault_3\", \"Fault_4\", \"Fault_5\"], number_of_files_in_each_class = 100)"
      ],
      "metadata": {
        "id": "BK_9fTKecJ31"
      },
      "execution_count": null,
      "outputs": []
    }
  ]
}